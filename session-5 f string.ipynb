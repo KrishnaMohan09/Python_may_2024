{
 "cells": [
  {
   "cell_type": "code",
   "execution_count": null,
   "id": "b56835b9-4ba3-4471-9605-a1a8e75f716a",
   "metadata": {},
   "outputs": [],
   "source": [
    "#print is used to see the answers\n",
    "#in jupyter notebook no need to provide the print statement in order to see the answers\n",
    "#if more than two answers are there we can check all answers using print statement"
   ]
  },
  {
   "cell_type": "code",
   "execution_count": 1,
   "id": "de2c3df8-af47-44dc-b1d1-8ecf7ee78d09",
   "metadata": {},
   "outputs": [
    {
     "data": {
      "text/plain": [
       "10"
      ]
     },
     "execution_count": 1,
     "metadata": {},
     "output_type": "execute_result"
    }
   ],
   "source": [
    "a=10\n",
    "a"
   ]
  },
  {
   "cell_type": "code",
   "execution_count": 2,
   "id": "4e0b74b0-5dd8-4553-8131-c2bc9eb2168c",
   "metadata": {},
   "outputs": [
    {
     "data": {
      "text/plain": [
       "20"
      ]
     },
     "execution_count": 2,
     "metadata": {},
     "output_type": "execute_result"
    }
   ],
   "source": [
    "a=10\n",
    "b=20\n",
    "a\n",
    "b"
   ]
  },
  {
   "cell_type": "code",
   "execution_count": 3,
   "id": "a2206b30-e1d0-44cf-86b1-f3c886a9151d",
   "metadata": {},
   "outputs": [
    {
     "name": "stdout",
     "output_type": "stream",
     "text": [
      "10\n",
      "20\n"
     ]
    }
   ],
   "source": [
    "a=10\n",
    "b=20\n",
    "print(a)\n",
    "print(b)"
   ]
  },
  {
   "cell_type": "code",
   "execution_count": 4,
   "id": "b1ebb924-f520-48fe-9be9-55381ceb8c09",
   "metadata": {},
   "outputs": [
    {
     "name": "stdout",
     "output_type": "stream",
     "text": [
      "10\n",
      "10 20\n",
      "python\n",
      "10 20 python\n"
     ]
    }
   ],
   "source": [
    "print(10)\n",
    "print(10,20)\n",
    "print('python')\n",
    "print(10,20,'python')"
   ]
  },
  {
   "cell_type": "code",
   "execution_count": 6,
   "id": "07d7a884-1651-4648-9bd8-2a2396d71a4d",
   "metadata": {},
   "outputs": [
    {
     "name": "stdout",
     "output_type": "stream",
     "text": [
      "50\n",
      "50\n"
     ]
    },
    {
     "ename": "TypeError",
     "evalue": "'add' is an invalid keyword argument for print()",
     "output_type": "error",
     "traceback": [
      "\u001b[1;31m---------------------------------------------------------------------------\u001b[0m",
      "\u001b[1;31mTypeError\u001b[0m                                 Traceback (most recent call last)",
      "Cell \u001b[1;32mIn[6], line 6\u001b[0m\n\u001b[0;32m      4\u001b[0m \u001b[38;5;28mprint\u001b[39m(num1\u001b[38;5;241m+\u001b[39mnum2)\n\u001b[0;32m      5\u001b[0m \u001b[38;5;28mprint\u001b[39m(add)\n\u001b[1;32m----> 6\u001b[0m \u001b[38;5;28mprint\u001b[39m(add\u001b[38;5;241m=\u001b[39mnum1\u001b[38;5;241m+\u001b[39mnum2)\n",
      "\u001b[1;31mTypeError\u001b[0m: 'add' is an invalid keyword argument for print()"
     ]
    }
   ],
   "source": [
    "num1=20\n",
    "num2=30\n",
    "add=num1+num2\n",
    "print(num1+num2)\n",
    "print(add)\n",
    "print(add=num1+num2)   #not works"
   ]
  },
  {
   "cell_type": "code",
   "execution_count": 9,
   "id": "2afaa0fb-fdc0-48cf-bc7f-5cd1f38d800f",
   "metadata": {},
   "outputs": [
    {
     "name": "stdout",
     "output_type": "stream",
     "text": [
      "the addition of 20 and 30 is 50\n"
     ]
    }
   ],
   "source": [
    "num1=20\n",
    "num2=30\n",
    "add=num1+num2\n",
    "print(\"the addition of\",num1,\"and\",num2,\"is\",add)"
   ]
  },
  {
   "cell_type": "code",
   "execution_count": 12,
   "id": "b870c468-a756-4644-9a78-8a3390edb0fd",
   "metadata": {},
   "outputs": [
    {
     "name": "stdout",
     "output_type": "stream",
     "text": [
      "the addition of num1 and num2 is 50\n"
     ]
    }
   ],
   "source": [
    "print(\"the addition of num1 and num2 is\",add)"
   ]
  },
  {
   "cell_type": "code",
   "execution_count": 13,
   "id": "b16ace33-5fa5-4fe1-a8d4-9489b7967264",
   "metadata": {},
   "outputs": [
    {
     "name": "stdout",
     "output_type": "stream",
     "text": [
      "the addition of 20 and 30 is 50\n"
     ]
    }
   ],
   "source": [
    "print(\"the addition of 20 and 30 is\",add)"
   ]
  },
  {
   "cell_type": "code",
   "execution_count": 15,
   "id": "b6f59dfa-da86-46b4-865d-642879c3ed52",
   "metadata": {},
   "outputs": [
    {
     "name": "stdout",
     "output_type": "stream",
     "text": [
      "hello my name is python i am 10 years old from hyderabad\n"
     ]
    }
   ],
   "source": [
    "name='python'\n",
    "age=10\n",
    "city='hyderabad'\n",
    "print(\"hello my name is\",name,\"i am\",age,\"years old from\",city)"
   ]
  },
  {
   "cell_type": "code",
   "execution_count": 17,
   "id": "7fc30a18-4ada-4453-a01a-429a79d33ad9",
   "metadata": {},
   "outputs": [
    {
     "name": "stdout",
     "output_type": "stream",
     "text": [
      "the addition of 20 and 30 is 50\n",
      "the addition of 20 and 30 is 50\n"
     ]
    }
   ],
   "source": [
    "num1=20\n",
    "num2=30\n",
    "add=num1+num2\n",
    "print(\"the addition of\",num1,\"and\",num2,\"is\",add)\n",
    "print(\"the addition of {} and {} is {}\".format(num1,num2,add))"
   ]
  },
  {
   "cell_type": "markdown",
   "id": "bef050b7-5599-4266-846a-e71f0572a5aa",
   "metadata": {},
   "source": [
    "- first decide how the print statement should be\n",
    "- then replace the variable position as curly braces\n",
    "- then apply format method"
   ]
  },
  {
   "cell_type": "code",
   "execution_count": 19,
   "id": "bd4c598c-6e43-4ec9-90ca-40fa0a718c85",
   "metadata": {},
   "outputs": [
    {
     "name": "stdout",
     "output_type": "stream",
     "text": [
      "hello my name is python i am 10 years old from hyderabad\n",
      "hello my name is python i am 10 years old from hyderabad\n"
     ]
    }
   ],
   "source": [
    "name='python'\n",
    "age=10\n",
    "city='hyderabad'\n",
    "print(\"hello my name is\",name,\"i am\",age,\"years old from\",city)\n",
    "print(\"hello my name is {} i am {} years old from {}\".format(name,age,city))"
   ]
  },
  {
   "cell_type": "code",
   "execution_count": 24,
   "id": "a9069371-7017-400c-a79e-74095a911d0d",
   "metadata": {},
   "outputs": [
    {
     "name": "stdout",
     "output_type": "stream",
     "text": [
      "the average of 100 200 and 300 is 200.0\n",
      "the average of 100,200 and 300 is 200.0\n"
     ]
    }
   ],
   "source": [
    "n1=100\n",
    "n2=200\n",
    "n3=300\n",
    "avg=(n1+n2+n3)/3\n",
    "print(\"the average of\",n1,n2,\"and\",n3,\"is\",avg)\n",
    "print(\"the average of {},{} and {} is {}\".format(n1,n2,n3,avg))"
   ]
  },
  {
   "cell_type": "markdown",
   "id": "5212ac78-dbde-4b18-b68e-f55ff59437b3",
   "metadata": {},
   "source": [
    "**round**"
   ]
  },
  {
   "cell_type": "code",
   "execution_count": 25,
   "id": "2661990d-dc1e-455d-9cdd-2df40e26e008",
   "metadata": {},
   "outputs": [
    {
     "data": {
      "text/plain": [
       "125"
      ]
     },
     "execution_count": 25,
     "metadata": {},
     "output_type": "execute_result"
    }
   ],
   "source": [
    "val=125.2345\n",
    "round(val)"
   ]
  },
  {
   "cell_type": "code",
   "execution_count": 26,
   "id": "87adca0d-c787-44b3-a060-4349f17834b5",
   "metadata": {},
   "outputs": [
    {
     "data": {
      "text/plain": [
       "125.2"
      ]
     },
     "execution_count": 26,
     "metadata": {},
     "output_type": "execute_result"
    }
   ],
   "source": [
    "round(val,1)"
   ]
  },
  {
   "cell_type": "code",
   "execution_count": 27,
   "id": "68b23657-ba8e-4670-a034-bf3faa768c54",
   "metadata": {},
   "outputs": [
    {
     "data": {
      "text/plain": [
       "125.2345"
      ]
     },
     "execution_count": 27,
     "metadata": {},
     "output_type": "execute_result"
    }
   ],
   "source": [
    "round(val,4)"
   ]
  },
  {
   "cell_type": "code",
   "execution_count": 28,
   "id": "585ed3e4-f8e7-4581-9d85-58998c3ec295",
   "metadata": {},
   "outputs": [
    {
     "data": {
      "text/plain": [
       "125.2345"
      ]
     },
     "execution_count": 28,
     "metadata": {},
     "output_type": "execute_result"
    }
   ],
   "source": [
    "round(val,5)"
   ]
  },
  {
   "cell_type": "code",
   "execution_count": 29,
   "id": "80119f25-5cab-4a65-9f28-4d721e96d406",
   "metadata": {},
   "outputs": [
    {
     "name": "stdout",
     "output_type": "stream",
     "text": [
      "the average of 100 200 and 300 is 200.0\n",
      "the average of 100,200 and 300 is 200\n"
     ]
    }
   ],
   "source": [
    "n1=100\n",
    "n2=200\n",
    "n3=300\n",
    "avg=(n1+n2+n3)/3\n",
    "avg1=round(avg)\n",
    "print(\"the average of\",n1,n2,\"and\",n3,\"is\",avg)\n",
    "print(\"the average of {},{} and {} is {}\".format(n1,n2,n3,avg1))"
   ]
  },
  {
   "cell_type": "markdown",
   "id": "661f8478-65d9-4ad0-8d65-7dece1a9965f",
   "metadata": {},
   "source": [
    "- fstring method"
   ]
  },
  {
   "cell_type": "code",
   "execution_count": 33,
   "id": "bdd068b4-3b90-4631-bf11-8966e7c8be2e",
   "metadata": {},
   "outputs": [
    {
     "name": "stdout",
     "output_type": "stream",
     "text": [
      "the addition of 100 and 200 is 300\n"
     ]
    }
   ],
   "source": [
    "n1=100\n",
    "n2=200\n",
    "add=n1+n2\n",
    "print(f\"the addition of {n1} and {n2} is {add}\")"
   ]
  },
  {
   "cell_type": "code",
   "execution_count": 38,
   "id": "d981ced6-c836-4a53-8586-c43459e436f1",
   "metadata": {},
   "outputs": [
    {
     "name": "stdout",
     "output_type": "stream",
     "text": [
      "the average of 100 200 and 300 is 200.0\n",
      "the average of 100,200 and 300 is 200\n",
      "the average of 100,200 and 300 is 200\n"
     ]
    }
   ],
   "source": [
    "n1=100\n",
    "n2=200\n",
    "n3=300\n",
    "avg=(n1+n2+n3)/3\n",
    "avg1=round(avg)\n",
    "print(\"the average of\",n1,n2,\"and\",n3,\"is\",avg)\n",
    "print(\"the average of {},{} and {} is {}\".format(n1,n2,n3,avg1))\n",
    "print(f\"the average of {n1},{n2} and {n3} is {avg1}\")"
   ]
  },
  {
   "cell_type": "markdown",
   "id": "e4a55b35-9587-4024-8e04-f159db3a4c01",
   "metadata": {},
   "source": []
  },
  {
   "cell_type": "markdown",
   "id": "90b44358-cc71-4e16-86c9-4af6758d9fe8",
   "metadata": {},
   "source": [
    "**three methods**\n",
    "- 1.variable \n",
    "- 2..format(variable_name)\n",
    "- 3.f\"__________\""
   ]
  },
  {
   "cell_type": "code",
   "execution_count": 39,
   "id": "2af1e55b-fd33-4090-8071-de26e602d500",
   "metadata": {},
   "outputs": [
    {
     "name": "stdout",
     "output_type": "stream",
     "text": [
      "hello good morning\n"
     ]
    }
   ],
   "source": [
    "print('hello',end=' ')  #1\n",
    "print('good morning')   #2"
   ]
  },
  {
   "cell_type": "code",
   "execution_count": 44,
   "id": "04be1396-2597-48ab-a248-d7ebc075a2b5",
   "metadata": {},
   "outputs": [
    {
     "name": "stdout",
     "output_type": "stream",
     "text": [
      "1\n",
      "2\n",
      "3\n"
     ]
    }
   ],
   "source": [
    "print(1)\n",
    "print(2)\n",
    "print(3)"
   ]
  },
  {
   "cell_type": "code",
   "execution_count": 41,
   "id": "65b971b8-251c-425a-8ae8-299aa0e910dd",
   "metadata": {},
   "outputs": [
    {
     "name": "stdout",
     "output_type": "stream",
     "text": [
      "1 2 3\n"
     ]
    }
   ],
   "source": [
    "print(1,end=' ')\n",
    "print(2,end=' ')\n",
    "print(3)"
   ]
  },
  {
   "cell_type": "code",
   "execution_count": 42,
   "id": "dfa8830e-60fe-45f6-b373-58e3df942c90",
   "metadata": {},
   "outputs": [
    {
     "name": "stdout",
     "output_type": "stream",
     "text": [
      "hello hai\n"
     ]
    }
   ],
   "source": [
    "print(\"hello\",\"hai\")"
   ]
  },
  {
   "cell_type": "markdown",
   "id": "029b4ae4-2d06-4c59-9197-bd3b4672bdee",
   "metadata": {},
   "source": [
    "**seperate**\n",
    "- one print statement only\n",
    "- inside one print statement we have multiple values\n",
    "- i want to seperate these multiple values with anything"
   ]
  },
  {
   "cell_type": "code",
   "execution_count": 46,
   "id": "c27d8493-92fd-455a-9b26-0b0f77961ced",
   "metadata": {},
   "outputs": [
    {
     "name": "stdout",
     "output_type": "stream",
     "text": [
      "3 .\n"
     ]
    }
   ],
   "source": [
    "print(3,'.')"
   ]
  },
  {
   "cell_type": "code",
   "execution_count": 48,
   "id": "2f39a6ba-141f-4643-b899-19ef9a3df470",
   "metadata": {},
   "outputs": [
    {
     "name": "stdout",
     "output_type": "stream",
     "text": [
      "hello & hai\n"
     ]
    }
   ],
   "source": [
    "print(\"hello\",\"hai\",sep=' & ')"
   ]
  },
  {
   "cell_type": "markdown",
   "id": "f0789d1d-51be-4daa-9f15-acc2118238a0",
   "metadata": {},
   "source": [
    "- format method\n",
    "- f method\n",
    "- end\n",
    "     - multiple print statements\n",
    "- sep\n",
    "    - single point,multiple values"
   ]
  },
  {
   "cell_type": "code",
   "execution_count": 50,
   "id": "eb95d62f-3548-4282-ac17-f1fc8979b609",
   "metadata": {},
   "outputs": [
    {
     "name": "stdout",
     "output_type": "stream",
     "text": [
      "1 2 3 .\n"
     ]
    }
   ],
   "source": [
    "print(1,2,3,'.')"
   ]
  },
  {
   "cell_type": "code",
   "execution_count": 53,
   "id": "8b74c645-d3df-4643-bb9f-573bc46ae034",
   "metadata": {},
   "outputs": [
    {
     "name": "stdout",
     "output_type": "stream",
     "text": [
      "123.\n"
     ]
    }
   ],
   "source": [
    "print(1,2,3,'.',sep='')"
   ]
  }
 ],
 "metadata": {
  "kernelspec": {
   "display_name": "Python 3 (ipykernel)",
   "language": "python",
   "name": "python3"
  },
  "language_info": {
   "codemirror_mode": {
    "name": "ipython",
    "version": 3
   },
   "file_extension": ".py",
   "mimetype": "text/x-python",
   "name": "python",
   "nbconvert_exporter": "python",
   "pygments_lexer": "ipython3",
   "version": "3.11.7"
  }
 },
 "nbformat": 4,
 "nbformat_minor": 5
}
