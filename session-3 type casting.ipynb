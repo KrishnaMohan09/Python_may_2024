{
 "cells": [
  {
   "cell_type": "markdown",
   "id": "dca28787-a759-4c50-898e-4f9c3d87e818",
   "metadata": {},
   "source": [
    "**Type casting**\n",
    "\n",
    "Convert one data type to another data type\n",
    "\n",
    "- Integer\n",
    "\n",
    "- float\n",
    "\n",
    "- string\n",
    "\n",
    "- boolean\n",
    "\n",
    "**Integer to all other data types**\n",
    "\n",
    "- Integer to float\n",
    "\n",
    "- Integer to string\n",
    "\n",
    "- Integer to boolean"
   ]
  },
  {
   "cell_type": "code",
   "execution_count": 1,
   "id": "786ef87a-d198-4585-94da-e7e2b0cd7bc4",
   "metadata": {},
   "outputs": [
    {
     "data": {
      "text/plain": [
       "int"
      ]
     },
     "execution_count": 1,
     "metadata": {},
     "output_type": "execute_result"
    }
   ],
   "source": [
    "num=10\n",
    "type(num)"
   ]
  },
  {
   "cell_type": "code",
   "execution_count": 2,
   "id": "3ed6bcc2-cced-49c0-89ca-a4e811edbcad",
   "metadata": {},
   "outputs": [
    {
     "data": {
      "text/plain": [
       "(10, 10.0)"
      ]
     },
     "execution_count": 2,
     "metadata": {},
     "output_type": "execute_result"
    }
   ],
   "source": [
    "num_float=float(num)\n",
    "num,num_float"
   ]
  },
  {
   "cell_type": "code",
   "execution_count": 3,
   "id": "d830cce8-7493-4d27-b080-4377217a5492",
   "metadata": {},
   "outputs": [
    {
     "data": {
      "text/plain": [
       "(10, 10.0, '10')"
      ]
     },
     "execution_count": 3,
     "metadata": {},
     "output_type": "execute_result"
    }
   ],
   "source": [
    "num_str=str(num)\n",
    "num,num_float,num_str"
   ]
  },
  {
   "cell_type": "markdown",
   "id": "82db9bb6-6cfa-4355-9d00-ddba8c3ec333",
   "metadata": {},
   "source": [
    "**Note**\n",
    "\n",
    "- Boolean conversion of 0 gives False\n",
    "\n",
    "- Boolean conversion of +ve and -ve integer numbers gives True"
   ]
  },
  {
   "cell_type": "code",
   "execution_count": 4,
   "id": "509bd022-1bb5-4895-a959-5a106d9c0ef8",
   "metadata": {},
   "outputs": [
    {
     "data": {
      "text/plain": [
       "(10, 20)"
      ]
     },
     "execution_count": 4,
     "metadata": {},
     "output_type": "execute_result"
    }
   ],
   "source": [
    "a=10\n",
    "b=20\n",
    "a,b"
   ]
  },
  {
   "cell_type": "code",
   "execution_count": 5,
   "id": "4e513e37-d277-4f0c-bda4-c10fd37f7917",
   "metadata": {},
   "outputs": [
    {
     "data": {
      "text/plain": [
       "False"
      ]
     },
     "execution_count": 5,
     "metadata": {},
     "output_type": "execute_result"
    }
   ],
   "source": [
    "bool('100')  # True\n",
    "bool('100.25') # True\n",
    "bool('0')    # True\n",
    "bool('0.0')  # True\n",
    "bool('python') # True\n",
    "bool(100)  # T\n",
    "bool(-100) # T\n",
    "bool(100.25) # T\n",
    "bool(0)  # F   (Off )\n",
    "bool(0.0) # F  (off)\n",
    "bool('')  # F   (off)"
   ]
  },
  {
   "cell_type": "code",
   "execution_count": null,
   "id": "e56f8004-f21d-4494-852a-eeb631ecf106",
   "metadata": {},
   "outputs": [],
   "source": []
  }
 ],
 "metadata": {
  "kernelspec": {
   "display_name": "Python 3 (ipykernel)",
   "language": "python",
   "name": "python3"
  },
  "language_info": {
   "codemirror_mode": {
    "name": "ipython",
    "version": 3
   },
   "file_extension": ".py",
   "mimetype": "text/x-python",
   "name": "python",
   "nbconvert_exporter": "python",
   "pygments_lexer": "ipython3",
   "version": "3.11.7"
  }
 },
 "nbformat": 4,
 "nbformat_minor": 5
}
