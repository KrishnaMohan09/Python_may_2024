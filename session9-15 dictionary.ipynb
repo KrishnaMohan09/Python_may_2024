{
 "cells": [
  {
   "cell_type": "markdown",
   "id": "8d6cb3e2-2929-4175-8c6a-74cba8302bd9",
   "metadata": {},
   "source": [
    "**Dictionary**\n",
    "\n",
    "- Dictionary represents with curly braces\n",
    "\n",
    "- strings use quotes \n",
    "\n",
    "- list use square brackets\n",
    "\n",
    "- type use parenthesis\n",
    "\n",
    "- dictionary is always a pair key and value"
   ]
  },
  {
   "cell_type": "code",
   "execution_count": 2,
   "id": "abcbcfe8-33c7-40e0-baf6-69ead179853a",
   "metadata": {},
   "outputs": [
    {
     "name": "stdout",
     "output_type": "stream",
     "text": [
      "the Manish age is 15\n",
      "the shubam age is 20\n",
      "the govind age is 25\n"
     ]
    }
   ],
   "source": [
    "name=['Manish','shubam','govind']\n",
    "age=[15,20,25]\n",
    "for i,j in zip(name,age): \n",
    "    print(f\"the {i} age is {j}\")"
   ]
  },
  {
   "cell_type": "code",
   "execution_count": 4,
   "id": "db9c291e-9905-41c4-b616-17152df98fe5",
   "metadata": {},
   "outputs": [
    {
     "data": {
      "text/plain": [
       "{'manish': 25, 'shubam': 20, 'govind': 15}"
      ]
     },
     "execution_count": 4,
     "metadata": {},
     "output_type": "execute_result"
    }
   ],
   "source": [
    "#(<key>:<value>)\n",
    "dict1={'manish':25,'shubam':20,'govind':15}\n",
    "dict1"
   ]
  },
  {
   "cell_type": "code",
   "execution_count": null,
   "id": "274a1ec4-273d-4797-9858-a7ff10b2b3bd",
   "metadata": {},
   "outputs": [],
   "source": [
    "# keys are : 'Manish','shubam','govind'\n",
    "# value : 25,20,15\n",
    "# manish and 25 together"
   ]
  },
  {
   "cell_type": "code",
   "execution_count": 5,
   "id": "a83fdc6d-ca88-43ac-9535-9d9f0664c7c7",
   "metadata": {},
   "outputs": [
    {
     "data": {
      "text/plain": [
       "dict"
      ]
     },
     "execution_count": 5,
     "metadata": {},
     "output_type": "execute_result"
    }
   ],
   "source": [
    "type(dict1)"
   ]
  },
  {
   "cell_type": "code",
   "execution_count": 7,
   "id": "d14f0161-20cb-4f93-b03e-c2908e2df431",
   "metadata": {},
   "outputs": [
    {
     "data": {
      "text/plain": [
       "{25: 50}"
      ]
     },
     "execution_count": 7,
     "metadata": {},
     "output_type": "execute_result"
    }
   ],
   "source": [
    "d4={25:50}\n",
    "d4"
   ]
  },
  {
   "cell_type": "code",
   "execution_count": 10,
   "id": "902500f6-cd2b-4ff6-a57d-58d829a9c8ad",
   "metadata": {},
   "outputs": [
    {
     "data": {
      "text/plain": [
       "{'manish': '25'}"
      ]
     },
     "execution_count": 10,
     "metadata": {},
     "output_type": "execute_result"
    }
   ],
   "source": [
    "d2={'manish':'25'}\n",
    "d2"
   ]
  },
  {
   "cell_type": "code",
   "execution_count": 11,
   "id": "dcbc7b54-ddac-4637-9985-79c28737cdaf",
   "metadata": {},
   "outputs": [
    {
     "data": {
      "text/plain": [
       "{25: 'manish'}"
      ]
     },
     "execution_count": 11,
     "metadata": {},
     "output_type": "execute_result"
    }
   ],
   "source": [
    "d3={25:'manish'}\n",
    "d3"
   ]
  },
  {
   "cell_type": "code",
   "execution_count": 13,
   "id": "a490ff57-3827-42b0-ae00-ad698dc10ae5",
   "metadata": {},
   "outputs": [
    {
     "data": {
      "text/plain": [
       "{'fruites': ['apple', 'cherry']}"
      ]
     },
     "execution_count": 13,
     "metadata": {},
     "output_type": "execute_result"
    }
   ],
   "source": [
    "d5={'fruites':['apple','cherry']}\n",
    "d5"
   ]
  },
  {
   "cell_type": "code",
   "execution_count": 20,
   "id": "de687398-0577-47f0-b4e5-f00cec0f82d2",
   "metadata": {},
   "outputs": [
    {
     "ename": "TypeError",
     "evalue": "unhashable type: 'list'",
     "output_type": "error",
     "traceback": [
      "\u001b[1;31m---------------------------------------------------------------------------\u001b[0m",
      "\u001b[1;31mTypeError\u001b[0m                                 Traceback (most recent call last)",
      "Cell \u001b[1;32mIn[20], line 1\u001b[0m\n\u001b[1;32m----> 1\u001b[0m d6\u001b[38;5;241m=\u001b[39m{[\u001b[38;5;124m'\u001b[39m\u001b[38;5;124mapple\u001b[39m\u001b[38;5;124m'\u001b[39m,\u001b[38;5;124m'\u001b[39m\u001b[38;5;124mcherry\u001b[39m\u001b[38;5;124m'\u001b[39m]:\u001b[38;5;124m'\u001b[39m\u001b[38;5;124mfruites\u001b[39m\u001b[38;5;124m'\u001b[39m}\n\u001b[0;32m      2\u001b[0m d6\n",
      "\u001b[1;31mTypeError\u001b[0m: unhashable type: 'list'"
     ]
    }
   ],
   "source": [
    "d6={['apple','cherry']:'fruites'}\n",
    "d6"
   ]
  },
  {
   "cell_type": "code",
   "execution_count": 18,
   "id": "d4409b30-3af0-439c-a2ad-6d03d02affd1",
   "metadata": {},
   "outputs": [
    {
     "data": {
      "text/plain": [
       "{'ajay': 30}"
      ]
     },
     "execution_count": 18,
     "metadata": {},
     "output_type": "execute_result"
    }
   ],
   "source": [
    "d7={'ajay':25,'ajay':30}\n",
    "d7"
   ]
  },
  {
   "cell_type": "code",
   "execution_count": 21,
   "id": "c219b4d0-f0da-4f2c-9b34-7f762a147024",
   "metadata": {},
   "outputs": [
    {
     "data": {
      "text/plain": [
       "{25: 'ajay', 30: 'ajay'}"
      ]
     },
     "execution_count": 21,
     "metadata": {},
     "output_type": "execute_result"
    }
   ],
   "source": [
    "d8={25:'ajay',30:'ajay'}\n",
    "d8"
   ]
  },
  {
   "cell_type": "code",
   "execution_count": 22,
   "id": "1f9f2341-06f3-474e-baae-6008294d6812",
   "metadata": {},
   "outputs": [
    {
     "data": {
      "text/plain": [
       "{25: 'ajay', 30: {'fruites': ['apple']}}"
      ]
     },
     "execution_count": 22,
     "metadata": {},
     "output_type": "execute_result"
    }
   ],
   "source": [
    "d9={25:'ajay',30:{'fruites':['apple']}}\n",
    "d9"
   ]
  },
  {
   "cell_type": "markdown",
   "id": "02a2ad36-2a89-4927-a366-b7494397099b",
   "metadata": {},
   "source": [
    "- ** keys are important**\n",
    "\n",
    "- keys have only latest value\n",
    "\n",
    "- no duplicate keys\n",
    "\n",
    "- keys should be only one\n",
    "\n",
    "- values can be duplicate\n",
    "\n",
    "- which means different keys can have same value\n",
    "\n",
    "- list can not be a key\n",
    "\n",
    "- tuple can be a key"
   ]
  },
  {
   "cell_type": "code",
   "execution_count": null,
   "id": "976b197d-63bd-4cd4-bf30-4e3f715bf514",
   "metadata": {},
   "outputs": [],
   "source": [
    "-min\n",
    "\n",
    "-max\n",
    "\n",
    "-len\n",
    "\n",
    "-sorted\n",
    "\n",
    "-reversed"
   ]
  },
  {
   "cell_type": "code",
   "execution_count": 23,
   "id": "727de2a4-7b4c-4b08-9e44-7f35aa1b4425",
   "metadata": {},
   "outputs": [
    {
     "data": {
      "text/plain": [
       "1"
      ]
     },
     "execution_count": 23,
     "metadata": {},
     "output_type": "execute_result"
    }
   ],
   "source": [
    "d={1,2,3,4}\n",
    "min(d)"
   ]
  },
  {
   "cell_type": "code",
   "execution_count": 24,
   "id": "4b209c3c-73aa-4edb-af8e-7fa17f269770",
   "metadata": {},
   "outputs": [
    {
     "data": {
      "text/plain": [
       "4"
      ]
     },
     "execution_count": 24,
     "metadata": {},
     "output_type": "execute_result"
    }
   ],
   "source": [
    "max(d)"
   ]
  },
  {
   "cell_type": "code",
   "execution_count": 25,
   "id": "cca0150a-1d8f-4679-a09c-d43c69033dd7",
   "metadata": {},
   "outputs": [
    {
     "data": {
      "text/plain": [
       "4"
      ]
     },
     "execution_count": 25,
     "metadata": {},
     "output_type": "execute_result"
    }
   ],
   "source": [
    "len(d)"
   ]
  },
  {
   "cell_type": "code",
   "execution_count": 26,
   "id": "f97810ff-f12d-4748-a893-eae5b1698f8f",
   "metadata": {},
   "outputs": [
    {
     "data": {
      "text/plain": [
       "[1, 2, 3, 4]"
      ]
     },
     "execution_count": 26,
     "metadata": {},
     "output_type": "execute_result"
    }
   ],
   "source": [
    "sorted(d)"
   ]
  },
  {
   "cell_type": "code",
   "execution_count": 34,
   "id": "6e1852a2-2ea4-43e4-8e7d-a234d6dfc8ee",
   "metadata": {},
   "outputs": [
    {
     "ename": "TypeError",
     "evalue": "'set' object is not reversible",
     "output_type": "error",
     "traceback": [
      "\u001b[1;31m---------------------------------------------------------------------------\u001b[0m",
      "\u001b[1;31mTypeError\u001b[0m                                 Traceback (most recent call last)",
      "Cell \u001b[1;32mIn[34], line 1\u001b[0m\n\u001b[1;32m----> 1\u001b[0m l1\u001b[38;5;241m=\u001b[39m\u001b[38;5;28mreversed\u001b[39m(d)\n\u001b[0;32m      2\u001b[0m \u001b[38;5;28;01mfor\u001b[39;00m i \u001b[38;5;129;01min\u001b[39;00m l1:\n\u001b[0;32m      3\u001b[0m     \u001b[38;5;28mprint\u001b[39m(i)\n",
      "\u001b[1;31mTypeError\u001b[0m: 'set' object is not reversible"
     ]
    }
   ],
   "source": [
    "l1=reversed(d)\n",
    "for i in l1:\n",
    "    print(i)"
   ]
  },
  {
   "cell_type": "code",
   "execution_count": 35,
   "id": "8313cf2e-8ce6-4833-9231-643eb5ee2af3",
   "metadata": {},
   "outputs": [
    {
     "name": "stdout",
     "output_type": "stream",
     "text": [
      "{1: 'apple', 2: 'banana', 3: 'orange'}\n"
     ]
    }
   ],
   "source": [
    "my_dict = {'apple': 1, 'banana': 2, 'orange': 3}\n",
    "reversed_dict = {}\n",
    "for key, value in my_dict.items():\n",
    "    reversed_dict[value] = key\n",
    "print(reversed_dict)"
   ]
  },
  {
   "cell_type": "markdown",
   "id": "118698f0-0510-4e99-8cce-6c4249710135",
   "metadata": {},
   "source": [
    "**index**"
   ]
  },
  {
   "cell_type": "code",
   "execution_count": 1,
   "id": "bee1e5cf-0d82-4630-9fd1-7d19a6136afc",
   "metadata": {},
   "outputs": [
    {
     "ename": "KeyError",
     "evalue": "0",
     "output_type": "error",
     "traceback": [
      "\u001b[1;31m---------------------------------------------------------------------------\u001b[0m",
      "\u001b[1;31mKeyError\u001b[0m                                  Traceback (most recent call last)",
      "Cell \u001b[1;32mIn[1], line 2\u001b[0m\n\u001b[0;32m      1\u001b[0m d1\u001b[38;5;241m=\u001b[39m{\u001b[38;5;124m'\u001b[39m\u001b[38;5;124mmanish\u001b[39m\u001b[38;5;124m'\u001b[39m:\u001b[38;5;241m25\u001b[39m,\u001b[38;5;124m'\u001b[39m\u001b[38;5;124mshubam\u001b[39m\u001b[38;5;124m'\u001b[39m:\u001b[38;5;241m20\u001b[39m,\u001b[38;5;124m'\u001b[39m\u001b[38;5;124mgovind\u001b[39m\u001b[38;5;124m'\u001b[39m:\u001b[38;5;241m15\u001b[39m}\n\u001b[1;32m----> 2\u001b[0m d1[\u001b[38;5;241m0\u001b[39m]\n",
      "\u001b[1;31mKeyError\u001b[0m: 0"
     ]
    }
   ],
   "source": [
    "d1={'manish':25,'shubam':20,'govind':15}\n",
    "d1[0]"
   ]
  },
  {
   "cell_type": "code",
   "execution_count": 2,
   "id": "9b75b8bf-3089-4b87-a566-9bd93c51e170",
   "metadata": {},
   "outputs": [
    {
     "data": {
      "text/plain": [
       "25"
      ]
     },
     "execution_count": 2,
     "metadata": {},
     "output_type": "execute_result"
    }
   ],
   "source": [
    "d1['manish']"
   ]
  },
  {
   "cell_type": "markdown",
   "id": "a49047e5-7ea7-4fca-8a16-f15e7a5af475",
   "metadata": {},
   "source": [
    "**keys are important**\n",
    "\n",
    "- DIctionary is a key value pair\n",
    "\n",
    "- there is no concept of index as numbers\n",
    "\n",
    "- if you want to retrive any value,we need to provide key as index\n",
    "\n",
    "- we can access values only corresponding **keys**"
   ]
  },
  {
   "cell_type": "code",
   "execution_count": 3,
   "id": "760e0e85-21fd-4da3-b664-47c5c62afa00",
   "metadata": {},
   "outputs": [
    {
     "name": "stdout",
     "output_type": "stream",
     "text": [
      "25\n",
      "20\n",
      "15\n"
     ]
    }
   ],
   "source": [
    "d1={'manish':25,'shubam':20,'govind':15}\n",
    "print(d1['manish'])\n",
    "print(d1['shubam'])\n",
    "print(d1['govind'])"
   ]
  },
  {
   "cell_type": "code",
   "execution_count": 4,
   "id": "0d013043-7ef9-4e23-ab5c-f1f2948b9405",
   "metadata": {},
   "outputs": [
    {
     "name": "stdout",
     "output_type": "stream",
     "text": [
      "manish\n",
      "shubam\n",
      "govind\n"
     ]
    }
   ],
   "source": [
    "for i in d1:\n",
    "    print(i)"
   ]
  },
  {
   "cell_type": "code",
   "execution_count": 5,
   "id": "ca4f7ad4-ca55-4cea-984e-eadb37d1bebf",
   "metadata": {},
   "outputs": [
    {
     "name": "stdout",
     "output_type": "stream",
     "text": [
      "25\n",
      "20\n",
      "15\n"
     ]
    }
   ],
   "source": [
    "for i in d1:\n",
    "    print(d1[i])"
   ]
  },
  {
   "cell_type": "code",
   "execution_count": 7,
   "id": "662b084e-1485-4a02-8b14-928b0728079c",
   "metadata": {},
   "outputs": [
    {
     "name": "stdout",
     "output_type": "stream",
     "text": [
      "the manish age is 25\n",
      "the shubam age is 20\n",
      "the govind age is 15\n"
     ]
    }
   ],
   "source": [
    "for i in d1:\n",
    "    print(f\"the {i} age is {d1[i]}\")"
   ]
  },
  {
   "cell_type": "code",
   "execution_count": 9,
   "id": "2ee07f7e-c273-44e7-97a6-384301ceebdf",
   "metadata": {},
   "outputs": [
    {
     "data": {
      "text/plain": [
       "['apple']"
      ]
     },
     "execution_count": 9,
     "metadata": {},
     "output_type": "execute_result"
    }
   ],
   "source": [
    "d1={'fruits':['apple']}\n",
    "d1['fruits']"
   ]
  },
  {
   "cell_type": "code",
   "execution_count": 12,
   "id": "cb1586ba-9d41-49d3-a4c8-06524ab0553a",
   "metadata": {},
   "outputs": [
    {
     "data": {
      "text/plain": [
       "'apple'"
      ]
     },
     "execution_count": 12,
     "metadata": {},
     "output_type": "execute_result"
    }
   ],
   "source": [
    "d1['fruits'][0]"
   ]
  },
  {
   "cell_type": "code",
   "execution_count": 13,
   "id": "2122969f-868d-4e21-b08c-9da16c7150f8",
   "metadata": {},
   "outputs": [
    {
     "data": {
      "text/plain": [
       "{'fruits': {'apple': ['kashmir']}}"
      ]
     },
     "execution_count": 13,
     "metadata": {},
     "output_type": "execute_result"
    }
   ],
   "source": [
    "d1={'fruits':{'apple':['kashmir']}}\n",
    "d1"
   ]
  },
  {
   "cell_type": "code",
   "execution_count": 14,
   "id": "9fecd4e6-5f6d-4c6a-9d68-32b256dfca48",
   "metadata": {},
   "outputs": [
    {
     "data": {
      "text/plain": [
       "{'apple': ['kashmir']}"
      ]
     },
     "execution_count": 14,
     "metadata": {},
     "output_type": "execute_result"
    }
   ],
   "source": [
    "d1['fruits']"
   ]
  },
  {
   "cell_type": "code",
   "execution_count": 15,
   "id": "9a338b0a-3cf4-49b4-95b0-1b34c70ac82d",
   "metadata": {},
   "outputs": [
    {
     "data": {
      "text/plain": [
       "['kashmir']"
      ]
     },
     "execution_count": 15,
     "metadata": {},
     "output_type": "execute_result"
    }
   ],
   "source": [
    "d1['fruits']['apple']"
   ]
  },
  {
   "cell_type": "code",
   "execution_count": 16,
   "id": "15f82fac-6f12-4d97-a3ce-e3f21e2a97b0",
   "metadata": {},
   "outputs": [
    {
     "data": {
      "text/plain": [
       "'kashmir'"
      ]
     },
     "execution_count": 16,
     "metadata": {},
     "output_type": "execute_result"
    }
   ],
   "source": [
    "d1['fruits']['apple'][0]"
   ]
  },
  {
   "cell_type": "code",
   "execution_count": 17,
   "id": "a8f92873-8d07-4d6f-9d60-dd1098102550",
   "metadata": {},
   "outputs": [
    {
     "data": {
      "text/plain": [
       "{'fruits': {'apple': [{'kashmir': 'india'}, {'hyd': 'ts'}]}}"
      ]
     },
     "execution_count": 17,
     "metadata": {},
     "output_type": "execute_result"
    }
   ],
   "source": [
    "d1={'fruits':{'apple':[{'kashmir':'india'},{'hyd':'ts'}]}}\n",
    "d1"
   ]
  },
  {
   "cell_type": "code",
   "execution_count": 18,
   "id": "89604f94-d4a0-45bf-8060-3fea6b4c927a",
   "metadata": {},
   "outputs": [
    {
     "data": {
      "text/plain": [
       "{'apple': [{'kashmir': 'india'}, {'hyd': 'ts'}]}"
      ]
     },
     "execution_count": 18,
     "metadata": {},
     "output_type": "execute_result"
    }
   ],
   "source": [
    "d1['fruits']"
   ]
  },
  {
   "cell_type": "code",
   "execution_count": 19,
   "id": "94f5470d-39ee-4221-9031-177aee9f0747",
   "metadata": {},
   "outputs": [
    {
     "data": {
      "text/plain": [
       "[{'kashmir': 'india'}, {'hyd': 'ts'}]"
      ]
     },
     "execution_count": 19,
     "metadata": {},
     "output_type": "execute_result"
    }
   ],
   "source": [
    "d1['fruits']['apple']"
   ]
  },
  {
   "cell_type": "code",
   "execution_count": 20,
   "id": "101943ac-7c67-4283-9424-42537979e6e6",
   "metadata": {},
   "outputs": [
    {
     "data": {
      "text/plain": [
       "{'kashmir': 'india'}"
      ]
     },
     "execution_count": 20,
     "metadata": {},
     "output_type": "execute_result"
    }
   ],
   "source": [
    "d1['fruits']['apple'][0]"
   ]
  },
  {
   "cell_type": "code",
   "execution_count": 21,
   "id": "f099f2c6-30aa-45c3-ab3c-348447a388fa",
   "metadata": {},
   "outputs": [
    {
     "data": {
      "text/plain": [
       "'india'"
      ]
     },
     "execution_count": 21,
     "metadata": {},
     "output_type": "execute_result"
    }
   ],
   "source": [
    "d1['fruits']['apple'][0]['kashmir']"
   ]
  },
  {
   "cell_type": "code",
   "execution_count": 22,
   "id": "03698113-f158-4b7e-83ab-4be1d93ffbdd",
   "metadata": {},
   "outputs": [
    {
     "data": {
      "text/plain": [
       "{'hyd': 'ts'}"
      ]
     },
     "execution_count": 22,
     "metadata": {},
     "output_type": "execute_result"
    }
   ],
   "source": [
    "d1['fruits']['apple'][1]"
   ]
  },
  {
   "cell_type": "code",
   "execution_count": 23,
   "id": "bbfe1ba8-f27e-46e1-b17c-a872251e2798",
   "metadata": {},
   "outputs": [
    {
     "data": {
      "text/plain": [
       "'ts'"
      ]
     },
     "execution_count": 23,
     "metadata": {},
     "output_type": "execute_result"
    }
   ],
   "source": [
    "d1['fruits']['apple'][1]['hyd']"
   ]
  },
  {
   "cell_type": "code",
   "execution_count": 24,
   "id": "2620cf04-09fa-4b61-b184-10dc68852fce",
   "metadata": {},
   "outputs": [
    {
     "data": {
      "text/plain": [
       "{'fruits': {'mango': {'bangirapalli': {'nagpur market': {'mh': {'shivaji'}}}}}}"
      ]
     },
     "execution_count": 24,
     "metadata": {},
     "output_type": "execute_result"
    }
   ],
   "source": [
    "d1={'fruits':{'mango':{'bangirapalli':{'nagpur market':{'mh':{'shivaji'}}}}}}\n",
    "d1"
   ]
  },
  {
   "cell_type": "code",
   "execution_count": 25,
   "id": "4c6b4437-becf-474c-afd1-1d001b4eca9a",
   "metadata": {},
   "outputs": [
    {
     "data": {
      "text/plain": [
       "{'mango': {'bangirapalli': {'nagpur market': {'mh': {'shivaji'}}}}}"
      ]
     },
     "execution_count": 25,
     "metadata": {},
     "output_type": "execute_result"
    }
   ],
   "source": [
    "d1['fruits']"
   ]
  },
  {
   "cell_type": "code",
   "execution_count": 26,
   "id": "c9ddc8ad-3ce4-45bb-ace9-e0a061bc3f04",
   "metadata": {},
   "outputs": [
    {
     "data": {
      "text/plain": [
       "{'bangirapalli': {'nagpur market': {'mh': {'shivaji'}}}}"
      ]
     },
     "execution_count": 26,
     "metadata": {},
     "output_type": "execute_result"
    }
   ],
   "source": [
    "d1['fruits']['mango']"
   ]
  },
  {
   "cell_type": "code",
   "execution_count": 27,
   "id": "6512be86-9105-42c3-9a46-7a273bd74947",
   "metadata": {},
   "outputs": [
    {
     "data": {
      "text/plain": [
       "{'nagpur market': {'mh': {'shivaji'}}}"
      ]
     },
     "execution_count": 27,
     "metadata": {},
     "output_type": "execute_result"
    }
   ],
   "source": [
    "d1['fruits']['mango']['bangirapalli']"
   ]
  },
  {
   "cell_type": "code",
   "execution_count": 28,
   "id": "33f2b06c-8ccc-4f6a-b22b-1ede37111413",
   "metadata": {},
   "outputs": [
    {
     "data": {
      "text/plain": [
       "{'mh': {'shivaji'}}"
      ]
     },
     "execution_count": 28,
     "metadata": {},
     "output_type": "execute_result"
    }
   ],
   "source": [
    "d1['fruits']['mango']['bangirapalli']['nagpur market']"
   ]
  },
  {
   "cell_type": "code",
   "execution_count": 29,
   "id": "2fd219ab-187c-407e-8751-2b64fce357e3",
   "metadata": {},
   "outputs": [
    {
     "data": {
      "text/plain": [
       "{'shivaji'}"
      ]
     },
     "execution_count": 29,
     "metadata": {},
     "output_type": "execute_result"
    }
   ],
   "source": [
    "d1['fruits']['mango']['bangirapalli']['nagpur market']['mh']"
   ]
  },
  {
   "cell_type": "code",
   "execution_count": 31,
   "id": "18245f5d-da65-4b30-ae5f-1747efae3459",
   "metadata": {},
   "outputs": [
    {
     "data": {
      "text/plain": [
       "{'shivaji'}"
      ]
     },
     "execution_count": 31,
     "metadata": {},
     "output_type": "execute_result"
    }
   ],
   "source": [
    "d1['fruits']['mango']['bangirapalli']['nagpur market']['mh']"
   ]
  },
  {
   "cell_type": "code",
   "execution_count": 32,
   "id": "b96ea42d-6d39-4df8-a3f6-ef9d4b414219",
   "metadata": {},
   "outputs": [
    {
     "data": {
      "text/plain": [
       "1"
      ]
     },
     "execution_count": 32,
     "metadata": {},
     "output_type": "execute_result"
    }
   ],
   "source": [
    "len(d1)"
   ]
  },
  {
   "cell_type": "markdown",
   "id": "db649f93-1538-4cf9-8295-8f3591e0962b",
   "metadata": {},
   "source": [
    "**how to create empty dictionary**\n",
    "\n",
    "- it is very important to know how to make empty list\n",
    "\n",
    "- how to make empty string\n",
    "\n",
    "- how to make empty dictionary"
   ]
  },
  {
   "cell_type": "code",
   "execution_count": 33,
   "id": "df6e1412-2fd3-4c00-94dc-8f8fea3cd3b6",
   "metadata": {},
   "outputs": [
    {
     "data": {
      "text/plain": [
       "'python'"
      ]
     },
     "execution_count": 33,
     "metadata": {},
     "output_type": "execute_result"
    }
   ],
   "source": [
    "str1='python'\n",
    "str2=''\n",
    "for i in str1:\n",
    "    str2=str2+i\n",
    "str2"
   ]
  },
  {
   "cell_type": "code",
   "execution_count": 34,
   "id": "79feb9be-de75-4a1e-aa3e-4521360cf101",
   "metadata": {},
   "outputs": [
    {
     "data": {
      "text/plain": [
       "[1, 2, 3, 4]"
      ]
     },
     "execution_count": 34,
     "metadata": {},
     "output_type": "execute_result"
    }
   ],
   "source": [
    "l1=[1,2,3,4]\n",
    "l2=[]\n",
    "for i in l1:\n",
    "    l2.append(i)\n",
    "l2"
   ]
  },
  {
   "cell_type": "code",
   "execution_count": 38,
   "id": "11682b7f-732e-4b67-a1c1-ca478de8abad",
   "metadata": {},
   "outputs": [
    {
     "data": {
      "text/plain": [
       "{'ramesh': 50, 'suresh': 100, 'satish': 150, 'manish': 200}"
      ]
     },
     "execution_count": 38,
     "metadata": {},
     "output_type": "execute_result"
    }
   ],
   "source": [
    "d={}\n",
    "d['ramesh']=50\n",
    "d['suresh']=100\n",
    "d['satish']=150\n",
    "d['manish']=200\n",
    "d"
   ]
  },
  {
   "cell_type": "markdown",
   "id": "a8f39514-6d18-41e8-b1a0-570bab0c6c0e",
   "metadata": {},
   "source": [
    "**convert string to list**"
   ]
  },
  {
   "cell_type": "code",
   "execution_count": 46,
   "id": "62da0728-abb8-469f-bc31-c726d4285d1a",
   "metadata": {},
   "outputs": [
    {
     "data": {
      "text/plain": [
       "['hai', 'how', 'are', 'you']"
      ]
     },
     "execution_count": 46,
     "metadata": {},
     "output_type": "execute_result"
    }
   ],
   "source": [
    "# split : convert string to list\n",
    "\n",
    "str1='hai how are you'\n",
    "l=str1.split()\n",
    "l"
   ]
  },
  {
   "cell_type": "markdown",
   "id": "fcafbc17-fe42-48ca-84e5-9ba3c09497c0",
   "metadata": {},
   "source": [
    "**join : convert list to string**"
   ]
  },
  {
   "cell_type": "code",
   "execution_count": 49,
   "id": "94acd1b2-ee8f-4367-9dea-f8fb2e260bbe",
   "metadata": {},
   "outputs": [
    {
     "data": {
      "text/plain": [
       "'hai   how   are   you'"
      ]
     },
     "execution_count": 49,
     "metadata": {},
     "output_type": "execute_result"
    }
   ],
   "source": [
    "'   '.join(l)"
   ]
  },
  {
   "cell_type": "markdown",
   "id": "cefcbf39-ce0d-4314-93ce-0844b0a683a4",
   "metadata": {},
   "source": [
    "**we have two lists to convert into dictionary**"
   ]
  },
  {
   "cell_type": "code",
   "execution_count": 50,
   "id": "7b7aa6bc-a026-412a-ba93-1b804281576b",
   "metadata": {},
   "outputs": [
    {
     "data": {
      "text/plain": [
       "{'ramesh': 25, 'suresh': 30, 'manish': 35}"
      ]
     },
     "execution_count": 50,
     "metadata": {},
     "output_type": "execute_result"
    }
   ],
   "source": [
    "name=['ramesh','suresh','manish']\n",
    "age=[25,30,35]\n",
    "d={}\n",
    "for i,j in zip(name,age):\n",
    "    d[i]=j\n",
    "d"
   ]
  },
  {
   "cell_type": "markdown",
   "id": "6bceae0f-7b5e-45a3-9bd6-d0d0f078c4ab",
   "metadata": {},
   "source": [
    "**string to list**"
   ]
  },
  {
   "cell_type": "code",
   "execution_count": 52,
   "id": "a1aa6cda-c050-4f50-9e88-66ce27cc8278",
   "metadata": {},
   "outputs": [
    {
     "data": {
      "text/plain": [
       "['hai', 'how', 'are', 'you']"
      ]
     },
     "execution_count": 52,
     "metadata": {},
     "output_type": "execute_result"
    }
   ],
   "source": [
    "str1='hai how are you'\n",
    "l=str1.split()\n",
    "l"
   ]
  },
  {
   "cell_type": "markdown",
   "id": "b0639acd-b721-4fa6-b281-faa0c916ceae",
   "metadata": {},
   "source": [
    "**list to string**"
   ]
  },
  {
   "cell_type": "code",
   "execution_count": 53,
   "id": "330c9b00-4e68-4c3a-b3b9-17e011d60949",
   "metadata": {},
   "outputs": [
    {
     "data": {
      "text/plain": [
       "'hai how are you'"
      ]
     },
     "execution_count": 53,
     "metadata": {},
     "output_type": "execute_result"
    }
   ],
   "source": [
    "' '.join(l)"
   ]
  },
  {
   "cell_type": "code",
   "execution_count": 54,
   "id": "e723deef-43dc-4691-a192-853964879454",
   "metadata": {},
   "outputs": [
    {
     "data": {
      "text/plain": [
       "[1, 2, 3, 4]"
      ]
     },
     "execution_count": 54,
     "metadata": {},
     "output_type": "execute_result"
    }
   ],
   "source": [
    "l=[1,2,3,4]\n",
    "l"
   ]
  },
  {
   "cell_type": "markdown",
   "id": "679c4d88-8954-486e-81ad-f15d4a486e68",
   "metadata": {},
   "source": [
    "**list to dictionary**"
   ]
  },
  {
   "cell_type": "code",
   "execution_count": 55,
   "id": "ecf925d4-4da0-40c6-a7ab-c722cf8c1829",
   "metadata": {},
   "outputs": [
    {
     "data": {
      "text/plain": [
       "{'ramesh': 25, 'suresh': 30, 'manish': 35}"
      ]
     },
     "execution_count": 55,
     "metadata": {},
     "output_type": "execute_result"
    }
   ],
   "source": [
    "name=['ramesh','suresh','manish']\n",
    "age=[25,30,35]\n",
    "d={}\n",
    "for i,j in zip(name,age):\n",
    "    d[i]=j\n",
    "d\n"
   ]
  },
  {
   "cell_type": "markdown",
   "id": "18631349-8d96-4e3d-a5cc-fbefb54d7f64",
   "metadata": {},
   "source": [
    "**methods**"
   ]
  },
  {
   "cell_type": "code",
   "execution_count": 56,
   "id": "17a0ff2d-3c45-4132-8759-4c918b5a0e08",
   "metadata": {},
   "outputs": [
    {
     "data": {
      "text/plain": [
       "['__class__',\n",
       " '__class_getitem__',\n",
       " '__contains__',\n",
       " '__delattr__',\n",
       " '__delitem__',\n",
       " '__dir__',\n",
       " '__doc__',\n",
       " '__eq__',\n",
       " '__format__',\n",
       " '__ge__',\n",
       " '__getattribute__',\n",
       " '__getitem__',\n",
       " '__getstate__',\n",
       " '__gt__',\n",
       " '__hash__',\n",
       " '__init__',\n",
       " '__init_subclass__',\n",
       " '__ior__',\n",
       " '__iter__',\n",
       " '__le__',\n",
       " '__len__',\n",
       " '__lt__',\n",
       " '__ne__',\n",
       " '__new__',\n",
       " '__or__',\n",
       " '__reduce__',\n",
       " '__reduce_ex__',\n",
       " '__repr__',\n",
       " '__reversed__',\n",
       " '__ror__',\n",
       " '__setattr__',\n",
       " '__setitem__',\n",
       " '__sizeof__',\n",
       " '__str__',\n",
       " '__subclasshook__',\n",
       " 'clear',\n",
       " 'copy',\n",
       " 'fromkeys',\n",
       " 'get',\n",
       " 'items',\n",
       " 'keys',\n",
       " 'pop',\n",
       " 'popitem',\n",
       " 'setdefault',\n",
       " 'update',\n",
       " 'values']"
      ]
     },
     "execution_count": 56,
     "metadata": {},
     "output_type": "execute_result"
    }
   ],
   "source": [
    "dir({})"
   ]
  },
  {
   "cell_type": "code",
   "execution_count": 61,
   "id": "5aa53afd-5f31-4ed9-b86a-e37a65f9aaaf",
   "metadata": {},
   "outputs": [
    {
     "data": {
      "text/plain": [
       "['__add__',\n",
       " '__class__',\n",
       " '__class_getitem__',\n",
       " '__contains__',\n",
       " '__delattr__',\n",
       " '__dir__',\n",
       " '__doc__',\n",
       " '__eq__',\n",
       " '__format__',\n",
       " '__ge__',\n",
       " '__getattribute__',\n",
       " '__getitem__',\n",
       " '__getnewargs__',\n",
       " '__getstate__',\n",
       " '__gt__',\n",
       " '__hash__',\n",
       " '__init__',\n",
       " '__init_subclass__',\n",
       " '__iter__',\n",
       " '__le__',\n",
       " '__len__',\n",
       " '__lt__',\n",
       " '__mul__',\n",
       " '__ne__',\n",
       " '__new__',\n",
       " '__reduce__',\n",
       " '__reduce_ex__',\n",
       " '__repr__',\n",
       " '__rmul__',\n",
       " '__setattr__',\n",
       " '__sizeof__',\n",
       " '__str__',\n",
       " '__subclasshook__',\n",
       " 'count',\n",
       " 'index']"
      ]
     },
     "execution_count": 61,
     "metadata": {},
     "output_type": "execute_result"
    }
   ],
   "source": [
    "dir('')  # string\n",
    "dir([])  # list\n",
    "dir({})  # dictionary\n",
    "dir(())  # tuple"
   ]
  },
  {
   "cell_type": "code",
   "execution_count": 62,
   "id": "01a2debe-36ad-458e-8e81-c8bea6c4901f",
   "metadata": {},
   "outputs": [
    {
     "data": {
      "text/plain": [
       "['__class__',\n",
       " '__class_getitem__',\n",
       " '__contains__',\n",
       " '__delattr__',\n",
       " '__delitem__',\n",
       " '__dir__',\n",
       " '__doc__',\n",
       " '__eq__',\n",
       " '__format__',\n",
       " '__ge__',\n",
       " '__getattribute__',\n",
       " '__getitem__',\n",
       " '__getstate__',\n",
       " '__gt__',\n",
       " '__hash__',\n",
       " '__init__',\n",
       " '__init_subclass__',\n",
       " '__ior__',\n",
       " '__iter__',\n",
       " '__le__',\n",
       " '__len__',\n",
       " '__lt__',\n",
       " '__ne__',\n",
       " '__new__',\n",
       " '__or__',\n",
       " '__reduce__',\n",
       " '__reduce_ex__',\n",
       " '__repr__',\n",
       " '__reversed__',\n",
       " '__ror__',\n",
       " '__setattr__',\n",
       " '__setitem__',\n",
       " '__sizeof__',\n",
       " '__str__',\n",
       " '__subclasshook__',\n",
       " 'clear',\n",
       " 'copy',\n",
       " 'fromkeys',\n",
       " 'get',\n",
       " 'items',\n",
       " 'keys',\n",
       " 'pop',\n",
       " 'popitem',\n",
       " 'setdefault',\n",
       " 'update',\n",
       " 'values']"
      ]
     },
     "execution_count": 62,
     "metadata": {},
     "output_type": "execute_result"
    }
   ],
   "source": [
    "dir({})"
   ]
  },
  {
   "cell_type": "markdown",
   "id": "ff751b6f-f031-4d59-a368-3de872b02965",
   "metadata": {},
   "source": [
    "**items-keys-values**"
   ]
  },
  {
   "cell_type": "markdown",
   "id": "4e2a16f8-1db9-4823-af31-a3d931bcf16f",
   "metadata": {},
   "source": [
    "- items means both keys and values coome together\n",
    "\n",
    "- keys means only dictionary keys\n",
    "\n",
    "- values means only dictionary values"
   ]
  },
  {
   "cell_type": "code",
   "execution_count": 63,
   "id": "b49b0725-2abf-4a3a-acd3-881115a85eb7",
   "metadata": {},
   "outputs": [
    {
     "data": {
      "text/plain": [
       "{'ramesh': 50, 'suresh': 100, 'satish': 150, 'manish': 200}"
      ]
     },
     "execution_count": 63,
     "metadata": {},
     "output_type": "execute_result"
    }
   ],
   "source": [
    "d={}\n",
    "d['ramesh']=50\n",
    "d['suresh']=100\n",
    "d['satish']=150\n",
    "d['manish']=200\n",
    "d"
   ]
  },
  {
   "cell_type": "code",
   "execution_count": 65,
   "id": "b1eca80a-e672-401c-b1d9-010e69145fe5",
   "metadata": {},
   "outputs": [
    {
     "data": {
      "text/plain": [
       "dict_items([('ramesh', 50), ('suresh', 100), ('satish', 150), ('manish', 200)])"
      ]
     },
     "execution_count": 65,
     "metadata": {},
     "output_type": "execute_result"
    }
   ],
   "source": [
    "d={'ramesh': 50, 'suresh': 100, 'satish': 150, 'manish': 200}\n",
    "it=d.items()\n",
    "it"
   ]
  },
  {
   "cell_type": "code",
   "execution_count": 66,
   "id": "a364b9bb-45c9-46b3-a528-b09c34f00857",
   "metadata": {},
   "outputs": [
    {
     "data": {
      "text/plain": [
       "dict_items"
      ]
     },
     "execution_count": 66,
     "metadata": {},
     "output_type": "execute_result"
    }
   ],
   "source": [
    "type(it)"
   ]
  },
  {
   "cell_type": "code",
   "execution_count": 67,
   "id": "c3199560-4743-4126-ab9d-2996942440a8",
   "metadata": {},
   "outputs": [
    {
     "data": {
      "text/plain": [
       "[('ramesh', 50), ('suresh', 100), ('satish', 150), ('manish', 200)]"
      ]
     },
     "execution_count": 67,
     "metadata": {},
     "output_type": "execute_result"
    }
   ],
   "source": [
    "list(it)"
   ]
  },
  {
   "cell_type": "markdown",
   "id": "0b93f964-bc05-4aea-9f99-7e2b94c7147b",
   "metadata": {},
   "source": [
    "**create a list using items**"
   ]
  },
  {
   "cell_type": "code",
   "execution_count": 71,
   "id": "d5b33e50-b967-4cdc-a7d2-2647be4ee5c3",
   "metadata": {},
   "outputs": [
    {
     "name": "stdout",
     "output_type": "stream",
     "text": [
      "['ramesh', 'suresh', 'satish', 'manish']\n",
      "[50, 100, 150, 200]\n"
     ]
    }
   ],
   "source": [
    "d={'ramesh': 50, 'suresh': 100, 'satish': 150, 'manish': 200}\n",
    "it=d.items()\n",
    "items_list=list(it)\n",
    "name=[]\n",
    "age=[]\n",
    "for i in items_list:\n",
    "    name.append(i[0])\n",
    "    age.append(i[1])\n",
    "print(name)\n",
    "print(age)"
   ]
  },
  {
   "cell_type": "code",
   "execution_count": 163,
   "id": "96962c7f-a552-4209-ac2e-9f463e20ba1c",
   "metadata": {},
   "outputs": [
    {
     "name": "stdin",
     "output_type": "stream",
     "text": [
      "enter a string : hai\n"
     ]
    },
    {
     "name": "stdout",
     "output_type": "stream",
     "text": [
      "8-1-9-"
     ]
    }
   ],
   "source": [
    "#step-1 : create lowercase letters list using string package\n",
    "#step-2 : create a digits list 1 to 26\n",
    "#step-3 : create a dictionary {'a':1,'b':2,....'z':26}\n",
    "#step-4 : enter a string: hai\n",
    "#step-5 : output:8-1-9\n",
    "\n",
    "import string\n",
    "l=string.ascii_lowercase\n",
    "l1=list(l)\n",
    "d={}\n",
    "for i in range(1,27):\n",
    "    d[l1[i-1]]=i\n",
    "str=input(\"enter a string :\")\n",
    "for i in str:\n",
    "    print(d[i],end='-')"
   ]
  },
  {
   "cell_type": "code",
   "execution_count": 164,
   "id": "60228b1e-29ee-4f23-b56b-72ff29eedccb",
   "metadata": {},
   "outputs": [
    {
     "data": {
      "text/plain": [
       "['__class__',\n",
       " '__class_getitem__',\n",
       " '__contains__',\n",
       " '__delattr__',\n",
       " '__delitem__',\n",
       " '__dir__',\n",
       " '__doc__',\n",
       " '__eq__',\n",
       " '__format__',\n",
       " '__ge__',\n",
       " '__getattribute__',\n",
       " '__getitem__',\n",
       " '__getstate__',\n",
       " '__gt__',\n",
       " '__hash__',\n",
       " '__init__',\n",
       " '__init_subclass__',\n",
       " '__ior__',\n",
       " '__iter__',\n",
       " '__le__',\n",
       " '__len__',\n",
       " '__lt__',\n",
       " '__ne__',\n",
       " '__new__',\n",
       " '__or__',\n",
       " '__reduce__',\n",
       " '__reduce_ex__',\n",
       " '__repr__',\n",
       " '__reversed__',\n",
       " '__ror__',\n",
       " '__setattr__',\n",
       " '__setitem__',\n",
       " '__sizeof__',\n",
       " '__str__',\n",
       " '__subclasshook__',\n",
       " 'clear',\n",
       " 'copy',\n",
       " 'fromkeys',\n",
       " 'get',\n",
       " 'items',\n",
       " 'keys',\n",
       " 'pop',\n",
       " 'popitem',\n",
       " 'setdefault',\n",
       " 'update',\n",
       " 'values']"
      ]
     },
     "execution_count": 164,
     "metadata": {},
     "output_type": "execute_result"
    }
   ],
   "source": [
    "# Methods of the dictionary\n",
    "\n",
    "dir(dict)"
   ]
  },
  {
   "cell_type": "code",
   "execution_count": 167,
   "id": "ee5feb07-4f6d-4b52-baa5-8f795a135c3d",
   "metadata": {},
   "outputs": [
    {
     "data": {
      "text/plain": [
       "{}"
      ]
     },
     "execution_count": 167,
     "metadata": {},
     "output_type": "execute_result"
    }
   ],
   "source": [
    "d={'ramesh': 50, 'suresh': 100, 'satish': 150, 'manish': 200}\n",
    "d.clear()\n",
    "d"
   ]
  },
  {
   "cell_type": "code",
   "execution_count": 168,
   "id": "8f0eeb30-7f15-4409-9fac-ca83927d4fc7",
   "metadata": {},
   "outputs": [
    {
     "data": {
      "text/plain": [
       "{'ramesh': 50, 'suresh': 100, 'satish': 150, 'manish': 200}"
      ]
     },
     "execution_count": 168,
     "metadata": {},
     "output_type": "execute_result"
    }
   ],
   "source": [
    "d={'ramesh': 50, 'suresh': 100, 'satish': 150, 'manish': 200}\n",
    "d.copy()"
   ]
  },
  {
   "cell_type": "code",
   "execution_count": 203,
   "id": "fc0fbe6d-59b3-4f0c-b93a-138fb03d90aa",
   "metadata": {},
   "outputs": [
    {
     "data": {
      "text/plain": [
       "{'ramesh': [1, 2], 'suresh': [1, 2], 'satish': [1, 2], 'manish': [1, 2]}"
      ]
     },
     "execution_count": 203,
     "metadata": {},
     "output_type": "execute_result"
    }
   ],
   "source": [
    "d={'ramesh': 50, 'suresh': 100, 'satish': 150, 'manish': 200}\n",
    "dict.fromkeys(d,[1,2])\n"
   ]
  },
  {
   "cell_type": "code",
   "execution_count": 199,
   "id": "aec78bb9-a422-44dd-97bc-e382c5ee1255",
   "metadata": {},
   "outputs": [
    {
     "data": {
      "text/plain": [
       "{'a': (1, 2, 3), 'b': (1, 2, 3)}"
      ]
     },
     "execution_count": 199,
     "metadata": {},
     "output_type": "execute_result"
    }
   ],
   "source": [
    "v=[\"a\",\"b\"]\n",
    "a=1,2,3\n",
    "dict.fromkeys(v,a)"
   ]
  },
  {
   "cell_type": "code",
   "execution_count": null,
   "id": "de5a9ab3-39d9-4f0f-b2cc-b00aaaaa5d9b",
   "metadata": {},
   "outputs": [],
   "source": []
  }
 ],
 "metadata": {
  "kernelspec": {
   "display_name": "Python 3 (ipykernel)",
   "language": "python",
   "name": "python3"
  },
  "language_info": {
   "codemirror_mode": {
    "name": "ipython",
    "version": 3
   },
   "file_extension": ".py",
   "mimetype": "text/x-python",
   "name": "python",
   "nbconvert_exporter": "python",
   "pygments_lexer": "ipython3",
   "version": "3.11.7"
  }
 },
 "nbformat": 4,
 "nbformat_minor": 5
}
