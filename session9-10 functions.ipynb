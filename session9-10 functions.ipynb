{
 "cells": [
  {
   "cell_type": "markdown",
   "id": "14b8ce32-2f19-4d69-b7cf-24c591d3491e",
   "metadata": {},
   "source": [
    "**Functions**\n",
    "\n",
    "- Reuse of the code\n",
    "- Imagine you want to calculate tax of all tax payers\n",
    "- Suppose there are 100 tax payers are there\n",
    "- In order to calculate tax we required 5 lines of code\n",
    "- For 100 tax payers it will required 500 lines\n",
    "- This is not the good approach\n",
    "- Because 5 lines we are repeating for 100 members\n",
    "- Here functions will help us how to use only these 5 lines to all 100 tax payers"
   ]
  },
  {
   "cell_type": "code",
   "execution_count": 3,
   "id": "9dc747c5-15d9-4550-90bf-f72c426242a6",
   "metadata": {},
   "outputs": [
    {
     "name": "stdin",
     "output_type": "stream",
     "text": [
      "enter the salary : 65000\n",
      "enter tax per : 5\n"
     ]
    },
    {
     "name": "stdout",
     "output_type": "stream",
     "text": [
      "the amount  of the pay is : 3250.0\n"
     ]
    }
   ],
   "source": [
    "salary=eval(input(\"enter the salary :\"))\n",
    "tax_per=eval(input(\"enter tax per :\"))\n",
    "tax_amount=tax_per*salary/100\n",
    "print(\"the amount  of the pay is :\",tax_amount)"
   ]
  },
  {
   "cell_type": "code",
   "execution_count": null,
   "id": "ee3593f6-f7d0-4a85-a31f-1086d50db19b",
   "metadata": {},
   "outputs": [],
   "source": [
    "# syntax\n",
    "\n",
    "# def <function_name>()\n",
    "#     <code starts here>"
   ]
  },
  {
   "cell_type": "code",
   "execution_count": 4,
   "id": "3598a387-ea90-4611-83cb-98548a449eca",
   "metadata": {},
   "outputs": [
    {
     "name": "stdout",
     "output_type": "stream",
     "text": [
      "30\n"
     ]
    }
   ],
   "source": [
    "n1=10\n",
    "n2=20\n",
    "add=n1+n2\n",
    "print(add)"
   ]
  },
  {
   "cell_type": "code",
   "execution_count": 10,
   "id": "0e37d4d9-d0c4-4ff0-8526-cadf8d0dc4ce",
   "metadata": {},
   "outputs": [],
   "source": [
    "def addition():\n",
    "    n1=10\n",
    "    n2=20\n",
    "    add=n1+n2\n",
    "    print(add)\n"
   ]
  },
  {
   "cell_type": "code",
   "execution_count": 8,
   "id": "e20688c3-58fe-4ebd-ac13-dc301aa7a2f3",
   "metadata": {},
   "outputs": [
    {
     "name": "stdout",
     "output_type": "stream",
     "text": [
      "30\n"
     ]
    }
   ],
   "source": [
    "addition()"
   ]
  },
  {
   "cell_type": "markdown",
   "id": "c04c5e9a-b0f7-42a1-b698-7eeaf487e3ed",
   "metadata": {},
   "source": [
    "- First mistake you will forget the brackets while define function\n",
    "- second mistake you will forget about the column\n",
    "- Third mistake you will not give indentation\n",
    "- Fourth mistake you will copy the code you will forget to make the alignment\n",
    "- Fifth mistake : variable name and function name must be different\n",
    "- Sixth mistake while calling the function you will forget the brackets\n",
    "\n",
    "**Function also called a method**\n",
    "\n",
    "**Whenever function is there brackets must**"
   ]
  },
  {
   "cell_type": "code",
   "execution_count": 11,
   "id": "9b5cce7b-dc4d-40ec-b261-ad76724a1ef9",
   "metadata": {},
   "outputs": [
    {
     "ename": "SyntaxError",
     "evalue": "expected '(' (899965224.py, line 1)",
     "output_type": "error",
     "traceback": [
      "\u001b[1;36m  Cell \u001b[1;32mIn[11], line 1\u001b[1;36m\u001b[0m\n\u001b[1;33m    def addition:\u001b[0m\n\u001b[1;37m                ^\u001b[0m\n\u001b[1;31mSyntaxError\u001b[0m\u001b[1;31m:\u001b[0m expected '('\n"
     ]
    }
   ],
   "source": [
    "def addition:\n",
    "    n1=10\n",
    "    n2=20\n",
    "    add=n1+n2\n",
    "    print(add)\n",
    "addition()"
   ]
  },
  {
   "cell_type": "code",
   "execution_count": 12,
   "id": "87aa8b72-1ab4-49f4-a74b-296cf41ef0bf",
   "metadata": {},
   "outputs": [
    {
     "ename": "SyntaxError",
     "evalue": "expected ':' (1157269754.py, line 1)",
     "output_type": "error",
     "traceback": [
      "\u001b[1;36m  Cell \u001b[1;32mIn[12], line 1\u001b[1;36m\u001b[0m\n\u001b[1;33m    def addition()\u001b[0m\n\u001b[1;37m                  ^\u001b[0m\n\u001b[1;31mSyntaxError\u001b[0m\u001b[1;31m:\u001b[0m expected ':'\n"
     ]
    }
   ],
   "source": [
    "def addition()\n",
    "    n1=10\n",
    "    n2=20\n",
    "    add=n1+n2\n",
    "    print(add)\n",
    "addition()"
   ]
  },
  {
   "cell_type": "code",
   "execution_count": 13,
   "id": "c8cf8c5b-191e-47de-ba77-00bab53965da",
   "metadata": {},
   "outputs": [
    {
     "ename": "IndentationError",
     "evalue": "expected an indented block after function definition on line 1 (4216598045.py, line 2)",
     "output_type": "error",
     "traceback": [
      "\u001b[1;36m  Cell \u001b[1;32mIn[13], line 2\u001b[1;36m\u001b[0m\n\u001b[1;33m    n1=10\u001b[0m\n\u001b[1;37m    ^\u001b[0m\n\u001b[1;31mIndentationError\u001b[0m\u001b[1;31m:\u001b[0m expected an indented block after function definition on line 1\n"
     ]
    }
   ],
   "source": [
    "def addition():\n",
    "n1=10\n",
    "n2=20\n",
    "add=n1+n2\n",
    "print(add)\n",
    "addition()"
   ]
  },
  {
   "cell_type": "code",
   "execution_count": 17,
   "id": "d4d27e49-8489-43f1-94b4-4b5bebc0047a",
   "metadata": {},
   "outputs": [
    {
     "ename": "IndentationError",
     "evalue": "expected an indented block after function definition on line 1 (4216598045.py, line 2)",
     "output_type": "error",
     "traceback": [
      "\u001b[1;36m  Cell \u001b[1;32mIn[17], line 2\u001b[1;36m\u001b[0m\n\u001b[1;33m    n1=10\u001b[0m\n\u001b[1;37m    ^\u001b[0m\n\u001b[1;31mIndentationError\u001b[0m\u001b[1;31m:\u001b[0m expected an indented block after function definition on line 1\n"
     ]
    }
   ],
   "source": [
    "def addition():\n",
    "n1=10\n",
    "n2=20\n",
    "add=n1+n2\n",
    "print(add)\n",
    "addition()"
   ]
  },
  {
   "cell_type": "code",
   "execution_count": 22,
   "id": "5369b6c5-842d-4460-ab82-95098234e7a7",
   "metadata": {},
   "outputs": [
    {
     "name": "stdout",
     "output_type": "stream",
     "text": [
      "30\n"
     ]
    }
   ],
   "source": [
    "def addition():\n",
    "    n1=10\n",
    "    n2=20\n",
    "    addition=n1+n2\n",
    "    print(addition)\n",
    "addition()"
   ]
  },
  {
   "cell_type": "code",
   "execution_count": 25,
   "id": "7a3e4b6f-f979-4468-8237-7b8ac9cf856d",
   "metadata": {},
   "outputs": [
    {
     "name": "stdin",
     "output_type": "stream",
     "text": [
      "enter the num1 : 2\n",
      "enter the num2 : 3\n"
     ]
    },
    {
     "ename": "NameError",
     "evalue": "name 'n1111' is not defined",
     "output_type": "error",
     "traceback": [
      "\u001b[1;31m---------------------------------------------------------------------------\u001b[0m",
      "\u001b[1;31mNameError\u001b[0m                                 Traceback (most recent call last)",
      "Cell \u001b[1;32mIn[25], line 6\u001b[0m\n\u001b[0;32m      4\u001b[0m     add\u001b[38;5;241m=\u001b[39mn1111\u001b[38;5;241m+\u001b[39mn2\n\u001b[0;32m      5\u001b[0m     \u001b[38;5;28mprint\u001b[39m(add)\n\u001b[1;32m----> 6\u001b[0m add1()\n",
      "Cell \u001b[1;32mIn[25], line 4\u001b[0m, in \u001b[0;36madd1\u001b[1;34m()\u001b[0m\n\u001b[0;32m      2\u001b[0m n1\u001b[38;5;241m=\u001b[39m\u001b[38;5;28meval\u001b[39m(\u001b[38;5;28minput\u001b[39m(\u001b[38;5;124m\"\u001b[39m\u001b[38;5;124menter the num1 :\u001b[39m\u001b[38;5;124m\"\u001b[39m))\n\u001b[0;32m      3\u001b[0m n2\u001b[38;5;241m=\u001b[39m\u001b[38;5;28meval\u001b[39m(\u001b[38;5;28minput\u001b[39m(\u001b[38;5;124m\"\u001b[39m\u001b[38;5;124menter the num2 :\u001b[39m\u001b[38;5;124m\"\u001b[39m))\n\u001b[1;32m----> 4\u001b[0m add\u001b[38;5;241m=\u001b[39mn1111\u001b[38;5;241m+\u001b[39mn2\n\u001b[0;32m      5\u001b[0m \u001b[38;5;28mprint\u001b[39m(add)\n",
      "\u001b[1;31mNameError\u001b[0m: name 'n1111' is not defined"
     ]
    }
   ],
   "source": [
    "def add1():\n",
    "    n1=eval(input(\"enter the num1 :\"))\n",
    "    n2=eval(input(\"enter the num2 :\"))\n",
    "    add=n1111+n2\n",
    "    print(add)\n",
    "add1()"
   ]
  },
  {
   "cell_type": "markdown",
   "id": "ca6166c6-2da6-48c7-9be1-cf0f95b2e90c",
   "metadata": {},
   "source": [
    "**Note**\n",
    "\n",
    "- when we define function will not give the error\n",
    "- errors will display after calling the function only"
   ]
  },
  {
   "cell_type": "markdown",
   "id": "4bdc6b2b-d67a-45aa-9b38-36cdaadee044",
   "metadata": {},
   "source": [
    "## Method-1\n",
    "\n",
    "**functions without arguments**\n",
    "\n",
    "- when we provide function we will provide brackets\n",
    "- inside the brackets we can provide the values also\n",
    "- these values are called as arguments "
   ]
  },
  {
   "cell_type": "code",
   "execution_count": 37,
   "id": "e5a8eb6b-fbbb-443d-9f45-8e429d9cf648",
   "metadata": {},
   "outputs": [
    {
     "name": "stdin",
     "output_type": "stream",
     "text": [
      "enter first number : 2\n",
      "enter second number : 3\n",
      "enter third number : 4\n"
     ]
    },
    {
     "name": "stdout",
     "output_type": "stream",
     "text": [
      "average of three numbers is 3.0\n"
     ]
    }
   ],
   "source": [
    "# Q1)Create a function read three numbers find the average\n",
    "\n",
    "def average():\n",
    "    n1=eval(input(\"enter first number :\"))\n",
    "    n2=eval(input(\"enter second number :\"))\n",
    "    n3=eval(input(\"enter third number :\"))\n",
    "    avg=(n1+n2+n3)/3\n",
    "    print(f\"average of three numbers is {avg}\")\n",
    "average()"
   ]
  },
  {
   "cell_type": "code",
   "execution_count": 38,
   "id": "ba8b46f4-0db5-438d-8ffe-19df3c94259b",
   "metadata": {},
   "outputs": [
    {
     "name": "stdin",
     "output_type": "stream",
     "text": [
      "enter the bill amount : 1000\n",
      "enter bill percentage : 10\n"
     ]
    },
    {
     "name": "stdout",
     "output_type": "stream",
     "text": [
      "the total bill is 1100.0\n"
     ]
    }
   ],
   "source": [
    "# Q2)Create a function ask the user enter the bill amount \n",
    " # enter the tip percentage\n",
    " # calculate total bill pay\n",
    "\n",
    "def total_bill():\n",
    "    bill=eval(input(\"enter the bill amount :\"))\n",
    "    tip_per=eval(input(\"enter bill percentage :\"))\n",
    "    tip_amount=tip_per*bill/100\n",
    "    total_amount=tip_amount+bill\n",
    "    print(f\"the total bill is {total_amount}\")\n",
    "total_bill()"
   ]
  },
  {
   "cell_type": "code",
   "execution_count": 39,
   "id": "f2ee54f2-c12a-4223-82a8-68ec8c9e9968",
   "metadata": {},
   "outputs": [
    {
     "name": "stdin",
     "output_type": "stream",
     "text": [
      "enter radius : 2\n"
     ]
    },
    {
     "name": "stdout",
     "output_type": "stream",
     "text": [
      "area of a circle is 13\n"
     ]
    }
   ],
   "source": [
    "# Q3)create a function ask the user enter the radius\n",
    " # calculate the area of a circle\n",
    "\n",
    "def area():\n",
    "    radius=eval(input(\"enter radius :\"))\n",
    "    import math\n",
    "    area1=round(math.pi*radius*radius)\n",
    "    print(f\"area of a circle is {area1}\")\n",
    "area()"
   ]
  },
  {
   "cell_type": "code",
   "execution_count": 40,
   "id": "89f30dab-b991-4a10-83e8-8c89cf3bb0bf",
   "metadata": {},
   "outputs": [
    {
     "name": "stdin",
     "output_type": "stream",
     "text": [
      "enter breadth : 2\n",
      "enter height : 4\n"
     ]
    },
    {
     "name": "stdout",
     "output_type": "stream",
     "text": [
      "area of triangle is 4.0\n"
     ]
    }
   ],
   "source": [
    "# Q4)create a function ask the user enter breadth and height\n",
    " # calculate area of the triangle\n",
    "\n",
    "def area():\n",
    "    breadth=eval(input(\"enter breadth :\"))\n",
    "    height=eval(input(\"enter height :\"))\n",
    "    area=0.5*breadth*height\n",
    "    print(f\"area of triangle is {area}\")\n",
    "area()"
   ]
  },
  {
   "cell_type": "code",
   "execution_count": 41,
   "id": "8985dc31-6565-4f7e-9b3d-b2f6413083f0",
   "metadata": {},
   "outputs": [
    {
     "name": "stdin",
     "output_type": "stream",
     "text": [
      "enter a number : 24\n"
     ]
    },
    {
     "name": "stdout",
     "output_type": "stream",
     "text": [
      "number 24 is even\n"
     ]
    }
   ],
   "source": [
    "# Q5)create a function ask the user enter a number find it is even or odd\n",
    "\n",
    "def even_odd():\n",
    "    number=eval(input(\"enter a number :\"))\n",
    "    if number%2==0:\n",
    "        print(f\"number {number} is even\")\n",
    "    else:\n",
    "        print(f\"number {number} is odd\")\n",
    "even_odd()"
   ]
  },
  {
   "cell_type": "code",
   "execution_count": 42,
   "id": "e7090e60-869a-4ba3-b568-df21289201af",
   "metadata": {},
   "outputs": [
    {
     "name": "stdin",
     "output_type": "stream",
     "text": [
      "enter a number : -2\n"
     ]
    },
    {
     "name": "stdout",
     "output_type": "stream",
     "text": [
      "number -2 is negative\n"
     ]
    }
   ],
   "source": [
    "# Q6)create a function ask the user enter a number find it is positive or negative or zero\n",
    "\n",
    "def pos_neg():\n",
    "    number=eval(input('enter a number :'))\n",
    "    if number<0:\n",
    "        print(f\"number {number} is negative\")\n",
    "    elif number>0:\n",
    "        print(f\"number {number} is positive\")\n",
    "    else:\n",
    "        print(f\"number {number} is zero\")\n",
    "pos_neg()"
   ]
  },
  {
   "cell_type": "code",
   "execution_count": 43,
   "id": "30560e40-ac23-4cfe-83c8-9810268379e0",
   "metadata": {},
   "outputs": [
    {
     "name": "stdin",
     "output_type": "stream",
     "text": [
      "enter first number : 1\n",
      "enter second number : 3\n",
      "enter third number : 2\n"
     ]
    },
    {
     "name": "stdout",
     "output_type": "stream",
     "text": [
      "second number 3 is greater number\n"
     ]
    }
   ],
   "source": [
    "# Q7)create a function ask the user enter three numbers find the greater number\n",
    "\n",
    "def greater_number():\n",
    "    n1=eval(input(\"enter first number :\"))\n",
    "    n2=eval(input(\"enter second number :\"))\n",
    "    n3=eval(input(\"enter third number :\"))\n",
    "    if n1>n2 and n1>n3:\n",
    "        print(f\"first number {n1} is greater number\")\n",
    "    elif n2>n3:\n",
    "        print(f\"second number {n2} is greater number\")\n",
    "    else:\n",
    "        print(f\"third number {n3} is greater number\")\n",
    "greater_number()"
   ]
  },
  {
   "cell_type": "code",
   "execution_count": null,
   "id": "34e48a10-5fc6-4a65-a48c-d9aec2084d6e",
   "metadata": {},
   "outputs": [],
   "source": [
    "def average():\n",
    "def total_bill():\n",
    "def area():\n",
    "def even_odd():\n",
    "def pos_neg():\n",
    "def greater_number():   "
   ]
  },
  {
   "cell_type": "markdown",
   "id": "00ae2f09-aecf-4be9-9401-1396c99cb541",
   "metadata": {},
   "source": [
    "## Method-2\n",
    "\n",
    "**function with arguments**\n",
    "\n",
    "- how many variables are there in a given function\n",
    "   - input variables : user\n",
    "   - suppose n1 and n2 are two input variables\n",
    "   - output variables : we are creating a new variable using input variable"
   ]
  },
  {
   "cell_type": "code",
   "execution_count": 44,
   "id": "81d86e6c-673a-41a2-a10c-f9caab2f45c9",
   "metadata": {},
   "outputs": [
    {
     "name": "stdout",
     "output_type": "stream",
     "text": [
      "30\n"
     ]
    }
   ],
   "source": [
    "def addition():\n",
    "    n1=10\n",
    "    n2=20\n",
    "    addition=n1+n2\n",
    "    print(addition)\n",
    "addition()"
   ]
  },
  {
   "cell_type": "code",
   "execution_count": 45,
   "id": "37ddcf7f-361e-4e09-ad52-6447a9c7e7c7",
   "metadata": {},
   "outputs": [
    {
     "ename": "TypeError",
     "evalue": "addition() missing 2 required positional arguments: 'n1' and 'n2'",
     "output_type": "error",
     "traceback": [
      "\u001b[1;31m---------------------------------------------------------------------------\u001b[0m",
      "\u001b[1;31mTypeError\u001b[0m                                 Traceback (most recent call last)",
      "Cell \u001b[1;32mIn[45], line 4\u001b[0m\n\u001b[0;32m      2\u001b[0m     addition\u001b[38;5;241m=\u001b[39mn1\u001b[38;5;241m+\u001b[39mn2\n\u001b[0;32m      3\u001b[0m     \u001b[38;5;28mprint\u001b[39m(addition)\n\u001b[1;32m----> 4\u001b[0m addition()\n",
      "\u001b[1;31mTypeError\u001b[0m: addition() missing 2 required positional arguments: 'n1' and 'n2'"
     ]
    }
   ],
   "source": [
    "def addition(n1,n2):\n",
    "    addition=n1+n2\n",
    "    print(addition)\n",
    "addition()"
   ]
  },
  {
   "cell_type": "code",
   "execution_count": 46,
   "id": "0fc231da-d40d-4ffd-978b-744ca91b1f8e",
   "metadata": {},
   "outputs": [
    {
     "name": "stdout",
     "output_type": "stream",
     "text": [
      "30\n"
     ]
    }
   ],
   "source": [
    "def addition(n1,n2):\n",
    "    addition=n1+n2\n",
    "    print(addition)\n",
    "addition(10,20)"
   ]
  },
  {
   "cell_type": "code",
   "execution_count": 47,
   "id": "41ef12de-47c4-48ad-8acf-7ac66f82d3de",
   "metadata": {},
   "outputs": [
    {
     "ename": "TypeError",
     "evalue": "addition() missing 1 required positional argument: 'n2'",
     "output_type": "error",
     "traceback": [
      "\u001b[1;31m---------------------------------------------------------------------------\u001b[0m",
      "\u001b[1;31mTypeError\u001b[0m                                 Traceback (most recent call last)",
      "Cell \u001b[1;32mIn[47], line 4\u001b[0m\n\u001b[0;32m      2\u001b[0m     addition\u001b[38;5;241m=\u001b[39mn1\u001b[38;5;241m+\u001b[39mn2\n\u001b[0;32m      3\u001b[0m     \u001b[38;5;28mprint\u001b[39m(addition)\n\u001b[1;32m----> 4\u001b[0m addition(\u001b[38;5;241m10\u001b[39m)\n",
      "\u001b[1;31mTypeError\u001b[0m: addition() missing 1 required positional argument: 'n2'"
     ]
    }
   ],
   "source": [
    "def addition(n1,n2):\n",
    "    addition=n1+n2\n",
    "    print(addition)\n",
    "addition(10)"
   ]
  },
  {
   "cell_type": "code",
   "execution_count": 50,
   "id": "d70dc32e-7809-49a5-9779-902d5ddd0dc3",
   "metadata": {},
   "outputs": [
    {
     "name": "stdout",
     "output_type": "stream",
     "text": [
      "average of three numbers is 2.0\n"
     ]
    }
   ],
   "source": [
    "# Create a function read three numbers find the average\n",
    "\n",
    "def average(n1,n2,n3):\n",
    "    avg=(n1+n2+n3)/3\n",
    "    print(f\"average of three numbers is {avg}\")\n",
    "average(1,2,3)"
   ]
  },
  {
   "cell_type": "markdown",
   "id": "6d8a2afc-320b-481d-8f3b-946b58de60ea",
   "metadata": {},
   "source": [
    "- Functions without arguments\n",
    "- Functions with arguments"
   ]
  },
  {
   "cell_type": "code",
   "execution_count": 2,
   "id": "3ad8f80e-ee10-415a-899f-b463c35d12c7",
   "metadata": {},
   "outputs": [
    {
     "name": "stdin",
     "output_type": "stream",
     "text": [
      "enter first number : 1\n",
      "enter second number : 2\n",
      "enter third number : 3\n"
     ]
    },
    {
     "name": "stdout",
     "output_type": "stream",
     "text": [
      "average of three numbers is 2.0\n"
     ]
    }
   ],
   "source": [
    "def average():\n",
    "    n1=eval(input(\"enter first number :\"))\n",
    "    n2=eval(input(\"enter second number :\"))\n",
    "    n3=eval(input(\"enter third number :\"))\n",
    "    avg=(n1+n2+n3)/3\n",
    "    print(f\"average of three numbers is {avg}\")\n",
    "average()"
   ]
  },
  {
   "cell_type": "code",
   "execution_count": 1,
   "id": "4d95c20b-230f-4122-b872-dc9ff0bfdd8a",
   "metadata": {},
   "outputs": [
    {
     "name": "stdout",
     "output_type": "stream",
     "text": [
      "average of three numbers is 2.0\n"
     ]
    }
   ],
   "source": [
    "def average(n1,n2,n3):\n",
    "    avg=(n1+n2+n3)/3\n",
    "    print(f\"average of three numbers is {avg}\")\n",
    "average(1,2,3)"
   ]
  },
  {
   "cell_type": "code",
   "execution_count": 5,
   "id": "3ed3ceb3-d032-4dc5-a3cf-63bb271514c4",
   "metadata": {},
   "outputs": [
    {
     "name": "stdout",
     "output_type": "stream",
     "text": [
      "num1: 10\n",
      "num2: 20\n"
     ]
    },
    {
     "name": "stdin",
     "output_type": "stream",
     "text": [
      "enter number3 : 30\n"
     ]
    },
    {
     "name": "stdout",
     "output_type": "stream",
     "text": [
      "average of 10,20 and 30 is 20\n"
     ]
    }
   ],
   "source": [
    "def average(num1,num2):\n",
    "    print(\"num1:\",num1)\n",
    "    print(\"num2:\",num2)\n",
    "    num3=eval(input(\"enter number3 :\"))\n",
    "    avg=round((num1+num2+num3)/3)\n",
    "    print(f\"average of {num1},{num2} and {num3} is {avg}\")\n",
    "average(10,20)"
   ]
  },
  {
   "cell_type": "code",
   "execution_count": 6,
   "id": "a6a06110-6390-41c7-97dd-a8b7f8f161ca",
   "metadata": {},
   "outputs": [
    {
     "ename": "TypeError",
     "evalue": "average() takes 1 positional argument but 2 were given",
     "output_type": "error",
     "traceback": [
      "\u001b[1;31m---------------------------------------------------------------------------\u001b[0m",
      "\u001b[1;31mTypeError\u001b[0m                                 Traceback (most recent call last)",
      "Cell \u001b[1;32mIn[6], line 7\u001b[0m\n\u001b[0;32m      5\u001b[0m     avg\u001b[38;5;241m=\u001b[39m\u001b[38;5;28mround\u001b[39m((num1\u001b[38;5;241m+\u001b[39mnum2\u001b[38;5;241m+\u001b[39mnum3)\u001b[38;5;241m/\u001b[39m\u001b[38;5;241m3\u001b[39m)\n\u001b[0;32m      6\u001b[0m     \u001b[38;5;28mprint\u001b[39m(\u001b[38;5;124mf\u001b[39m\u001b[38;5;124m\"\u001b[39m\u001b[38;5;124maverage of \u001b[39m\u001b[38;5;132;01m{\u001b[39;00mnum1\u001b[38;5;132;01m}\u001b[39;00m\u001b[38;5;124m,\u001b[39m\u001b[38;5;132;01m{\u001b[39;00mnum2\u001b[38;5;132;01m}\u001b[39;00m\u001b[38;5;124m and \u001b[39m\u001b[38;5;132;01m{\u001b[39;00mnum3\u001b[38;5;132;01m}\u001b[39;00m\u001b[38;5;124m is \u001b[39m\u001b[38;5;132;01m{\u001b[39;00mavg\u001b[38;5;132;01m}\u001b[39;00m\u001b[38;5;124m\"\u001b[39m)\n\u001b[1;32m----> 7\u001b[0m average(\u001b[38;5;241m10\u001b[39m,\u001b[38;5;241m20\u001b[39m)\n",
      "\u001b[1;31mTypeError\u001b[0m: average() takes 1 positional argument but 2 were given"
     ]
    }
   ],
   "source": [
    "def average(num1):\n",
    "    print(\"num1:\",num1)\n",
    "    print(\"num2:\",num2)\n",
    "    num3=eval(input(\"enter number3 :\"))\n",
    "    avg=round((num1+num2+num3)/3)\n",
    "    print(f\"average of {num1},{num2} and {num3} is {avg}\")\n",
    "average(10,20)"
   ]
  },
  {
   "cell_type": "code",
   "execution_count": 7,
   "id": "9f32bb42-1bfc-49c1-9bcd-25c1a96ee950",
   "metadata": {},
   "outputs": [
    {
     "ename": "TypeError",
     "evalue": "average() missing 1 required positional argument: 'num2'",
     "output_type": "error",
     "traceback": [
      "\u001b[1;31m---------------------------------------------------------------------------\u001b[0m",
      "\u001b[1;31mTypeError\u001b[0m                                 Traceback (most recent call last)",
      "Cell \u001b[1;32mIn[7], line 7\u001b[0m\n\u001b[0;32m      5\u001b[0m     avg\u001b[38;5;241m=\u001b[39m\u001b[38;5;28mround\u001b[39m((num1\u001b[38;5;241m+\u001b[39mnum2\u001b[38;5;241m+\u001b[39mnum3)\u001b[38;5;241m/\u001b[39m\u001b[38;5;241m3\u001b[39m)\n\u001b[0;32m      6\u001b[0m     \u001b[38;5;28mprint\u001b[39m(\u001b[38;5;124mf\u001b[39m\u001b[38;5;124m\"\u001b[39m\u001b[38;5;124maverage of \u001b[39m\u001b[38;5;132;01m{\u001b[39;00mnum1\u001b[38;5;132;01m}\u001b[39;00m\u001b[38;5;124m,\u001b[39m\u001b[38;5;132;01m{\u001b[39;00mnum2\u001b[38;5;132;01m}\u001b[39;00m\u001b[38;5;124m and \u001b[39m\u001b[38;5;132;01m{\u001b[39;00mnum3\u001b[38;5;132;01m}\u001b[39;00m\u001b[38;5;124m is \u001b[39m\u001b[38;5;132;01m{\u001b[39;00mavg\u001b[38;5;132;01m}\u001b[39;00m\u001b[38;5;124m\"\u001b[39m)\n\u001b[1;32m----> 7\u001b[0m average(\u001b[38;5;241m10\u001b[39m)\n",
      "\u001b[1;31mTypeError\u001b[0m: average() missing 1 required positional argument: 'num2'"
     ]
    }
   ],
   "source": [
    "def average(num1,num2):\n",
    "    print(\"num1:\",num1)\n",
    "    print(\"num2:\",num2)\n",
    "    num3=eval(input(\"enter number3 :\"))\n",
    "    avg=round((num1+num2+num3)/3)\n",
    "    print(f\"average of {num1},{num2} and {num3} is {avg}\")\n",
    "average(10)"
   ]
  },
  {
   "cell_type": "code",
   "execution_count": 8,
   "id": "f1751020-aa47-412c-a7df-a9176c997b39",
   "metadata": {},
   "outputs": [
    {
     "name": "stdin",
     "output_type": "stream",
     "text": [
      "enter number1 : 1\n"
     ]
    },
    {
     "name": "stdout",
     "output_type": "stream",
     "text": [
      "num1: 1\n"
     ]
    },
    {
     "name": "stdin",
     "output_type": "stream",
     "text": [
      "enter number2 : 2\n",
      "enter number3 : 3\n"
     ]
    },
    {
     "name": "stdout",
     "output_type": "stream",
     "text": [
      "average of 1,2 and 3 is 2\n"
     ]
    }
   ],
   "source": [
    "def average(num1):\n",
    "    print(\"num1:\",num1)\n",
    "    num2=eval(input(\"enter number2 :\"))\n",
    "    num3=eval(input(\"enter number3 :\"))\n",
    "    avg=round((num1+num2+num3)/3)\n",
    "    print(f\"average of {num1},{num2} and {num3} is {avg}\")\n",
    "average(eval(input(\"enter number1 :\")))"
   ]
  },
  {
   "cell_type": "markdown",
   "id": "e1f8f1f5-e60e-4d68-9459-89fa80ab21ce",
   "metadata": {},
   "source": [
    "- hard coded\n",
    "- eval(input())\n",
    "- random.randint()"
   ]
  },
  {
   "cell_type": "code",
   "execution_count": 9,
   "id": "6a0597d8-1516-4093-869a-6afa6c6ead6f",
   "metadata": {},
   "outputs": [
    {
     "name": "stdout",
     "output_type": "stream",
     "text": [
      "num1: 23\n"
     ]
    },
    {
     "name": "stdin",
     "output_type": "stream",
     "text": [
      "enter number2 : 23\n",
      "enter number3 : 23\n"
     ]
    },
    {
     "name": "stdout",
     "output_type": "stream",
     "text": [
      "average of 23,23 and 23 is 23\n"
     ]
    }
   ],
   "source": [
    "import random\n",
    "def average(num1):\n",
    "    print(\"num1:\",num1)\n",
    "    num2=eval(input(\"enter number2 :\"))\n",
    "    num3=eval(input(\"enter number3 :\"))\n",
    "    avg=round((num1+num2+num3)/3)\n",
    "    print(f\"average of {num1},{num2} and {num3} is {avg}\")\n",
    "average(random.randint(10,100))\n"
   ]
  },
  {
   "cell_type": "code",
   "execution_count": null,
   "id": "cf8f366a-e711-4b4d-aeb6-32d27fe5d726",
   "metadata": {},
   "outputs": [],
   "source": [
    "# three methods\n",
    "\n",
    "average(10)\n",
    "average(eval(input(\"enter the number1 :\")))\n",
    "average(random.randint(1,100))"
   ]
  },
  {
   "cell_type": "code",
   "execution_count": 10,
   "id": "91d37879-47d9-4391-a77c-cdb224e6a8e5",
   "metadata": {},
   "outputs": [
    {
     "name": "stdout",
     "output_type": "stream",
     "text": [
      "the total bill is 1100.0\n"
     ]
    }
   ],
   "source": [
    "# Q)Create a function ask the user enter the bill amount \n",
    " # enter the tip percentage\n",
    " # calculate total bill pay\n",
    "\n",
    "def total_bill(bill,tip_per):\n",
    "    tip_amount=tip_per*bill/100\n",
    "    total_amount=tip_amount+bill\n",
    "    print(f\"the total bill is {total_amount}\")\n",
    "total_bill(1000,10)"
   ]
  },
  {
   "cell_type": "code",
   "execution_count": 17,
   "id": "3bb35c9e-9c46-48b5-a771-d5227ddb88a8",
   "metadata": {},
   "outputs": [
    {
     "name": "stdin",
     "output_type": "stream",
     "text": [
      "enter bill : 1000\n",
      "enter tip percentage : 10\n"
     ]
    },
    {
     "name": "stdout",
     "output_type": "stream",
     "text": [
      "the total bill is 1100.0\n"
     ]
    }
   ],
   "source": [
    "def total_bill(bill,tip_per):\n",
    "    tip_amount=tip_per*bill/100\n",
    "    total_amount=tip_amount+bill\n",
    "    print(f\"the total bill is {total_amount}\")\n",
    "total_bill(eval(input(\"enter bill :\")),eval(input(\"enter tip percentage :\")))"
   ]
  },
  {
   "cell_type": "code",
   "execution_count": 18,
   "id": "76811178-4d6f-4f41-be5b-cdfc522b90b6",
   "metadata": {},
   "outputs": [
    {
     "name": "stdout",
     "output_type": "stream",
     "text": [
      "the total bill is 1250.97\n"
     ]
    }
   ],
   "source": [
    "def total_bill(bill,tip_per):\n",
    "    tip_amount=tip_per*bill/100\n",
    "    total_amount=tip_amount+bill\n",
    "    print(f\"the total bill is {total_amount}\")\n",
    "total_bill(random.randint(1000,1500),random.randint(10,11))"
   ]
  },
  {
   "cell_type": "code",
   "execution_count": 16,
   "id": "86073300-1305-41e8-83a5-3be8d5991ba2",
   "metadata": {},
   "outputs": [
    {
     "name": "stdin",
     "output_type": "stream",
     "text": [
      "enter number3 : 20\n"
     ]
    },
    {
     "name": "stdout",
     "output_type": "stream",
     "text": [
      "average of 77,20 and 20 is 39\n"
     ]
    }
   ],
   "source": [
    "\n",
    "def average(num1,num2,num3):\n",
    "    avg=round((num1+num2+num3)/3)\n",
    "    print(f\"average of {num1},{num2} and {num3} is {avg}\")\n",
    "average(random.randint(10,100),20,eval(input(\"enter number3 :\")))"
   ]
  },
  {
   "cell_type": "markdown",
   "id": "6bca287c-3f3a-4cd7-8ef2-7eecce312219",
   "metadata": {},
   "source": [
    "**Default argument**\n",
    "- Arguments values are fixed"
   ]
  },
  {
   "cell_type": "code",
   "execution_count": 21,
   "id": "2f835574-df0e-4dce-a0bc-f58783d05aa0",
   "metadata": {},
   "outputs": [
    {
     "name": "stdout",
     "output_type": "stream",
     "text": [
      "the bill is : 1000\n",
      "the tip percentage is : 20\n",
      "1200.0\n"
     ]
    }
   ],
   "source": [
    "def billing(bill,tip_per=20):\n",
    "    print(\"the bill is :\",bill)\n",
    "    print(\"the tip percentage is :\",tip_per)\n",
    "    tip_amount=(bill*tip_per)/100\n",
    "    total=bill+tip_amount\n",
    "    print(total)\n",
    "billing(1000)"
   ]
  },
  {
   "cell_type": "markdown",
   "id": "a1b5d833-44e1-4b32-b933-0c860b12546a",
   "metadata": {},
   "source": [
    "**case-1** Make all the arguments as default\n",
    "- all the arguments are default so need to pass the value while calling the function"
   ]
  },
  {
   "cell_type": "code",
   "execution_count": 23,
   "id": "86efdc25-58e9-4970-9a3e-5ce9c43b9554",
   "metadata": {},
   "outputs": [
    {
     "name": "stdout",
     "output_type": "stream",
     "text": [
      "the bill is : 1000\n",
      "the tip percentage is : 10\n",
      "1100.0\n"
     ]
    }
   ],
   "source": [
    "def billing(bill=1000,tip_per=10):\n",
    "    print(\"the bill is :\",bill)\n",
    "    print(\"the tip percentage is :\",tip_per)\n",
    "    tip_amount=(bill*tip_per)/100\n",
    "    total=bill+tip_amount\n",
    "    print(total)\n",
    "billing()"
   ]
  },
  {
   "cell_type": "markdown",
   "id": "c6b54917-7336-48e2-b351-71d222a0c93a",
   "metadata": {},
   "source": [
    "**case-2** All default arguments should assign after non default arguments"
   ]
  },
  {
   "cell_type": "code",
   "execution_count": 24,
   "id": "b2fadf9d-5f96-49c1-a538-e8f2523b4ed6",
   "metadata": {},
   "outputs": [
    {
     "name": "stdout",
     "output_type": "stream",
     "text": [
      "the bill is : 1000\n",
      "the tip percentage is : 10\n",
      "1100.0\n"
     ]
    }
   ],
   "source": [
    "def billing(tip_per,bill=1000):\n",
    "    print(\"the bill is :\",bill)\n",
    "    print(\"the tip percentage is :\",tip_per)\n",
    "    tip_amount=(bill*tip_per)/100\n",
    "    total=bill+tip_amount\n",
    "    print(total)\n",
    "billing(10)"
   ]
  },
  {
   "cell_type": "code",
   "execution_count": null,
   "id": "81136c7c-7fd8-4848-bda3-84dece58c0e1",
   "metadata": {},
   "outputs": [],
   "source": [
    "average(n1,n2,n3=10)    #c\n",
    "average(n1,n2=10,n3)    #f\n",
    "average(n1=10,n2,n3)    #f\n",
    "average(n1,n2=10,n3=10)  #c\n",
    "average(n1=10,n2,n3=10)  #f\n",
    "average(n1=10,n2=10,n3)  #f\n",
    "average(n1=10,n2=10,n3=10)  #c"
   ]
  },
  {
   "cell_type": "markdown",
   "id": "2efb4420-20d8-43e9-89ad-49272e6cc55b",
   "metadata": {},
   "source": [
    "**case-3** Default arguments values will be override"
   ]
  },
  {
   "cell_type": "code",
   "execution_count": 27,
   "id": "44a887f4-ef8c-41f5-87be-0f07d4487724",
   "metadata": {},
   "outputs": [
    {
     "name": "stdout",
     "output_type": "stream",
     "text": [
      "the bill is : 1000\n",
      "the tip percentage is : 40\n",
      "1400.0\n"
     ]
    }
   ],
   "source": [
    "def billing(bill,tip_per=20):\n",
    "    print(\"the bill is :\",bill)\n",
    "    print(\"the tip percentage is :\",tip_per)\n",
    "    tip_amount=(bill*tip_per)/100\n",
    "    total=bill+tip_amount\n",
    "    print(total)\n",
    "billing(1000,40)"
   ]
  },
  {
   "cell_type": "code",
   "execution_count": 28,
   "id": "1367d36d-5c3e-4f9d-aa91-3b157d88673a",
   "metadata": {},
   "outputs": [
    {
     "name": "stdout",
     "output_type": "stream",
     "text": [
      "the bill is : 1000\n",
      "the tip percentage is : 40\n",
      "1400.0\n"
     ]
    }
   ],
   "source": [
    "def billing(bill=1200,tip_per=20):\n",
    "    print(\"the bill is :\",bill)\n",
    "    print(\"the tip percentage is :\",tip_per)\n",
    "    tip_amount=(bill*tip_per)/100\n",
    "    total=bill+tip_amount\n",
    "    print(total)\n",
    "billing(1000,40)"
   ]
  },
  {
   "cell_type": "code",
   "execution_count": 30,
   "id": "4919464c-6ab9-4f53-92dc-4ed01ee322fb",
   "metadata": {},
   "outputs": [
    {
     "name": "stdout",
     "output_type": "stream",
     "text": [
      "the bill is : 5000\n",
      "the tip percentage is : 40\n",
      "7000.0\n"
     ]
    }
   ],
   "source": [
    "def billing(bill=1000,tip_per=20):\n",
    "    bill=5000\n",
    "    print(\"the bill is :\",bill)\n",
    "    print(\"the tip percentage is :\",tip_per)\n",
    "    tip_amount=(bill*tip_per)/100\n",
    "    total=bill+tip_amount\n",
    "    print(total)\n",
    "billing(2000,40)"
   ]
  },
  {
   "cell_type": "code",
   "execution_count": null,
   "id": "bd5f1d13-b1cc-44e1-89e2-cc90e8d470e0",
   "metadata": {},
   "outputs": [],
   "source": [
    "# step-1: define the function : 1000\n",
    "# step-2: calling the function : 2000\n",
    "# step-3: running the function : 5000"
   ]
  },
  {
   "cell_type": "code",
   "execution_count": 31,
   "id": "5836b05d-ffd9-4e1c-a515-85eaa1a8ad86",
   "metadata": {},
   "outputs": [
    {
     "name": "stdout",
     "output_type": "stream",
     "text": [
      "the bill is : 5000\n",
      "the tip percentage is : 40\n",
      "7000.0\n"
     ]
    }
   ],
   "source": [
    "def billing(bill=1000,tip_per=20):\n",
    "    bill=5000\n",
    "    print(\"the bill is :\",bill)\n",
    "    print(\"the tip percentage is :\",tip_per)\n",
    "    tip_amount=(bill*tip_per)/100\n",
    "    total=bill+tip_amount\n",
    "    print(total)\n",
    "bill=7000\n",
    "billing(2000,40)"
   ]
  },
  {
   "cell_type": "code",
   "execution_count": 32,
   "id": "b9d8f09a-794a-4d95-83de-eb089aa9691b",
   "metadata": {},
   "outputs": [
    {
     "name": "stdout",
     "output_type": "stream",
     "text": [
      "the bill is : 2000\n",
      "the tip percentage is : 40\n",
      "2800.0\n"
     ]
    }
   ],
   "source": [
    "def billing(bill=1000,tip_per=20):\n",
    "    print(\"the bill is :\",bill)\n",
    "    print(\"the tip percentage is :\",tip_per)\n",
    "    tip_amount=(bill*tip_per)/100\n",
    "    total=bill+tip_amount\n",
    "    print(total)\n",
    "bill=7000\n",
    "billing(2000,40)"
   ]
  },
  {
   "cell_type": "code",
   "execution_count": 33,
   "id": "f0507240-609f-4ba1-aef9-ae004b0b7834",
   "metadata": {},
   "outputs": [
    {
     "name": "stdout",
     "output_type": "stream",
     "text": [
      "the bill is : 2000\n",
      "the tip percentage is : 40\n",
      "2800.0\n"
     ]
    }
   ],
   "source": [
    "bill=5000\n",
    "def billing(bill=1000,tip_per=20):\n",
    "    print(\"the bill is :\",bill)\n",
    "    print(\"the tip percentage is :\",tip_per)\n",
    "    tip_amount=(bill*tip_per)/100\n",
    "    total=bill+tip_amount\n",
    "    print(total)\n",
    "bill=7000\n",
    "billing(2000,40)"
   ]
  },
  {
   "cell_type": "code",
   "execution_count": 34,
   "id": "3d491a82-e18f-46df-8514-1535c17ee25c",
   "metadata": {},
   "outputs": [
    {
     "name": "stdout",
     "output_type": "stream",
     "text": [
      "the bill is : 7000\n",
      "the tip percentage is : 40\n",
      "9800.0\n"
     ]
    }
   ],
   "source": [
    "bill=8000\n",
    "def billing(tip_per=20):\n",
    "    print(\"the bill is :\",bill)\n",
    "    print(\"the tip percentage is :\",tip_per)\n",
    "    tip_amount=(bill*tip_per)/100\n",
    "    total=bill+tip_amount\n",
    "    print(total)\n",
    "bill=7000\n",
    "billing(40)"
   ]
  },
  {
   "cell_type": "markdown",
   "id": "0a6ba978-188d-44e1-9e58-07829c49f665",
   "metadata": {},
   "source": [
    "**Global variable - Local variable**\n",
    "\n",
    "- local variable means  the variable defined inside the function\n",
    "- local variables can not access outside the function\n",
    "- Global variables means the variables define outside the function\n",
    "- global variable can access anywhere anytime"
   ]
  },
  {
   "cell_type": "code",
   "execution_count": 41,
   "id": "8458bf0c-a2e1-46f7-ba9e-83cc285e10ed",
   "metadata": {},
   "outputs": [
    {
     "name": "stdout",
     "output_type": "stream",
     "text": [
      "30\n"
     ]
    }
   ],
   "source": [
    "def addition():\n",
    "    n1=10      # Local variable\n",
    "    n2=20\n",
    "    print(n1+n2)\n",
    "addition()"
   ]
  },
  {
   "cell_type": "code",
   "execution_count": 37,
   "id": "82cda9f3-9352-491c-be53-1433827a3967",
   "metadata": {},
   "outputs": [
    {
     "ename": "NameError",
     "evalue": "name 'n1' is not defined",
     "output_type": "error",
     "traceback": [
      "\u001b[1;31m---------------------------------------------------------------------------\u001b[0m",
      "\u001b[1;31mNameError\u001b[0m                                 Traceback (most recent call last)",
      "Cell \u001b[1;32mIn[37], line 1\u001b[0m\n\u001b[1;32m----> 1\u001b[0m n1\n",
      "\u001b[1;31mNameError\u001b[0m: name 'n1' is not defined"
     ]
    }
   ],
   "source": [
    "n1"
   ]
  },
  {
   "cell_type": "code",
   "execution_count": 40,
   "id": "55c8c7f1-d2c5-4d21-88be-6f3eff470a0e",
   "metadata": {},
   "outputs": [
    {
     "name": "stdout",
     "output_type": "stream",
     "text": [
      "30\n"
     ]
    }
   ],
   "source": [
    "n1=10     # Global variable\n",
    "n2=20\n",
    "def addition():\n",
    "    print(n1+n2)\n",
    "addition()     "
   ]
  },
  {
   "cell_type": "code",
   "execution_count": 39,
   "id": "4477b818-ea3c-490d-8c78-069200250cec",
   "metadata": {},
   "outputs": [
    {
     "data": {
      "text/plain": [
       "10"
      ]
     },
     "execution_count": 39,
     "metadata": {},
     "output_type": "execute_result"
    }
   ],
   "source": [
    "n1"
   ]
  },
  {
   "cell_type": "code",
   "execution_count": 42,
   "id": "69f4dc13-e2b8-4aa7-b410-5be260e4af2a",
   "metadata": {},
   "outputs": [
    {
     "name": "stdout",
     "output_type": "stream",
     "text": [
      "number1 : 1000\n",
      "number2 : 2000\n",
      "3000\n"
     ]
    }
   ],
   "source": [
    "n1=10     # Global variable\n",
    "n2=20\n",
    "def addition():\n",
    "    print(\"number1 :\",n1)\n",
    "    print(\"number2 :\",n2)\n",
    "    print(n1+n2)\n",
    "n1=1000\n",
    "n2=2000\n",
    "addition() "
   ]
  },
  {
   "cell_type": "code",
   "execution_count": 43,
   "id": "a9a9ac2e-6bbe-4d1c-a455-f2ce493c6b2e",
   "metadata": {},
   "outputs": [
    {
     "name": "stdout",
     "output_type": "stream",
     "text": [
      "number1 : 10000\n",
      "number2 : 20000\n",
      "30000\n"
     ]
    }
   ],
   "source": [
    "n1=10     # Global variable\n",
    "n2=20\n",
    "def addition():\n",
    "    n1=10000\n",
    "    n2=20000\n",
    "    print(\"number1 :\",n1)\n",
    "    print(\"number2 :\",n2)\n",
    "    print(n1+n2)\n",
    "n1=1000\n",
    "n2=2000\n",
    "addition() "
   ]
  },
  {
   "cell_type": "markdown",
   "id": "b40e9055-0f86-41d7-8fcd-cb0deb3ce6a5",
   "metadata": {},
   "source": [
    "**Special case**\n",
    "- we want to use the local variable outside function also\n"
   ]
  },
  {
   "cell_type": "code",
   "execution_count": 45,
   "id": "73e2be7e-fd25-4b01-8581-21473ded913b",
   "metadata": {},
   "outputs": [
    {
     "name": "stdout",
     "output_type": "stream",
     "text": [
      "30\n"
     ]
    }
   ],
   "source": [
    "def addition():\n",
    "    global number_one\n",
    "    number_one=10\n",
    "    number_two=20\n",
    "    print(number_one+number_two)\n",
    "addition()"
   ]
  },
  {
   "cell_type": "code",
   "execution_count": 46,
   "id": "8c772437-cd42-4a5a-9369-aba4cddcdb84",
   "metadata": {},
   "outputs": [
    {
     "data": {
      "text/plain": [
       "10"
      ]
     },
     "execution_count": 46,
     "metadata": {},
     "output_type": "execute_result"
    }
   ],
   "source": [
    "number_one"
   ]
  },
  {
   "cell_type": "code",
   "execution_count": 47,
   "id": "c6d943f7-bed1-4cfe-aa9d-bf75e1e327ed",
   "metadata": {},
   "outputs": [
    {
     "ename": "NameError",
     "evalue": "name 'number_two' is not defined",
     "output_type": "error",
     "traceback": [
      "\u001b[1;31m---------------------------------------------------------------------------\u001b[0m",
      "\u001b[1;31mNameError\u001b[0m                                 Traceback (most recent call last)",
      "Cell \u001b[1;32mIn[47], line 1\u001b[0m\n\u001b[1;32m----> 1\u001b[0m number_two\n",
      "\u001b[1;31mNameError\u001b[0m: name 'number_two' is not defined"
     ]
    }
   ],
   "source": [
    "number_two"
   ]
  },
  {
   "cell_type": "code",
   "execution_count": 49,
   "id": "7b9d096d-bbb8-4480-94d5-b1ec3bc29b10",
   "metadata": {},
   "outputs": [
    {
     "ename": "NameError",
     "evalue": "name 'number_one1' is not defined",
     "output_type": "error",
     "traceback": [
      "\u001b[1;31m---------------------------------------------------------------------------\u001b[0m",
      "\u001b[1;31mNameError\u001b[0m                                 Traceback (most recent call last)",
      "Cell \u001b[1;32mIn[49], line 6\u001b[0m\n\u001b[0;32m      4\u001b[0m     number_two\u001b[38;5;241m=\u001b[39m\u001b[38;5;241m20\u001b[39m\n\u001b[0;32m      5\u001b[0m     \u001b[38;5;28mprint\u001b[39m(number_one1\u001b[38;5;241m+\u001b[39mnumber_two)\n\u001b[1;32m----> 6\u001b[0m \u001b[38;5;28mprint\u001b[39m(number_one1)\n\u001b[0;32m      7\u001b[0m addition()\n",
      "\u001b[1;31mNameError\u001b[0m: name 'number_one1' is not defined"
     ]
    }
   ],
   "source": [
    "def addition():\n",
    "    global number_one1\n",
    "    number_one1=10\n",
    "    number_two=20\n",
    "    print(number_one1+number_two)\n",
    "print(number_one1)\n",
    "addition()"
   ]
  },
  {
   "cell_type": "code",
   "execution_count": null,
   "id": "76c657ea-8ca6-4284-ad7b-12db96289035",
   "metadata": {},
   "outputs": [],
   "source": [
    "# i defined variable as global inside function"
   ]
  },
  {
   "cell_type": "markdown",
   "id": "1b2852e6-fcc0-480b-b330-54d4efc71ae3",
   "metadata": {},
   "source": [
    "- functions wiithout arguments\n",
    "- functions with arguments\n",
    "- functions with default arguments\n",
    "- local variable and global variable"
   ]
  },
  {
   "cell_type": "code",
   "execution_count": 4,
   "id": "0edcf780-cbe7-4753-a665-65c5b02cf11e",
   "metadata": {},
   "outputs": [
    {
     "name": "stdin",
     "output_type": "stream",
     "text": [
      "enter first number : 1\n",
      "enter second number : 2\n",
      "enter third number : 3\n"
     ]
    },
    {
     "name": "stdout",
     "output_type": "stream",
     "text": [
      "average of three numbers is 2.0\n"
     ]
    }
   ],
   "source": [
    "# functions with out arguments example\n",
    "\n",
    "def average():\n",
    "    n1=eval(input(\"enter first number :\"))\n",
    "    n2=eval(input(\"enter second number :\"))\n",
    "    n3=eval(input(\"enter third number :\"))\n",
    "    avg=(n1+n2+n3)/3\n",
    "    print(f\"average of three numbers is {avg}\")\n",
    "average()"
   ]
  },
  {
   "cell_type": "code",
   "execution_count": 5,
   "id": "84d26aad-e5ce-42a2-89b7-343cf5a4cf03",
   "metadata": {},
   "outputs": [
    {
     "name": "stdout",
     "output_type": "stream",
     "text": [
      "average of three numbers is 2.0\n"
     ]
    }
   ],
   "source": [
    "# functions with arguments\n",
    "\n",
    "def average(n1,n2,n3):\n",
    "    avg=(n1+n2+n3)/3\n",
    "    print(f\"average of three numbers is {avg}\")\n",
    "average(1,2,3)"
   ]
  },
  {
   "cell_type": "code",
   "execution_count": 6,
   "id": "68d2f809-78b3-4707-b128-19a7efd4eb7c",
   "metadata": {},
   "outputs": [
    {
     "name": "stdout",
     "output_type": "stream",
     "text": [
      "average of three numbers is 2.0\n"
     ]
    }
   ],
   "source": [
    "# functions with default arguments\n",
    "\n",
    "def average(n1=1,n2=2,n3=3):\n",
    "    avg=(n1+n2+n3)/3\n",
    "    print(f\"average of three numbers is {avg}\")\n",
    "average()"
   ]
  },
  {
   "cell_type": "code",
   "execution_count": 7,
   "id": "f7909a8c-3f44-4123-9b3c-c352f623fed1",
   "metadata": {},
   "outputs": [
    {
     "name": "stdin",
     "output_type": "stream",
     "text": [
      "enter first number : 1\n",
      "enter second number : 2\n",
      "enter third number : 3\n"
     ]
    },
    {
     "name": "stdout",
     "output_type": "stream",
     "text": [
      "average of three numbers is 2.0\n"
     ]
    }
   ],
   "source": [
    "# local variable\n",
    "\n",
    "def average():\n",
    "    n1=eval(input(\"enter first number :\"))\n",
    "    n2=eval(input(\"enter second number :\"))\n",
    "    n3=eval(input(\"enter third number :\"))\n",
    "    avg=(n1+n2+n3)/3\n",
    "    print(f\"average of three numbers is {avg}\")\n",
    "average()"
   ]
  },
  {
   "cell_type": "code",
   "execution_count": 9,
   "id": "dceec88f-ce53-4033-adc0-9b4ac37c8b91",
   "metadata": {},
   "outputs": [
    {
     "name": "stdin",
     "output_type": "stream",
     "text": [
      "enter first number : 1\n",
      "enter second number : 2\n",
      "enter third number : 3\n"
     ]
    },
    {
     "name": "stdout",
     "output_type": "stream",
     "text": [
      "average of three numbers is 2.0\n"
     ]
    }
   ],
   "source": [
    "# global variable\n",
    "\n",
    "n1=eval(input(\"enter first number :\"))\n",
    "n2=eval(input(\"enter second number :\"))\n",
    "n3=eval(input(\"enter third number :\"))\n",
    "def average():\n",
    "    avg=(n1+n2+n3)/3\n",
    "    print(f\"average of three numbers is {avg}\")\n",
    "average()"
   ]
  },
  {
   "cell_type": "code",
   "execution_count": 10,
   "id": "02d49833-7f8b-4a27-985d-53561f208443",
   "metadata": {},
   "outputs": [
    {
     "data": {
      "text/plain": [
       "1"
      ]
     },
     "execution_count": 10,
     "metadata": {},
     "output_type": "execute_result"
    }
   ],
   "source": [
    "n1"
   ]
  },
  {
   "cell_type": "code",
   "execution_count": 11,
   "id": "8eeeb7ad-dca6-430a-9fb3-212bdde5c819",
   "metadata": {},
   "outputs": [
    {
     "ename": "NameError",
     "evalue": "name 'a' is not defined",
     "output_type": "error",
     "traceback": [
      "\u001b[1;31m---------------------------------------------------------------------------\u001b[0m",
      "\u001b[1;31mNameError\u001b[0m                                 Traceback (most recent call last)",
      "Cell \u001b[1;32mIn[11], line 3\u001b[0m\n\u001b[0;32m      1\u001b[0m \u001b[38;5;28;01mdef\u001b[39;00m \u001b[38;5;21madd\u001b[39m():\n\u001b[0;32m      2\u001b[0m     \u001b[38;5;28mprint\u001b[39m(a\u001b[38;5;241m+\u001b[39mb)\n\u001b[1;32m----> 3\u001b[0m add()\n\u001b[0;32m      4\u001b[0m a\u001b[38;5;241m=\u001b[39m\u001b[38;5;241m10\u001b[39m\n\u001b[0;32m      5\u001b[0m b\u001b[38;5;241m=\u001b[39m\u001b[38;5;241m20\u001b[39m\n",
      "Cell \u001b[1;32mIn[11], line 2\u001b[0m, in \u001b[0;36madd\u001b[1;34m()\u001b[0m\n\u001b[0;32m      1\u001b[0m \u001b[38;5;28;01mdef\u001b[39;00m \u001b[38;5;21madd\u001b[39m():\n\u001b[1;32m----> 2\u001b[0m     \u001b[38;5;28mprint\u001b[39m(a\u001b[38;5;241m+\u001b[39mb)\n",
      "\u001b[1;31mNameError\u001b[0m: name 'a' is not defined"
     ]
    }
   ],
   "source": [
    "def add():\n",
    "    print(a+b)\n",
    "add()\n",
    "a=10\n",
    "b=20"
   ]
  },
  {
   "cell_type": "code",
   "execution_count": 12,
   "id": "b4e299a6-48cd-4736-aaaa-8d28199c4b40",
   "metadata": {},
   "outputs": [
    {
     "name": "stdout",
     "output_type": "stream",
     "text": [
      "30\n"
     ]
    }
   ],
   "source": [
    "def add():\n",
    "    print(a+b)\n",
    "a=10\n",
    "b=20\n",
    "add()"
   ]
  },
  {
   "cell_type": "code",
   "execution_count": 18,
   "id": "ad558b45-1745-41d4-bc42-e59cb100e188",
   "metadata": {},
   "outputs": [
    {
     "ename": "NameError",
     "evalue": "name 'a1' is not defined",
     "output_type": "error",
     "traceback": [
      "\u001b[1;31m---------------------------------------------------------------------------\u001b[0m",
      "\u001b[1;31mNameError\u001b[0m                                 Traceback (most recent call last)",
      "Cell \u001b[1;32mIn[18], line 3\u001b[0m\n\u001b[0;32m      1\u001b[0m \u001b[38;5;28;01mdef\u001b[39;00m \u001b[38;5;21madd\u001b[39m():\n\u001b[0;32m      2\u001b[0m     \u001b[38;5;28mprint\u001b[39m(a1\u001b[38;5;241m+\u001b[39mb1)\n\u001b[1;32m----> 3\u001b[0m add()\n\u001b[0;32m      4\u001b[0m a1\u001b[38;5;241m=\u001b[39m\u001b[38;5;241m10\u001b[39m\n\u001b[0;32m      5\u001b[0m b1\u001b[38;5;241m=\u001b[39m\u001b[38;5;241m20\u001b[39m\n",
      "Cell \u001b[1;32mIn[18], line 2\u001b[0m, in \u001b[0;36madd\u001b[1;34m()\u001b[0m\n\u001b[0;32m      1\u001b[0m \u001b[38;5;28;01mdef\u001b[39;00m \u001b[38;5;21madd\u001b[39m():\n\u001b[1;32m----> 2\u001b[0m     \u001b[38;5;28mprint\u001b[39m(a1\u001b[38;5;241m+\u001b[39mb1)\n",
      "\u001b[1;31mNameError\u001b[0m: name 'a1' is not defined"
     ]
    }
   ],
   "source": [
    "def add():\n",
    "    print(a1+b1)\n",
    "add()\n",
    "a1=10\n",
    "b1=20"
   ]
  },
  {
   "cell_type": "code",
   "execution_count": 14,
   "id": "eea8a7d0-d0df-4caa-871a-a0d98a8e5a36",
   "metadata": {},
   "outputs": [
    {
     "name": "stdout",
     "output_type": "stream",
     "text": [
      "30\n"
     ]
    }
   ],
   "source": [
    "a=10\n",
    "b=20\n",
    "def add():\n",
    "    print(a+b)\n",
    "add()"
   ]
  },
  {
   "cell_type": "code",
   "execution_count": 17,
   "id": "52e6d7ad-6e06-4abb-94c6-e6fa4fc3d5f1",
   "metadata": {},
   "outputs": [
    {
     "ename": "UnboundLocalError",
     "evalue": "cannot access local variable 'a' where it is not associated with a value",
     "output_type": "error",
     "traceback": [
      "\u001b[1;31m---------------------------------------------------------------------------\u001b[0m",
      "\u001b[1;31mUnboundLocalError\u001b[0m                         Traceback (most recent call last)",
      "Cell \u001b[1;32mIn[17], line 5\u001b[0m\n\u001b[0;32m      3\u001b[0m     a\u001b[38;5;241m=\u001b[39m\u001b[38;5;241m10\u001b[39m\n\u001b[0;32m      4\u001b[0m     b\u001b[38;5;241m=\u001b[39m\u001b[38;5;241m20\u001b[39m\n\u001b[1;32m----> 5\u001b[0m add()\n",
      "Cell \u001b[1;32mIn[17], line 2\u001b[0m, in \u001b[0;36madd\u001b[1;34m()\u001b[0m\n\u001b[0;32m      1\u001b[0m \u001b[38;5;28;01mdef\u001b[39;00m \u001b[38;5;21madd\u001b[39m():\n\u001b[1;32m----> 2\u001b[0m     \u001b[38;5;28mprint\u001b[39m(a\u001b[38;5;241m+\u001b[39mb)\n\u001b[0;32m      3\u001b[0m     a\u001b[38;5;241m=\u001b[39m\u001b[38;5;241m10\u001b[39m\n\u001b[0;32m      4\u001b[0m     b\u001b[38;5;241m=\u001b[39m\u001b[38;5;241m20\u001b[39m\n",
      "\u001b[1;31mUnboundLocalError\u001b[0m: cannot access local variable 'a' where it is not associated with a value"
     ]
    }
   ],
   "source": [
    "def add():\n",
    "    print(a+b)\n",
    "    a=10\n",
    "    b=20\n",
    "add()"
   ]
  },
  {
   "cell_type": "code",
   "execution_count": 19,
   "id": "dc60aaa2-baf9-4021-8f7d-9e7348abc85b",
   "metadata": {},
   "outputs": [
    {
     "name": "stdout",
     "output_type": "stream",
     "text": [
      "20\n"
     ]
    }
   ],
   "source": [
    "s=10\n",
    "def add1():\n",
    "    s=20\n",
    "    print(s)\n",
    "add1()"
   ]
  },
  {
   "cell_type": "code",
   "execution_count": 20,
   "id": "37dad26a-077f-4b21-bbb3-ef0a22c16bed",
   "metadata": {},
   "outputs": [
    {
     "data": {
      "text/plain": [
       "10"
      ]
     },
     "execution_count": 20,
     "metadata": {},
     "output_type": "execute_result"
    }
   ],
   "source": [
    "s"
   ]
  },
  {
   "cell_type": "code",
   "execution_count": 22,
   "id": "6f407815-553b-430c-b85a-5c2b55f2b0f8",
   "metadata": {},
   "outputs": [
    {
     "name": "stdout",
     "output_type": "stream",
     "text": [
      "20\n"
     ]
    }
   ],
   "source": [
    "s=10\n",
    "def add1():\n",
    "    global s\n",
    "    s=20\n",
    "    print(s)\n",
    "add1()"
   ]
  },
  {
   "cell_type": "code",
   "execution_count": 23,
   "id": "5e4ab416-f6cd-4769-be53-b6574f7cd657",
   "metadata": {},
   "outputs": [
    {
     "data": {
      "text/plain": [
       "20"
      ]
     },
     "execution_count": 23,
     "metadata": {},
     "output_type": "execute_result"
    }
   ],
   "source": [
    "s"
   ]
  },
  {
   "cell_type": "markdown",
   "id": "9c72dbf5-737a-499b-b9f0-73f24c983650",
   "metadata": {},
   "source": [
    "**use the local variable outside function without using global keyword**\n",
    "- we already know that local variables can't use outside the function directly\n",
    "- if we want to use local variable outside the function we want to use global keyword\n",
    "- we can also use local variables without using global keyword\n",
    "- that concept is called return"
   ]
  },
  {
   "cell_type": "code",
   "execution_count": 24,
   "id": "60275764-bce2-4bf3-8be3-5575744ad6aa",
   "metadata": {},
   "outputs": [
    {
     "name": "stdout",
     "output_type": "stream",
     "text": [
      "10\n"
     ]
    }
   ],
   "source": [
    "def add1():\n",
    "    num1=10\n",
    "    num2=20\n",
    "    sum=num1+num2\n",
    "    return(num1)\n",
    "num1=add1()\n",
    "print(num1)"
   ]
  },
  {
   "cell_type": "code",
   "execution_count": 36,
   "id": "a4f9afd4-3a64-40c2-bc44-ca4dbdaf98e3",
   "metadata": {},
   "outputs": [
    {
     "ename": "NameError",
     "evalue": "name 'num12' is not defined",
     "output_type": "error",
     "traceback": [
      "\u001b[1;31m---------------------------------------------------------------------------\u001b[0m",
      "\u001b[1;31mNameError\u001b[0m                                 Traceback (most recent call last)",
      "Cell \u001b[1;32mIn[36], line 7\u001b[0m\n\u001b[0;32m      5\u001b[0m     \u001b[38;5;28;01mreturn\u001b[39;00m(num12)\n\u001b[0;32m      6\u001b[0m \u001b[38;5;28msum\u001b[39m\u001b[38;5;241m=\u001b[39madd1()\n\u001b[1;32m----> 7\u001b[0m \u001b[38;5;28mprint\u001b[39m(num12)\n",
      "\u001b[1;31mNameError\u001b[0m: name 'num12' is not defined"
     ]
    }
   ],
   "source": [
    "def add1():\n",
    "    num12=10\n",
    "    num2=20\n",
    "    sum=num12+num2\n",
    "    return(num12)\n",
    "sum=add1()\n",
    "print(num12)"
   ]
  },
  {
   "cell_type": "code",
   "execution_count": 26,
   "id": "aff36eb4-5a78-44ae-a224-08d6fb7f6c89",
   "metadata": {},
   "outputs": [
    {
     "name": "stdout",
     "output_type": "stream",
     "text": [
      "30\n"
     ]
    }
   ],
   "source": [
    "def add1():\n",
    "    num1=10\n",
    "    num2=20\n",
    "    sum=num1+num2\n",
    "    return(sum)\n",
    "num1=add1()\n",
    "print(num1)"
   ]
  },
  {
   "cell_type": "code",
   "execution_count": 28,
   "id": "bbe12429-1d52-451a-9495-df0808dfaa1e",
   "metadata": {},
   "outputs": [
    {
     "ename": "NameError",
     "evalue": "name 'sum1' is not defined",
     "output_type": "error",
     "traceback": [
      "\u001b[1;31m---------------------------------------------------------------------------\u001b[0m",
      "\u001b[1;31mNameError\u001b[0m                                 Traceback (most recent call last)",
      "Cell \u001b[1;32mIn[28], line 7\u001b[0m\n\u001b[0;32m      5\u001b[0m     \u001b[38;5;28;01mreturn\u001b[39;00m(num1)\n\u001b[0;32m      6\u001b[0m num1\u001b[38;5;241m=\u001b[39madd1()\n\u001b[1;32m----> 7\u001b[0m \u001b[38;5;28mprint\u001b[39m(sum1)\n",
      "\u001b[1;31mNameError\u001b[0m: name 'sum1' is not defined"
     ]
    }
   ],
   "source": [
    "def add1():\n",
    "    num1=10\n",
    "    num2=20\n",
    "    sum1=num1+num2\n",
    "    return(num1)\n",
    "num1=add1()\n",
    "print(sum1)"
   ]
  },
  {
   "cell_type": "code",
   "execution_count": 29,
   "id": "6cdb9976-61fa-47fc-9d3f-210a2d51b095",
   "metadata": {},
   "outputs": [
    {
     "name": "stdout",
     "output_type": "stream",
     "text": [
      "30\n"
     ]
    }
   ],
   "source": [
    "def add1():\n",
    "    num1=10\n",
    "    num2=20\n",
    "    sum=num1+num2\n",
    "    return(sum)\n",
    "sum=add1()\n",
    "print(sum)"
   ]
  },
  {
   "cell_type": "code",
   "execution_count": 30,
   "id": "eaa5a2a0-3f64-4e2e-b2ea-ccc19e6a77a8",
   "metadata": {},
   "outputs": [
    {
     "name": "stdout",
     "output_type": "stream",
     "text": [
      "30\n",
      "10\n"
     ]
    }
   ],
   "source": [
    "def add1():\n",
    "    num1=10\n",
    "    num2=20\n",
    "    sum=num1+num2\n",
    "    return(sum,num1)\n",
    "sum,num1=add1()\n",
    "print(sum)\n",
    "print(num1)"
   ]
  },
  {
   "cell_type": "code",
   "execution_count": 31,
   "id": "1537f282-fde6-488a-8f12-631849b69fd1",
   "metadata": {},
   "outputs": [
    {
     "name": "stdout",
     "output_type": "stream",
     "text": [
      "30\n",
      "10\n",
      "20\n"
     ]
    }
   ],
   "source": [
    "def add1():\n",
    "    num1=10\n",
    "    num2=20\n",
    "    sum=num1+num2\n",
    "    return(sum,num1,num2)\n",
    "sum,num1,num2=add1()\n",
    "print(sum)\n",
    "print(num1)\n",
    "print(num2)"
   ]
  },
  {
   "cell_type": "code",
   "execution_count": 32,
   "id": "af125ff0-0561-45a0-81dd-eb9ec4f8a8ce",
   "metadata": {},
   "outputs": [
    {
     "name": "stdout",
     "output_type": "stream",
     "text": [
      "10\n",
      "30\n"
     ]
    }
   ],
   "source": [
    "def add1():\n",
    "    num1=10\n",
    "    num2=20\n",
    "    sum=num1+num2\n",
    "    return(sum,num1)\n",
    "num1,sum=add1()\n",
    "print(sum)\n",
    "print(num1)"
   ]
  },
  {
   "cell_type": "code",
   "execution_count": 35,
   "id": "2eff3919-2aff-4463-9361-2765f741e6e6",
   "metadata": {},
   "outputs": [
    {
     "name": "stdout",
     "output_type": "stream",
     "text": [
      "30 10\n",
      "None\n"
     ]
    },
    {
     "ename": "NameError",
     "evalue": "name 'num11' is not defined",
     "output_type": "error",
     "traceback": [
      "\u001b[1;31m---------------------------------------------------------------------------\u001b[0m",
      "\u001b[1;31mNameError\u001b[0m                                 Traceback (most recent call last)",
      "Cell \u001b[1;32mIn[35], line 8\u001b[0m\n\u001b[0;32m      6\u001b[0m \u001b[38;5;28msum\u001b[39m\u001b[38;5;241m=\u001b[39madd1()\n\u001b[0;32m      7\u001b[0m \u001b[38;5;28mprint\u001b[39m(\u001b[38;5;28msum\u001b[39m)\n\u001b[1;32m----> 8\u001b[0m \u001b[38;5;28mprint\u001b[39m(num11)\n",
      "\u001b[1;31mNameError\u001b[0m: name 'num11' is not defined"
     ]
    }
   ],
   "source": [
    "def add1():\n",
    "    num11=10\n",
    "    num2=20\n",
    "    sum=num11+num2\n",
    "    print(sum,num11)\n",
    "sum=add1()\n",
    "print(sum)\n",
    "print(num11)"
   ]
  },
  {
   "cell_type": "markdown",
   "id": "a377f9a6-a3ec-44c1-ac54-88e149833080",
   "metadata": {},
   "source": [
    "**Function in Functions**"
   ]
  },
  {
   "cell_type": "code",
   "execution_count": 3,
   "id": "7e076b46-c3ac-4b9b-86c9-4df388e1d3a6",
   "metadata": {},
   "outputs": [
    {
     "name": "stdout",
     "output_type": "stream",
     "text": [
      "===calling greet1 function===\n",
      "good morning\n",
      "===calling greet2 function===\n",
      "good night\n"
     ]
    }
   ],
   "source": [
    "def greet1():\n",
    "    print(\"===calling greet1 function===\")\n",
    "    print(\"good morning\")\n",
    "def greet2():\n",
    "    print(\"===calling greet2 function===\")\n",
    "    print(\"good night\")\n",
    "greet1()\n",
    "greet2()"
   ]
  },
  {
   "cell_type": "code",
   "execution_count": 5,
   "id": "4815ec72-ea6c-4d33-ba4b-91fc014c45de",
   "metadata": {},
   "outputs": [
    {
     "name": "stdout",
     "output_type": "stream",
     "text": [
      "===calling greet1 function===\n",
      "===calling greet2 function===\n",
      "good night\n",
      "good morning\n"
     ]
    }
   ],
   "source": [
    "def greet1():\n",
    "    print(\"===calling greet1 function===\")\n",
    "    greet2()\n",
    "    print(\"good morning\")\n",
    "def greet2():\n",
    "    print(\"===calling greet2 function===\")\n",
    "    print(\"good night\")\n",
    "greet1()\n",
    "\n",
    "# step-1: calling greet1 function\n",
    "# step-2: calling greet2 function\n",
    "# step-3: good night\n",
    "# step-4: goood morning"
   ]
  },
  {
   "cell_type": "code",
   "execution_count": 7,
   "id": "ccdb4460-31f1-4ec3-95e5-96df5f3b757d",
   "metadata": {},
   "outputs": [
    {
     "name": "stdout",
     "output_type": "stream",
     "text": [
      "===calling greet2 function===\n",
      "===calling greet1 function===\n",
      "good morning\n",
      "good night\n"
     ]
    }
   ],
   "source": [
    "def greet1():\n",
    "    print(\"===calling greet1 function===\")\n",
    "    print(\"good morning\")\n",
    "def greet2():\n",
    "    print(\"===calling greet2 function===\")\n",
    "    greet1()\n",
    "    print(\"good night\")\n",
    "greet2()\n",
    "\n",
    "# step-1: calling greet2 function\n",
    "# step-2: calling greet1 function\n",
    "# step-3: goood morning\n",
    "# step-4: good night"
   ]
  },
  {
   "cell_type": "code",
   "execution_count": null,
   "id": "28bce918-a80a-4000-818b-4353d4d64790",
   "metadata": {},
   "outputs": [],
   "source": [
    "def greet1():\n",
    "    print(\"hello\")\n",
    "    greet1()\n",
    "greet1()     # infinite loop because theere is no break statement "
   ]
  },
  {
   "cell_type": "code",
   "execution_count": null,
   "id": "a39311a6-b574-4e7b-beba-21a5ae7fe0e0",
   "metadata": {},
   "outputs": [],
   "source": [
    "# Method- : Local variables\n",
    "\n",
    "def add():\n",
    "    a=10\n",
    "    b=20\n",
    "    print(a+b)\n",
    "def sub():\n",
    "    a=10\n",
    "    b=20\n",
    "    print(a-b)\n",
    "def math_operations():\n",
    "    add()\n",
    "    sub()\n",
    "math_operations()"
   ]
  },
  {
   "cell_type": "code",
   "execution_count": 17,
   "id": "052b8931-00da-4139-a395-6a58a4387a37",
   "metadata": {},
   "outputs": [
    {
     "name": "stdout",
     "output_type": "stream",
     "text": [
      "30\n",
      "-10\n"
     ]
    }
   ],
   "source": [
    "# Method-2 : Global variables\n",
    "\n",
    "a=10\n",
    "b=20\n",
    "def add():\n",
    "    print(a+b)\n",
    "def sub():\n",
    "    print(a-b)\n",
    "def math_operations():\n",
    "    add()\n",
    "    sub()\n",
    "math_operations()"
   ]
  },
  {
   "cell_type": "code",
   "execution_count": 22,
   "id": "c2d78d58-e0c1-4ecb-aa68-fefcf5a6ec8d",
   "metadata": {},
   "outputs": [
    {
     "name": "stdout",
     "output_type": "stream",
     "text": [
      "30\n",
      "-10\n"
     ]
    }
   ],
   "source": [
    "# Method-3 : with arguments\n",
    "\n",
    "def add(a1,b1):\n",
    "    print(a1+b1)\n",
    "def sub(a1,b1):\n",
    "    print(a1-b1)\n",
    "def math_operations(a1,b1):\n",
    "    add(a1,b1)\n",
    "    sub(a1,b1)\n",
    "math_operations(10,20)"
   ]
  },
  {
   "cell_type": "code",
   "execution_count": 23,
   "id": "439e6f48-c31d-475b-9460-6e61c2f94155",
   "metadata": {},
   "outputs": [
    {
     "name": "stdout",
     "output_type": "stream",
     "text": [
      "30\n"
     ]
    },
    {
     "ename": "NameError",
     "evalue": "name 'a2' is not defined",
     "output_type": "error",
     "traceback": [
      "\u001b[1;31m---------------------------------------------------------------------------\u001b[0m",
      "\u001b[1;31mNameError\u001b[0m                                 Traceback (most recent call last)",
      "Cell \u001b[1;32mIn[23], line 8\u001b[0m\n\u001b[0;32m      6\u001b[0m     add(a1,b1)\n\u001b[0;32m      7\u001b[0m     sub(a2,b2)\n\u001b[1;32m----> 8\u001b[0m math_operations(\u001b[38;5;241m10\u001b[39m,\u001b[38;5;241m20\u001b[39m)\n",
      "Cell \u001b[1;32mIn[23], line 7\u001b[0m, in \u001b[0;36mmath_operations\u001b[1;34m(a3, b3)\u001b[0m\n\u001b[0;32m      5\u001b[0m \u001b[38;5;28;01mdef\u001b[39;00m \u001b[38;5;21mmath_operations\u001b[39m(a3,b3):\n\u001b[0;32m      6\u001b[0m     add(a1,b1)\n\u001b[1;32m----> 7\u001b[0m     sub(a2,b2)\n",
      "\u001b[1;31mNameError\u001b[0m: name 'a2' is not defined"
     ]
    }
   ],
   "source": [
    "def add(a1,b1):\n",
    "    print(a1+b1)\n",
    "def sub(a2,b2):\n",
    "    print(a2-b2)\n",
    "def math_operations(a3,b3):\n",
    "    add(a1,b1)\n",
    "    sub(a2,b2)\n",
    "math_operations(10,20)"
   ]
  },
  {
   "cell_type": "code",
   "execution_count": 30,
   "id": "9210cc05-e312-44a4-a74b-9e1137f58349",
   "metadata": {},
   "outputs": [
    {
     "name": "stdin",
     "output_type": "stream",
     "text": [
      "enter first number : 2\n",
      "enter second number : 4\n"
     ]
    },
    {
     "name": "stdout",
     "output_type": "stream",
     "text": [
      "enter the operation 1 for addition\n",
      "enter the operation 2 for subtraction\n",
      "enter the operation 3 for multiplication\n",
      "enter the operation 4 for division\n"
     ]
    },
    {
     "name": "stdin",
     "output_type": "stream",
     "text": [
      "enter the operation : 2\n"
     ]
    },
    {
     "name": "stdout",
     "output_type": "stream",
     "text": [
      "-2\n"
     ]
    }
   ],
   "source": [
    "# calculate program you need to create 4 functions \n",
    "# add function\n",
    "# sub function \n",
    "# mul function\n",
    "# div function\n",
    "\n",
    "# you need to convey to the user\n",
    "# operation=1 then perform addition operation\n",
    "# operation=2 then perform subtraction operation\n",
    "# operation=3 then perform multiplication operation\n",
    "# operation=4 then perform division operation\n",
    "\n",
    "# entire if-elif-else you need to keep in big function\n",
    "# math operations\n",
    "# ask the user enter the operation\n",
    "# if operation==1: call the addition funtion\n",
    "# if operation==2: call the subtraction function\n",
    "# if operation==3: call the multiplication function\n",
    "# if operation==4: call the division operation\n",
    "\n",
    "# entire if-elif-else you need to keep in big function\n",
    "# math operations\n",
    "\n",
    "\n",
    "num1=eval(input(\"enter first number :\"))\n",
    "num2=eval(input('enter second number :'))\n",
    "def add():\n",
    "    add=num1+num2\n",
    "    print(add)\n",
    "def sub():\n",
    "    sub=num1-num2\n",
    "    print(sub)\n",
    "def mul():\n",
    "    mul=num1*num2\n",
    "    print(mul)\n",
    "def div():\n",
    "    div=num1/num2\n",
    "    print(div)\n",
    "\n",
    "def calculator():\n",
    "    print(\"enter the operation 1 for addition\")\n",
    "    print(\"enter the operation 2 for subtraction\")\n",
    "    print(\"enter the operation 3 for multiplication\")\n",
    "    print(\"enter the operation 4 for division\")\n",
    "    operation=eval(input(\"enter the operation :\"))\n",
    "    if operation==1:\n",
    "        add()\n",
    "    elif operation==2:\n",
    "        sub()\n",
    "    elif operation==3:\n",
    "        mul()\n",
    "    else:\n",
    "        div()\n",
    "calculator()"
   ]
  },
  {
   "cell_type": "code",
   "execution_count": 31,
   "id": "d0154e15-977d-44cf-b5b1-d70666d42174",
   "metadata": {},
   "outputs": [
    {
     "name": "stdout",
     "output_type": "stream",
     "text": [
      "enter the operation 1 for addition\n",
      "enter the operation 2 for subtraction\n",
      "enter the operation 3 for multiplication\n",
      "enter the operation 4 for division\n"
     ]
    },
    {
     "name": "stdin",
     "output_type": "stream",
     "text": [
      "enter the operation : 2\n"
     ]
    },
    {
     "name": "stdout",
     "output_type": "stream",
     "text": [
      "-3\n"
     ]
    }
   ],
   "source": [
    "def add(num1,num2):\n",
    "    add=num1+num2\n",
    "    print(add)\n",
    "def sub(num1,num2):\n",
    "    sub=num1-num2\n",
    "    print(sub)\n",
    "def mul(num1,num2):\n",
    "    mul=num1*num2\n",
    "    print(mul)\n",
    "def div(num1,num2):\n",
    "    div=num1/num2\n",
    "    print(div)\n",
    "def calculator():\n",
    "    print(\"enter the operation 1 for addition\")\n",
    "    print(\"enter the operation 2 for subtraction\")\n",
    "    print(\"enter the operation 3 for multiplication\")\n",
    "    print(\"enter the operation 4 for division\")\n",
    "    operation=eval(input(\"enter the operation :\"))\n",
    "    if operation==1:\n",
    "        add(2,4)\n",
    "    elif operation==2:\n",
    "        sub(3,6)\n",
    "    elif operation==3:\n",
    "        mul(4,8)\n",
    "    else:\n",
    "        div(5,10)\n",
    "calculator()"
   ]
  },
  {
   "cell_type": "code",
   "execution_count": null,
   "id": "925ca267-e663-443c-92d1-3c8cdfe8fd19",
   "metadata": {},
   "outputs": [],
   "source": []
  }
 ],
 "metadata": {
  "kernelspec": {
   "display_name": "Python 3 (ipykernel)",
   "language": "python",
   "name": "python3"
  },
  "language_info": {
   "codemirror_mode": {
    "name": "ipython",
    "version": 3
   },
   "file_extension": ".py",
   "mimetype": "text/x-python",
   "name": "python",
   "nbconvert_exporter": "python",
   "pygments_lexer": "ipython3",
   "version": "3.11.7"
  }
 },
 "nbformat": 4,
 "nbformat_minor": 5
}
