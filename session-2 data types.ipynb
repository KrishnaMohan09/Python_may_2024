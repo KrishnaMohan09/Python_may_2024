{
 "cells": [
  {
   "cell_type": "markdown",
   "id": "642e8440-5ab7-4e12-9c82-b6bc90d26ddb",
   "metadata": {},
   "source": [
    "- integer\n",
    "\n",
    "- float\n",
    "\n",
    "- string\n",
    "\n",
    "- Boolean\n",
    "\n",
    "- complex\n",
    "\n",
    "- list\n",
    "\n",
    "- tuple\n",
    "\n",
    "- dictionary\n",
    "\n",
    "- set"
   ]
  },
  {
   "cell_type": "markdown",
   "id": "6ce66744-b26e-4a77-89dc-cd343fbd3e61",
   "metadata": {},
   "source": [
    "# Python basic concepts- Part1\n",
    "\n",
    "- Variables\n",
    "\n",
    "- Data types\n",
    "\n",
    "- Data types conversion (type casting)\n",
    "\n",
    "- print statements\n",
    "\n",
    "- overview about packages\n",
    "\n",
    "- Write your first end to end program\n",
    "\n",
    "- Conditions (if-else)\n",
    "\n",
    "- Functions \n",
    "\n",
    "- loops (for-while)\n",
    "\n",
    "\n",
    "# Python part-2\n",
    "\n",
    "- strings \n",
    "\n",
    "- list\n",
    "\n",
    "- dictionary\n",
    "\n",
    "- tuple (assesment)\n",
    "\n",
    "- sets\n",
    "\n",
    "- file handling\n",
    "\n",
    "- lambda functions\n",
    "\n",
    "\n",
    "# Python part-3: OOPS concepts\n",
    "\n",
    "\n",
    "\n"
   ]
  },
  {
   "cell_type": "markdown",
   "id": "8a97699d-1d52-42c4-9347-6317ffc94bdf",
   "metadata": {},
   "source": [
    "**Integer**\n",
    "\n",
    "- In real time we will use decimal number system\n",
    "\n",
    "- what ever the input but python will give output in\n",
    "  decimal number format\n",
    "  \n",
    "- binary \n",
    "\n",
    "  - binary includes only 0 and 1\n",
    "\n",
    "  - bi means =2\n",
    "\n",
    "  - representation is  :  0b111, 0B101\n",
    "\n",
    "  - wrong representation is :  0b123\n",
    "\n"
   ]
  },
  {
   "cell_type": "code",
   "execution_count": 1,
   "id": "00cc8f9b-759e-45b1-ab8f-58571b5b066c",
   "metadata": {},
   "outputs": [
    {
     "data": {
      "text/plain": [
       "int"
      ]
     },
     "execution_count": 1,
     "metadata": {},
     "output_type": "execute_result"
    }
   ],
   "source": [
    "num=1112\n",
    "type(num)"
   ]
  },
  {
   "cell_type": "code",
   "execution_count": 2,
   "id": "98ac109b-df06-4e70-a6a8-88496b1e7acc",
   "metadata": {},
   "outputs": [
    {
     "ename": "SyntaxError",
     "evalue": "invalid digit '2' in binary literal (791653735.py, line 1)",
     "output_type": "error",
     "traceback": [
      "\u001b[1;36m  Cell \u001b[1;32mIn[2], line 1\u001b[1;36m\u001b[0m\n\u001b[1;33m    num=0b1112\u001b[0m\n\u001b[1;37m             ^\u001b[0m\n\u001b[1;31mSyntaxError\u001b[0m\u001b[1;31m:\u001b[0m invalid digit '2' in binary literal\n"
     ]
    }
   ],
   "source": [
    "num=0b1112\n",
    "type(num)"
   ]
  },
  {
   "cell_type": "code",
   "execution_count": 3,
   "id": "8a88f980-56be-4cc5-a317-8c368b011716",
   "metadata": {},
   "outputs": [
    {
     "data": {
      "text/plain": [
       "3"
      ]
     },
     "execution_count": 3,
     "metadata": {},
     "output_type": "execute_result"
    }
   ],
   "source": [
    "0b11"
   ]
  },
  {
   "cell_type": "code",
   "execution_count": 4,
   "id": "ef24a2a4-5137-479b-8feb-6d51d8ddf987",
   "metadata": {},
   "outputs": [
    {
     "data": {
      "text/plain": [
       "7"
      ]
     },
     "execution_count": 4,
     "metadata": {},
     "output_type": "execute_result"
    }
   ],
   "source": [
    "0B111"
   ]
  },
  {
   "cell_type": "code",
   "execution_count": 4,
   "id": "1933bfaf-aa95-4111-89ed-d31e75be9869",
   "metadata": {},
   "outputs": [
    {
     "ename": "SyntaxError",
     "evalue": "invalid digit '9' in octal literal (1555835526.py, line 1)",
     "output_type": "error",
     "traceback": [
      "\u001b[1;36m  Cell \u001b[1;32mIn[4], line 1\u001b[1;36m\u001b[0m\n\u001b[1;33m    0o12349\u001b[0m\n\u001b[1;37m          ^\u001b[0m\n\u001b[1;31mSyntaxError\u001b[0m\u001b[1;31m:\u001b[0m invalid digit '9' in octal literal\n"
     ]
    }
   ],
   "source": [
    "0o12349"
   ]
  },
  {
   "cell_type": "code",
   "execution_count": 6,
   "id": "0dfd1f3d-75c8-440b-83a8-f60e622dd2ac",
   "metadata": {},
   "outputs": [
    {
     "data": {
      "text/plain": [
       "668"
      ]
     },
     "execution_count": 6,
     "metadata": {},
     "output_type": "execute_result"
    }
   ],
   "source": [
    "0O1234"
   ]
  },
  {
   "cell_type": "code",
   "execution_count": 7,
   "id": "e6f0b290-15dc-40b3-b7b8-9303fc769be0",
   "metadata": {},
   "outputs": [
    {
     "data": {
      "text/plain": [
       "163"
      ]
     },
     "execution_count": 7,
     "metadata": {},
     "output_type": "execute_result"
    }
   ],
   "source": [
    "0xa3"
   ]
  },
  {
   "cell_type": "code",
   "execution_count": 8,
   "id": "178f29f7-6080-4cfc-b2f7-997d82f3f291",
   "metadata": {},
   "outputs": [
    {
     "data": {
      "text/plain": [
       "float"
      ]
     },
     "execution_count": 8,
     "metadata": {},
     "output_type": "execute_result"
    }
   ],
   "source": [
    "num=123.45\n",
    "type(num)"
   ]
  },
  {
   "cell_type": "code",
   "execution_count": 9,
   "id": "aaa1c979-551b-4ef0-b201-9ffc51d10a0e",
   "metadata": {},
   "outputs": [
    {
     "data": {
      "text/plain": [
       "10.0"
      ]
     },
     "execution_count": 9,
     "metadata": {},
     "output_type": "execute_result"
    }
   ],
   "source": [
    "1e1"
   ]
  },
  {
   "cell_type": "code",
   "execution_count": 10,
   "id": "21740d90-7662-4928-b445-4366dfb607d7",
   "metadata": {},
   "outputs": [
    {
     "data": {
      "text/plain": [
       "10.0"
      ]
     },
     "execution_count": 10,
     "metadata": {},
     "output_type": "execute_result"
    }
   ],
   "source": [
    "1e+1"
   ]
  },
  {
   "cell_type": "code",
   "execution_count": 11,
   "id": "5bfa1e6e-f906-4ce7-84ce-170ff60c5d35",
   "metadata": {},
   "outputs": [
    {
     "data": {
      "text/plain": [
       "0.1"
      ]
     },
     "execution_count": 11,
     "metadata": {},
     "output_type": "execute_result"
    }
   ],
   "source": [
    "1e-1"
   ]
  },
  {
   "cell_type": "markdown",
   "id": "beb91059-26cd-464c-bf5b-e684b11ba552",
   "metadata": {},
   "source": [
    "**Boolean**\n",
    "\n",
    "- True  = 1\n",
    "\n",
    "- False = 0"
   ]
  },
  {
   "cell_type": "code",
   "execution_count": 12,
   "id": "1c9c78a2-d54c-4569-b800-d1eb45e981ae",
   "metadata": {},
   "outputs": [
    {
     "data": {
      "text/plain": [
       "'python'"
      ]
     },
     "execution_count": 12,
     "metadata": {},
     "output_type": "execute_result"
    }
   ],
   "source": [
    "name='python'\n",
    "name"
   ]
  },
  {
   "cell_type": "code",
   "execution_count": 13,
   "id": "4eddf754-1113-4691-990a-c202aa22847f",
   "metadata": {},
   "outputs": [
    {
     "data": {
      "text/plain": [
       "str"
      ]
     },
     "execution_count": 13,
     "metadata": {},
     "output_type": "execute_result"
    }
   ],
   "source": [
    "type(name)"
   ]
  },
  {
   "cell_type": "markdown",
   "id": "09711a24-6396-4350-a527-3dee3a260c5b",
   "metadata": {},
   "source": [
    "**Note**\n",
    "\n",
    "- Entire sentence in single quotes, then highlited word in double quotes\n",
    "\n",
    "- Entire sentence in double quotes, then highlited word in single quotes"
   ]
  },
  {
   "cell_type": "code",
   "execution_count": 14,
   "id": "3fca63ce-0530-428e-aaf1-82afdefcd669",
   "metadata": {},
   "outputs": [
    {
     "data": {
      "text/plain": [
       "'hello how are you\\n        how do you do\\n        im good\\n        how is DS class'"
      ]
     },
     "execution_count": 14,
     "metadata": {},
     "output_type": "execute_result"
    }
   ],
   "source": [
    "str1=\"\"\"hello how are you\n",
    "        how do you do\n",
    "        im good\n",
    "        how is DS class\"\"\"\n",
    "str1\n",
    "# \\n = new line\n",
    "# there is multiple lines are there in output"
   ]
  },
  {
   "cell_type": "markdown",
   "id": "b8ccc973-67b4-4f30-b078-855652b5c75e",
   "metadata": {},
   "source": [
    "- strings can represent in single quotes or double quotes or triple quotes\n",
    "\n",
    "- When a person writing something in triple quotes : **Doc String**\n",
    "\n",
    "- Triple quotes are used for conveying information like markdown in Jupyter notebook\n",
    "\n",
    "- Triple quotes are not used for coding part\n",
    "\n"
   ]
  },
  {
   "cell_type": "code",
   "execution_count": null,
   "id": "4f4ae2ac-eb2b-4a23-b922-2d7c6bef6645",
   "metadata": {},
   "outputs": [],
   "source": []
  },
  {
   "cell_type": "code",
   "execution_count": null,
   "id": "a8146dc5-466a-4cde-b3f3-a0c156339246",
   "metadata": {},
   "outputs": [],
   "source": []
  }
 ],
 "metadata": {
  "kernelspec": {
   "display_name": "Python 3 (ipykernel)",
   "language": "python",
   "name": "python3"
  },
  "language_info": {
   "codemirror_mode": {
    "name": "ipython",
    "version": 3
   },
   "file_extension": ".py",
   "mimetype": "text/x-python",
   "name": "python",
   "nbconvert_exporter": "python",
   "pygments_lexer": "ipython3",
   "version": "3.11.7"
  }
 },
 "nbformat": 4,
 "nbformat_minor": 5
}
