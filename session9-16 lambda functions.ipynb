{
 "cells": [
  {
   "cell_type": "markdown",
   "id": "3b550f5b-8d88-4f38-8cba-2ee2ac10ce46",
   "metadata": {},
   "source": [
    "- Lambda functions also a function \n",
    "\n",
    "- It is a kind of a single line functions\n",
    "\n",
    "- we already seen list comprehension which means single line\n",
    "\n",
    "- Lambda functions give a flexibility to stop without many lines\n",
    "\n",
    "- on iterative execution it will save the timing"
   ]
  },
  {
   "cell_type": "code",
   "execution_count": 2,
   "id": "180de5e2-99b3-4341-bead-6da9e453f056",
   "metadata": {},
   "outputs": [
    {
     "data": {
      "text/plain": [
       "30"
      ]
     },
     "execution_count": 2,
     "metadata": {},
     "output_type": "execute_result"
    }
   ],
   "source": [
    "def summ(num):\n",
    "    return(num+10)\n",
    "summ(20)"
   ]
  },
  {
   "cell_type": "markdown",
   "id": "350a9073-f6b2-412e-9e0d-dde47f1fc257",
   "metadata": {},
   "source": [
    "$pattern-1$"
   ]
  },
  {
   "cell_type": "markdown",
   "id": "4a3b8c2a-cbfa-49a1-ae26-ea1f81a4e948",
   "metadata": {},
   "source": [
    "- function name\n",
    "\n",
    "- variable name\n",
    "\n",
    "- return output"
   ]
  },
  {
   "cell_type": "code",
   "execution_count": 6,
   "id": "2e67732e-6946-4671-be5f-2abcc7fa2bc8",
   "metadata": {},
   "outputs": [
    {
     "data": {
      "text/plain": [
       "40"
      ]
     },
     "execution_count": 6,
     "metadata": {},
     "output_type": "execute_result"
    }
   ],
   "source": [
    "#<function_name>=lambda<variable_name>: <return_output\n",
    "\n",
    "summ=lambda num:num+10\n",
    "summ(30)"
   ]
  },
  {
   "cell_type": "code",
   "execution_count": 7,
   "id": "82b3e46b-116d-4f3c-937e-23f1e5257069",
   "metadata": {},
   "outputs": [
    {
     "data": {
      "text/plain": [
       "1000"
      ]
     },
     "execution_count": 7,
     "metadata": {},
     "output_type": "execute_result"
    }
   ],
   "source": [
    "def cube(x):\n",
    "    return (x*x*x)\n",
    "cube(10)"
   ]
  },
  {
   "cell_type": "code",
   "execution_count": 8,
   "id": "21738678-2a34-443c-9003-d360cdd7c414",
   "metadata": {},
   "outputs": [
    {
     "data": {
      "text/plain": [
       "1000"
      ]
     },
     "execution_count": 8,
     "metadata": {},
     "output_type": "execute_result"
    }
   ],
   "source": [
    "cube=lambda x:x*x*x\n",
    "cube(10)"
   ]
  },
  {
   "cell_type": "markdown",
   "id": "f7f97a39-9e49-4838-8a01-313d433051e2",
   "metadata": {},
   "source": [
    "$pattern-2$"
   ]
  },
  {
   "cell_type": "markdown",
   "id": "d9c4a634-5ac3-4d2a-9fc8-5741f7f6ddd3",
   "metadata": {},
   "source": [
    "**two arguments**"
   ]
  },
  {
   "cell_type": "code",
   "execution_count": 9,
   "id": "3ff73b66-ab27-480e-b028-826e9253172b",
   "metadata": {},
   "outputs": [
    {
     "data": {
      "text/plain": [
       "5"
      ]
     },
     "execution_count": 9,
     "metadata": {},
     "output_type": "execute_result"
    }
   ],
   "source": [
    "def add(n1,n2):\n",
    "    return (n1+n2)\n",
    "add(2,3)"
   ]
  },
  {
   "cell_type": "code",
   "execution_count": 10,
   "id": "80f2a5f8-1bb3-4c0a-ade5-d494a3ec3366",
   "metadata": {},
   "outputs": [
    {
     "data": {
      "text/plain": [
       "5"
      ]
     },
     "execution_count": 10,
     "metadata": {},
     "output_type": "execute_result"
    }
   ],
   "source": [
    "add=lambda n1,n2:n1+n2\n",
    "add(2,3)"
   ]
  },
  {
   "cell_type": "code",
   "execution_count": null,
   "id": "90fa25b0-5ffb-4e53-9844-00c3ddfb1b90",
   "metadata": {},
   "outputs": [],
   "source": [
    "# <function_name>=lambda<argument1>,<argument2>:<return_output>"
   ]
  },
  {
   "cell_type": "code",
   "execution_count": 11,
   "id": "8e978665-a8fe-4425-880b-a41cdeee897a",
   "metadata": {},
   "outputs": [
    {
     "data": {
      "text/plain": [
       "20.0"
      ]
     },
     "execution_count": 11,
     "metadata": {},
     "output_type": "execute_result"
    }
   ],
   "source": [
    "avg=lambda n1,n2,n3:(n1+n2+n3)/3\n",
    "avg(10,20,30)"
   ]
  },
  {
   "cell_type": "markdown",
   "id": "f20d4091-d58f-4577-99c4-3c531247298b",
   "metadata": {},
   "source": [
    "$pattern-3$"
   ]
  },
  {
   "cell_type": "markdown",
   "id": "0b15530b-0b67-42c3-92b1-0ef01c366568",
   "metadata": {},
   "source": [
    "**default-arguments**"
   ]
  },
  {
   "cell_type": "code",
   "execution_count": 16,
   "id": "64a9ebc6-8673-43ed-8712-b4ff332a835d",
   "metadata": {},
   "outputs": [
    {
     "data": {
      "text/plain": [
       "20.0"
      ]
     },
     "execution_count": 16,
     "metadata": {},
     "output_type": "execute_result"
    }
   ],
   "source": [
    "avg=lambda n1,n2,n3=30:(n1+n2+n3)/3\n",
    "avg(10,20)"
   ]
  },
  {
   "cell_type": "code",
   "execution_count": 18,
   "id": "bc90c191-29af-43c4-92cd-a34b6a68c50b",
   "metadata": {},
   "outputs": [
    {
     "data": {
      "text/plain": [
       "23.333333333333332"
      ]
     },
     "execution_count": 18,
     "metadata": {},
     "output_type": "execute_result"
    }
   ],
   "source": [
    "avg=lambda n1,n2,n3=30:(n1+n2+n3)/3\n",
    "avg(10,20,40)"
   ]
  },
  {
   "cell_type": "markdown",
   "id": "4d0fbe50-94c4-4435-ade6-b2178d62a628",
   "metadata": {},
   "source": [
    "$pattern-4$"
   ]
  },
  {
   "cell_type": "markdown",
   "id": "9b5b0d11-d5e3-4960-b397-9253a2aff572",
   "metadata": {},
   "source": [
    "**if**"
   ]
  },
  {
   "cell_type": "code",
   "execution_count": 19,
   "id": "274a75d9-1ec2-48e7-ab36-edceb552abf6",
   "metadata": {},
   "outputs": [
    {
     "data": {
      "text/plain": [
       "'hello'"
      ]
     },
     "execution_count": 19,
     "metadata": {},
     "output_type": "execute_result"
    }
   ],
   "source": [
    "def greet(n1):\n",
    "    if n1>10:\n",
    "        return(\"hello\")\n",
    "greet(20)"
   ]
  },
  {
   "cell_type": "code",
   "execution_count": 25,
   "id": "990ce320-5745-4368-93ce-66a013cdb9bf",
   "metadata": {},
   "outputs": [
    {
     "data": {
      "text/plain": [
       "'hello'"
      ]
     },
     "execution_count": 25,
     "metadata": {},
     "output_type": "execute_result"
    }
   ],
   "source": [
    "greet=lambda n1:'hello' if n1>10 else 'bye'\n",
    "greet(20)"
   ]
  },
  {
   "cell_type": "code",
   "execution_count": null,
   "id": "e5b5d66f-6420-4a93-8bb1-1cea464f6bbb",
   "metadata": {},
   "outputs": [],
   "source": [
    "# <function_name>=lambda <variable_name>:if_output if_condition else else_output"
   ]
  },
  {
   "cell_type": "code",
   "execution_count": 27,
   "id": "5f2e927b-4985-471e-b70f-5ff06f17cbd4",
   "metadata": {},
   "outputs": [
    {
     "data": {
      "text/plain": [
       "'20 is greatest'"
      ]
     },
     "execution_count": 27,
     "metadata": {},
     "output_type": "execute_result"
    }
   ],
   "source": [
    "# wap lambda function to identify the greatest number between two numbers\n",
    "\n",
    "greatest=lambda n1,n2:f\"{n1} is greatest\" if n1>n2 else f\"{n2} is greatest\"\n",
    "greatest(10,20)"
   ]
  },
  {
   "cell_type": "markdown",
   "id": "8bbc0cbe-c5cd-4566-8616-179dba8e56e7",
   "metadata": {},
   "source": [
    "$pattern-5$"
   ]
  },
  {
   "cell_type": "markdown",
   "id": "630dd231-7e6f-430b-a487-105dd91337f6",
   "metadata": {},
   "source": [
    "**using list**"
   ]
  },
  {
   "cell_type": "code",
   "execution_count": 28,
   "id": "10532e00-278e-4496-b7b0-2b9e155aabbc",
   "metadata": {},
   "outputs": [
    {
     "data": {
      "text/plain": [
       "['Hyd', 'Blr', 'Chennai']"
      ]
     },
     "execution_count": 28,
     "metadata": {},
     "output_type": "execute_result"
    }
   ],
   "source": [
    "list1=['hyd','blr','chennai']\n",
    "# op=list2=['Hyd','Blr','Chennai']\n",
    "list2=[]\n",
    "for i in list1:\n",
    "    list2.append(i.capitalize())\n",
    "list2"
   ]
  },
  {
   "cell_type": "code",
   "execution_count": null,
   "id": "eb57ed5e-7927-4c95-82e1-e5282bccc5b6",
   "metadata": {},
   "outputs": [],
   "source": [
    "- what is the variable name  ====> i\n",
    "\n",
    "- what is the return output ====> i.capitalize()\n",
    "\n",
    "- from where it is coming ====> list1\n",
    "\n",
    "lambda <variable name> : <output>,<iterable>\n",
    "\n",
    "strings are iterable\n",
    "\n",
    "lists are iterable\n",
    "\n",
    "we can iteraate using for loop"
   ]
  },
  {
   "cell_type": "code",
   "execution_count": 33,
   "id": "f254e68a-a425-41a2-a7c4-083b188774a2",
   "metadata": {},
   "outputs": [
    {
     "data": {
      "text/plain": [
       "(<function __main__.<lambda>(i)>, ['hyd', 'blr', 'chennai'])"
      ]
     },
     "execution_count": 33,
     "metadata": {},
     "output_type": "execute_result"
    }
   ],
   "source": [
    "list1=['hyd','blr','chennai']\n",
    "lambda i:i.capitalize(),list1"
   ]
  },
  {
   "cell_type": "markdown",
   "id": "3133d848-8702-43de-aa4b-2d5403d76c27",
   "metadata": {},
   "source": [
    "**map**"
   ]
  },
  {
   "cell_type": "markdown",
   "id": "6291052c-716c-462c-baae-a3d1d4eb8452",
   "metadata": {},
   "source": [
    "- The map() function executes a specified function for each item in an iterable. The item is sent to the function as a parameter."
   ]
  },
  {
   "cell_type": "code",
   "execution_count": 37,
   "id": "1c2ed6ee-0eae-411c-96df-da7ac681aff0",
   "metadata": {},
   "outputs": [
    {
     "data": {
      "text/plain": [
       "[<function str.capitalize()>,\n",
       " <function str.capitalize()>,\n",
       " <function str.capitalize()>]"
      ]
     },
     "execution_count": 37,
     "metadata": {},
     "output_type": "execute_result"
    }
   ],
   "source": [
    "# step-1 : create a normal lambda function \n",
    "#          lambda <arg>:<output>\n",
    "# step-2 : add the iterable\n",
    "#          lambda <arg>:<output>,<list>\n",
    "# step-3 : map the both function and the list\n",
    "#         map(lambda <arg>:<output>,<list>)\n",
    "# step-4 : save the result in a list or tuple\n",
    "#         list(map(lambda <arg>:<output>,<list>))\n",
    "\n",
    "list1=['hyd','blr','chennai']\n",
    "lambda i : i.capitalize()\n",
    "lambda i : i.capitalize,list1\n",
    "map(lambda i : i.capitalize,list1)\n",
    "list(map(lambda i : i.capitalize,list1))"
   ]
  },
  {
   "cell_type": "code",
   "execution_count": 35,
   "id": "9deab6e7-fb2d-4dcb-9523-ce9db9a4aa7b",
   "metadata": {},
   "outputs": [
    {
     "data": {
      "text/plain": [
       "['Hyd', 'Blr', 'Chennai']"
      ]
     },
     "execution_count": 35,
     "metadata": {},
     "output_type": "execute_result"
    }
   ],
   "source": [
    "list(map(lambda i : i.capitalize(),list1))"
   ]
  },
  {
   "cell_type": "code",
   "execution_count": 38,
   "id": "298a5cd5-35ff-4fd3-8fa8-fd1ecad9d421",
   "metadata": {},
   "outputs": [
    {
     "data": {
      "text/plain": [
       "['HYD', 'BLR', 'CHENNAI']"
      ]
     },
     "execution_count": 38,
     "metadata": {},
     "output_type": "execute_result"
    }
   ],
   "source": [
    "list(map(lambda i : i.upper(),list1))"
   ]
  },
  {
   "cell_type": "code",
   "execution_count": 39,
   "id": "300c214f-e71b-48a4-865d-2b87df54fe93",
   "metadata": {},
   "outputs": [
    {
     "data": {
      "text/plain": [
       "['hyd', 'blr', 'chennai']"
      ]
     },
     "execution_count": 39,
     "metadata": {},
     "output_type": "execute_result"
    }
   ],
   "source": [
    "list(map(lambda i : i.lower(),list1))"
   ]
  },
  {
   "cell_type": "code",
   "execution_count": 40,
   "id": "9473179f-a44c-4913-ac70-1e901f5b18aa",
   "metadata": {},
   "outputs": [
    {
     "data": {
      "text/plain": [
       "['Hyd', 'Blr', 'Chennai']"
      ]
     },
     "execution_count": 40,
     "metadata": {},
     "output_type": "execute_result"
    }
   ],
   "source": [
    "list(map(lambda i : i.title(),list1))"
   ]
  },
  {
   "cell_type": "code",
   "execution_count": 42,
   "id": "490d95c8-711c-4aac-b075-abf77449579e",
   "metadata": {},
   "outputs": [
    {
     "data": {
      "text/plain": [
       "['***hyd****', '***blr****', '*chennai**']"
      ]
     },
     "execution_count": 42,
     "metadata": {},
     "output_type": "execute_result"
    }
   ],
   "source": [
    "list(map(lambda i : i.center(10,'*'),list1))"
   ]
  },
  {
   "cell_type": "code",
   "execution_count": null,
   "id": "af04deef-77b1-4b2c-a549-5c308eb4308f",
   "metadata": {},
   "outputs": [],
   "source": [
    "list1"
   ]
  },
  {
   "cell_type": "code",
   "execution_count": 43,
   "id": "2687d113-7436-493a-aec9-df5c36e33ac7",
   "metadata": {},
   "outputs": [
    {
     "data": {
      "text/plain": [
       "[False, False, False]"
      ]
     },
     "execution_count": 43,
     "metadata": {},
     "output_type": "execute_result"
    }
   ],
   "source": [
    "list(map(lambda i: '#' in i,list1))"
   ]
  },
  {
   "cell_type": "markdown",
   "id": "833beffd-88f3-4a5f-80f3-f672bb9bb57a",
   "metadata": {},
   "source": [
    "**filter method**"
   ]
  },
  {
   "cell_type": "markdown",
   "id": "171fa19e-587f-4331-a785-ed135b87467f",
   "metadata": {},
   "source": [
    "- The filter() function returns an iterator where the items are filtered through a function to test if the item is accepted or not."
   ]
  },
  {
   "cell_type": "code",
   "execution_count": 44,
   "id": "077de88e-dfe8-49e5-a371-f51fcee210b3",
   "metadata": {},
   "outputs": [
    {
     "data": {
      "text/plain": [
       "[]"
      ]
     },
     "execution_count": 44,
     "metadata": {},
     "output_type": "execute_result"
    }
   ],
   "source": [
    "list(filter(lambda i: '#' in i,list1))"
   ]
  },
  {
   "cell_type": "code",
   "execution_count": 46,
   "id": "7e47ca5f-e81b-4d45-9704-0b1bd237634f",
   "metadata": {},
   "outputs": [
    {
     "data": {
      "text/plain": [
       "['hyd', 'blr']"
      ]
     },
     "execution_count": 46,
     "metadata": {},
     "output_type": "execute_result"
    }
   ],
   "source": [
    "list1=['hyd','blr','chennai','mumbai']\n",
    "# list2=['hyd','blr']  #len(i)<=3\n",
    "list(filter(lambda i: len(i)<=3,list1))"
   ]
  },
  {
   "cell_type": "code",
   "execution_count": null,
   "id": "b369fba8-09a6-4fb7-87fe-4e99047f3145",
   "metadata": {},
   "outputs": [],
   "source": []
  }
 ],
 "metadata": {
  "kernelspec": {
   "display_name": "Python 3 (ipykernel)",
   "language": "python",
   "name": "python3"
  },
  "language_info": {
   "codemirror_mode": {
    "name": "ipython",
    "version": 3
   },
   "file_extension": ".py",
   "mimetype": "text/x-python",
   "name": "python",
   "nbconvert_exporter": "python",
   "pygments_lexer": "ipython3",
   "version": "3.11.7"
  }
 },
 "nbformat": 4,
 "nbformat_minor": 5
}
