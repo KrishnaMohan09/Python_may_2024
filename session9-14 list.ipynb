{
 "cells": [
  {
   "cell_type": "code",
   "execution_count": null,
   "id": "df6b30bd-2d90-42c1-b1e6-3b1029b3bf7e",
   "metadata": {},
   "outputs": [],
   "source": [
    "- How to display\n",
    "\n",
    "- len\n",
    "\n",
    "- max\n",
    "\n",
    "- min\n",
    "\n",
    "- sum\n",
    "\n",
    "- reversed\n",
    "\n",
    "- sorted\n",
    "\n",
    "- in\n",
    "\n",
    "- not in\n",
    "\n",
    "- index\n",
    "\n",
    "- for loop\n",
    "\n",
    "- mutuable\n",
    "\n",
    "- slice\n",
    "\n",
    "- concatenation\n",
    "\n",
    "- methods"
   ]
  },
  {
   "cell_type": "code",
   "execution_count": 40,
   "id": "35ac0e66-2737-4a8f-98c1-3eebdf13b1ca",
   "metadata": {},
   "outputs": [
    {
     "data": {
      "text/plain": [
       "[1, 2, 3, 4]"
      ]
     },
     "execution_count": 40,
     "metadata": {},
     "output_type": "execute_result"
    }
   ],
   "source": [
    "list1=[1,2,3,4]  # array of elements\n",
    "list1"
   ]
  },
  {
   "cell_type": "code",
   "execution_count": 4,
   "id": "e66ca469-f72d-420d-8507-d5d8051f7a35",
   "metadata": {},
   "outputs": [
    {
     "data": {
      "text/plain": [
       "list"
      ]
     },
     "execution_count": 4,
     "metadata": {},
     "output_type": "execute_result"
    }
   ],
   "source": [
    "type(list1)"
   ]
  },
  {
   "cell_type": "code",
   "execution_count": 5,
   "id": "3f8df957-9a19-48a5-beaf-bff18c07f78d",
   "metadata": {},
   "outputs": [
    {
     "data": {
      "text/plain": [
       "['apple', 'ball', 'cat']"
      ]
     },
     "execution_count": 5,
     "metadata": {},
     "output_type": "execute_result"
    }
   ],
   "source": [
    "list2=['apple','ball','cat']\n",
    "list2"
   ]
  },
  {
   "cell_type": "code",
   "execution_count": 6,
   "id": "a8e42877-7c97-4566-ad26-b81b37f792ce",
   "metadata": {},
   "outputs": [
    {
     "data": {
      "text/plain": [
       "[1, 2, 3, 'apple', 'ball', 'cat']"
      ]
     },
     "execution_count": 6,
     "metadata": {},
     "output_type": "execute_result"
    }
   ],
   "source": [
    "list3=[1,2,3,'apple','ball','cat']\n",
    "list3"
   ]
  },
  {
   "cell_type": "code",
   "execution_count": 7,
   "id": "b4478f08-7213-4706-9319-d58972a3bd99",
   "metadata": {},
   "outputs": [
    {
     "data": {
      "text/plain": [
       "[1, 'apple', 10.5, True]"
      ]
     },
     "execution_count": 7,
     "metadata": {},
     "output_type": "execute_result"
    }
   ],
   "source": [
    "list4=[1,'apple',10.5,True]\n",
    "list4"
   ]
  },
  {
   "cell_type": "code",
   "execution_count": 8,
   "id": "7d31d0b7-3a4c-4a17-ad54-4cb5ac1e7fa3",
   "metadata": {},
   "outputs": [
    {
     "data": {
      "text/plain": [
       "[100, 100, 100]"
      ]
     },
     "execution_count": 8,
     "metadata": {},
     "output_type": "execute_result"
    }
   ],
   "source": [
    "list5=[100,100,100]\n",
    "list5"
   ]
  },
  {
   "cell_type": "code",
   "execution_count": 9,
   "id": "57b8e0d5-c0d5-4628-a9a5-7839355c9e46",
   "metadata": {},
   "outputs": [
    {
     "data": {
      "text/plain": [
       "['apple', 'ball', [1, 2, 3]]"
      ]
     },
     "execution_count": 9,
     "metadata": {},
     "output_type": "execute_result"
    }
   ],
   "source": [
    "list6=['apple','ball',[1,2,3]]\n",
    "list6"
   ]
  },
  {
   "cell_type": "markdown",
   "id": "b8d1eb68-ffa8-474d-85e8-ccb3187740c5",
   "metadata": {},
   "source": [
    "- list items can be heterogeneous\n",
    "\n",
    "    - Which means list items can be of all data types\n",
    "\n",
    "- list items can be duplicate\n",
    "\n",
    "    - Which means list can have same value multiple times\n",
    "\n",
    "- list can have another list inside : list in list"
   ]
  },
  {
   "cell_type": "code",
   "execution_count": null,
   "id": "7140ba7c-f7d8-4601-a9c5-19a95ac1903f",
   "metadata": {},
   "outputs": [],
   "source": [
    "list1=[1,2,3,4]\n",
    "list2=['apple','ball','cat']\n",
    "list3=[1,2,3,'apple','ball','cat']\n",
    "list4=[1,'apple',10.5,True]\n",
    "list5=[100,100,100]\n",
    "list6=['apple','ball',[1,2,3]]"
   ]
  },
  {
   "cell_type": "code",
   "execution_count": 10,
   "id": "4b0b6e07-514c-4768-86e9-66a403ecac1a",
   "metadata": {},
   "outputs": [
    {
     "data": {
      "text/plain": [
       "4"
      ]
     },
     "execution_count": 10,
     "metadata": {},
     "output_type": "execute_result"
    }
   ],
   "source": [
    "len(list1)"
   ]
  },
  {
   "cell_type": "code",
   "execution_count": 11,
   "id": "c4ba55c5-ea93-4ca7-8e52-9f17833dae27",
   "metadata": {},
   "outputs": [
    {
     "data": {
      "text/plain": [
       "4"
      ]
     },
     "execution_count": 11,
     "metadata": {},
     "output_type": "execute_result"
    }
   ],
   "source": [
    "max(list1)"
   ]
  },
  {
   "cell_type": "code",
   "execution_count": 12,
   "id": "eebae5b0-6208-4887-9be0-e62b8322c688",
   "metadata": {},
   "outputs": [
    {
     "data": {
      "text/plain": [
       "1"
      ]
     },
     "execution_count": 12,
     "metadata": {},
     "output_type": "execute_result"
    }
   ],
   "source": [
    "min(list1)"
   ]
  },
  {
   "cell_type": "code",
   "execution_count": 14,
   "id": "b8794ab0-4537-45a0-8a7d-8009b36d4f79",
   "metadata": {},
   "outputs": [
    {
     "data": {
      "text/plain": [
       "10"
      ]
     },
     "execution_count": 14,
     "metadata": {},
     "output_type": "execute_result"
    }
   ],
   "source": [
    "sum(list1)"
   ]
  },
  {
   "cell_type": "code",
   "execution_count": 39,
   "id": "74ac8d45-e24c-4b39-932d-844ed8104a1d",
   "metadata": {},
   "outputs": [
    {
     "name": "stdout",
     "output_type": "stream",
     "text": [
      "4 3 2 2 "
     ]
    }
   ],
   "source": [
    "l=reversed(list1)\n",
    "for i in l:\n",
    "    print(i,end=' ')"
   ]
  },
  {
   "cell_type": "code",
   "execution_count": 22,
   "id": "cb599560-87bf-4fbe-b74f-2e00425604a7",
   "metadata": {},
   "outputs": [
    {
     "data": {
      "text/plain": [
       "[1, 2, 3, 4]"
      ]
     },
     "execution_count": 22,
     "metadata": {},
     "output_type": "execute_result"
    }
   ],
   "source": [
    "sorted(list1)"
   ]
  },
  {
   "cell_type": "code",
   "execution_count": 26,
   "id": "d7f13626-7aa1-4747-9d3a-d90a5c6ed01e",
   "metadata": {},
   "outputs": [
    {
     "name": "stdout",
     "output_type": "stream",
     "text": [
      "1 2 3 4 "
     ]
    }
   ],
   "source": [
    "for i in list1:\n",
    "    print(i,end=' ')"
   ]
  },
  {
   "cell_type": "code",
   "execution_count": 30,
   "id": "05b32e6b-3fae-46a8-ab59-40401bb6d85c",
   "metadata": {},
   "outputs": [
    {
     "name": "stdout",
     "output_type": "stream",
     "text": [
      "1\n"
     ]
    }
   ],
   "source": [
    "l=5\n",
    "if l not in list1:\n",
    "    print(1)"
   ]
  },
  {
   "cell_type": "code",
   "execution_count": 31,
   "id": "e5ac1501-c43f-4806-a481-5527a0b60ff8",
   "metadata": {},
   "outputs": [
    {
     "data": {
      "text/plain": [
       "4"
      ]
     },
     "execution_count": 31,
     "metadata": {},
     "output_type": "execute_result"
    }
   ],
   "source": [
    "list1[3]"
   ]
  },
  {
   "cell_type": "code",
   "execution_count": 33,
   "id": "f396dc6f-afdf-4cd5-b4ac-b7f1db842adf",
   "metadata": {},
   "outputs": [
    {
     "name": "stdout",
     "output_type": "stream",
     "text": [
      "0\n",
      "1\n",
      "2\n",
      "3\n"
     ]
    }
   ],
   "source": [
    "for i in range(len(list1)):\n",
    "    print(i)"
   ]
  },
  {
   "cell_type": "code",
   "execution_count": 35,
   "id": "d1a6eefa-c8e3-4a2e-bf6f-c477a1b24c25",
   "metadata": {},
   "outputs": [
    {
     "data": {
      "text/plain": [
       "[2, 2, 3, 4]"
      ]
     },
     "execution_count": 35,
     "metadata": {},
     "output_type": "execute_result"
    }
   ],
   "source": [
    "list1[0]=2\n",
    "list1"
   ]
  },
  {
   "cell_type": "code",
   "execution_count": 36,
   "id": "f6687c1e-2043-44cb-b9aa-dc1f609f3e60",
   "metadata": {},
   "outputs": [
    {
     "data": {
      "text/plain": [
       "[2, 2]"
      ]
     },
     "execution_count": 36,
     "metadata": {},
     "output_type": "execute_result"
    }
   ],
   "source": [
    "list1[0:2]"
   ]
  },
  {
   "cell_type": "code",
   "execution_count": 37,
   "id": "a168c445-4729-4bd4-80cf-0a001a257830",
   "metadata": {},
   "outputs": [
    {
     "data": {
      "text/plain": [
       "[2, 2, 3, 4, 'apple', 'ball', 'cat']"
      ]
     },
     "execution_count": 37,
     "metadata": {},
     "output_type": "execute_result"
    }
   ],
   "source": [
    "list1+list2"
   ]
  },
  {
   "cell_type": "code",
   "execution_count": 38,
   "id": "c23ec4ba-edf6-4f1c-be0a-56e64b16adb7",
   "metadata": {},
   "outputs": [
    {
     "data": {
      "text/plain": [
       "['__add__',\n",
       " '__class__',\n",
       " '__class_getitem__',\n",
       " '__contains__',\n",
       " '__delattr__',\n",
       " '__delitem__',\n",
       " '__dir__',\n",
       " '__doc__',\n",
       " '__eq__',\n",
       " '__format__',\n",
       " '__ge__',\n",
       " '__getattribute__',\n",
       " '__getitem__',\n",
       " '__getstate__',\n",
       " '__gt__',\n",
       " '__hash__',\n",
       " '__iadd__',\n",
       " '__imul__',\n",
       " '__init__',\n",
       " '__init_subclass__',\n",
       " '__iter__',\n",
       " '__le__',\n",
       " '__len__',\n",
       " '__lt__',\n",
       " '__mul__',\n",
       " '__ne__',\n",
       " '__new__',\n",
       " '__reduce__',\n",
       " '__reduce_ex__',\n",
       " '__repr__',\n",
       " '__reversed__',\n",
       " '__rmul__',\n",
       " '__setattr__',\n",
       " '__setitem__',\n",
       " '__sizeof__',\n",
       " '__str__',\n",
       " '__subclasshook__',\n",
       " 'append',\n",
       " 'clear',\n",
       " 'copy',\n",
       " 'count',\n",
       " 'extend',\n",
       " 'index',\n",
       " 'insert',\n",
       " 'pop',\n",
       " 'remove',\n",
       " 'reverse',\n",
       " 'sort']"
      ]
     },
     "execution_count": 38,
     "metadata": {},
     "output_type": "execute_result"
    }
   ],
   "source": [
    "dir(list1)"
   ]
  },
  {
   "cell_type": "code",
   "execution_count": 41,
   "id": "4daa0bdb-ca72-49c7-8c02-0602725564ee",
   "metadata": {},
   "outputs": [
    {
     "ename": "TypeError",
     "evalue": "'<' not supported between instances of 'str' and 'int'",
     "output_type": "error",
     "traceback": [
      "\u001b[1;31m---------------------------------------------------------------------------\u001b[0m",
      "\u001b[1;31mTypeError\u001b[0m                                 Traceback (most recent call last)",
      "Cell \u001b[1;32mIn[41], line 1\u001b[0m\n\u001b[1;32m----> 1\u001b[0m \u001b[38;5;28msorted\u001b[39m(list3)\n",
      "\u001b[1;31mTypeError\u001b[0m: '<' not supported between instances of 'str' and 'int'"
     ]
    }
   ],
   "source": [
    "sorted(list3)"
   ]
  },
  {
   "cell_type": "code",
   "execution_count": 42,
   "id": "0975bf67-805e-438e-ac21-ac5dc535dc80",
   "metadata": {},
   "outputs": [
    {
     "ename": "TypeError",
     "evalue": "'>' not supported between instances of 'str' and 'int'",
     "output_type": "error",
     "traceback": [
      "\u001b[1;31m---------------------------------------------------------------------------\u001b[0m",
      "\u001b[1;31mTypeError\u001b[0m                                 Traceback (most recent call last)",
      "Cell \u001b[1;32mIn[42], line 1\u001b[0m\n\u001b[1;32m----> 1\u001b[0m \u001b[38;5;28mmax\u001b[39m(list3)\n",
      "\u001b[1;31mTypeError\u001b[0m: '>' not supported between instances of 'str' and 'int'"
     ]
    }
   ],
   "source": [
    "max(list3)"
   ]
  },
  {
   "cell_type": "markdown",
   "id": "5ba28294-781d-4e37-b3e0-00c2f979a878",
   "metadata": {},
   "source": [
    "- note : these are comparing each other in the list then it should be of same data type then only it works otherwise fails"
   ]
  },
  {
   "cell_type": "code",
   "execution_count": 43,
   "id": "bce74cfc-703d-4bf5-824e-6083766d056d",
   "metadata": {},
   "outputs": [
    {
     "data": {
      "text/plain": [
       "(10, 20, 30)"
      ]
     },
     "execution_count": 43,
     "metadata": {},
     "output_type": "execute_result"
    }
   ],
   "source": [
    "list1=[10,20,30,40,50,60]\n",
    "list1[0],list1[1],list1[2]"
   ]
  },
  {
   "cell_type": "code",
   "execution_count": 46,
   "id": "7ce0bf5c-1b8e-4454-9f73-00470edb6e7a",
   "metadata": {},
   "outputs": [
    {
     "name": "stdout",
     "output_type": "stream",
     "text": [
      "positive index of 10 is 0\n",
      "positive index of 20 is 1\n",
      "positive index of 30 is 2\n",
      "positive index of 40 is 3\n",
      "positive index of 50 is 4\n",
      "positive index of 60 is 5\n"
     ]
    }
   ],
   "source": [
    "for i in range(len(list1)):\n",
    "    print(f\"positive index of {list1[i]} is {i}\")"
   ]
  },
  {
   "cell_type": "code",
   "execution_count": 49,
   "id": "6fd06641-66e5-4cde-9609-eab5a2d5734f",
   "metadata": {},
   "outputs": [
    {
     "name": "stdout",
     "output_type": "stream",
     "text": [
      "negative index of 10 is -6\n",
      "negative index of 20 is -5\n",
      "negative index of 30 is -4\n",
      "negative index of 40 is -3\n",
      "negative index of 50 is -2\n",
      "negative index of 60 is -1\n"
     ]
    }
   ],
   "source": [
    "for i in range(len(list1)):\n",
    "    print(f\"negative index of {list1[i]} is {i-len(list1)}\")"
   ]
  },
  {
   "cell_type": "code",
   "execution_count": 50,
   "id": "4ddac8d1-cb3c-47b4-ad57-04a041c71667",
   "metadata": {},
   "outputs": [
    {
     "name": "stdout",
     "output_type": "stream",
     "text": [
      "positive index of 10 is 0 and negative index of 10 is -6\n",
      "positive index of 20 is 1 and negative index of 20 is -5\n",
      "positive index of 30 is 2 and negative index of 30 is -4\n",
      "positive index of 40 is 3 and negative index of 40 is -3\n",
      "positive index of 50 is 4 and negative index of 50 is -2\n",
      "positive index of 60 is 5 and negative index of 60 is -1\n"
     ]
    }
   ],
   "source": [
    "for i in range(len(list1)):\n",
    "    print(f\"positive index of {list1[i]} is {i} and negative index of {list1[i]} is {i-len(list1)}\")"
   ]
  },
  {
   "cell_type": "code",
   "execution_count": 53,
   "id": "20a37a5f-cc2a-430e-8cab-4332bc7a68d7",
   "metadata": {},
   "outputs": [
    {
     "data": {
      "text/plain": [
       "1"
      ]
     },
     "execution_count": 53,
     "metadata": {},
     "output_type": "execute_result"
    }
   ],
   "source": [
    "list1=[[1]]\n",
    "list1[0][0]"
   ]
  },
  {
   "cell_type": "code",
   "execution_count": 55,
   "id": "a7938e56-889c-4e99-b984-78d758cafe68",
   "metadata": {},
   "outputs": [
    {
     "data": {
      "text/plain": [
       "[10]"
      ]
     },
     "execution_count": 55,
     "metadata": {},
     "output_type": "execute_result"
    }
   ],
   "source": [
    "list1=[1,2,3,[10]]\n",
    "list1[3]"
   ]
  },
  {
   "cell_type": "code",
   "execution_count": 56,
   "id": "d830d7cf-0014-4a62-807f-4d649076f423",
   "metadata": {},
   "outputs": [
    {
     "data": {
      "text/plain": [
       "10"
      ]
     },
     "execution_count": 56,
     "metadata": {},
     "output_type": "execute_result"
    }
   ],
   "source": [
    "list1[3][0]"
   ]
  },
  {
   "cell_type": "code",
   "execution_count": 57,
   "id": "ed34d003-b84f-483e-a26a-beac77625a7b",
   "metadata": {},
   "outputs": [
    {
     "data": {
      "text/plain": [
       "4"
      ]
     },
     "execution_count": 57,
     "metadata": {},
     "output_type": "execute_result"
    }
   ],
   "source": [
    "list1=[1,2,3,['A',['B']]]\n",
    "len(list1)"
   ]
  },
  {
   "cell_type": "code",
   "execution_count": 58,
   "id": "268accb0-82bf-4277-a0ed-818db5137e06",
   "metadata": {},
   "outputs": [
    {
     "data": {
      "text/plain": [
       "['A', ['B']]"
      ]
     },
     "execution_count": 58,
     "metadata": {},
     "output_type": "execute_result"
    }
   ],
   "source": [
    "list1[3]"
   ]
  },
  {
   "cell_type": "code",
   "execution_count": 59,
   "id": "1bc96e3b-b7a5-413c-a9a1-b219cc661266",
   "metadata": {},
   "outputs": [
    {
     "data": {
      "text/plain": [
       "'A'"
      ]
     },
     "execution_count": 59,
     "metadata": {},
     "output_type": "execute_result"
    }
   ],
   "source": [
    "list1[3][0]"
   ]
  },
  {
   "cell_type": "code",
   "execution_count": 60,
   "id": "cf89f393-22f6-476e-afd8-7b2c27fa95b5",
   "metadata": {},
   "outputs": [
    {
     "data": {
      "text/plain": [
       "['B']"
      ]
     },
     "execution_count": 60,
     "metadata": {},
     "output_type": "execute_result"
    }
   ],
   "source": [
    "list1[3][1]"
   ]
  },
  {
   "cell_type": "code",
   "execution_count": 61,
   "id": "d72462fb-205a-40c1-83f4-747d8177b95d",
   "metadata": {},
   "outputs": [
    {
     "data": {
      "text/plain": [
       "'B'"
      ]
     },
     "execution_count": 61,
     "metadata": {},
     "output_type": "execute_result"
    }
   ],
   "source": [
    "list1[3][1][0]"
   ]
  },
  {
   "cell_type": "code",
   "execution_count": 62,
   "id": "b0ddabdc-85d9-4118-86ef-5d03344c12c6",
   "metadata": {},
   "outputs": [
    {
     "data": {
      "text/plain": [
       "[1, 2, 3, ['Apple', ['Fruits', ['Cherry']]]]"
      ]
     },
     "execution_count": 62,
     "metadata": {},
     "output_type": "execute_result"
    }
   ],
   "source": [
    "list1=[1,2,3,['Apple',['Fruits',['Cherry']]]]\n",
    "list1"
   ]
  },
  {
   "cell_type": "code",
   "execution_count": 63,
   "id": "e755ad26-a27e-4842-8e9b-9e742160ce06",
   "metadata": {},
   "outputs": [
    {
     "data": {
      "text/plain": [
       "['Apple', ['Fruits', ['Cherry']]]"
      ]
     },
     "execution_count": 63,
     "metadata": {},
     "output_type": "execute_result"
    }
   ],
   "source": [
    "list1[3]"
   ]
  },
  {
   "cell_type": "code",
   "execution_count": 64,
   "id": "71422d13-3d9c-4577-93f2-22f348d7535d",
   "metadata": {},
   "outputs": [
    {
     "data": {
      "text/plain": [
       "'Apple'"
      ]
     },
     "execution_count": 64,
     "metadata": {},
     "output_type": "execute_result"
    }
   ],
   "source": [
    "list1[3][0]"
   ]
  },
  {
   "cell_type": "code",
   "execution_count": 65,
   "id": "0ca8025d-3fc1-43ea-9396-d88a10f41599",
   "metadata": {},
   "outputs": [
    {
     "data": {
      "text/plain": [
       "['Fruits', ['Cherry']]"
      ]
     },
     "execution_count": 65,
     "metadata": {},
     "output_type": "execute_result"
    }
   ],
   "source": [
    "list1[3][1]"
   ]
  },
  {
   "cell_type": "code",
   "execution_count": 66,
   "id": "3ce8f071-8ecf-478e-bea3-4d96b6d51e2a",
   "metadata": {},
   "outputs": [
    {
     "data": {
      "text/plain": [
       "['Cherry']"
      ]
     },
     "execution_count": 66,
     "metadata": {},
     "output_type": "execute_result"
    }
   ],
   "source": [
    "list1[3][1][1]"
   ]
  },
  {
   "cell_type": "code",
   "execution_count": 67,
   "id": "a25e8571-4b2b-4d87-8d34-0211132d56d0",
   "metadata": {},
   "outputs": [
    {
     "data": {
      "text/plain": [
       "'Cherry'"
      ]
     },
     "execution_count": 67,
     "metadata": {},
     "output_type": "execute_result"
    }
   ],
   "source": [
    "list1[3][1][1][0]"
   ]
  },
  {
   "cell_type": "code",
   "execution_count": 68,
   "id": "23a3095c-1e40-4a01-8ff1-b21abeb4672a",
   "metadata": {},
   "outputs": [
    {
     "data": {
      "text/plain": [
       "[[[1, 2, 3, ['Apple', ['Fruits', ['Mango', ['Cherry']]]]]]]"
      ]
     },
     "execution_count": 68,
     "metadata": {},
     "output_type": "execute_result"
    }
   ],
   "source": [
    "list1=[[[1,2,3,['Apple',['Fruits',['Mango',['Cherry']]]]]]]\n",
    "list1"
   ]
  },
  {
   "cell_type": "code",
   "execution_count": 69,
   "id": "fa318130-8a63-426e-bd17-afa88e0590ed",
   "metadata": {},
   "outputs": [
    {
     "data": {
      "text/plain": [
       "[[1, 2, 3, ['Apple', ['Fruits', ['Mango', ['Cherry']]]]]]"
      ]
     },
     "execution_count": 69,
     "metadata": {},
     "output_type": "execute_result"
    }
   ],
   "source": [
    "list1[0]"
   ]
  },
  {
   "cell_type": "code",
   "execution_count": 71,
   "id": "671a94f9-96e1-4139-85e8-d4390eaeef38",
   "metadata": {},
   "outputs": [
    {
     "data": {
      "text/plain": [
       "[1, 2, 3, ['Apple', ['Fruits', ['Mango', ['Cherry']]]]]"
      ]
     },
     "execution_count": 71,
     "metadata": {},
     "output_type": "execute_result"
    }
   ],
   "source": [
    "list1[0][0]"
   ]
  },
  {
   "cell_type": "code",
   "execution_count": 73,
   "id": "3e1f21f1-dc27-4c71-a6d7-ea26eb14a364",
   "metadata": {},
   "outputs": [
    {
     "data": {
      "text/plain": [
       "['Apple', ['Fruits', ['Mango', ['Cherry']]]]"
      ]
     },
     "execution_count": 73,
     "metadata": {},
     "output_type": "execute_result"
    }
   ],
   "source": [
    "list1[0][0][3]"
   ]
  },
  {
   "cell_type": "code",
   "execution_count": 74,
   "id": "9fd164c8-a250-45fc-bb18-8e59c03fcb70",
   "metadata": {},
   "outputs": [
    {
     "data": {
      "text/plain": [
       "['Fruits', ['Mango', ['Cherry']]]"
      ]
     },
     "execution_count": 74,
     "metadata": {},
     "output_type": "execute_result"
    }
   ],
   "source": [
    "list1[0][0][3][1]"
   ]
  },
  {
   "cell_type": "code",
   "execution_count": 75,
   "id": "e87c1a2e-91f7-4552-abd7-dd8e663d9a56",
   "metadata": {},
   "outputs": [
    {
     "data": {
      "text/plain": [
       "['Mango', ['Cherry']]"
      ]
     },
     "execution_count": 75,
     "metadata": {},
     "output_type": "execute_result"
    }
   ],
   "source": [
    "list1[0][0][3][1][1]"
   ]
  },
  {
   "cell_type": "code",
   "execution_count": 81,
   "id": "833532a2-3c16-4f95-9dc0-6065cbb96c0f",
   "metadata": {},
   "outputs": [
    {
     "data": {
      "text/plain": [
       "'Mango'"
      ]
     },
     "execution_count": 81,
     "metadata": {},
     "output_type": "execute_result"
    }
   ],
   "source": [
    "list1[0][0][3][1][1][0]"
   ]
  },
  {
   "cell_type": "code",
   "execution_count": 82,
   "id": "668bb01d-b9f3-4a44-9281-9ba1522165da",
   "metadata": {},
   "outputs": [
    {
     "data": {
      "text/plain": [
       "'Cherry'"
      ]
     },
     "execution_count": 82,
     "metadata": {},
     "output_type": "execute_result"
    }
   ],
   "source": [
    "list1[0][0][3][1][1][1][0]"
   ]
  },
  {
   "cell_type": "code",
   "execution_count": 83,
   "id": "1423a5fa-796c-4bcc-8041-ac9d5df22fd8",
   "metadata": {},
   "outputs": [
    {
     "data": {
      "text/plain": [
       "[[[[[[[[['Orange']]]]]]]]]"
      ]
     },
     "execution_count": 83,
     "metadata": {},
     "output_type": "execute_result"
    }
   ],
   "source": [
    "list1=[[[[[[[[['Orange']]]]]]]]]\n",
    "list1"
   ]
  },
  {
   "cell_type": "code",
   "execution_count": 84,
   "id": "153abb62-0be8-413e-ad0e-5267149da265",
   "metadata": {},
   "outputs": [
    {
     "data": {
      "text/plain": [
       "'Orange'"
      ]
     },
     "execution_count": 84,
     "metadata": {},
     "output_type": "execute_result"
    }
   ],
   "source": [
    "list1[0][0][0][0][0][0][0][0][0]"
   ]
  },
  {
   "cell_type": "code",
   "execution_count": 85,
   "id": "2c04be35-4e7d-4de2-9363-64fbd9c377b1",
   "metadata": {},
   "outputs": [
    {
     "data": {
      "text/plain": [
       "[[[[[[[['Fruits', [[['Banana']]]]]]]]]]]"
      ]
     },
     "execution_count": 85,
     "metadata": {},
     "output_type": "execute_result"
    }
   ],
   "source": [
    "list1=[[[[[[[['Fruits',[[['Banana']]]]]]]]]]]\n",
    "list1"
   ]
  },
  {
   "cell_type": "code",
   "execution_count": 86,
   "id": "fa0ab6b9-8b43-421d-afe6-40ff9d0beeea",
   "metadata": {},
   "outputs": [
    {
     "data": {
      "text/plain": [
       "'Fruits'"
      ]
     },
     "execution_count": 86,
     "metadata": {},
     "output_type": "execute_result"
    }
   ],
   "source": [
    "list1[0][0][0][0][0][0][0][0]"
   ]
  },
  {
   "cell_type": "code",
   "execution_count": 87,
   "id": "04a73abc-07f2-4a06-b7cb-6fe0fec8e44a",
   "metadata": {},
   "outputs": [
    {
     "data": {
      "text/plain": [
       "[[['Banana']]]"
      ]
     },
     "execution_count": 87,
     "metadata": {},
     "output_type": "execute_result"
    }
   ],
   "source": [
    "list1[0][0][0][0][0][0][0][1]"
   ]
  },
  {
   "cell_type": "code",
   "execution_count": 88,
   "id": "eef60860-a42d-4126-8b10-719519881f58",
   "metadata": {},
   "outputs": [
    {
     "data": {
      "text/plain": [
       "'Banana'"
      ]
     },
     "execution_count": 88,
     "metadata": {},
     "output_type": "execute_result"
    }
   ],
   "source": [
    "list1[0][0][0][0][0][0][0][1][0][0][0]"
   ]
  },
  {
   "cell_type": "markdown",
   "id": "72691aa4-fc21-4973-b2a7-62ce28b8bbdc",
   "metadata": {},
   "source": [
    "**mutuable-immutable**"
   ]
  },
  {
   "cell_type": "markdown",
   "id": "5335095b-7067-47dd-a3ef-7a94d28a45fd",
   "metadata": {},
   "source": [
    "- Python mutable concepts always based on index\n",
    "\n",
    "- list are mutuable means we can change the values using index"
   ]
  },
  {
   "cell_type": "code",
   "execution_count": 1,
   "id": "4ac9f088-d607-4de9-861c-66deadfede4a",
   "metadata": {},
   "outputs": [
    {
     "data": {
      "text/plain": [
       "1"
      ]
     },
     "execution_count": 1,
     "metadata": {},
     "output_type": "execute_result"
    }
   ],
   "source": [
    "l=[1,2,3,4]\n",
    "l[0]"
   ]
  },
  {
   "cell_type": "code",
   "execution_count": 2,
   "id": "01740c1c-7078-46ab-8335-1ac483d73d5a",
   "metadata": {},
   "outputs": [
    {
     "data": {
      "text/plain": [
       "[100, 2, 3, 4]"
      ]
     },
     "execution_count": 2,
     "metadata": {},
     "output_type": "execute_result"
    }
   ],
   "source": [
    "l=[1,2,3,4]\n",
    "l[0]=100\n",
    "l"
   ]
  },
  {
   "cell_type": "markdown",
   "id": "78db5b6e-8d61-4e4b-b215-b8bb15292edd",
   "metadata": {},
   "source": [
    "- len\n",
    "\n",
    "- max\n",
    "\n",
    "- min\n",
    "\n",
    "- sum\n",
    "\n",
    "- reversed\n",
    "\n",
    "- sorted\n",
    "\n",
    "- in\n",
    "\n",
    "- not in\n",
    "\n",
    "- index\n",
    "\n",
    "- for loop\n",
    "\n",
    "- mutuable\n",
    "\n",
    "- slice\n",
    "\n",
    "- concatenation\n",
    "\n",
    "- methods"
   ]
  },
  {
   "cell_type": "markdown",
   "id": "01d1fabf-990e-4133-ba75-1ba2419cec99",
   "metadata": {},
   "source": [
    "**concatenation**"
   ]
  },
  {
   "cell_type": "code",
   "execution_count": 4,
   "id": "d87ad348-43e1-4c2f-8fba-b53088d988d8",
   "metadata": {},
   "outputs": [
    {
     "data": {
      "text/plain": [
       "[1, 2, 3, 4, 2, 3, 4, 5]"
      ]
     },
     "execution_count": 4,
     "metadata": {},
     "output_type": "execute_result"
    }
   ],
   "source": [
    "l=[1,2,3,4]\n",
    "l1=[2,3,4,5]\n",
    "l+l1"
   ]
  },
  {
   "cell_type": "code",
   "execution_count": 5,
   "id": "659b0681-04ff-4f87-925d-31e7636dfe89",
   "metadata": {},
   "outputs": [
    {
     "data": {
      "text/plain": [
       "[1, 2, 3, 4, 2, 3, 4]"
      ]
     },
     "execution_count": 5,
     "metadata": {},
     "output_type": "execute_result"
    }
   ],
   "source": [
    "l=[1,2,3,4]\n",
    "l1=[2,3,4]\n",
    "l+l1"
   ]
  },
  {
   "cell_type": "code",
   "execution_count": 6,
   "id": "e976a15a-cfc5-4472-9086-9a253f3f5a02",
   "metadata": {},
   "outputs": [
    {
     "data": {
      "text/plain": [
       "[1, 2, 3, 4, 'apple', 2, '2.3', 'True']"
      ]
     },
     "execution_count": 6,
     "metadata": {},
     "output_type": "execute_result"
    }
   ],
   "source": [
    "l=[1,2,3,4]\n",
    "l1=['apple',2,'2.3','True']\n",
    "l+l1"
   ]
  },
  {
   "cell_type": "code",
   "execution_count": null,
   "id": "694b988c-6596-49a1-a7dc-baf91b261cbe",
   "metadata": {},
   "outputs": [],
   "source": [
    "l-l1  # fail\n",
    "l*l1  # fail\n",
    "l/l1  # fail"
   ]
  },
  {
   "cell_type": "code",
   "execution_count": 7,
   "id": "8260e07b-fab6-4d8c-a494-266b6cf820f3",
   "metadata": {},
   "outputs": [
    {
     "data": {
      "text/plain": [
       "[1, 2, 3, 4, 1, 2, 3, 4, 1, 2, 3, 4]"
      ]
     },
     "execution_count": 7,
     "metadata": {},
     "output_type": "execute_result"
    }
   ],
   "source": [
    "l*3"
   ]
  },
  {
   "cell_type": "code",
   "execution_count": 9,
   "id": "42b79f96-9e3c-4788-abb8-59bb9b2c6ea3",
   "metadata": {},
   "outputs": [
    {
     "data": {
      "text/plain": [
       "['__add__',\n",
       " '__class__',\n",
       " '__class_getitem__',\n",
       " '__contains__',\n",
       " '__delattr__',\n",
       " '__delitem__',\n",
       " '__dir__',\n",
       " '__doc__',\n",
       " '__eq__',\n",
       " '__format__',\n",
       " '__ge__',\n",
       " '__getattribute__',\n",
       " '__getitem__',\n",
       " '__getstate__',\n",
       " '__gt__',\n",
       " '__hash__',\n",
       " '__iadd__',\n",
       " '__imul__',\n",
       " '__init__',\n",
       " '__init_subclass__',\n",
       " '__iter__',\n",
       " '__le__',\n",
       " '__len__',\n",
       " '__lt__',\n",
       " '__mul__',\n",
       " '__ne__',\n",
       " '__new__',\n",
       " '__reduce__',\n",
       " '__reduce_ex__',\n",
       " '__repr__',\n",
       " '__reversed__',\n",
       " '__rmul__',\n",
       " '__setattr__',\n",
       " '__setitem__',\n",
       " '__sizeof__',\n",
       " '__str__',\n",
       " '__subclasshook__',\n",
       " 'append',\n",
       " 'clear',\n",
       " 'copy',\n",
       " 'count',\n",
       " 'extend',\n",
       " 'index',\n",
       " 'insert',\n",
       " 'pop',\n",
       " 'remove',\n",
       " 'reverse',\n",
       " 'sort']"
      ]
     },
     "execution_count": 9,
     "metadata": {},
     "output_type": "execute_result"
    }
   ],
   "source": [
    "dir(list)"
   ]
  },
  {
   "cell_type": "markdown",
   "id": "340764dc-8054-462d-9d6e-9aef7e2fbb7d",
   "metadata": {},
   "source": [
    "**append**\n",
    "\n",
    "- append means adding a number at the end of the list\n",
    "\n",
    "- append is a very basic method we will use many times in our code\n",
    "\n",
    "- append will use mainly to store the result"
   ]
  },
  {
   "cell_type": "code",
   "execution_count": 10,
   "id": "3ae573f5-4e02-4de2-861b-e775f00e5d04",
   "metadata": {},
   "outputs": [
    {
     "ename": "TypeError",
     "evalue": "list indices must be integers or slices, not str",
     "output_type": "error",
     "traceback": [
      "\u001b[1;31m---------------------------------------------------------------------------\u001b[0m",
      "\u001b[1;31mTypeError\u001b[0m                                 Traceback (most recent call last)",
      "Cell \u001b[1;32mIn[10], line 2\u001b[0m\n\u001b[0;32m      1\u001b[0m number\u001b[38;5;241m=\u001b[39m[\u001b[38;5;124m'\u001b[39m\u001b[38;5;124mone\u001b[39m\u001b[38;5;124m'\u001b[39m,\u001b[38;5;124m'\u001b[39m\u001b[38;5;124mtwo\u001b[39m\u001b[38;5;124m'\u001b[39m,\u001b[38;5;124m'\u001b[39m\u001b[38;5;124mthree\u001b[39m\u001b[38;5;124m'\u001b[39m,\u001b[38;5;124m'\u001b[39m\u001b[38;5;124mfour\u001b[39m\u001b[38;5;124m'\u001b[39m,\u001b[38;5;124m'\u001b[39m\u001b[38;5;124mfive\u001b[39m\u001b[38;5;124m'\u001b[39m]\n\u001b[1;32m----> 2\u001b[0m number[\u001b[38;5;124m'\u001b[39m\u001b[38;5;124mfour\u001b[39m\u001b[38;5;124m'\u001b[39m]\n",
      "\u001b[1;31mTypeError\u001b[0m: list indices must be integers or slices, not str"
     ]
    }
   ],
   "source": [
    "number=['one','two','three','four','five']\n",
    "number['four']"
   ]
  },
  {
   "cell_type": "code",
   "execution_count": 11,
   "id": "78673c06-577b-414e-9e85-c0f6e6cdd429",
   "metadata": {},
   "outputs": [
    {
     "data": {
      "text/plain": [
       "'four'"
      ]
     },
     "execution_count": 11,
     "metadata": {},
     "output_type": "execute_result"
    }
   ],
   "source": [
    "number[3]"
   ]
  },
  {
   "cell_type": "code",
   "execution_count": 12,
   "id": "324be582-3510-4df9-8b4d-5b35e867ea32",
   "metadata": {},
   "outputs": [
    {
     "data": {
      "text/plain": [
       "[1, 2, 3, 4, 100]"
      ]
     },
     "execution_count": 12,
     "metadata": {},
     "output_type": "execute_result"
    }
   ],
   "source": [
    "l=[1,2,3,4]\n",
    "l.append(100)\n",
    "l"
   ]
  },
  {
   "cell_type": "code",
   "execution_count": 13,
   "id": "3df3523c-b30c-4b30-9083-be0560545265",
   "metadata": {},
   "outputs": [
    {
     "data": {
      "text/plain": [
       "[10, 'apple']"
      ]
     },
     "execution_count": 13,
     "metadata": {},
     "output_type": "execute_result"
    }
   ],
   "source": [
    "l=[]\n",
    "l.append(10)\n",
    "l.append('apple')\n",
    "l"
   ]
  },
  {
   "cell_type": "code",
   "execution_count": 20,
   "id": "93c588bf-6a83-48de-890e-85eb93bf9df0",
   "metadata": {},
   "outputs": [
    {
     "data": {
      "text/plain": [
       "[1, 4, 9, 16, 25]"
      ]
     },
     "execution_count": 20,
     "metadata": {},
     "output_type": "execute_result"
    }
   ],
   "source": [
    "#Q1)WAP ask the user print 1-5 numbers square\n",
    "# save the results in a list\n",
    "\n",
    "l=[]\n",
    "for i in range(1,6):\n",
    "    l.append(i*i)\n",
    "l"
   ]
  },
  {
   "cell_type": "code",
   "execution_count": 24,
   "id": "9ac125a6-fe5e-4183-a888-d5b69f373202",
   "metadata": {},
   "outputs": [
    {
     "data": {
      "text/plain": [
       "['Hyd', 'Chennai']"
      ]
     },
     "execution_count": 24,
     "metadata": {},
     "output_type": "execute_result"
    }
   ],
   "source": [
    "#Q2) L=['Hyd','blr','Chennai','pune']\n",
    "#output=['Hyd','Chennai']\n",
    "\n",
    "# is title\n",
    "# step-1: make an empty list\n",
    "# step-2: iterate each word from list\n",
    "# step-3: apply is title method using if condition \n",
    "# step-4: if the condition is satisfy \n",
    "# step-5: then append the results on empty list\n",
    "\n",
    "L=['Hyd','blr','Chennai','pune']\n",
    "l=[]\n",
    "for i in L:\n",
    "    if i.istitle():\n",
    "        l.append(i)\n",
    "l"
   ]
  },
  {
   "cell_type": "code",
   "execution_count": 25,
   "id": "4da32e2e-6fd8-4a3b-a81a-158029bc1674",
   "metadata": {},
   "outputs": [
    {
     "data": {
      "text/plain": [
       "['HYD', 'PUNE']"
      ]
     },
     "execution_count": 25,
     "metadata": {},
     "output_type": "execute_result"
    }
   ],
   "source": [
    "#Q3) L=['HYD','blr','Chennai','PUNE']\n",
    "# out=['HYD','PUNE']\n",
    "\n",
    "L=['HYD','blr','Chennai','PUNE']\n",
    "l=[]\n",
    "for i in L:\n",
    "    if i.isupper():\n",
    "        l.append(i)\n",
    "l"
   ]
  },
  {
   "cell_type": "code",
   "execution_count": 26,
   "id": "7e85dd79-95d8-4060-b01e-6a6ea907543f",
   "metadata": {},
   "outputs": [
    {
     "data": {
      "text/plain": [
       "['bl#r', 'Che#nnai']"
      ]
     },
     "execution_count": 26,
     "metadata": {},
     "output_type": "execute_result"
    }
   ],
   "source": [
    "#Q4) L=['HYD','bl#r','Che#nnai','PUNE']\n",
    "# out=['bl#r','Che#nnai']\n",
    "\n",
    "L=['HYD','bl#r','Che#nnai','PUNE']\n",
    "l=[]\n",
    "for i in L:\n",
    "    if '#' in i:\n",
    "        l.append(i)\n",
    "l"
   ]
  },
  {
   "cell_type": "code",
   "execution_count": 27,
   "id": "465e5424-e889-4e2f-bb5b-17fd91858528",
   "metadata": {},
   "outputs": [
    {
     "data": {
      "text/plain": [
       "['Chennai']"
      ]
     },
     "execution_count": 27,
     "metadata": {},
     "output_type": "execute_result"
    }
   ],
   "source": [
    "#Q5) L=['HYD','blr','Chennai','PUNE']\n",
    "# out=['Chennai']\n",
    "# >4\n",
    "\n",
    "L=['HYD','blr','Chennai','PUNE']\n",
    "l=[]\n",
    "for i in L:\n",
    "    if len(i)>4:\n",
    "        l.append(i)\n",
    "l"
   ]
  },
  {
   "cell_type": "code",
   "execution_count": 8,
   "id": "c1423444-8ccd-4b8d-a0ba-87789b306958",
   "metadata": {},
   "outputs": [
    {
     "name": "stdout",
     "output_type": "stream",
     "text": [
      "can: 5\n",
      "canner: 2\n",
      "not: 1\n",
      "a: 2\n",
      "but: 1\n",
      "you: 1\n",
      "make: 1\n",
      "can : 5\n",
      "canner : 2\n",
      "not : 1\n",
      "a : 2\n",
      "but : 1\n",
      "you : 1\n",
      "make : 1\n"
     ]
    }
   ],
   "source": [
    "#Q6) can canner can not a can but canner can you make a can\n",
    "# find out the each word how many times repeated\n",
    "\n",
    "string=\"can canner can not a can but canner can you make a can\"\n",
    "words=string.split()\n",
    "unique_words=[]\n",
    "for i in words:\n",
    "    found=False\n",
    "    for j in unique_words:\n",
    "        if j[0]==i:\n",
    "            j[1]=j[1]+1\n",
    "            found=True\n",
    "            break\n",
    "    if not found:\n",
    "        unique_words.append([i,1])\n",
    "for i in unique_words:\n",
    "    print(f\"{i[0]}: {i[1]}\")\n",
    "\n",
    "\n",
    "#method-2\n",
    "\n",
    "string=\"can canner can not a can but canner can you make a can\"\n",
    "l=string.split()\n",
    "l1=[]\n",
    "for i in l:\n",
    "    if i not in l1:\n",
    "        count=0\n",
    "        for j in l:\n",
    "            if i==j:\n",
    "                count=count+1\n",
    "        l1.append(i)\n",
    "        print(i,\":\",count)    "
   ]
  },
  {
   "cell_type": "code",
   "execution_count": 7,
   "id": "35cd703e-5b1d-4767-be28-f6f0485eadb4",
   "metadata": {},
   "outputs": [
    {
     "name": "stdout",
     "output_type": "stream",
     "text": [
      "list : [18, 83, 83, 51, 17]\n",
      "even list: [18]\n",
      "odd list: [83, 83, 51, 17]\n"
     ]
    }
   ],
   "source": [
    "#Q7)wap ask the user get the even odd numbers\n",
    "# you want 5 numbers\n",
    "# 5 numbers randomly\n",
    "# evenlist and oddlist\n",
    "# append the even numbers in the even list\n",
    "# append the odd numberws in the odd list\n",
    "\n",
    "import random\n",
    "l=[]\n",
    "e_list=[]\n",
    "o_list=[]\n",
    "for i in range(5):\n",
    "    n=random.randint(1,100)\n",
    "    l.append(n)\n",
    "print('list :',l)\n",
    "for i in l:\n",
    "    if i%2==0:\n",
    "        e_list.append(i)\n",
    "    else:\n",
    "        o_list.append(i)\n",
    "print('even list:',e_list)\n",
    "print('odd list:',o_list)"
   ]
  },
  {
   "cell_type": "code",
   "execution_count": null,
   "id": "fef4c6b1-5c0b-4c20-a933-c277ddd9ef0f",
   "metadata": {},
   "outputs": [],
   "source": [
    "clear, copy, count, extend (concatenation vs append vs extend), index\n"
   ]
  },
  {
   "cell_type": "code",
   "execution_count": 24,
   "id": "e0d45b4c-6cad-4051-ba18-f6854fbaccef",
   "metadata": {},
   "outputs": [
    {
     "data": {
      "text/plain": [
       "['apple', 'ball', 'cat', 'dog']"
      ]
     },
     "execution_count": 24,
     "metadata": {},
     "output_type": "execute_result"
    }
   ],
   "source": [
    "l=['apple','cat','dog','ball']\n",
    "# sort it without using sort method\n",
    "for i in range(len(l)):\n",
    "    for j in range(len(l)-i-1):\n",
    "        if l[j]>l[j+1]:\n",
    "            l[j],l[j+1]=l[j+1],l[j]\n",
    "l"
   ]
  },
  {
   "cell_type": "code",
   "execution_count": 28,
   "id": "b514df2e-b0b7-4d9a-83b3-ba126e747658",
   "metadata": {},
   "outputs": [
    {
     "name": "stdout",
     "output_type": "stream",
     "text": [
      "maximum value is 89\n",
      "minimum value is 2\n"
     ]
    }
   ],
   "source": [
    "l=[10,15,2,25,89]\n",
    "#find the maximum word and minimum word without using methods\n",
    "for i in range(len(l)):\n",
    "    for j in range(len(l)-i-1):\n",
    "        if l[j]>l[j+1]:\n",
    "            l[j],l[j+1]=l[j+1],l[j]\n",
    "print(\"maximum value is\",l[len(l)-1])\n",
    "print(\"minimum value is\",l[0])"
   ]
  },
  {
   "cell_type": "code",
   "execution_count": 39,
   "id": "d5cdb470-2e7f-4f83-8695-8c582adb9864",
   "metadata": {},
   "outputs": [
    {
     "data": {
      "text/plain": [
       "[11, 22, 33, 44]"
      ]
     },
     "execution_count": 39,
     "metadata": {},
     "output_type": "execute_result"
    }
   ],
   "source": [
    "# l1=[1,2,3,4]\n",
    "# l2=[10,20,30,40]\n",
    "# out=[11,22,33,44]\n",
    "\n",
    "l1=[1,2,3,4]\n",
    "l2=[10,20,30,40]\n",
    "n1=len(l1)\n",
    "n2=len(l2)\n",
    "l=[]\n",
    "if n1==n2:\n",
    "    for i in range(n1):\n",
    "        l3=l1[i]+l2[i]\n",
    "        l.append(l3)\n",
    "l"
   ]
  },
  {
   "cell_type": "code",
   "execution_count": 42,
   "id": "2c9d73aa-5cd1-4f55-a364-5a321c621d41",
   "metadata": {},
   "outputs": [
    {
     "data": {
      "text/plain": [
       "[11, 22, 33, 44, 5]"
      ]
     },
     "execution_count": 42,
     "metadata": {},
     "output_type": "execute_result"
    }
   ],
   "source": [
    "# l1=[1,2,3,4,5]\n",
    "# l2=[10,20,30,40]\n",
    "# out=[11,22,33,44,5]\n",
    "\n",
    "l1=[1,2,3,4,5]\n",
    "l2=[10,20,30,40]\n",
    "n1=len(l1)\n",
    "n2=len(l2)\n",
    "l=[]\n",
    "if n1>n2:\n",
    "    for i in range(n2):\n",
    "        l3=l1[i]+l2[i]\n",
    "        l.append(l3)\n",
    "l.append(l1[len(l1)-1])\n",
    "l"
   ]
  },
  {
   "cell_type": "code",
   "execution_count": 66,
   "id": "7f66e4e9-6dcb-423d-be9e-56a86ca8d8d4",
   "metadata": {},
   "outputs": [
    {
     "name": "stdout",
     "output_type": "stream",
     "text": [
      "maximum word in the string is you\n",
      "minimum word in the string is are\n",
      "['are', 'at', 'good', 'hello', 'how', 'im', 'in', 'it', 'naresh', 'python', 'you']\n",
      "[1, 1, 2, 1, 1, 1, 1, 1, 1, 1, 1]\n",
      "most repeated word is good\n",
      "biggest number is 2\n"
     ]
    }
   ],
   "source": [
    "# s='hello how are you im good at python in naresh it'\n",
    "# find the maximum word\n",
    "# find the minimum word\n",
    "# find the most repeated word\n",
    "\n",
    "s='hello how are you im good good at python in naresh it'\n",
    "l=s.split()\n",
    "for i in range(len(l)):\n",
    "    for j in range(len(l)-i-1):\n",
    "        if l[j]>l[j+1]:\n",
    "            l[j],l[j+1]=l[j+1],l[j]\n",
    "print(\"maximum word in the string is\",l[len(l)-1])\n",
    "print(\"minimum word in the string is\",l[0])\n",
    "l1=[]\n",
    "l2=[]\n",
    "for i in l:\n",
    "    if i not in l1:\n",
    "        count=0\n",
    "        for j in l:\n",
    "            if i==j:\n",
    "                count=count+1\n",
    "        l1.append(i)\n",
    "        l2.append(count)\n",
    "print(l1)\n",
    "print(l2)\n",
    "max=0\n",
    "for i in range(len(l2)):\n",
    "        if l2[i]>l2[max]:\n",
    "            max=i\n",
    "print(\"most repeated word is\",l1[max])\n",
    "print(\"biggest number is\",l2[max])"
   ]
  },
  {
   "cell_type": "markdown",
   "id": "f8fcc53d-306c-4bd8-ab49-208c4b5a4cc0",
   "metadata": {},
   "source": [
    "**list comprehensions**"
   ]
  },
  {
   "cell_type": "markdown",
   "id": "862bc29f-0f30-4334-8c10-d43c14dcef4f",
   "metadata": {},
   "source": [
    "$pattern-1$\n",
    "\n",
    "**only for loop**\n",
    "\n",
    "#syntax\n",
    "l=[<output> <forloop>]"
   ]
  },
  {
   "cell_type": "code",
   "execution_count": 10,
   "id": "2ba5c5d1-64e2-4a52-b928-69e24f4ddb45",
   "metadata": {},
   "outputs": [
    {
     "data": {
      "text/plain": [
       "[1, 4, 9, 16, 25]"
      ]
     },
     "execution_count": 10,
     "metadata": {},
     "output_type": "execute_result"
    }
   ],
   "source": [
    "# l=[]\n",
    "# for i in range(1,6):\n",
    "#    l.append(i*i)\n",
    "\n",
    "l1=[i*i for i in range(1,6)]\n",
    "l1"
   ]
  },
  {
   "cell_type": "code",
   "execution_count": 13,
   "id": "57de277d-660b-45c4-a91a-517a0eba295d",
   "metadata": {},
   "outputs": [
    {
     "data": {
      "text/plain": [
       "['hello', 'hello', 'hello', 'hello', 'hello']"
      ]
     },
     "execution_count": 13,
     "metadata": {},
     "output_type": "execute_result"
    }
   ],
   "source": [
    "# WAP ask the user say 5 times hello save hello in a list using list comprehension\n",
    "\n",
    "l1=['hello' for i in range(5)]\n",
    "l1"
   ]
  },
  {
   "cell_type": "code",
   "execution_count": null,
   "id": "b663d2cf-eb0f-4627-bafb-1a3079a64302",
   "metadata": {},
   "outputs": [],
   "source": [
    "**for loop with if condition**\n",
    "\n",
    "[<output> <for loop> <if condition>]"
   ]
  },
  {
   "cell_type": "code",
   "execution_count": 16,
   "id": "064084b9-17de-4b12-9be6-9ca7d98f1190",
   "metadata": {},
   "outputs": [
    {
     "data": {
      "text/plain": [
       "['Hyd', 'Chennai']"
      ]
     },
     "execution_count": 16,
     "metadata": {},
     "output_type": "execute_result"
    }
   ],
   "source": [
    "# L=['Hyd','blr','Chennai','pune']\n",
    "# l=[]\n",
    "# for i in L:\n",
    "#     if i.istitle():\n",
    "#         l.append(i)\n",
    "# l\n",
    "\n",
    "L=['Hyd','blr','Chennai','pune']\n",
    "out=[i for i in L if i.istitle()]\n",
    "out"
   ]
  },
  {
   "cell_type": "code",
   "execution_count": 17,
   "id": "ae4fdce8-d011-41a8-9bb1-74410caaa3cc",
   "metadata": {},
   "outputs": [
    {
     "data": {
      "text/plain": [
       "['HYD', 'PUNE']"
      ]
     },
     "execution_count": 17,
     "metadata": {},
     "output_type": "execute_result"
    }
   ],
   "source": [
    "# L=['HYD','blr','Chennai','PUNE']\n",
    "# l=[]\n",
    "# for i in L:\n",
    "#     if i.isupper():\n",
    "#         l.append(i)\n",
    "# l\n",
    "\n",
    "L=['HYD','blr','Chennai','PUNE']\n",
    "out=[i for i in L if i.isupper()]\n",
    "out"
   ]
  },
  {
   "cell_type": "code",
   "execution_count": 18,
   "id": "5f4b5729-d5ff-4fe9-b012-55c2a74dbcaf",
   "metadata": {},
   "outputs": [
    {
     "data": {
      "text/plain": [
       "['bl#r', 'Che#nnai']"
      ]
     },
     "execution_count": 18,
     "metadata": {},
     "output_type": "execute_result"
    }
   ],
   "source": [
    "# L=['HYD','bl#r','Che#nnai','PUNE']\n",
    "# l=[]\n",
    "# for i in L:\n",
    "#     if '#' in i:\n",
    "#         l.append(i)\n",
    "# l\n",
    "\n",
    "L=['HYD','bl#r','Che#nnai','PUNE']\n",
    "out=[i for i in L if \"#\" in i]\n",
    "out"
   ]
  },
  {
   "cell_type": "code",
   "execution_count": 19,
   "id": "9e47e6fa-9eab-4324-9add-e7de3def1ed8",
   "metadata": {},
   "outputs": [
    {
     "data": {
      "text/plain": [
       "['Chennai']"
      ]
     },
     "execution_count": 19,
     "metadata": {},
     "output_type": "execute_result"
    }
   ],
   "source": [
    "# L=['HYD','blr','Chennai','PUNE']\n",
    "# l=[]\n",
    "# for i in L:\n",
    "#     if len(i)>4:\n",
    "#         l.append(i)\n",
    "# l\n",
    "\n",
    "L=['HYD','blr','Chennai','PUNE']\n",
    "out=[i for i in L if len(i)>4]\n",
    "out"
   ]
  },
  {
   "cell_type": "code",
   "execution_count": null,
   "id": "cbea64e9-9ac2-4c9b-874b-f71bfe68618a",
   "metadata": {},
   "outputs": [],
   "source": [
    "**for loop with if-else**\n",
    "\n",
    "[<if output> <if condition> <else> <else output> <for loop>]"
   ]
  },
  {
   "cell_type": "code",
   "execution_count": 34,
   "id": "a73e23ce-c250-46b7-8ecb-85a7cba52814",
   "metadata": {},
   "outputs": [
    {
     "data": {
      "text/plain": [
       "['odd 1',\n",
       " 'even 2',\n",
       " 'odd 3',\n",
       " 'even 4',\n",
       " 'odd 5',\n",
       " 'even 6',\n",
       " 'odd 7',\n",
       " 'even 8',\n",
       " 'odd 9',\n",
       " 'even 10']"
      ]
     },
     "execution_count": 34,
     "metadata": {},
     "output_type": "execute_result"
    }
   ],
   "source": [
    "out=[f\"even {i}\" if i%2==0 else f\"odd {i}\" for i in range(1,11)]\n",
    "out"
   ]
  },
  {
   "cell_type": "code",
   "execution_count": 35,
   "id": "ba88310f-8ce9-4490-8598-f455ed753f27",
   "metadata": {},
   "outputs": [
    {
     "data": {
      "text/plain": [
       "['__add__',\n",
       " '__class__',\n",
       " '__class_getitem__',\n",
       " '__contains__',\n",
       " '__delattr__',\n",
       " '__delitem__',\n",
       " '__dir__',\n",
       " '__doc__',\n",
       " '__eq__',\n",
       " '__format__',\n",
       " '__ge__',\n",
       " '__getattribute__',\n",
       " '__getitem__',\n",
       " '__getstate__',\n",
       " '__gt__',\n",
       " '__hash__',\n",
       " '__iadd__',\n",
       " '__imul__',\n",
       " '__init__',\n",
       " '__init_subclass__',\n",
       " '__iter__',\n",
       " '__le__',\n",
       " '__len__',\n",
       " '__lt__',\n",
       " '__mul__',\n",
       " '__ne__',\n",
       " '__new__',\n",
       " '__reduce__',\n",
       " '__reduce_ex__',\n",
       " '__repr__',\n",
       " '__reversed__',\n",
       " '__rmul__',\n",
       " '__setattr__',\n",
       " '__setitem__',\n",
       " '__sizeof__',\n",
       " '__str__',\n",
       " '__subclasshook__',\n",
       " 'append',\n",
       " 'clear',\n",
       " 'copy',\n",
       " 'count',\n",
       " 'extend',\n",
       " 'index',\n",
       " 'insert',\n",
       " 'pop',\n",
       " 'remove',\n",
       " 'reverse',\n",
       " 'sort']"
      ]
     },
     "execution_count": 35,
     "metadata": {},
     "output_type": "execute_result"
    }
   ],
   "source": [
    "dir([])"
   ]
  },
  {
   "cell_type": "markdown",
   "id": "dd1eaa79-a633-4eb8-9071-5426c40aafd7",
   "metadata": {},
   "source": [
    "$count$"
   ]
  },
  {
   "cell_type": "code",
   "execution_count": 37,
   "id": "382c3b55-4f25-40af-8aff-c8a4497d4fbc",
   "metadata": {},
   "outputs": [
    {
     "data": {
      "text/plain": [
       "3"
      ]
     },
     "execution_count": 37,
     "metadata": {},
     "output_type": "execute_result"
    }
   ],
   "source": [
    "l=[10,10,10,100,200,300]\n",
    "l.count(10)"
   ]
  },
  {
   "cell_type": "code",
   "execution_count": 45,
   "id": "cbcb617f-6e8b-4c3a-b29d-5026a94867d3",
   "metadata": {},
   "outputs": [
    {
     "name": "stdout",
     "output_type": "stream",
     "text": [
      "can 5\n",
      "canner 2\n",
      "not 1\n",
      "a 2\n",
      "but 1\n",
      "you 1\n",
      "make 1\n"
     ]
    }
   ],
   "source": [
    "# can canner can not a can but canner can you make a can\n",
    "# find out the each word how many times repeated\n",
    "\n",
    "string=\"can canner can not a can but canner can you make a can\"\n",
    "l=string.split()\n",
    "l1=[]\n",
    "for i in l:\n",
    "    if i not in l1:\n",
    "        print(i,l.count(i))\n",
    "        l1.append(i)"
   ]
  },
  {
   "cell_type": "markdown",
   "id": "b09c2ce2-2154-409a-a213-7ef919a90e5d",
   "metadata": {},
   "source": [
    "**extend**"
   ]
  },
  {
   "cell_type": "code",
   "execution_count": 48,
   "id": "fb5ce815-8a9a-4b2c-9e58-b532911cc7e5",
   "metadata": {},
   "outputs": [
    {
     "data": {
      "text/plain": [
       "[1, 2, 3, 4, 5, 6, 7, 8]"
      ]
     },
     "execution_count": 48,
     "metadata": {},
     "output_type": "execute_result"
    }
   ],
   "source": [
    "l1=[1,2,3,4]\n",
    "l2=[5,6,7,8]\n",
    "l1.extend(l2)\n",
    "l1"
   ]
  },
  {
   "cell_type": "code",
   "execution_count": null,
   "id": "b00ac2f6-767a-435d-83ab-a0baa78c74ba",
   "metadata": {},
   "outputs": [],
   "source": [
    "**difference between extend and concatenation**\n",
    "\n",
    "- extend will overwrite the output\n",
    "\n",
    "- concatenation just add the list"
   ]
  },
  {
   "cell_type": "markdown",
   "id": "a3a76d68-c1da-4f0a-b149-34321a09ce94",
   "metadata": {},
   "source": [
    "$insert$"
   ]
  },
  {
   "cell_type": "code",
   "execution_count": 51,
   "id": "40c4646d-9c3b-4dfe-bec1-c8d9bf97dc6b",
   "metadata": {},
   "outputs": [
    {
     "data": {
      "text/plain": [
       "[1, 2, 3, 1, 4]"
      ]
     },
     "execution_count": 51,
     "metadata": {},
     "output_type": "execute_result"
    }
   ],
   "source": [
    "l=[1,2,3,4]\n",
    "l.insert(3,1)\n",
    "l"
   ]
  },
  {
   "cell_type": "code",
   "execution_count": 54,
   "id": "60d22ede-79b4-4c41-858e-b89e74c6827a",
   "metadata": {},
   "outputs": [
    {
     "data": {
      "text/plain": [
       "[1, 4, 7, 10, 'apple', 13, 16, 19]"
      ]
     },
     "execution_count": 54,
     "metadata": {},
     "output_type": "execute_result"
    }
   ],
   "source": [
    "l=[i for i in range(1,20,3)]\n",
    "\n",
    "# I want to insert 'apple' after 10\n",
    "# after 10 means index=4\n",
    "# we should not count it\n",
    "# automatically the index value should come\n",
    "\n",
    "index=l.index(10)\n",
    "l.insert(index+1,'apple')\n",
    "l"
   ]
  },
  {
   "cell_type": "markdown",
   "id": "01c3385a-9066-4f41-9c45-a05fb41bee4e",
   "metadata": {},
   "source": [
    "**pop**"
   ]
  },
  {
   "cell_type": "code",
   "execution_count": 57,
   "id": "34b0cb84-9627-4a89-8a4d-39208170e653",
   "metadata": {},
   "outputs": [
    {
     "data": {
      "text/plain": [
       "[1, 4, 7, 10, 13, 16]"
      ]
     },
     "execution_count": 57,
     "metadata": {},
     "output_type": "execute_result"
    }
   ],
   "source": [
    "l=[i for i in range(1,20,3)]\n",
    "l.pop()\n",
    "l"
   ]
  },
  {
   "cell_type": "markdown",
   "id": "6622fabb-5173-431f-8530-8eecfc690f3f",
   "metadata": {},
   "source": [
    "- pop will remove the last value\n",
    "\n",
    "- inside pop we have index argument\n",
    "\n",
    "- by default index =-1 , -1 means last value\n",
    "\n",
    "- pop will remove the value ,the output will overwrite\n",
    "\n",
    "- pop also return the item value, which it is  removing"
   ]
  },
  {
   "cell_type": "code",
   "execution_count": 59,
   "id": "0d13f3bf-cbb6-4a05-bdc8-93719109db10",
   "metadata": {},
   "outputs": [
    {
     "data": {
      "text/plain": [
       "[1, 2, 4]"
      ]
     },
     "execution_count": 59,
     "metadata": {},
     "output_type": "execute_result"
    }
   ],
   "source": [
    "l=[1,2,3,4]\n",
    "l.pop(2)\n",
    "l"
   ]
  },
  {
   "cell_type": "code",
   "execution_count": 61,
   "id": "4c3e61d7-93fc-4c57-9d26-3a8edac000ef",
   "metadata": {},
   "outputs": [
    {
     "data": {
      "text/plain": [
       "[1, 4]"
      ]
     },
     "execution_count": 61,
     "metadata": {},
     "output_type": "execute_result"
    }
   ],
   "source": [
    "k=l.index(2)\n",
    "l.pop(k)\n",
    "l"
   ]
  },
  {
   "cell_type": "markdown",
   "id": "80c2bcf1-d2fe-412d-9f33-4f194499135f",
   "metadata": {},
   "source": [
    "$remove$"
   ]
  },
  {
   "cell_type": "code",
   "execution_count": 63,
   "id": "25c31cb8-5e39-4938-bee1-91fbe65e1c10",
   "metadata": {},
   "outputs": [
    {
     "data": {
      "text/plain": [
       "[1, 3, 4]"
      ]
     },
     "execution_count": 63,
     "metadata": {},
     "output_type": "execute_result"
    }
   ],
   "source": [
    "l=[1,2,3,4]\n",
    "l.remove(2)\n",
    "l"
   ]
  },
  {
   "cell_type": "markdown",
   "id": "a899b8d8-2256-454b-a8ac-a1914ad9cfe0",
   "metadata": {},
   "source": [
    "- remove will take the direct item name\n",
    "\n",
    "- pop will take only the index\n",
    "\n",
    "- both raise the error"
   ]
  },
  {
   "cell_type": "code",
   "execution_count": 49,
   "id": "68fda469-b763-47a8-800d-5f854cadbd92",
   "metadata": {},
   "outputs": [
    {
     "name": "stdout",
     "output_type": "stream",
     "text": [
      "c : 7\n",
      "a : 10\n",
      "n : 10\n",
      "  : 12\n",
      "e : 3\n",
      "r : 2\n",
      "o : 2\n",
      "t : 2\n",
      "b : 1\n",
      "u : 2\n",
      "y : 1\n",
      "m : 1\n",
      "k : 1\n"
     ]
    }
   ],
   "source": [
    "s=\"can canner can not a can but canner can you make a can\"\n",
    "l1=[]\n",
    "for i in s:\n",
    "    if i not in l1:\n",
    "        count=0\n",
    "        for j in s:\n",
    "            if i==j:\n",
    "                count=count+1\n",
    "        l1.append(i)\n",
    "        print(i,\":\",count) "
   ]
  },
  {
   "cell_type": "markdown",
   "id": "302121e0-2576-4d4b-98c0-636045389bf5",
   "metadata": {},
   "source": [
    "**sorted-sort**"
   ]
  },
  {
   "cell_type": "code",
   "execution_count": 1,
   "id": "b2569148-a9e4-41e1-855a-645cd76aff94",
   "metadata": {},
   "outputs": [
    {
     "data": {
      "text/plain": [
       "[1, 2, 3, 4]"
      ]
     },
     "execution_count": 1,
     "metadata": {},
     "output_type": "execute_result"
    }
   ],
   "source": [
    "sorted([2,1,3,4])"
   ]
  },
  {
   "cell_type": "code",
   "execution_count": 2,
   "id": "0f7ebb7e-5127-4573-a2b1-49de556b71bc",
   "metadata": {},
   "outputs": [],
   "source": [
    "[2,1,3,4].sort()"
   ]
  },
  {
   "cell_type": "code",
   "execution_count": 13,
   "id": "387efb00-dbb7-432f-b18f-cb3b027ea824",
   "metadata": {},
   "outputs": [
    {
     "data": {
      "text/plain": [
       "[4, 3, 2, 1]"
      ]
     },
     "execution_count": 13,
     "metadata": {},
     "output_type": "execute_result"
    }
   ],
   "source": [
    "l=[1,2,3,4]\n",
    "l.reverse()\n",
    "l"
   ]
  },
  {
   "cell_type": "code",
   "execution_count": 14,
   "id": "42e9a493-bf73-41de-af01-5e142862dd9f",
   "metadata": {},
   "outputs": [
    {
     "data": {
      "text/plain": [
       "[1, 2, 3, 4]"
      ]
     },
     "execution_count": 14,
     "metadata": {},
     "output_type": "execute_result"
    }
   ],
   "source": [
    "[1,2,3,4].reverse()\n",
    "[1,2,3,4]"
   ]
  },
  {
   "cell_type": "code",
   "execution_count": 15,
   "id": "464b130f-ba7e-4a10-8195-dc08ad5824af",
   "metadata": {},
   "outputs": [
    {
     "data": {
      "text/plain": [
       "[2, 4, 10, 40]"
      ]
     },
     "execution_count": 15,
     "metadata": {},
     "output_type": "execute_result"
    }
   ],
   "source": [
    "l=[10,2,4,40]\n",
    "l.sort()\n",
    "l"
   ]
  },
  {
   "cell_type": "markdown",
   "id": "fb479263-fbad-4a4a-b2f1-c39e856a69f5",
   "metadata": {},
   "source": [
    "- sort is a method    (.sort())\n",
    "\n",
    "- sorted is a keyword   (sorted())"
   ]
  },
  {
   "cell_type": "markdown",
   "id": "2c6c3109-e0fd-44e0-97cb-4b0e219255e1",
   "metadata": {},
   "source": [
    "- keywords are generic\n",
    "\n",
    "- sorted and revrsed keyword can use for strings and lists\n",
    "\n",
    "- every data type has its own methods\n",
    "\n",
    "- whenever you work on which data type you need to work on those methods only"
   ]
  },
  {
   "cell_type": "markdown",
   "id": "f770b7b8-6186-4369-afcf-91130fbef6f3",
   "metadata": {},
   "source": [
    "$del$"
   ]
  },
  {
   "cell_type": "code",
   "execution_count": 18,
   "id": "daecff89-2a83-4cd9-a9d2-12b79cde098b",
   "metadata": {},
   "outputs": [
    {
     "data": {
      "text/plain": [
       "[2, 3, 4]"
      ]
     },
     "execution_count": 18,
     "metadata": {},
     "output_type": "execute_result"
    }
   ],
   "source": [
    "l=[1,2,3,4]\n",
    "del(l[0])\n",
    "l"
   ]
  },
  {
   "cell_type": "code",
   "execution_count": 20,
   "id": "29fb13a9-bf32-4041-bfab-f5cf17d4a2f5",
   "metadata": {},
   "outputs": [
    {
     "ename": "NameError",
     "evalue": "name 'l' is not defined",
     "output_type": "error",
     "traceback": [
      "\u001b[1;31m---------------------------------------------------------------------------\u001b[0m",
      "\u001b[1;31mNameError\u001b[0m                                 Traceback (most recent call last)",
      "Cell \u001b[1;32mIn[20], line 3\u001b[0m\n\u001b[0;32m      1\u001b[0m l\u001b[38;5;241m=\u001b[39m[\u001b[38;5;241m1\u001b[39m,\u001b[38;5;241m2\u001b[39m,\u001b[38;5;241m3\u001b[39m,\u001b[38;5;241m4\u001b[39m]\n\u001b[0;32m      2\u001b[0m \u001b[38;5;28;01mdel\u001b[39;00m(l)\n\u001b[1;32m----> 3\u001b[0m l\n",
      "\u001b[1;31mNameError\u001b[0m: name 'l' is not defined"
     ]
    }
   ],
   "source": [
    "l=[1,2,3,4]\n",
    "del(l)\n",
    "l"
   ]
  },
  {
   "cell_type": "markdown",
   "id": "1ed2c31f-2747-47c8-a3a1-0f88bca32510",
   "metadata": {},
   "source": [
    "**zip operator**"
   ]
  },
  {
   "cell_type": "code",
   "execution_count": 21,
   "id": "ee4050be-1ee2-4ae7-b5e0-cbdaac3b14e0",
   "metadata": {},
   "outputs": [
    {
     "data": {
      "text/plain": [
       "[11, 14, 16]"
      ]
     },
     "execution_count": 21,
     "metadata": {},
     "output_type": "execute_result"
    }
   ],
   "source": [
    "l1=[1,2,3]\n",
    "l2=[10,12,13]\n",
    "#out=[11,14,16]\n",
    "out=[]\n",
    "for i in range(len(l1)):\n",
    "    out.append(l1[i]+l2[i])\n",
    "out"
   ]
  },
  {
   "cell_type": "code",
   "execution_count": 24,
   "id": "1d4f1682-c496-44d1-b99c-75892b0ff36d",
   "metadata": {},
   "outputs": [
    {
     "name": "stdout",
     "output_type": "stream",
     "text": [
      "1 10\n",
      "2 12\n",
      "3 13\n"
     ]
    }
   ],
   "source": [
    "l1=[1,2,3]\n",
    "l2=[10,12,13]\n",
    "for i,j in zip(l1,l2):\n",
    "    print(i,j)"
   ]
  },
  {
   "cell_type": "code",
   "execution_count": 29,
   "id": "da59d8bb-2bcf-4634-9d1d-cdeb6f1e3fa2",
   "metadata": {},
   "outputs": [
    {
     "name": "stdout",
     "output_type": "stream",
     "text": [
      "1 10\n",
      "2 12\n",
      "3 13\n"
     ]
    },
    {
     "data": {
      "text/plain": [
       "[(1, 10), (2, 12), (3, 13)]"
      ]
     },
     "execution_count": 29,
     "metadata": {},
     "output_type": "execute_result"
    }
   ],
   "source": [
    "l1=[1,2,3]\n",
    "l2=[10,12,13]\n",
    "#apply the zip\n",
    "#zip is a iterator\n",
    "#get the for loop\n",
    "#two values we zipped\n",
    "#we need two variables\n",
    "for i,j in zip(l1,l2):\n",
    "    print(i,j)\n",
    "out=[(i,j) for i,j in zip(l1,l2)]\n",
    "out"
   ]
  },
  {
   "cell_type": "code",
   "execution_count": null,
   "id": "7819455f-e2ae-4020-96eb-bbfee30b96df",
   "metadata": {},
   "outputs": [],
   "source": [
    "############################### part-1 #############################\n",
    "1)How to display\n",
    "2)types\n",
    "3)len\n",
    "4)max\n",
    "5)min\n",
    "6)sum\n",
    "7)reversed\n",
    "8)sorted\n",
    "9)index\n",
    "10)in\n",
    "11)not in\n",
    "12)for loop\n",
    "13)mutable\n",
    "14)slice\n",
    "15)concatenation"
   ]
  }
 ],
 "metadata": {
  "kernelspec": {
   "display_name": "Python 3 (ipykernel)",
   "language": "python",
   "name": "python3"
  },
  "language_info": {
   "codemirror_mode": {
    "name": "ipython",
    "version": 3
   },
   "file_extension": ".py",
   "mimetype": "text/x-python",
   "name": "python",
   "nbconvert_exporter": "python",
   "pygments_lexer": "ipython3",
   "version": "3.11.7"
  }
 },
 "nbformat": 4,
 "nbformat_minor": 5
}
