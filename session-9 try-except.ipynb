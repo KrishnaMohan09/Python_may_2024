{
 "cells": [
  {
   "cell_type": "markdown",
   "id": "2a0f4dcc-7109-4162-a4c7-095f20a436bc",
   "metadata": {},
   "source": [
    "**try-except**\n",
    "\n",
    "- Generally python is a sequential process \n",
    "- which means if we get error , the compiler will not execute other statements\n",
    "- there is a situations even though if you got error at paticular lines\n",
    "- compiler should execute some part of the code\n",
    "- this is possible by using try-except method\n",
    "- we have two blocks\n",
    "    - try block\n",
    "      - original code will run under try block \n",
    "    - except block\n",
    "      - if any error comes, it will redirect to except block\n"
   ]
  },
  {
   "cell_type": "code",
   "execution_count": 1,
   "id": "526a9b39-d03f-4f7b-b809-9a13109ba5b5",
   "metadata": {},
   "outputs": [
    {
     "ename": "ZeroDivisionError",
     "evalue": "division by zero",
     "output_type": "error",
     "traceback": [
      "\u001b[1;31m---------------------------------------------------------------------------\u001b[0m",
      "\u001b[1;31mZeroDivisionError\u001b[0m                         Traceback (most recent call last)",
      "Cell \u001b[1;32mIn[1], line 3\u001b[0m\n\u001b[0;32m      1\u001b[0m a\u001b[38;5;241m=\u001b[39m\u001b[38;5;241m10\u001b[39m\n\u001b[0;32m      2\u001b[0m b\u001b[38;5;241m=\u001b[39m\u001b[38;5;241m0\u001b[39m\n\u001b[1;32m----> 3\u001b[0m a\u001b[38;5;241m/\u001b[39mb\n",
      "\u001b[1;31mZeroDivisionError\u001b[0m: division by zero"
     ]
    }
   ],
   "source": [
    "a=10\n",
    "b=0\n",
    "a/b"
   ]
  },
  {
   "cell_type": "code",
   "execution_count": 2,
   "id": "397e2b10-aa7d-4784-83f4-a8f5a3ab51bc",
   "metadata": {},
   "outputs": [
    {
     "ename": "ZeroDivisionError",
     "evalue": "division by zero",
     "output_type": "error",
     "traceback": [
      "\u001b[1;31m---------------------------------------------------------------------------\u001b[0m",
      "\u001b[1;31mZeroDivisionError\u001b[0m                         Traceback (most recent call last)",
      "Cell \u001b[1;32mIn[2], line 3\u001b[0m\n\u001b[0;32m      1\u001b[0m a\u001b[38;5;241m=\u001b[39m\u001b[38;5;241m10\u001b[39m\n\u001b[0;32m      2\u001b[0m b\u001b[38;5;241m=\u001b[39m\u001b[38;5;241m0\u001b[39m\n\u001b[1;32m----> 3\u001b[0m a\u001b[38;5;241m/\u001b[39mb\n\u001b[0;32m      4\u001b[0m rint(\u001b[38;5;124m\"\u001b[39m\u001b[38;5;124mHello\u001b[39m\u001b[38;5;124m\"\u001b[39m)\n",
      "\u001b[1;31mZeroDivisionError\u001b[0m: division by zero"
     ]
    }
   ],
   "source": [
    "a=10\n",
    "b=0\n",
    "a/b\n",
    "rint(\"Hello\")"
   ]
  },
  {
   "cell_type": "markdown",
   "id": "036f4d1b-395c-438c-ac3f-96b4ad17eebb",
   "metadata": {},
   "source": [
    "**case-1**\n",
    "- whenever we got the error in try block the compiler will execute statements of except block"
   ]
  },
  {
   "cell_type": "code",
   "execution_count": 3,
   "id": "cc8c95f7-f1cb-4af5-8275-4d31c43ddf61",
   "metadata": {},
   "outputs": [
    {
     "name": "stdout",
     "output_type": "stream",
     "text": [
      "Hello\n"
     ]
    }
   ],
   "source": [
    "try:\n",
    "    a=10\n",
    "    b=0\n",
    "    a/b\n",
    "except:\n",
    "    print(\"Hello\")"
   ]
  },
  {
   "cell_type": "code",
   "execution_count": 4,
   "id": "53a94119-aec4-4ceb-bc97-6c318b2c3de0",
   "metadata": {},
   "outputs": [
    {
     "name": "stdout",
     "output_type": "stream",
     "text": [
      "the value a is: 10\n",
      "Hello\n"
     ]
    }
   ],
   "source": [
    "try:\n",
    "    a=10\n",
    "    b=0\n",
    "    print(\"the value a is:\",a)\n",
    "    a/b\n",
    "    print(\"you will get error\")\n",
    "except:\n",
    "    print(\"Hello\")"
   ]
  },
  {
   "cell_type": "markdown",
   "id": "b04428af-05ed-4603-8a47-847540338d02",
   "metadata": {},
   "source": [
    "**case-2**\n",
    "- if there is no error in try block \n",
    "- the compiler will not execute statements of except block"
   ]
  },
  {
   "cell_type": "code",
   "execution_count": 7,
   "id": "ffdd9bb2-3970-472f-92e5-e22129109a79",
   "metadata": {},
   "outputs": [
    {
     "name": "stdout",
     "output_type": "stream",
     "text": [
      "the value a is: 10\n",
      "the value a is: 10\n",
      "you will get error\n"
     ]
    }
   ],
   "source": [
    "try:\n",
    "    a=10\n",
    "    b=10\n",
    "    print(\"the value a is:\",a)\n",
    "    print(\"the value a is:\",b)\n",
    "    a/b\n",
    "    print(\"you will get error\")\n",
    "except:\n",
    "    print(\"Hello\")"
   ]
  },
  {
   "cell_type": "code",
   "execution_count": 10,
   "id": "e9061605-e8d2-4b35-9514-025cdbcc7a08",
   "metadata": {},
   "outputs": [
    {
     "name": "stdout",
     "output_type": "stream",
     "text": [
      "hai\n",
      "hello\n"
     ]
    },
    {
     "name": "stdin",
     "output_type": "stream",
     "text": [
      "enter a num1 : 1\n",
      "enter a num2 : 2\n"
     ]
    },
    {
     "name": "stdout",
     "output_type": "stream",
     "text": [
      "the addition of 1 and 2 is : 3\n",
      "bye\n"
     ]
    }
   ],
   "source": [
    "print(\"hai\")\n",
    "print(\"hello\")\n",
    "try:\n",
    "    a=eval(input(\"enter a num1 :\"))\n",
    "    b=eval(input(\"enter a num2 :\"))\n",
    "    add=a+b\n",
    "    print(f\"the addition of {a} and {b} is : {add}\")\n",
    "except:\n",
    "    print(\"error is there\")\n",
    "    print(\"check the code\")\n",
    "print(\"bye\")"
   ]
  },
  {
   "cell_type": "code",
   "execution_count": 12,
   "id": "c29f474d-bdb7-4ee1-a90a-db68603ce837",
   "metadata": {},
   "outputs": [
    {
     "name": "stdout",
     "output_type": "stream",
     "text": [
      "hai\n",
      "hello\n"
     ]
    },
    {
     "name": "stdin",
     "output_type": "stream",
     "text": [
      "enter a num1 : h\n"
     ]
    },
    {
     "name": "stdout",
     "output_type": "stream",
     "text": [
      "error is there\n",
      "check the code\n",
      "n2 is greater\n",
      "bye\n"
     ]
    }
   ],
   "source": [
    "print(\"hai\")\n",
    "print(\"hello\")\n",
    "try:\n",
    "    a=eval(input(\"enter a num1 :\"))\n",
    "    b=eval(input(\"enter a num2 :\"))\n",
    "    add=a+b\n",
    "    print(f\"the addition of {a} and {b} is : {add}\")\n",
    "except:\n",
    "    print(\"error is there\")\n",
    "    print(\"check the code\")\n",
    "    n1=100\n",
    "    n2=200\n",
    "    if n1>n2:\n",
    "        print(\"n1 is greater\")\n",
    "    else:\n",
    "        print(\"n2 is greater\")\n",
    "print(\"bye\")"
   ]
  },
  {
   "cell_type": "markdown",
   "id": "da7c81a2-d1a6-4fe8-a43c-fdb428af9c2c",
   "metadata": {},
   "source": [
    "**capture the errors**\n",
    "- mainly try and except will use to capture the errors\n"
   ]
  },
  {
   "cell_type": "markdown",
   "id": "f44b1e8e-6896-49f9-b5e5-ebc60d4096b7",
   "metadata": {},
   "source": [
    "- syntax error \n",
    "  - if you miss the {,},\"\",:\n",
    "- name error\n",
    "  - if you not defined any name that in black color\n",
    "- division error\n",
    "  - some number divided by zero\n",
    "- indentation error\n",
    "  - after : we need some space\n",
    "- value  error \n",
    "  - number type conversion \n",
    "- type error\n",
    "  - any math operations on english letters"
   ]
  },
  {
   "cell_type": "code",
   "execution_count": 25,
   "id": "725283e7-c65f-4536-bf2b-9271f5087011",
   "metadata": {},
   "outputs": [
    {
     "name": "stdin",
     "output_type": "stream",
     "text": [
      "enter a num1 : 3\n",
      "enter a num2 : 4\n"
     ]
    },
    {
     "name": "stdout",
     "output_type": "stream",
     "text": [
      "the addition of 3 and 4 is : 0.75\n"
     ]
    }
   ],
   "source": [
    "try:\n",
    "    a=int(input(\"enter a num1 :\"))\n",
    "    b=eval(input(\"enter a num2 :\"))\n",
    "    add=a/b\n",
    "    print(f\"the addition of {a} and {b} is : {add}\")\n",
    "except Exception as e:\n",
    "    print(e)"
   ]
  },
  {
   "cell_type": "markdown",
   "id": "f579268c-ba8c-4df7-97e7-84572ccc3c33",
   "metadata": {},
   "source": [
    "** syntax errors will not capture by exception block**"
   ]
  },
  {
   "cell_type": "code",
   "execution_count": 27,
   "id": "28a8d179-3ebb-4f31-a7fd-0498e7e856e9",
   "metadata": {},
   "outputs": [
    {
     "name": "stdout",
     "output_type": "stream",
     "text": [
      "the 93 is odd\n"
     ]
    }
   ],
   "source": [
    "# apply try-exception block for even - odd program\n",
    "# wap implement above the code\n",
    "# by taking number randomly between 10,100\n",
    "\n",
    "import random\n",
    "try:\n",
    "    num=random.randint(10,100)\n",
    "    if num%2==0:\n",
    "        print(f\"the {num} is even\")\n",
    "    else:\n",
    "        print(f\"the {num} is odd\")\n",
    "except Exception as e:\n",
    "    print(e)"
   ]
  },
  {
   "cell_type": "code",
   "execution_count": 29,
   "id": "28d0c5e0-6be1-40f5-92bb-9e1a53f0c1e9",
   "metadata": {},
   "outputs": [
    {
     "name": "stdout",
     "output_type": "stream",
     "text": [
      "first number 97\n"
     ]
    },
    {
     "name": "stdin",
     "output_type": "stream",
     "text": [
      "second number : 98\n"
     ]
    },
    {
     "name": "stdout",
     "output_type": "stream",
     "text": [
      "you loss\n"
     ]
    }
   ],
   "source": [
    "# Game program\n",
    "# there are two numbers\n",
    "# num1 comes from random\n",
    "# num2 is taking from the keyboard\n",
    "# if both numbers  are equal\n",
    "# then print you won\n",
    "# else\n",
    "# print you loss\n",
    "\n",
    "import random\n",
    "try:\n",
    "    num1=random.randint(10,100)\n",
    "    print(f\"first number {num1}\")\n",
    "    num2=eval(input(\"second number :\"))\n",
    "    if num1==num2:\n",
    "        print(\"you won\")\n",
    "    else:\n",
    "        print(\"you loss\")\n",
    "except Exception as e:\n",
    "    print(e)"
   ]
  },
  {
   "cell_type": "code",
   "execution_count": 30,
   "id": "16c155cd-2681-4891-8c5c-e2bc0c49bc03",
   "metadata": {},
   "outputs": [
    {
     "name": "stdin",
     "output_type": "stream",
     "text": [
      "enter how much distance need to travel 25\n"
     ]
    },
    {
     "name": "stdout",
     "output_type": "stream",
     "text": [
      "free ride\n"
     ]
    }
   ],
   "source": [
    "# wap ask the user enter how much distance need to travel\n",
    "# ask the user charge per kilometer\n",
    "# if  the distance > 25 km\n",
    "#    then print total charge\n",
    "# otherwise\n",
    "#    print free ride\n",
    "try:\n",
    "    distance=eval(input(\"enter how much distance need to travel\"))\n",
    "    if distance>25:\n",
    "        charge=eval(input(\"enter charge per km\"))\n",
    "        total_charge=distance*charge\n",
    "        print(\"total charge\",total_charge)\n",
    "    else:\n",
    "        print(\"free ride\")\n",
    "except Exception as e:\n",
    "    print(e)"
   ]
  },
  {
   "cell_type": "code",
   "execution_count": 31,
   "id": "91d61978-f77d-4072-af0d-763c545dbeec",
   "metadata": {},
   "outputs": [
    {
     "name": "stdin",
     "output_type": "stream",
     "text": [
      "enter a number : 3\n"
     ]
    },
    {
     "name": "stdout",
     "output_type": "stream",
     "text": [
      "3\n"
     ]
    }
   ],
   "source": [
    "# wap ask the user enter a number\n",
    "# if number equal to 1 then print 1: if\n",
    "# if number equal to 2 then print 2: elif\n",
    "# if number equal to 3 then print 3: elif\n",
    "# if number equal to 4 then print 4: elif\n",
    "# otherwise print bye: else\n",
    "\n",
    "try:\n",
    "    number=eval(input(\"enter a number :\"))\n",
    "    if number==1:\n",
    "        print(1)\n",
    "    elif number==2:\n",
    "        print(2)\n",
    "    elif number==3:\n",
    "        print(3)\n",
    "    elif number==4:\n",
    "        print(4)\n",
    "    else:\n",
    "        print(\"bye\")\n",
    "except Exception as  e:\n",
    "    print(e)"
   ]
  },
  {
   "cell_type": "code",
   "execution_count": 32,
   "id": "31dffab7-e172-47d4-9cad-eddca3c5e3ee",
   "metadata": {},
   "outputs": [
    {
     "name": "stdin",
     "output_type": "stream",
     "text": [
      "enter marks percentage : 85\n"
     ]
    },
    {
     "name": "stdout",
     "output_type": "stream",
     "text": [
      "B grade\n"
     ]
    }
   ],
   "source": [
    "# wap ask the user \n",
    "# enter marks percentage\n",
    "# If percentage greater than 90 then print A grade\n",
    "# If percentage between 70 and 90 then print B grade\n",
    "# If percentage between 50 and 70 then print C grade\n",
    "# If percentage between 35 and 50 then print D grade\n",
    "# otherwise print fail\n",
    "\n",
    "try:\n",
    "    marks_per=eval(input(\"enter marks percentage :\"))\n",
    "    if marks_per>=90:\n",
    "        print(\"A grade\")\n",
    "    elif marks_per>=70 and marks_per<90:\n",
    "        print(\"B grade\")\n",
    "    elif marks_per>=50 and marks_per<70:\n",
    "        print(\"C grade\")\n",
    "    elif marks_per>=35 and marks_per<50:\n",
    "        print(\"D grade\")\n",
    "    else:\n",
    "        print(\"fail\")\n",
    "except Exception as e:\n",
    "    print(e)"
   ]
  },
  {
   "cell_type": "code",
   "execution_count": 33,
   "id": "e9fa4a78-2100-4495-a9d5-173701896c6c",
   "metadata": {},
   "outputs": [
    {
     "name": "stdin",
     "output_type": "stream",
     "text": [
      "enter marks percentage : 85\n"
     ]
    },
    {
     "name": "stdout",
     "output_type": "stream",
     "text": [
      "B grade\n"
     ]
    }
   ],
   "source": [
    "try:\n",
    "    marks_per=eval(input(\"enter marks percentage :\"))\n",
    "    if marks_per>=90:\n",
    "        print(\"A grade\")\n",
    "    elif marks_per>=70:                #Here no need of and condition\n",
    "        print(\"B grade\")\n",
    "    elif marks_per>=50:\n",
    "        print(\"C grade\")\n",
    "    elif marks_per>=35:\n",
    "        print(\"D grade\")\n",
    "    else:\n",
    "        print(\"fail\")\n",
    "except Exception as e:\n",
    "    print(e)"
   ]
  },
  {
   "cell_type": "code",
   "execution_count": 34,
   "id": "df49843d-b0c4-496c-9065-ea26a508eae7",
   "metadata": {},
   "outputs": [
    {
     "name": "stdin",
     "output_type": "stream",
     "text": [
      "enter age : 22\n"
     ]
    },
    {
     "name": "stdout",
     "output_type": "stream",
     "text": [
      "young\n"
     ]
    }
   ],
   "source": [
    "# wap ask the user enter age\n",
    "# If age greater than 90 then print lucky man\n",
    "# If age between 70 and 90 then print old\n",
    "# If age between 50 and 70 then print senior citizen\n",
    "# If age between 35 and 50 then print middle aged\n",
    "# If age between 20 and 35 then print young\n",
    "# If age between 13 and 20 then print teenage\n",
    "# otherwise print kid\n",
    "\n",
    "try:\n",
    "    age=eval(input(\"enter age :\"))\n",
    "    if age>=90:\n",
    "        print(\"lucky man\")\n",
    "    elif age>=70:                #Here no need of and condition\n",
    "        print(\"old\")\n",
    "    elif age>=50:\n",
    "        print(\"senior citizen\")\n",
    "    elif age>=35:\n",
    "        print(\"middle aged\")\n",
    "    elif age>=20:\n",
    "        print(\"young\")\n",
    "    elif age>=13:\n",
    "        print(\"teenage\")\n",
    "    else:\n",
    "        print(\"fail\")\n",
    "except Exception as e:\n",
    "    print(e)"
   ]
  },
  {
   "cell_type": "code",
   "execution_count": 35,
   "id": "2d19864d-cf42-42a3-aa41-ae78fd7af934",
   "metadata": {},
   "outputs": [
    {
     "name": "stdin",
     "output_type": "stream",
     "text": [
      "enter first number : 2\n",
      "enter second number : 4\n"
     ]
    },
    {
     "name": "stdout",
     "output_type": "stream",
     "text": [
      "enter the operation 1 for addition\n",
      "enter the operation 2 for subtraction\n",
      "enter the operation 3 for multiplication\n",
      "enter the operation 4 for division\n"
     ]
    },
    {
     "name": "stdin",
     "output_type": "stream",
     "text": [
      "enter operation number : 2\n"
     ]
    },
    {
     "name": "stdout",
     "output_type": "stream",
     "text": [
      "subtraction of 2 and 4 is -2\n"
     ]
    }
   ],
   "source": [
    "# add\n",
    "# mul\n",
    "# sub\n",
    "# div based on conditions\n",
    "\n",
    "# take two numbers\n",
    "# num1 from keyboard\n",
    "# num2 from keyboard\n",
    "# enter the operation 1 for add\n",
    "# enter the operation 2 for sub\n",
    "# enter the operation 3 for mul\n",
    "# enter the operation 4 for div\n",
    "# operation= ask the user enter operation from keyboard\n",
    "# if operation equal to 1\n",
    "  # perform the addition\n",
    "# if operation equal to 2\n",
    "  # perform the subtraction\n",
    "# if operation equal to 3\n",
    "  # perform the mul\n",
    "# if operation equal to 4\n",
    "  # perform the div\n",
    "\n",
    "try:\n",
    "    num1=eval(input(\"enter first number :\"))\n",
    "    num2=eval(input('enter second number :'))\n",
    "    print(\"enter the operation 1 for addition\")\n",
    "    print(\"enter the operation 2 for subtraction\")\n",
    "    print(\"enter the operation 3 for multiplication\")\n",
    "    print(\"enter the operation 4 for division\")\n",
    "    operation=eval(input(\"enter operation number :\"))\n",
    "    if operation==1:\n",
    "        add=num1+num2\n",
    "        print(f\"addition of {num1} and {num2} is {add}\")\n",
    "    elif operation==2:\n",
    "        sub=num1-num2\n",
    "        print(f\"subtraction of {num1} and {num2} is {sub}\")\n",
    "    elif operation==3:\n",
    "        mul=num1*num2\n",
    "        print(f\"multiplication of {num1} and {num2} is {mul}\")\n",
    "    elif operation==4:\n",
    "        div=num1/num2\n",
    "        print(f\"division of {num1} and {num2} is {div}\")\n",
    "except Exception as e:\n",
    "    print(e)"
   ]
  },
  {
   "cell_type": "code",
   "execution_count": 36,
   "id": "66d6c4bb-cef8-439b-b208-f04d993ad310",
   "metadata": {},
   "outputs": [
    {
     "name": "stdin",
     "output_type": "stream",
     "text": [
      "enter gender : female\n",
      "enter age : 22\n"
     ]
    },
    {
     "name": "stdout",
     "output_type": "stream",
     "text": [
      "girl\n"
     ]
    }
   ],
   "source": [
    "# wap ask the user enter gender\n",
    "# if gender equal to male\n",
    "  # ask the user enter age\n",
    "  # if the age greater than 30 then print middleaged men\n",
    "  # otherwise print boy\n",
    "# elif gender equal to female\n",
    "  # ask the user enter age\n",
    "  # if age greater than 30 then print middleaged women\n",
    "  # otherwise print girl\n",
    "# otherwise\n",
    "  # print enter valid gender\n",
    "\n",
    "try:\n",
    "    gender=input(\"enter gender :\")\n",
    "    if gender==\"male\":\n",
    "        age=eval(input(\"enter age :\"))\n",
    "        if age>30:\n",
    "            print(\"middleaged men\")\n",
    "        else:\n",
    "            print(\"boy\")\n",
    "    elif gender==\"female\":\n",
    "        age=eval(input(\"enter age :\"))\n",
    "        if age>30:\n",
    "            print(\"middleaged women\")\n",
    "        else:\n",
    "            print(\"girl\")\n",
    "    else:\n",
    "        print(\"enter valid gender\")\n",
    "except Exception as e:\n",
    "    print(e)"
   ]
  },
  {
   "cell_type": "code",
   "execution_count": 37,
   "id": "f5deb45f-fd83-4029-835e-958e68a9bfa6",
   "metadata": {},
   "outputs": [
    {
     "name": "stdin",
     "output_type": "stream",
     "text": [
      "enter gender : male\n",
      "enter age : 22\n"
     ]
    },
    {
     "name": "stdout",
     "output_type": "stream",
     "text": [
      "boy\n"
     ]
    }
   ],
   "source": [
    "try:\n",
    "    gender=input(\"enter gender :\")\n",
    "    age=eval(input(\"enter age :\"))\n",
    "    if gender==\"male\":\n",
    "        if age>30:\n",
    "            print(\"middleaged men\")\n",
    "        else:\n",
    "            print(\"boy\")\n",
    "    elif gender==\"female\":\n",
    "        if age>30:\n",
    "            print(\"middleaged women\")\n",
    "        else:\n",
    "            print(\"girl\")\n",
    "    else:\n",
    "        print(\"enter valid gender\")\n",
    "except Exception as e:\n",
    "    print(e)"
   ]
  },
  {
   "cell_type": "code",
   "execution_count": 38,
   "id": "695de9fd-dbb6-4e59-8718-d0eb4324c77c",
   "metadata": {},
   "outputs": [
    {
     "name": "stdin",
     "output_type": "stream",
     "text": [
      "enter gender : male\\\n"
     ]
    },
    {
     "name": "stdout",
     "output_type": "stream",
     "text": [
      "valid gender\n"
     ]
    }
   ],
   "source": [
    "# wap ask the user enter gender\n",
    "# if gender equal to female \n",
    "  # ask the user id card is there or not\n",
    "  # if id card is there \n",
    "  #    print(\"enjoy the free ride\")\n",
    "  # else :\n",
    "  #    ask the user how much dustance need to travel\n",
    "  #    ask the user enter charge per km\n",
    "  #    print total charge\n",
    "# elif gender equal to male:\n",
    "  #    ask the user how much dustance need to travel\n",
    "  #    ask the user enter charge per km\n",
    "  #    print total charge\n",
    "# else\n",
    "  #    print valid gender\n",
    "\n",
    "try:\n",
    "    gender=input(\"enter gender :\")\n",
    "    if gender==\"female\":\n",
    "        id_card=input(\"do you have id card or not?\")\n",
    "        if  id_card==\"yes\":\n",
    "            print(\"enjoy free ride\")\n",
    "        else:\n",
    "            distance=eval(input(\"enter how much distance need to travel :\"))\n",
    "            charge=eval(input(\"enter charge per km :\"))\n",
    "            total_charge=distance*charge\n",
    "            print(f\"total charge is {total_charge}\")\n",
    "    elif gender==\"male\":\n",
    "            distance=eval(input(\"enter how much distance need to travel :\"))\n",
    "            charge=eval(input(\"enter charge per km :\"))\n",
    "            total_charge=distance*charge\n",
    "            print(f\"total charge is {total_charge}\")\n",
    "    else:\n",
    "        print(\"valid gender\")\n",
    "except Exception as e:\n",
    "    print(e)"
   ]
  },
  {
   "cell_type": "code",
   "execution_count": 39,
   "id": "02293658-7923-4e63-bf19-9383b5de9cd9",
   "metadata": {},
   "outputs": [
    {
     "name": "stdin",
     "output_type": "stream",
     "text": [
      "enter first number : 2\n",
      "enter second number : 5\n",
      "enter third number : 32\n"
     ]
    },
    {
     "name": "stdout",
     "output_type": "stream",
     "text": [
      "the biggest number is 32\n"
     ]
    }
   ],
   "source": [
    "# wap ask the user enter 3 numbers\n",
    "# find the biggest numbers\n",
    "\n",
    "try:\n",
    "    n1=eval(input(\"enter first number :\"))\n",
    "    n2=eval(input(\"enter second number :\"))\n",
    "    n3=eval(input(\"enter third number :\"))\n",
    "    if n1>n2 and n1>n3:\n",
    "        print(f\"the biggest number is {n1}\")\n",
    "    elif n2>n3:\n",
    "        print(f\"the biggest number is {n2}\")\n",
    "    else:\n",
    "        print(f\"the biggest number is {n3}\")\n",
    "except Exception as e:\n",
    "    print(e)"
   ]
  },
  {
   "cell_type": "code",
   "execution_count": null,
   "id": "33f6c07d-46a1-403c-be08-56114d368c84",
   "metadata": {},
   "outputs": [],
   "source": []
  }
 ],
 "metadata": {
  "kernelspec": {
   "display_name": "Python 3 (ipykernel)",
   "language": "python",
   "name": "python3"
  },
  "language_info": {
   "codemirror_mode": {
    "name": "ipython",
    "version": 3
   },
   "file_extension": ".py",
   "mimetype": "text/x-python",
   "name": "python",
   "nbconvert_exporter": "python",
   "pygments_lexer": "ipython3",
   "version": "3.11.7"
  }
 },
 "nbformat": 4,
 "nbformat_minor": 5
}
