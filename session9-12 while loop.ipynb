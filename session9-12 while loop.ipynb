{
 "cells": [
  {
   "cell_type": "markdown",
   "id": "88b63c07-0d7c-4895-9a43-a1d7c99c857b",
   "metadata": {},
   "source": [
    "**while loop**\n",
    "\n",
    "- If you want to apply unlimited iterations then we choose while loop \n",
    "- Any loop  we required 3 things\n",
    "    - Initial point or start point\n",
    "    - condition to stop\n",
    "    - Increment or decrement\n",
    "- In for loop we are using all these 3 in a single line\n",
    "- In while loop we will use all these 3 in 3 lines"
   ]
  },
  {
   "cell_type": "code",
   "execution_count": null,
   "id": "97ca74aa-3384-457e-9d94-bb57a9341b58",
   "metadata": {},
   "outputs": [],
   "source": [
    "# Initial point\n",
    "# while <condition>:\n",
    "#       <statements>\n",
    "#       <Increment or decrement>"
   ]
  },
  {
   "cell_type": "code",
   "execution_count": 1,
   "id": "d90b8bc2-5c39-4126-a606-0d6fa959ee48",
   "metadata": {},
   "outputs": [
    {
     "name": "stdout",
     "output_type": "stream",
     "text": [
      "1 2 3 4 5 "
     ]
    }
   ],
   "source": [
    "for i in range(1,6):\n",
    "    print(i,end=' ')"
   ]
  },
  {
   "cell_type": "code",
   "execution_count": 2,
   "id": "730b29dd-f235-4478-ae4a-2ba6b1a04945",
   "metadata": {},
   "outputs": [
    {
     "name": "stdout",
     "output_type": "stream",
     "text": [
      "1 2 3 4 5 "
     ]
    }
   ],
   "source": [
    "i=1\n",
    "while i<6:\n",
    "    print(i,end=' ')\n",
    "    i=i+1"
   ]
  },
  {
   "cell_type": "markdown",
   "id": "90744047-1ed8-4feb-801e-77de159318fb",
   "metadata": {},
   "source": [
    "**infinite loop**\n",
    "\n",
    "  - Whenever infinite loop occurs apply the condition and then apply the break"
   ]
  },
  {
   "cell_type": "code",
   "execution_count": 2,
   "id": "0ff4776d-3e4a-4611-bf77-fe93dcdbe126",
   "metadata": {},
   "outputs": [
    {
     "name": "stdout",
     "output_type": "stream",
     "text": [
      "1 2 3 4 5 6 7 8 9 "
     ]
    }
   ],
   "source": [
    "i=1\n",
    "while i!=0:\n",
    "    print(i,end=' ')\n",
    "    i=i+1\n",
    "    if i==10:\n",
    "       break"
   ]
  },
  {
   "cell_type": "code",
   "execution_count": null,
   "id": "a28c98d3-f170-4ab0-bfb4-998c866a33cd",
   "metadata": {},
   "outputs": [],
   "source": [
    "**True**\n",
    "\n",
    "- when we want to use infinite iterations we will use True\n",
    "- If we want to stop the loop "
   ]
  },
  {
   "cell_type": "code",
   "execution_count": 3,
   "id": "9cf3d72c-b75d-4275-b037-12fd6345f2e4",
   "metadata": {},
   "outputs": [
    {
     "name": "stdout",
     "output_type": "stream",
     "text": [
      "1 2 3 4 5 6 7 8 9 "
     ]
    }
   ],
   "source": [
    "i=1\n",
    "while True:\n",
    "    print(i,end=' ')\n",
    "    i=i+1\n",
    "    if i==10:\n",
    "       break"
   ]
  },
  {
   "cell_type": "code",
   "execution_count": 3,
   "id": "ee118646-3e79-4b86-9cef-9e89f41a2588",
   "metadata": {},
   "outputs": [
    {
     "name": "stdout",
     "output_type": "stream",
     "text": [
      "-10 -9 -8 -7 -6 -5 -4 -3 -2 -1 \n",
      "\n",
      "-10 -9 -8 -7 -6 -5 -4 -3 -2 -1 \n",
      "\n",
      "-1 -2 -3 -4 -5 -6 -7 -8 -9 -10 \n",
      "\n",
      "-1 -2 -3 -4 -5 -6 -7 -8 -9 -10 \n",
      "\n",
      "10 9 8 7 6 5 4 3 2 1 \n",
      "\n",
      "10 9 8 7 6 5 4 3 2 1 "
     ]
    }
   ],
   "source": [
    "# WAP to print -10 to -1\n",
    "# usig for loop and while loop\n",
    "\n",
    "for i in range (-10,0):\n",
    "    print(i,end=' ')\n",
    "print('\\n')\n",
    "\n",
    "i=-10\n",
    "while i<0:\n",
    "    print(i,end=' ')\n",
    "    i=i+1\n",
    "print('\\n')\n",
    "    \n",
    "# WAP to print -1 to -10\n",
    "# using for loop and while loop \n",
    "    \n",
    "for i in range (-1,-11,-1):\n",
    "    print(i,end=' ')\n",
    "print('\\n')\n",
    "\n",
    "i=-1\n",
    "while i>-11:\n",
    "    print(i,end=' ')\n",
    "    i=i-1\n",
    "print('\\n')\n",
    "\n",
    "# WAP to print 10 to 1\n",
    "# using for loop and while loop\n",
    "\n",
    "for i in range (10,0,-1):\n",
    "    print(i,end=' ')\n",
    "print('\\n')\n",
    "\n",
    "i=10\n",
    "while i>0:\n",
    "    print(i,end=' ')\n",
    "    i=i-1"
   ]
  },
  {
   "cell_type": "code",
   "execution_count": null,
   "id": "92218c28-5106-4b46-8499-5a3d284669c3",
   "metadata": {},
   "outputs": [],
   "source": [
    "# For loop assignment\n",
    "# All for loop class room questions should apply while loop"
   ]
  },
  {
   "cell_type": "code",
   "execution_count": 1,
   "id": "f205e9bf-df46-423e-b64c-747f4b19e2a5",
   "metadata": {},
   "outputs": [
    {
     "name": "stdout",
     "output_type": "stream",
     "text": [
      "11 is an odd number\n",
      "12 is an even number\n",
      "13 is an odd number\n",
      "14 is an even number\n",
      "15 is an odd number\n",
      "16 is an even number\n",
      "17 is an odd number\n",
      "18 is an even number\n",
      "19 is an odd number\n",
      "20 is an even number\n",
      "21 is an odd number\n",
      "22 is an even number\n"
     ]
    }
   ],
   "source": [
    "i=11\n",
    "while i<23:\n",
    "    if i%2==0:\n",
    "        print(f\"{i} is an even number\")\n",
    "    else:\n",
    "        print(f\"{i} is an odd number\")\n",
    "    i=i+1"
   ]
  },
  {
   "cell_type": "code",
   "execution_count": null,
   "id": "9be294b0-583b-4c76-8fa9-5dff6f4fa425",
   "metadata": {},
   "outputs": [],
   "source": []
  }
 ],
 "metadata": {
  "kernelspec": {
   "display_name": "Python 3 (ipykernel)",
   "language": "python",
   "name": "python3"
  },
  "language_info": {
   "codemirror_mode": {
    "name": "ipython",
    "version": 3
   },
   "file_extension": ".py",
   "mimetype": "text/x-python",
   "name": "python",
   "nbconvert_exporter": "python",
   "pygments_lexer": "ipython3",
   "version": "3.11.7"
  }
 },
 "nbformat": 4,
 "nbformat_minor": 5
}
