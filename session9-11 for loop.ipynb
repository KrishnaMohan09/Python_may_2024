{
 "cells": [
  {
   "cell_type": "markdown",
   "id": "794ae53e-9425-40e9-a35d-eaad6d1a7646",
   "metadata": {},
   "source": [
    "**Loops**\n",
    "\n",
    "- Function: Reuse of the code\n",
    "- Loop: Reuse of the code for multiple times unless the given conditions satisfactoriy\n",
    "  - For\n",
    "  - While\n",
    "- Any loop require three things\n",
    "  - start point                                   #initialization\n",
    "  - what is the condition to stop                 #condition\n",
    "  - increment or decrement                        #updation\n",
    "- In for loop we will apply all above three in a single line\n",
    "- In while loop we will apply all above three in three different lines"
   ]
  },
  {
   "cell_type": "markdown",
   "id": "330e2646-cf79-4b79-9511-7e462da4eda0",
   "metadata": {},
   "source": [
    "**For loop**\n",
    " - method-1"
   ]
  },
  {
   "cell_type": "markdown",
   "id": "f33706d8-da0c-4819-9f88-3df65b4a69be",
   "metadata": {},
   "source": [
    "**in for loop we can use else block with if block**\n",
    "- like\n",
    "- for i in range(n):\n",
    "-      if conditon:\n",
    "-            statement\n",
    "- else:\n",
    "-     statement"
   ]
  },
  {
   "cell_type": "code",
   "execution_count": null,
   "id": "1a512cd1-faf2-4cc2-96ec-12c69ba4ee69",
   "metadata": {},
   "outputs": [],
   "source": [
    "# syntax\n",
    "for i in range (<stop>):\n",
    "    print(i)"
   ]
  },
  {
   "cell_type": "code",
   "execution_count": null,
   "id": "6bd9b54a-94e3-41be-81a8-130818f21f6f",
   "metadata": {},
   "outputs": [],
   "source": [
    "for i in range (3):\n",
    "    print(i)"
   ]
  },
  {
   "cell_type": "markdown",
   "id": "a2dc577e-da6c-4553-b5ce-89371402f3e6",
   "metadata": {},
   "source": [
    "**Note-1**: range(stop)\n",
    "\n",
    "- The default start point is zero\n",
    "  **Python index starts with zero**\n",
    "- Default increment is 1\n",
    "- Last value=stop-1"
   ]
  },
  {
   "cell_type": "markdown",
   "id": "98f28c3d-01a0-4725-b78f-38ee3717cab1",
   "metadata": {},
   "source": [
    "**range(5)**\n",
    "\n",
    "- start value=0\n",
    "- increment=1\n",
    "- last value=5-1=4"
   ]
  },
  {
   "cell_type": "code",
   "execution_count": null,
   "id": "d508d25f-24dd-4e23-82e5-976d36b3b017",
   "metadata": {},
   "outputs": [],
   "source": [
    "for i in range (5):\n",
    "    print(i)"
   ]
  },
  {
   "cell_type": "code",
   "execution_count": null,
   "id": "8f7ae273-538e-4c99-be74-a37f8f5e1d8c",
   "metadata": {},
   "outputs": [],
   "source": [
    "for i in range (5):\n",
    "    print(i,end=' ')"
   ]
  },
  {
   "cell_type": "code",
   "execution_count": null,
   "id": "28730646-9194-480b-97bf-e5494e507c12",
   "metadata": {},
   "outputs": [],
   "source": [
    "# i want to print three times hello\n",
    "\n",
    "for i in range(3):\n",
    "    print(\"Hello\")"
   ]
  },
  {
   "cell_type": "code",
   "execution_count": null,
   "id": "3b92f4fa-29a3-42da-b229-62da9135728f",
   "metadata": {},
   "outputs": [],
   "source": [
    "for i in range(3):\n",
    "    print(\"Hello\",end=' ')"
   ]
  },
  {
   "cell_type": "markdown",
   "id": "5ffe1bff-63fd-423d-8888-e5f6b848aa20",
   "metadata": {},
   "source": [
    "$method-2$\n",
    "\n",
    "**range (start,stop)**\n",
    "\n",
    "- start value=start\n",
    "- default increment by 1\n",
    "- last value=stop-1"
   ]
  },
  {
   "cell_type": "code",
   "execution_count": null,
   "id": "5c78066c-7dbe-46a4-9195-e188fa9bbe44",
   "metadata": {},
   "outputs": [],
   "source": [
    "# syntax\n",
    "for i in range(<start>,<stop>):\n",
    "    print(i)"
   ]
  },
  {
   "cell_type": "code",
   "execution_count": null,
   "id": "831d4133-c4b8-45eb-a8be-9ae55bf7e667",
   "metadata": {},
   "outputs": [],
   "source": [
    "for i in range(1,3):\n",
    "    print(\"Hello\")"
   ]
  },
  {
   "cell_type": "code",
   "execution_count": null,
   "id": "b73b75bc-1ab1-44d7-91fc-3ced7aca7486",
   "metadata": {},
   "outputs": [],
   "source": [
    "for i in range(2,10):\n",
    "    print(i,end=' ')"
   ]
  },
  {
   "cell_type": "code",
   "execution_count": null,
   "id": "3b9ef7f9-9db3-4f04-9f52-0215fd5b477d",
   "metadata": {},
   "outputs": [],
   "source": [
    "# Q1)WAP ask the user print the square of the numbers from 1 to 5\n",
    "\n",
    "for i in range(1,6):\n",
    "    print(f\"The square of {i} is {i*i}\")"
   ]
  },
  {
   "cell_type": "code",
   "execution_count": null,
   "id": "b1cb26f2-fcdc-4dc3-ad3c-6f6a66f682e0",
   "metadata": {},
   "outputs": [],
   "source": [
    "# Q2)WAP ask the user take 5 random numbers and print the square of the random numbers\n",
    "\n",
    "import random\n",
    "for i in range(5):\n",
    "    n=random.randint(1,10)\n",
    "    print(f\"the square of {n} is {n*n}\")"
   ]
  },
  {
   "cell_type": "code",
   "execution_count": null,
   "id": "f7ce759d-299c-4f55-b4a2-c5e83d49231c",
   "metadata": {},
   "outputs": [],
   "source": [
    "# Q3)create a function on reuse code lines call the function inside the for loop\n",
    "\n",
    "import random\n",
    "def square():\n",
    "    n=random.randint(1,10)\n",
    "    print(f\"the square of {n} is {n*n}\")\n",
    "for i in range(5):\n",
    "    square()"
   ]
  },
  {
   "cell_type": "code",
   "execution_count": 16,
   "id": "b00fadf9-9dbc-4400-9b8e-92b8836500bf",
   "metadata": {},
   "outputs": [
    {
     "name": "stdout",
     "output_type": "stream",
     "text": [
      "the square of 2 is 4\n",
      "the square of 10 is 100\n",
      "the square of 3 is 9\n",
      "the square of 8 is 64\n",
      "the square of 9 is 81\n"
     ]
    }
   ],
   "source": [
    "import random\n",
    "def square():\n",
    "    n=random.randint(1,10)\n",
    "    return(f\"the square of {n} is {n*n}\")\n",
    "    \n",
    "for i in range(5):\n",
    "    x=square()\n",
    "    print(x)"
   ]
  },
  {
   "cell_type": "code",
   "execution_count": 17,
   "id": "72d620e9-7f6c-49b5-bbc5-03c10cc9193c",
   "metadata": {},
   "outputs": [
    {
     "name": "stdout",
     "output_type": "stream",
     "text": [
      "the square of 7 is 49\n",
      "the square of 3 is 9\n",
      "the square of 10 is 100\n",
      "the square of 3 is 9\n",
      "the square of 5 is 25\n"
     ]
    }
   ],
   "source": [
    "def square():\n",
    "    for i in range(5):\n",
    "        n=random.randint(1,10)\n",
    "        print(f\"the square of {n} is {n*n}\")\n",
    "square()"
   ]
  },
  {
   "cell_type": "code",
   "execution_count": null,
   "id": "efdf8969-528d-4bc4-b274-65e913e4d73d",
   "metadata": {},
   "outputs": [],
   "source": [
    "# Q4)WAP ask the user print the even or odd values between 11 to 21\n",
    "\n",
    "for i in range(11,22):\n",
    "    if i%2==0:\n",
    "        print(f\"{i} is an even number\")\n",
    "    else:\n",
    "        print(f\"{i} is an odd number\")"
   ]
  },
  {
   "cell_type": "code",
   "execution_count": null,
   "id": "e814f2c7-b642-407c-be3a-452583b52670",
   "metadata": {},
   "outputs": [],
   "source": [
    "# Q5)WAP ask the user enter a value from keyboard 5 times print that value is even or odd\n",
    "\n",
    "for i in range(5):\n",
    "    n=eval(input(\"enter a number:\"))\n",
    "    if n%2==0:\n",
    "        print(f\"{n} is an even number\")\n",
    "    else:\n",
    "        print(f\"{n} is an odd number\")"
   ]
  },
  {
   "cell_type": "markdown",
   "id": "5263af76-d2d2-41ba-a2c1-826b66f91ac9",
   "metadata": {},
   "source": [
    "$method-3$\n",
    " **range(start,stop,step)**\n",
    "- start=always a start value\n",
    "-  step: Increment value\n",
    "    - If inrement value is positive\n",
    "    - Positive value means positive direction(forward)\n",
    "       - last=stop-1\n",
    "    - If increment value is negative\n",
    "    - Negative value means negative direction(backward)\n",
    "       - last=stop+1"
   ]
  },
  {
   "cell_type": "code",
   "execution_count": null,
   "id": "7845f2b2-df5a-4d20-9236-1239d5cc344b",
   "metadata": {},
   "outputs": [],
   "source": [
    "#case-1\n",
    "for i in range(2,20,2):\n",
    "    print(i,end=' ')\n",
    "\n",
    "# start=2\n",
    "# step=2   +ve direction\n",
    "# last=stop-1=20-1=19"
   ]
  },
  {
   "cell_type": "code",
   "execution_count": null,
   "id": "384ddd5b-2cde-4281-b52e-ec8fa04fac93",
   "metadata": {},
   "outputs": [],
   "source": [
    "#case-2\n",
    "for i in range(2,20,-2):\n",
    "    print(i,end=' ')\n",
    "\n",
    "# start=2\n",
    "# step=-2   -ve direction\n",
    "# last=stop+1=20+1=21\n",
    "#here answer will not come because negative direction but there is no end point"
   ]
  },
  {
   "cell_type": "code",
   "execution_count": null,
   "id": "09517e0c-3715-429d-a855-55aacb8fcb13",
   "metadata": {},
   "outputs": [],
   "source": [
    "#case-3\n",
    "for i in range(2,-20,-2):\n",
    "    print(i,end=' ')\n",
    "\n",
    "# start=2\n",
    "# step=-2   -ve direction\n",
    "# last=stop+1=-20+1=-19"
   ]
  },
  {
   "cell_type": "code",
   "execution_count": null,
   "id": "a1cde112-bb63-471c-8e98-b1cd96daa263",
   "metadata": {},
   "outputs": [],
   "source": [
    "#case-4\n",
    "for i in range(-2,-20,-2):\n",
    "    print(i,end=' ')\n",
    "\n",
    "# start=-2\n",
    "# step=-2   -ve direction\n",
    "# last=stop+1=-20+1=-19"
   ]
  },
  {
   "cell_type": "code",
   "execution_count": null,
   "id": "556c0155-2331-468f-888c-2ad2e0e272b7",
   "metadata": {},
   "outputs": [],
   "source": [
    "#case-5\n",
    "for i in range(-2,20,-2):\n",
    "    print(i,end=' ')\n",
    "\n",
    "# start=-2\n",
    "# step=-2   -ve direction\n",
    "# last=stop+1=20+1=19"
   ]
  },
  {
   "cell_type": "code",
   "execution_count": null,
   "id": "6f440b56-6024-421f-9495-beb9fb03201f",
   "metadata": {},
   "outputs": [],
   "source": [
    "range(3,19,3)\n",
    "range(3,19,-3)\n",
    "range(3,-19,3)\n",
    "range(3,-19,-3)\n",
    "range(-3,19,3)\n",
    "range(-3,-19,3)\n",
    "range(-3,-19,-3)\n",
    "range(-3,19,-3)\n",
    "range(19,3,-3)\n",
    "range(-3,-19,-3)\n",
    "range(-3,-19,-3)\n",
    "range(-3,-19,-3)\n",
    "range(-3,-19,-3)"
   ]
  },
  {
   "cell_type": "code",
   "execution_count": null,
   "id": "d117e3fe-6fde-4ce3-bbd1-3cc453c67849",
   "metadata": {},
   "outputs": [],
   "source": [
    "# Q6)WAP  to create 9th table\n",
    "#9*1=9\n",
    "#\n",
    "#9*10=90\n",
    "\n",
    "for i in range (1,11):\n",
    "    print(f\"9 x {i} = {9*i}\")"
   ]
  },
  {
   "cell_type": "code",
   "execution_count": null,
   "id": "1b053762-206a-4de3-89d0-b5f0b6436895",
   "metadata": {},
   "outputs": [],
   "source": [
    "# Q7) WAP to print the divisiors of number 50\n",
    "#50%1==0\n",
    "#50%2==0\n",
    "#50%3==0\n",
    "\n",
    "for i in range (1,51):\n",
    "    if 50%i==0:\n",
    "        print(i)"
   ]
  },
  {
   "cell_type": "code",
   "execution_count": null,
   "id": "667ac89e-6e04-4d52-a54b-e6f36c5232d6",
   "metadata": {},
   "outputs": [],
   "source": [
    "num=eval(input(\"enter the number which you want division\"))\n",
    "for i in range(1,num+1):\n",
    "    if num%i==0:\n",
    "        print(i)"
   ]
  },
  {
   "cell_type": "code",
   "execution_count": null,
   "id": "fd006a1b-a045-43b4-8b02-173a7521f117",
   "metadata": {},
   "outputs": [],
   "source": [
    "def divisiors(num):\n",
    "    for i in range (1,num+1):\n",
    "        if num%i==0:\n",
    "            print(i)\n",
    "divisiors(50)"
   ]
  },
  {
   "cell_type": "markdown",
   "id": "baf769dd-435c-4d38-ba03-059b252e4800",
   "metadata": {},
   "source": [
    "**summation wrappers**"
   ]
  },
  {
   "cell_type": "code",
   "execution_count": null,
   "id": "d1160b2d-8089-4faa-9831-2acdd6ba8135",
   "metadata": {},
   "outputs": [],
   "source": [
    "# Q8)WAP print the sum of first ten natural numbers\n",
    "\n",
    "s=0\n",
    "for i in range(1,11):\n",
    "    s=s+i\n",
    "print(\"sum of first ten natural numbers are :\",s)"
   ]
  },
  {
   "cell_type": "code",
   "execution_count": null,
   "id": "1b8372ae-ef61-4bd2-b03b-4a9105cf438b",
   "metadata": {},
   "outputs": [],
   "source": [
    "l=[1,2,3]\n",
    "sum(l)\n"
   ]
  },
  {
   "cell_type": "code",
   "execution_count": null,
   "id": "cf35a990-4916-44d1-a10a-1f1c7fe2101f",
   "metadata": {},
   "outputs": [],
   "source": [
    "import keyword\n",
    "keyword.kwlist"
   ]
  },
  {
   "cell_type": "markdown",
   "id": "f2e41569-5f3a-40fb-80f2-aa662c34f364",
   "metadata": {},
   "source": [
    "- not callable ,remove the brackets\n",
    "- bound method means add the brackets\n",
    "- function means add the brackets"
   ]
  },
  {
   "cell_type": "markdown",
   "id": "a4c6c543-53f4-4957-a7ce-9db8bb609d53",
   "metadata": {},
   "source": [
    "**counter wrapper**"
   ]
  },
  {
   "cell_type": "code",
   "execution_count": null,
   "id": "177fc216-3110-4738-afcb-a17aa156d089",
   "metadata": {},
   "outputs": [],
   "source": [
    "#Q9) How many divisiors are available for 50\n",
    "# tell the divisiors 1,2,5,10,25,50\n",
    "# now I want to print : the number of divisiors are 6\n",
    "\n",
    "c=0\n",
    "for i in range (1,51):\n",
    "    if 50%i==0:\n",
    "        c=c+1\n",
    "print(c)"
   ]
  },
  {
   "cell_type": "code",
   "execution_count": null,
   "id": "29707a79-765a-4e49-835f-a0e3ecb4bc97",
   "metadata": {},
   "outputs": [],
   "source": [
    "c=0\n",
    "num=eval(input(\"enter a number :\"))\n",
    "for i in range (1,num+1):\n",
    "    if num%i==0:\n",
    "        c=c+1\n",
    "print(c)"
   ]
  },
  {
   "cell_type": "code",
   "execution_count": null,
   "id": "fb745384-ecda-4c6f-883b-36033bd282b1",
   "metadata": {},
   "outputs": [],
   "source": [
    "#Q10) WAP ask the user enter one number from keyboard and ask the user get the second number randomly from (1,10)\n",
    "     # if num1==num2 then print you won\n",
    "     # otherwise print you lost\n",
    "     # iterate these lines 3 times\n",
    "\n",
    "for i in range(3):\n",
    "    num1=eval(input(\"enter first number :\"))\n",
    "    import random\n",
    "    num2=random.randint(1,10)\n",
    "    print(\"second number :\",num2)\n",
    "    if num1==num2:\n",
    "        print(\"You won\")\n",
    "    else:\n",
    "        print(\"You lost\")"
   ]
  },
  {
   "cell_type": "code",
   "execution_count": null,
   "id": "79585941-fb8c-4f06-a21a-46d24c98a0b2",
   "metadata": {},
   "outputs": [],
   "source": [
    "#case-1:\n",
    "for i in range(3):\n",
    "    num1=eval(input(\"enter first number :\"))\n",
    "    import random\n",
    "    num2=random.randint(1,10)\n",
    "    print(\"second number :\",num2)\n",
    "    if num1==num2:\n",
    "        print(\"You won\")\n",
    "        break\n",
    "    else:\n",
    "        print(\"You lost\")"
   ]
  },
  {
   "cell_type": "code",
   "execution_count": null,
   "id": "bcb69aa7-e68d-42f7-b937-960f0cdae479",
   "metadata": {},
   "outputs": [],
   "source": [
    "#case-2: give 5 chances\n",
    "# whenever fail print the number of chances left\n",
    "\n",
    "#case-3: suppose your all chances are over\n",
    "# print your account is blocked try after 24 hours"
   ]
  },
  {
   "cell_type": "markdown",
   "id": "4a733b7c-8ee0-43ca-99d6-12f22aeaf38a",
   "metadata": {},
   "source": [
    "**in operator**\n",
    "- There are two operators are there in for loop\n",
    "- one is range operator\n",
    "- second one is in operator\n",
    "- range operator is mainly for numbers\n",
    "- in operator for characters"
   ]
  },
  {
   "cell_type": "code",
   "execution_count": null,
   "id": "f7d3c91c-c291-4159-b173-c7f07e8ab574",
   "metadata": {},
   "outputs": [],
   "source": [
    "name='python'\n",
    "'p' in name\n",
    "'y' in name\n",
    "'t' in name\n",
    "'H' in name"
   ]
  },
  {
   "cell_type": "code",
   "execution_count": null,
   "id": "397968eb-8316-4566-9620-7f2cb9b71d36",
   "metadata": {},
   "outputs": [],
   "source": [
    "name='python'\n",
    "'p' in name\n",
    "'y' in name\n",
    "'t' in name\n",
    "'h' in name\n",
    "'o' in name\n",
    "'n' in name"
   ]
  },
  {
   "cell_type": "code",
   "execution_count": null,
   "id": "51458f47-8c89-4ff9-981d-a8574cd01347",
   "metadata": {},
   "outputs": [],
   "source": [
    "for i in name:\n",
    "    print(i)"
   ]
  },
  {
   "cell_type": "code",
   "execution_count": 2,
   "id": "ead44fab-beb6-4bcb-8d43-8e8ca349c72f",
   "metadata": {},
   "outputs": [
    {
     "name": "stdout",
     "output_type": "stream",
     "text": [
      "n\n",
      "a\n",
      "m\n",
      "e\n"
     ]
    }
   ],
   "source": [
    "for i in 'name':\n",
    "    print(i)"
   ]
  },
  {
   "cell_type": "code",
   "execution_count": null,
   "id": "ba48929f-22ba-4c9f-b09f-1dbf3ec6ff59",
   "metadata": {},
   "outputs": [],
   "source": [
    "for i in name:\n",
    "    print(i,end='')"
   ]
  },
  {
   "cell_type": "code",
   "execution_count": null,
   "id": "03c3554f-b3b6-47fd-ab3d-c6115ede2994",
   "metadata": {},
   "outputs": [],
   "source": [
    "'A'=='a'"
   ]
  },
  {
   "cell_type": "code",
   "execution_count": null,
   "id": "c9faabae-c0eb-4898-9c10-ec9304192ed3",
   "metadata": {},
   "outputs": [],
   "source": [
    "'A'>'a'"
   ]
  },
  {
   "cell_type": "markdown",
   "id": "10c57dab-70ec-4b3d-8d5a-82e401828fd2",
   "metadata": {},
   "source": [
    "**ASCII=American Standard Code for Information Interchange**"
   ]
  },
  {
   "cell_type": "code",
   "execution_count": null,
   "id": "49e55de3-02e6-4dcd-a164-f376455d27d2",
   "metadata": {},
   "outputs": [],
   "source": [
    "A=65,B=66\n",
    "a=97,b=98"
   ]
  },
  {
   "cell_type": "markdown",
   "id": "e75d3842-2c90-4cf9-9f13-44fb89f3a287",
   "metadata": {},
   "source": [
    "**ord-chr**\n",
    "- ord is the keyword which provides ASCII number of characters\n",
    "- char is the keyword which provides character for given ASCII number"
   ]
  },
  {
   "cell_type": "code",
   "execution_count": 11,
   "id": "228603e7-fd96-4d58-8c1b-4ead61b76b2a",
   "metadata": {},
   "outputs": [
    {
     "data": {
      "text/plain": [
       "65"
      ]
     },
     "execution_count": 11,
     "metadata": {},
     "output_type": "execute_result"
    }
   ],
   "source": [
    "ord('A')"
   ]
  },
  {
   "cell_type": "code",
   "execution_count": 12,
   "id": "6b051bfc-6de0-438d-8dd7-8737bdb4819a",
   "metadata": {},
   "outputs": [
    {
     "data": {
      "text/plain": [
       "97"
      ]
     },
     "execution_count": 12,
     "metadata": {},
     "output_type": "execute_result"
    }
   ],
   "source": [
    "ord('a')\n"
   ]
  },
  {
   "cell_type": "code",
   "execution_count": 13,
   "id": "ec7da121-13cf-4b13-827d-34ea9bed42de",
   "metadata": {},
   "outputs": [
    {
     "data": {
      "text/plain": [
       "'A'"
      ]
     },
     "execution_count": 13,
     "metadata": {},
     "output_type": "execute_result"
    }
   ],
   "source": [
    "chr(65)"
   ]
  },
  {
   "cell_type": "code",
   "execution_count": 14,
   "id": "d17fad16-1c10-42b5-acac-c2ed37410995",
   "metadata": {},
   "outputs": [
    {
     "data": {
      "text/plain": [
       "'a'"
      ]
     },
     "execution_count": 14,
     "metadata": {},
     "output_type": "execute_result"
    }
   ],
   "source": [
    "chr(97)\n"
   ]
  },
  {
   "cell_type": "code",
   "execution_count": 4,
   "id": "46bca4ce-559b-434e-9f33-87879dc30c71",
   "metadata": {},
   "outputs": [
    {
     "name": "stdout",
     "output_type": "stream",
     "text": [
      "A 65\n",
      "B 66\n",
      "C 67\n",
      "D 68\n",
      "E 69\n",
      "F 70\n",
      "G 71\n",
      "H 72\n",
      "I 73\n",
      "J 74\n",
      "K 75\n",
      "L 76\n",
      "M 77\n",
      "N 78\n",
      "O 79\n",
      "P 80\n",
      "Q 81\n",
      "R 82\n",
      "S 83\n",
      "T 84\n",
      "U 85\n",
      "V 86\n",
      "W 87\n",
      "X 88\n",
      "Y 89\n",
      "Z 90\n"
     ]
    }
   ],
   "source": [
    "# I want to get all ASCII numbers of A to Z using for loop\n",
    "\n",
    "for i in ('ABCDEFGHIJKLMNOPQRSTUVWXYZ'):\n",
    "    print(i,ord(i))"
   ]
  },
  {
   "cell_type": "code",
   "execution_count": null,
   "id": "03f01675-b89d-4c05-8406-949860664017",
   "metadata": {},
   "outputs": [],
   "source": [
    "# package name : string\n",
    "# import <package name>\n",
    "# dir(<pakagename>)\n",
    "# any method\n",
    "# <packagename>.<methodname>"
   ]
  },
  {
   "cell_type": "code",
   "execution_count": null,
   "id": "21a5814e-5ee9-4d67-91e2-52a43366dc6e",
   "metadata": {},
   "outputs": [],
   "source": [
    "import string\n"
   ]
  },
  {
   "cell_type": "code",
   "execution_count": null,
   "id": "c286c105-e22d-48d1-91fa-4ef66a4dede2",
   "metadata": {},
   "outputs": [],
   "source": [
    "dir(string)"
   ]
  },
  {
   "cell_type": "code",
   "execution_count": null,
   "id": "41c73047-7b38-473f-836f-b0b3d691df9c",
   "metadata": {},
   "outputs": [],
   "source": [
    "string.ascii_letters"
   ]
  },
  {
   "cell_type": "code",
   "execution_count": null,
   "id": "bdb52687-8fd1-4607-af0c-dfe68d53f44e",
   "metadata": {},
   "outputs": [],
   "source": [
    "string.ascii_lowercase"
   ]
  },
  {
   "cell_type": "code",
   "execution_count": null,
   "id": "aa4feb8c-a764-46fc-8ecc-d59494a451f1",
   "metadata": {},
   "outputs": [],
   "source": [
    "string.ascii_uppercase"
   ]
  },
  {
   "cell_type": "code",
   "execution_count": 5,
   "id": "8363ec5c-da6e-4b25-8f21-defbad16ccc1",
   "metadata": {},
   "outputs": [
    {
     "name": "stdout",
     "output_type": "stream",
     "text": [
      "The ASCII value of A is 65\n",
      "The ASCII value of B is 66\n",
      "The ASCII value of C is 67\n",
      "The ASCII value of D is 68\n",
      "The ASCII value of E is 69\n",
      "The ASCII value of F is 70\n",
      "The ASCII value of G is 71\n",
      "The ASCII value of H is 72\n",
      "The ASCII value of I is 73\n",
      "The ASCII value of J is 74\n",
      "The ASCII value of K is 75\n",
      "The ASCII value of L is 76\n",
      "The ASCII value of M is 77\n",
      "The ASCII value of N is 78\n",
      "The ASCII value of O is 79\n",
      "The ASCII value of P is 80\n",
      "The ASCII value of Q is 81\n",
      "The ASCII value of R is 82\n",
      "The ASCII value of S is 83\n",
      "The ASCII value of T is 84\n",
      "The ASCII value of U is 85\n",
      "The ASCII value of V is 86\n",
      "The ASCII value of W is 87\n",
      "The ASCII value of X is 88\n",
      "The ASCII value of Y is 89\n",
      "The ASCII value of Z is 90\n"
     ]
    }
   ],
   "source": [
    "import string\n",
    "for i in string.ascii_uppercase:\n",
    "    print(f\"The ASCII value of {i} is {ord(i)}\")"
   ]
  },
  {
   "cell_type": "code",
   "execution_count": 15,
   "id": "779b2a33-f3e0-4bbd-8fc5-f3ae496563ca",
   "metadata": {},
   "outputs": [
    {
     "name": "stdout",
     "output_type": "stream",
     "text": [
      "3205 ಅ\n",
      "3206 ಆ\n",
      "3207 ಇ\n",
      "3208 ಈ\n",
      "3209 ಉ\n",
      "3210 ಊ\n",
      "3211 ಋ\n",
      "3212 ಌ\n",
      "3213 ಍\n",
      "3214 ಎ\n",
      "3215 ಏ\n",
      "3216 ಐ\n",
      "3217 ಑\n",
      "3218 ಒ\n",
      "3219 ಓ\n",
      "3220 ಔ\n",
      "3221 ಕ\n",
      "3222 ಖ\n",
      "3223 ಗ\n",
      "3224 ಘ\n",
      "3225 ಙ\n",
      "3226 ಚ\n",
      "3227 ಛ\n",
      "3228 ಜ\n",
      "3229 ಝ\n",
      "3230 ಞ\n",
      "3231 ಟ\n",
      "3232 ಠ\n",
      "3233 ಡ\n",
      "3234 ಢ\n",
      "3235 ಣ\n",
      "3236 ತ\n",
      "3237 ಥ\n",
      "3238 ದ\n",
      "3239 ಧ\n",
      "3240 ನ\n",
      "3241 ಩\n",
      "3242 ಪ\n",
      "3243 ಫ\n",
      "3244 ಬ\n",
      "3245 ಭ\n",
      "3246 ಮ\n",
      "3247 ಯ\n",
      "3248 ರ\n",
      "3249 ಱ\n"
     ]
    }
   ],
   "source": [
    "for i in range (3205,3250):\n",
    "    print(i,chr(i))"
   ]
  },
  {
   "cell_type": "code",
   "execution_count": null,
   "id": "9bbebb3a-05a4-4046-b862-51eaddef1c31",
   "metadata": {},
   "outputs": [],
   "source": []
  }
 ],
 "metadata": {
  "kernelspec": {
   "display_name": "Python 3 (ipykernel)",
   "language": "python",
   "name": "python3"
  },
  "language_info": {
   "codemirror_mode": {
    "name": "ipython",
    "version": 3
   },
   "file_extension": ".py",
   "mimetype": "text/x-python",
   "name": "python",
   "nbconvert_exporter": "python",
   "pygments_lexer": "ipython3",
   "version": "3.11.7"
  }
 },
 "nbformat": 4,
 "nbformat_minor": 5
}
