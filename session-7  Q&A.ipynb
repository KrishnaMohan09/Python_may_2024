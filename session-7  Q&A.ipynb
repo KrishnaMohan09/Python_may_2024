{
 "cells": [
  {
   "cell_type": "code",
   "execution_count": 3,
   "id": "ebf9685a-1b5e-451e-8abb-e432aceff61b",
   "metadata": {},
   "outputs": [
    {
     "name": "stdin",
     "output_type": "stream",
     "text": [
      "enter the number 1 : 2\n",
      "enter the number 2 : 4\n"
     ]
    },
    {
     "name": "stdout",
     "output_type": "stream",
     "text": [
      "6\n",
      "-2\n",
      "8\n",
      "the div of 2 and 4 is 0\n"
     ]
    }
   ],
   "source": [
    "# Q1) wap ask the user enter two numbers from keyboard \n",
    "# print addition\n",
    "# print subtraction\n",
    "# print multiplication\n",
    "# print division using f string method\n",
    "\n",
    "n1=int(input(\"enter the number 1 :\"))\n",
    "n2=int(input(\"enter the number 2 :\"))\n",
    "add=n1+n2\n",
    "print(add)\n",
    "sub=n1-n2\n",
    "print(sub)\n",
    "mul=n1*n2\n",
    "print(mul)\n",
    "div=round(n1/n2)\n",
    "print(f\"the div of {n1} and {n2} is {div}\")"
   ]
  },
  {
   "cell_type": "code",
   "execution_count": 2,
   "id": "a9b17936-46d5-464f-84d9-31af91db141f",
   "metadata": {},
   "outputs": [
    {
     "name": "stdin",
     "output_type": "stream",
     "text": [
      "enter the number 1 : 100\n",
      "enter the number 2 : 200\n",
      "enter the number 3 : 300\n"
     ]
    },
    {
     "name": "stdout",
     "output_type": "stream",
     "text": [
      "200\n"
     ]
    }
   ],
   "source": [
    "# Q2) ask the user enter 3 numbers and find the average of those numbers\n",
    "\n",
    "n1=eval(input(\"enter the number 1 :\"))\n",
    "n2=eval(input(\"enter the number 2 :\"))\n",
    "n3=eval(input(\"enter the number 3 :\"))\n",
    "avg=round((n1+n2+n3)/3)\n",
    "print(avg)"
   ]
  },
  {
   "cell_type": "code",
   "execution_count": 11,
   "id": "3fdc5827-516e-465e-a600-f6a17250406f",
   "metadata": {},
   "outputs": [
    {
     "name": "stdin",
     "output_type": "stream",
     "text": [
      "enter the bill : 1000\n",
      "enter the tip percentage : 10\n"
     ]
    },
    {
     "name": "stdout",
     "output_type": "stream",
     "text": [
      "the total bill is : 1100.0\n"
     ]
    }
   ],
   "source": [
    "# Q3) ask the user enter the bill\n",
    "   # ask the user how much tip percentage\n",
    "   # calculate the total bill\n",
    "\n",
    "bill=eval(input(\"enter the bill :\"))\n",
    "tp=eval(input(\"enter the tip percentage :\"))\n",
    "tip_amount=tp*bill/100\n",
    "total_bill=bill+tip_amount\n",
    "print(\"the total bill is :\",total_bill)"
   ]
  },
  {
   "cell_type": "code",
   "execution_count": 16,
   "id": "05be6ea8-ffd0-47c3-bf36-ba8e5f953a14",
   "metadata": {},
   "outputs": [
    {
     "name": "stdin",
     "output_type": "stream",
     "text": [
      "enter the weight in kgs : 25\n",
      "eenter the pounds for 1 kg : 2.2\n"
     ]
    },
    {
     "name": "stdout",
     "output_type": "stream",
     "text": [
      "the weight in pounds : 55\n"
     ]
    }
   ],
   "source": [
    "# Q4) ask the user to enter the weight in kgs\n",
    "   # display the answer in pounds\n",
    "   # 1kg=2.2 pounds\n",
    "\n",
    "weight=eval(input(\"enter the weight in kgs :\"))\n",
    "pounds_weight=eval(input(\"eenter the pounds for 1 kg :\"))\n",
    "pounds=round(weight*pounds_weight)\n",
    "print(\"the weight in pounds :\",pounds)"
   ]
  },
  {
   "cell_type": "code",
   "execution_count": 19,
   "id": "c28d5bdf-8c38-45fd-92ee-a6ef607102eb",
   "metadata": {},
   "outputs": [
    {
     "name": "stdout",
     "output_type": "stream",
     "text": [
      "the addition of 2 and 69 is 71\n"
     ]
    }
   ],
   "source": [
    "import random\n",
    "n1=random.randint(1,100)\n",
    "n2=random.randint(1,100)\n",
    "add=n1+n2\n",
    "print(f\"the addition of {n1} and {n2} is {add}\")"
   ]
  },
  {
   "cell_type": "code",
   "execution_count": 20,
   "id": "4ae45b91-2fa5-4cd4-98c4-c6e26fc7ed7b",
   "metadata": {},
   "outputs": [
    {
     "name": "stdout",
     "output_type": "stream",
     "text": [
      "117\n",
      "-63\n",
      "2430\n",
      "the div of 27 and 90 is 0\n"
     ]
    }
   ],
   "source": [
    "# Q1) using random\n",
    "\n",
    "import random\n",
    "n1=random.randint(1,100)\n",
    "n2=random.randint(1,100)\n",
    "add=n1+n2\n",
    "print(add)\n",
    "sub=n1-n2\n",
    "print(sub)\n",
    "mul=n1*n2\n",
    "print(mul)\n",
    "div=round(n1/n2)\n",
    "print(f\"the div of {n1} and {n2} is {div}\")"
   ]
  },
  {
   "cell_type": "code",
   "execution_count": 21,
   "id": "fe5c3df1-50d7-488d-84ae-30c06e960ec0",
   "metadata": {},
   "outputs": [
    {
     "name": "stdout",
     "output_type": "stream",
     "text": [
      "62\n"
     ]
    }
   ],
   "source": [
    "# Q2) using random\n",
    "\n",
    "import random\n",
    "n1=random.randint(1,100)\n",
    "n2=random.randint(1,100)\n",
    "n3=random.randint(1,100)\n",
    "avg=round((n1+n2+n3)/3)\n",
    "print(avg)"
   ]
  },
  {
   "cell_type": "code",
   "execution_count": 24,
   "id": "fb4cb909-96a7-4195-903f-b5242c70adcb",
   "metadata": {},
   "outputs": [
    {
     "name": "stdout",
     "output_type": "stream",
     "text": [
      "1864\n",
      "9\n",
      "167.76\n",
      "the total bill is : 2031.76\n"
     ]
    }
   ],
   "source": [
    "# Q3) using random\n",
    "\n",
    "import random\n",
    "bill=random.randint(1000,2000)\n",
    "print(bill)\n",
    "tp=random.randint(1,10)\n",
    "print(tp)\n",
    "tip_amount=tp*bill/100\n",
    "print(tip_amount)\n",
    "total_bill=bill+tip_amount\n",
    "print(\"the total bill is :\",total_bill)"
   ]
  },
  {
   "cell_type": "code",
   "execution_count": 29,
   "id": "34859def-7558-44d6-a88d-977aec57625c",
   "metadata": {},
   "outputs": [
    {
     "name": "stdin",
     "output_type": "stream",
     "text": [
      "enter the number 1 : 2\n",
      "enter the number 2 : 4\n"
     ]
    },
    {
     "name": "stdout",
     "output_type": "stream",
     "text": [
      "the addition of 2 and 4 is 6\n",
      "the subtraction of 2 and 4 is -2\n",
      "the multiplication of 2 and 4 is 8\n",
      "the div of 2 and 4 is 0\n"
     ]
    }
   ],
   "source": [
    "# print all 4 lines in 2 seconds gap\n",
    "\n",
    "import time\n",
    "n1=int(input(\"enter the number 1 :\"))\n",
    "n2=int(input(\"enter the number 2 :\"))\n",
    "add=n1+n2\n",
    "sub=n1-n2\n",
    "mul=n1*n2\n",
    "div=round(n1/n2)\n",
    "print(f\"the addition of {n1} and {n2} is {add}\")\n",
    "time.sleep(2)\n",
    "print(f\"the subtraction of {n1} and {n2} is {sub}\")\n",
    "time.sleep(2)\n",
    "print(f\"the multiplication of {n1} and {n2} is {mul}\")\n",
    "time.sleep(2)\n",
    "print(f\"the div of {n1} and {n2} is {div}\")\n",
    "time.sleep(2)"
   ]
  },
  {
   "cell_type": "code",
   "execution_count": 5,
   "id": "6adc112e-8df9-42c2-b667-642d8fb4bd35",
   "metadata": {},
   "outputs": [
    {
     "name": "stdin",
     "output_type": "stream",
     "text": [
      "radius of the circle :  5\n"
     ]
    },
    {
     "name": "stdout",
     "output_type": "stream",
     "text": [
      "area of the circle : 78.54\n"
     ]
    }
   ],
   "source": [
    "# Q) wap ask the user \n",
    "  # calculate the area of the circle\n",
    "  # ask the user take radius from keyboard\n",
    "  # area of the circle = pi*r*r\n",
    "  # get the pi value from math package\n",
    "\n",
    "import math\n",
    "pi=math.pi\n",
    "radius=eval(input(\"radius of the circle : \"))\n",
    "area=round(pi*radius*radius,2)    #area=round(pi*radius**2,2)\n",
    "print(\"area of the circle :\",area)"
   ]
  },
  {
   "cell_type": "code",
   "execution_count": 6,
   "id": "95f271e1-babf-4287-a0fc-3d5b3bde6099",
   "metadata": {},
   "outputs": [
    {
     "name": "stdin",
     "output_type": "stream",
     "text": [
      "breadth of the triangle : 4\n",
      "height of the triangle : 5\n"
     ]
    },
    {
     "name": "stdout",
     "output_type": "stream",
     "text": [
      "the area of the triangle is 10.0\n"
     ]
    }
   ],
   "source": [
    "# Q) wap ask the user take breadth and height\n",
    "  # calculate area of the triangle\n",
    "  # formulae : 0.5*b*h\n",
    "\n",
    "breadth=eval(input(\"breadth of the triangle :\"))\n",
    "height=eval(input(\"height of the triangle :\"))\n",
    "area=0.5*breadth*height\n",
    "print(f\"the area of the triangle is {area}\")"
   ]
  },
  {
   "cell_type": "code",
   "execution_count": 9,
   "id": "94c60a5d-7b56-424b-8d25-aada5e94c18b",
   "metadata": {},
   "outputs": [
    {
     "name": "stdout",
     "output_type": "stream",
     "text": [
      "the area of the triangle is 412.5\n"
     ]
    }
   ],
   "source": [
    "import random\n",
    "breadth=random.randint(10,100)\n",
    "height=random.randint(10,100)\n",
    "area=round(0.5*breadth*height,2)\n",
    "print(f\"the area of the triangle is {area}\")"
   ]
  },
  {
   "cell_type": "markdown",
   "id": "49adc9e2-2dc5-4564-918f-15b41acec3f5",
   "metadata": {},
   "source": [
    "- How many ways we can provide the number\n",
    "- hard coded\n",
    "  - a=10\n",
    "- from keyboard\n",
    "  - a=eval(input())\n",
    "- using random package\n",
    "  - a=random.randint(1,100)"
   ]
  },
  {
   "cell_type": "code",
   "execution_count": 10,
   "id": "4041db71-40d7-4411-b2c5-cc2fe49387dd",
   "metadata": {},
   "outputs": [
    {
     "name": "stdout",
     "output_type": "stream",
     "text": [
      "the area of the triangle is 100.0\n"
     ]
    },
    {
     "name": "stdin",
     "output_type": "stream",
     "text": [
      "breadth of the triangle : 10\n",
      "height of the triangle : 20\n"
     ]
    },
    {
     "name": "stdout",
     "output_type": "stream",
     "text": [
      "the area of the triangle is 100.0\n",
      "the area of the triangle is 1081.0\n"
     ]
    }
   ],
   "source": [
    "# method-1\n",
    "\n",
    "breadth=10\n",
    "height=20\n",
    "area=round(0.5*breadth*height,2)\n",
    "print(f\"the area of the triangle is {area}\")\n",
    "\n",
    "# method-2\n",
    "\n",
    "breadth=eval(input(\"breadth of the triangle :\"))\n",
    "height=eval(input(\"height of the triangle :\"))\n",
    "area=0.5*breadth*height\n",
    "print(f\"the area of the triangle is {area}\")\n",
    "\n",
    "# method-3\n",
    "\n",
    "import random\n",
    "breadth=random.randint(10,100)\n",
    "height=random.randint(10,100)\n",
    "area=round(0.5*breadth*height,2)\n",
    "print(f\"the area of the triangle is {area}\")"
   ]
  },
  {
   "cell_type": "code",
   "execution_count": 11,
   "id": "d264239b-9b56-4752-bce9-12a445f91a7e",
   "metadata": {},
   "outputs": [
    {
     "name": "stdin",
     "output_type": "stream",
     "text": [
      "enter the start value : 2\n",
      "enter the end value ; 2\n"
     ]
    },
    {
     "name": "stdout",
     "output_type": "stream",
     "text": [
      "the area of the triangle is 2.0\n"
     ]
    }
   ],
   "source": [
    "import random\n",
    "start=eval(input(\"enter the start value :\"))\n",
    "end=eval(input(\"enter the end value ;\"))\n",
    "breadth=random.randint(start,end)\n",
    "height=random.randint(start,end)\n",
    "area=round(breadth*height/2,2)\n",
    "print(f\"the area of the triangle is {area}\")"
   ]
  },
  {
   "cell_type": "code",
   "execution_count": 18,
   "id": "a3f226b7-3719-47a9-8835-4b2fe0962697",
   "metadata": {},
   "outputs": [
    {
     "name": "stdout",
     "output_type": "stream",
     "text": [
      "the area of the rectangle is 200\n",
      "the perimeter of the rectangle is 60\n"
     ]
    },
    {
     "name": "stdin",
     "output_type": "stream",
     "text": [
      "enter the length : 10\n",
      "enter the breadth : 20\n"
     ]
    },
    {
     "name": "stdout",
     "output_type": "stream",
     "text": [
      "the area of the rectangle is 200\n",
      "the perimeter of the rectangle is 60\n",
      "the area of the rectangle is 288\n",
      "the perimeter of the rectangle is 68\n"
     ]
    }
   ],
   "source": [
    "# wap ask the user calculate area and perimeter of the rectangle\n",
    "  # m-1: hard coded\n",
    "  # m-2: keyboard\n",
    "  # m-3: random\n",
    "# formula : area=l*b\n",
    "# formula : perimeter=2(l+b)\n",
    "\n",
    "length=10\n",
    "breadth=20\n",
    "area=length*breadth\n",
    "perimeter=2*(length+breadth)\n",
    "print(f\"the area of the rectangle is {area}\")\n",
    "print(f\"the perimeter of the rectangle is {perimeter}\")\n",
    "\n",
    "length=eval(input(\"enter the length :\"))\n",
    "breadth=eval(input(\"enter the breadth :\"))\n",
    "area=length*breadth\n",
    "perimeter=2*(length+breadth)\n",
    "print(f\"the area of the rectangle is {area}\")\n",
    "print(f\"the perimeter of the rectangle is {perimeter}\")\n",
    "\n",
    "import random\n",
    "length=random.randint(10,20)\n",
    "breadth=random.randint(10,20)\n",
    "area=length*breadth\n",
    "perimeter=2*(length+breadth)\n",
    "print(f\"the area of the rectangle is {area}\")\n",
    "print(f\"the perimeter of the rectangle is {perimeter}\")"
   ]
  },
  {
   "cell_type": "code",
   "execution_count": 23,
   "id": "b7f2ab48-ec4e-4988-ac41-b40ceb7e1136",
   "metadata": {},
   "outputs": [
    {
     "name": "stdout",
     "output_type": "stream",
     "text": [
      "volume of the cylinder is 37.68\n"
     ]
    },
    {
     "name": "stdin",
     "output_type": "stream",
     "text": [
      "enter the radius : 2\n",
      "enter the height : 3\n"
     ]
    },
    {
     "name": "stdout",
     "output_type": "stream",
     "text": [
      "volume of the cylinder is 37.7\n",
      "volume of the cylinder is 1608.5\n"
     ]
    }
   ],
   "source": [
    "# wap ask the user calculate volume of the cylinder\n",
    " #  formulae : pi*r*r*h\n",
    "\n",
    "pi=3.14\n",
    "r=2\n",
    "h=3\n",
    "volume=pi*r*r*h\n",
    "print(f\"volume of the cylinder is {volume}\")\n",
    "\n",
    "import math\n",
    "pi=math.pi\n",
    "radius=eval(input(\"enter the radius :\"))\n",
    "height=eval(input(\"enter the height :\"))\n",
    "volume=round(pi*radius*radius*height,2)\n",
    "print(f\"volume of the cylinder is {volume}\")\n",
    "\n",
    "import math\n",
    "import random\n",
    "pi=math.pi\n",
    "radius=random.randint(1,10)\n",
    "height=random.randint(1,10)\n",
    "volume=round(pi*radius*radius*height,2)\n",
    "print(f\"volume of the cylinder is {volume}\")"
   ]
  },
  {
   "cell_type": "code",
   "execution_count": 26,
   "id": "1db55f95-798c-43dd-8eec-9fda3416e95f",
   "metadata": {},
   "outputs": [
    {
     "name": "stdin",
     "output_type": "stream",
     "text": [
      " Hey mom\n",
      " Hello beta\n",
      " Mom do you know TS government implemented free bus ride \n",
      " Oh wow super\n",
      " let's go to granny home\n",
      " Where you want to go\n",
      " Show me I'd card\n",
      " We don't have any I'd card\n",
      " Then you need to pay the money\n",
      " How much amount per km\n",
      " 5rs ======v1\n",
      " How many km\n",
      " 100km=====v2\n",
      " How much money\n",
      " 5*100=500\n",
      " I have I'd card\n",
      " Enjoy the free ride\n"
     ]
    },
    {
     "name": "stdout",
     "output_type": "stream",
     "text": [
      "Daughter: Hey mom\n",
      "Mother: Hello beta\n",
      "Daughter: Mom do you know TS government implemented free bus ride \n",
      "Mother: Oh wow super\n",
      "Daughter: let's go to granny home\n",
      "Conductor: Where you want to go\n",
      "Conductor: Show me I'd card\n",
      "Mother: We don't have any I'd card\n",
      "Conductor: Then you need to pay the money\n",
      "Mother: How much amount per km\n",
      "Conductor: 5rs ======v1\n",
      "Mother: How many km\n",
      "Conductor: 100km=====v2\n",
      "Mother: How much money\n",
      "Conductor: 5*100=500\n",
      "Daughter: I have I'd card\n",
      "Conductor: Enjoy the free ride\n"
     ]
    }
   ],
   "source": [
    "# Conversation between mother, daughter and conductor \n",
    "\n",
    "# Daughter: Hey mom\n",
    "# Mother: Hello beta\n",
    "# Daughter: Mom do you know TS government implemented free bus ride \n",
    "# Mother: Oh wow super\n",
    "# Daughter: let's go to granny home\n",
    "# Conductor: Where you want to go\n",
    "# Conductor: Show me I'd card\n",
    "# Mother: We don't have any I'd card\n",
    "# Conductor: Then you need to pay the money\n",
    "# Mother: How much amount per km\n",
    "# Conductor: 5rs ======v1\n",
    "# Mother: How many km\n",
    "# Conductor: 100km=====v2\n",
    "# Mother: How much money\n",
    "# Conductor: 5*100=500\n",
    "# Daughter: I have I'd card\n",
    "# Conductor: Enjoy the free ride\n",
    "\n",
    "import time\n",
    "r1=input()\n",
    "r2=input()\n",
    "r3=input()\n",
    "r4=input()\n",
    "r5=input()\n",
    "r6=input()\n",
    "r7=input()\n",
    "r8=input()\n",
    "r9=input()\n",
    "r10=input()\n",
    "r11=input()\n",
    "r12=input()\n",
    "r13=input()\n",
    "r14=input()\n",
    "r15=input()\n",
    "r16=input()\n",
    "r17=input()\n",
    "print(\"Daughter:\",r1)\n",
    "time.sleep(2)\n",
    "print(\"Mother:\",r2)\n",
    "time.sleep(2)\n",
    "print(\"Daughter:\",r3)\n",
    "time.sleep(2)\n",
    "print(\"Mother:\",r4)\n",
    "time.sleep(2)\n",
    "print(\"Daughter:\",r5)\n",
    "time.sleep(2)\n",
    "print(\"Conductor:\",r6)\n",
    "time.sleep(2)\n",
    "print(\"Conductor:\",r7)\n",
    "time.sleep(2)\n",
    "print(\"Mother:\",r8)\n",
    "time.sleep(2)\n",
    "print(\"Conductor:\",r9)\n",
    "time.sleep(2)\n",
    "print(\"Mother:\",r10)\n",
    "time.sleep(2)\n",
    "print(\"Conductor:\",r11)\n",
    "time.sleep(2)\n",
    "print(\"Mother:\",r12)\\\n",
    "time.sleep(2)\n",
    "print(\"Conductor:\",r13)\n",
    "time.sleep(2)\n",
    "print(\"Mother:\",r14)\n",
    "time.sleep(2)\n",
    "print(\"Conductor:\",r15)\n",
    "time.sleep(2)\n",
    "print(\"Daughter:\",r16)\n",
    "time.sleep(2)\n",
    "print(\"Conductor:\",r17)\n",
    "time.sleep(2)"
   ]
  },
  {
   "cell_type": "code",
   "execution_count": 27,
   "id": "a7668ae5-29ba-4fcf-a567-65bbdac0b43d",
   "metadata": {},
   "outputs": [
    {
     "name": "stdout",
     "output_type": "stream",
     "text": [
      "Daughter : hey mom\n",
      "mom : Hello beta\n",
      "Daughter : mom do you know Ts govt implmented free bus ride\n",
      "mom : Oh wow super\n",
      "Daugther : let's go to granny home\n",
      "conducter : Where you want to go\n",
      "conducter : show me your id card\n",
      "mom : we don't have any id cards\n",
      "conducter : then you have to pay the money\n",
      "mom : how much amount for km\n"
     ]
    },
    {
     "name": "stdin",
     "output_type": "stream",
     "text": [
      "conducter :  5 rs\n"
     ]
    },
    {
     "name": "stdout",
     "output_type": "stream",
     "text": [
      "mom : how many kms\n"
     ]
    },
    {
     "name": "stdin",
     "output_type": "stream",
     "text": [
      "conducter :  100\n"
     ]
    },
    {
     "name": "stdout",
     "output_type": "stream",
     "text": [
      "mom : how much money\n"
     ]
    },
    {
     "name": "stdin",
     "output_type": "stream",
     "text": [
      "conducter : 5*100=500\n"
     ]
    },
    {
     "name": "stdout",
     "output_type": "stream",
     "text": [
      "daughter : i have the id card\n",
      "conducter : enjoy the free ride\n"
     ]
    }
   ],
   "source": [
    "import time\n",
    "print(\"Daughter : hey mom\")\n",
    "time.sleep(3)\n",
    "print(\"mom : Hello beta\")\n",
    "time.sleep(3)\n",
    "print(\"Daughter : mom do you know Ts govt implmented free bus ride\")\n",
    "time.sleep(3)\n",
    "print(\"mom : Oh wow super\")\n",
    "time.sleep(3)\n",
    "print(\"Daugther : let's go to granny home\")\n",
    "time.sleep(3)\n",
    "print(\"conducter : Where you want to go\")\n",
    "time.sleep(3)\n",
    "print(\"conducter : show me your id card\")\n",
    "time.sleep(3)\n",
    "print(\"mom : we don't have any id cards\")\n",
    "time.sleep(3)\n",
    "print(\"conducter : then you have to pay the money\")\n",
    "time.sleep(3)\n",
    "print(\"mom : how much amount for km\")\n",
    "time.sleep(3)\n",
    "input(\"conducter : \")\n",
    "time.sleep(3)\n",
    "print(\"mom : how many kms\")\n",
    "time.sleep(3)\n",
    "input(\"conducter : \")\n",
    "time.sleep(3)\n",
    "print(\"mom : how much money\")\n",
    "time.sleep(3)\n",
    "input(\"conducter :\")\n",
    "time.sleep(3)\n",
    "print(\"daughter : i have the id card\")\n",
    "time.sleep(3)\n",
    "print(\"conducter : enjoy the free ride\")\n",
    "time.sleep(3)"
   ]
  },
  {
   "cell_type": "code",
   "execution_count": null,
   "id": "e9c76c44-cf77-4edd-b53a-d8af79d8d3a2",
   "metadata": {},
   "outputs": [],
   "source": []
  }
 ],
 "metadata": {
  "kernelspec": {
   "display_name": "Python 3 (ipykernel)",
   "language": "python",
   "name": "python3"
  },
  "language_info": {
   "codemirror_mode": {
    "name": "ipython",
    "version": 3
   },
   "file_extension": ".py",
   "mimetype": "text/x-python",
   "name": "python",
   "nbconvert_exporter": "python",
   "pygments_lexer": "ipython3",
   "version": "3.11.7"
  }
 },
 "nbformat": 4,
 "nbformat_minor": 5
}
