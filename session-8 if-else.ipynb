{
 "cells": [
  {
   "cell_type": "markdown",
   "id": "7417a283-7699-4db1-bcba-7bfa6d47c63d",
   "metadata": {},
   "source": [
    "- we have 3 ases in conditional statements\n",
    "- case-1: if\n",
    "- case-2: if-else\n",
    "- case-3: if-elif-else \n",
    "- when we ask the computer will give True and False\n",
    "- If true then we want to execute statements\n",
    "- if False also we can execute statements"
   ]
  },
  {
   "cell_type": "markdown",
   "id": "5994b917-53bb-46d0-b0b0-d4c78addb612",
   "metadata": {},
   "source": [
    "**case-1: if**"
   ]
  },
  {
   "cell_type": "code",
   "execution_count": null,
   "id": "7834a1c7-47dc-4d16-be63-869b06e5f438",
   "metadata": {},
   "outputs": [],
   "source": [
    "#syntax\n",
    "# if the statement starts with any keyword\n",
    "# end of the statement : will be there\n",
    "# when : is there then we need to provide  indentation \n",
    "# indentation means next lines has start with some space\n",
    "\n",
    "# if <condition>:\n",
    "#    <st1>\n",
    "#    <st2>\n",
    "#    ----\n",
    "#    <stn>\n",
    "\n",
    "# if  the condition is true then apply\n",
    "# it will go to the inside if block snd run the program"
   ]
  },
  {
   "cell_type": "code",
   "execution_count": 2,
   "id": "17c2d1e8-2347-493b-85c5-f112a7dc660c",
   "metadata": {},
   "outputs": [
    {
     "name": "stdout",
     "output_type": "stream",
     "text": [
      "krishna\n"
     ]
    }
   ],
   "source": [
    "if 100>10:\n",
    "    print(\"krishna\")"
   ]
  },
  {
   "cell_type": "code",
   "execution_count": 9,
   "id": "19860e7a-d0eb-4683-a00e-9cc169435cd4",
   "metadata": {},
   "outputs": [
    {
     "ename": "IndentationError",
     "evalue": "expected an indented block after 'if' statement on line 1 (2839323151.py, line 2)",
     "output_type": "error",
     "traceback": [
      "\u001b[1;36m  Cell \u001b[1;32mIn[9], line 2\u001b[1;36m\u001b[0m\n\u001b[1;33m    print(\"krishna\")\u001b[0m\n\u001b[1;37m    ^\u001b[0m\n\u001b[1;31mIndentationError\u001b[0m\u001b[1;31m:\u001b[0m expected an indented block after 'if' statement on line 1\n"
     ]
    }
   ],
   "source": [
    "if 100>10:\n",
    "print(\"krishna\")"
   ]
  },
  {
   "cell_type": "code",
   "execution_count": 13,
   "id": "8eaa4346-f669-49c3-914a-50a9e5f81fe3",
   "metadata": {},
   "outputs": [
    {
     "name": "stdout",
     "output_type": "stream",
     "text": [
      "krishna\n"
     ]
    }
   ],
   "source": [
    "if 100>10:\n",
    "    print(\"krishna\")"
   ]
  },
  {
   "cell_type": "markdown",
   "id": "dd675845-a021-4adc-ab2b-a297bc67cc13",
   "metadata": {},
   "source": [
    "**Error-1: Indentation error**"
   ]
  },
  {
   "cell_type": "code",
   "execution_count": 15,
   "id": "cb18e484-271a-4e7b-8ce8-dbadca45ac15",
   "metadata": {},
   "outputs": [
    {
     "ename": "IndentationError",
     "evalue": "expected an indented block after 'if' statement on line 1 (2839323151.py, line 2)",
     "output_type": "error",
     "traceback": [
      "\u001b[1;36m  Cell \u001b[1;32mIn[15], line 2\u001b[1;36m\u001b[0m\n\u001b[1;33m    print(\"krishna\")\u001b[0m\n\u001b[1;37m    ^\u001b[0m\n\u001b[1;31mIndentationError\u001b[0m\u001b[1;31m:\u001b[0m expected an indented block after 'if' statement on line 1\n"
     ]
    }
   ],
   "source": [
    "if 100>10:\n",
    "print(\"krishna\")"
   ]
  },
  {
   "cell_type": "markdown",
   "id": "ac0081e1-dc49-461b-96f0-5cd5823f5aa7",
   "metadata": {},
   "source": [
    "**Error-2: miss the : at the end**"
   ]
  },
  {
   "cell_type": "code",
   "execution_count": 16,
   "id": "9b903a3b-b12c-4f9f-ae25-6277f6495ed6",
   "metadata": {},
   "outputs": [
    {
     "ename": "SyntaxError",
     "evalue": "expected ':' (1436317933.py, line 1)",
     "output_type": "error",
     "traceback": [
      "\u001b[1;36m  Cell \u001b[1;32mIn[16], line 1\u001b[1;36m\u001b[0m\n\u001b[1;33m    if 100>10\u001b[0m\n\u001b[1;37m             ^\u001b[0m\n\u001b[1;31mSyntaxError\u001b[0m\u001b[1;31m:\u001b[0m expected ':'\n"
     ]
    }
   ],
   "source": [
    "if 100>10\n",
    "print(\"krishna\")"
   ]
  },
  {
   "cell_type": "markdown",
   "id": "20c01d02-3fcb-4fa9-bfc3-ecea6597fe5c",
   "metadata": {},
   "source": [
    "**Error-3: **"
   ]
  },
  {
   "cell_type": "code",
   "execution_count": 19,
   "id": "e7a55f28-9bb8-46fe-97e1-a76b71d62191",
   "metadata": {},
   "outputs": [
    {
     "name": "stdout",
     "output_type": "stream",
     "text": [
      "python\n"
     ]
    }
   ],
   "source": [
    "if True:     #here true is nothing but 100>10\n",
    "    print(\"python\")"
   ]
  },
  {
   "cell_type": "code",
   "execution_count": 31,
   "id": "06baede8-6431-4cea-8b50-540148eec5f4",
   "metadata": {},
   "outputs": [],
   "source": [
    "if False:    #heere false is nothing but 100<10 .so no output will be printed\n",
    "    print(\"python\")"
   ]
  },
  {
   "cell_type": "code",
   "execution_count": 33,
   "id": "f7642e70-83e9-46eb-8546-211308bdd2a1",
   "metadata": {},
   "outputs": [
    {
     "name": "stdout",
     "output_type": "stream",
     "text": [
      "1\n",
      "2\n",
      "python\n",
      "bye\n",
      "hello\n",
      "python\n"
     ]
    }
   ],
   "source": [
    "print(1)\n",
    "print(2)\n",
    "if 100>10:\n",
    "    print(\"python\")\n",
    "    print(\"bye\")\n",
    "print(\"hello\")\n",
    "print(\"python\")"
   ]
  },
  {
   "cell_type": "code",
   "execution_count": 34,
   "id": "294ef8c0-d647-4a9b-b854-17618af5811a",
   "metadata": {},
   "outputs": [
    {
     "name": "stdout",
     "output_type": "stream",
     "text": [
      "1\n",
      "2\n",
      "hello\n",
      "python\n"
     ]
    }
   ],
   "source": [
    "print(1)\n",
    "print(2)\n",
    "if 100<10:\n",
    "    print(\"python\")\n",
    "    print(\"bye\")\n",
    "print(\"hello\")\n",
    "print(\"python\")"
   ]
  },
  {
   "cell_type": "code",
   "execution_count": null,
   "id": "d52a4c12-c66c-4b80-ba8d-cf0223f476e7",
   "metadata": {},
   "outputs": [],
   "source": [
    "#syntax\n",
    "\n",
    "#if <condition>:\n",
    "    # st1\n",
    "    # st2\n",
    "#else\n",
    "    # st3\n",
    "\n",
    "# if block required condition\n",
    "# if block condition fails\n",
    "# then automatically it goes to else block\n",
    "# so else block does not require condition"
   ]
  },
  {
   "cell_type": "code",
   "execution_count": 35,
   "id": "c98b09ae-9076-4206-b46f-84c7c2f07a66",
   "metadata": {},
   "outputs": [
    {
     "name": "stdout",
     "output_type": "stream",
     "text": [
      "good condition is correct\n"
     ]
    }
   ],
   "source": [
    "if 100>10:\n",
    "    print(\"good condition is correct\")\n",
    "else:\n",
    "    print(\"bad condition is wrong\")"
   ]
  },
  {
   "cell_type": "code",
   "execution_count": 36,
   "id": "ad9ef001-da7c-4da6-848b-0e5f4e57b564",
   "metadata": {},
   "outputs": [
    {
     "name": "stdout",
     "output_type": "stream",
     "text": [
      "bad condition is wrong\n"
     ]
    }
   ],
   "source": [
    "if 100<10:\n",
    "    print(\"good condition is correct\")\n",
    "else:\n",
    "    print(\"bad condition is wrong\")"
   ]
  },
  {
   "cell_type": "code",
   "execution_count": 37,
   "id": "351161e6-1985-4a77-b356-09a07052fdab",
   "metadata": {},
   "outputs": [
    {
     "ename": "SyntaxError",
     "evalue": "expected ':' (2906569852.py, line 3)",
     "output_type": "error",
     "traceback": [
      "\u001b[1;36m  Cell \u001b[1;32mIn[37], line 3\u001b[1;36m\u001b[0m\n\u001b[1;33m    else False:\u001b[0m\n\u001b[1;37m         ^\u001b[0m\n\u001b[1;31mSyntaxError\u001b[0m\u001b[1;31m:\u001b[0m expected ':'\n"
     ]
    }
   ],
   "source": [
    "if 100>10:\n",
    "    print(\"good condition is correct\")\n",
    "else False:\n",
    "    print(\"bad condition is wrong\")"
   ]
  },
  {
   "cell_type": "code",
   "execution_count": 38,
   "id": "8167a1b6-fa1b-4196-b343-2fedfbfc803a",
   "metadata": {},
   "outputs": [
    {
     "ename": "SyntaxError",
     "evalue": "invalid syntax (3119802430.py, line 5)",
     "output_type": "error",
     "traceback": [
      "\u001b[1;36m  Cell \u001b[1;32mIn[38], line 5\u001b[1;36m\u001b[0m\n\u001b[1;33m    else:\u001b[0m\n\u001b[1;37m    ^\u001b[0m\n\u001b[1;31mSyntaxError\u001b[0m\u001b[1;31m:\u001b[0m invalid syntax\n"
     ]
    }
   ],
   "source": [
    "print(1)\n",
    "if 100>10:\n",
    "    print(\"good condition is correct\")\n",
    "print(2)\n",
    "else:\n",
    "    print(\"bad condition is wrong\")\n",
    "print(3)          #it gives syntax error because in between if and else no statement should come"
   ]
  },
  {
   "cell_type": "code",
   "execution_count": 39,
   "id": "a0ded933-a817-4821-a515-5817b2b688cf",
   "metadata": {},
   "outputs": [
    {
     "name": "stdout",
     "output_type": "stream",
     "text": [
      "1\n",
      "good condition is correct\n"
     ]
    },
    {
     "ename": "ZeroDivisionError",
     "evalue": "division by zero",
     "output_type": "error",
     "traceback": [
      "\u001b[1;31m---------------------------------------------------------------------------\u001b[0m",
      "\u001b[1;31mZeroDivisionError\u001b[0m                         Traceback (most recent call last)",
      "Cell \u001b[1;32mIn[39], line 4\u001b[0m\n\u001b[0;32m      2\u001b[0m \u001b[38;5;28;01mif\u001b[39;00m \u001b[38;5;241m100\u001b[39m\u001b[38;5;241m>\u001b[39m\u001b[38;5;241m10\u001b[39m:\n\u001b[0;32m      3\u001b[0m     \u001b[38;5;28mprint\u001b[39m(\u001b[38;5;124m\"\u001b[39m\u001b[38;5;124mgood condition is correct\u001b[39m\u001b[38;5;124m\"\u001b[39m)\n\u001b[1;32m----> 4\u001b[0m     \u001b[38;5;28mprint\u001b[39m(\u001b[38;5;241m2\u001b[39m\u001b[38;5;241m/\u001b[39m\u001b[38;5;241m0\u001b[39m)\n\u001b[0;32m      5\u001b[0m \u001b[38;5;28;01melse\u001b[39;00m:\n\u001b[0;32m      6\u001b[0m     \u001b[38;5;28mprint\u001b[39m(\u001b[38;5;124m\"\u001b[39m\u001b[38;5;124mbad condition is wrong\u001b[39m\u001b[38;5;124m\"\u001b[39m)\n",
      "\u001b[1;31mZeroDivisionError\u001b[0m: division by zero"
     ]
    }
   ],
   "source": [
    "print(1)\n",
    "if 100>10:\n",
    "    print(\"good condition is correct\")\n",
    "    print(2/0)\n",
    "else:\n",
    "    print(\"bad condition is wrong\")\n",
    "print(3)      "
   ]
  },
  {
   "cell_type": "code",
   "execution_count": 42,
   "id": "fb5c293e-7199-4204-ab00-3bfd0ebc57f5",
   "metadata": {},
   "outputs": [
    {
     "data": {
      "text/plain": [
       "0.8"
      ]
     },
     "execution_count": 42,
     "metadata": {},
     "output_type": "execute_result"
    }
   ],
   "source": [
    "4/5   # / : division it gives quotient with floating points"
   ]
  },
  {
   "cell_type": "code",
   "execution_count": 41,
   "id": "5b8f60f2-9101-48e7-ada1-2aaebff68515",
   "metadata": {},
   "outputs": [
    {
     "data": {
      "text/plain": [
       "0"
      ]
     },
     "execution_count": 41,
     "metadata": {},
     "output_type": "execute_result"
    }
   ],
   "source": [
    "4//5  # // : floor division gives quotient with no decimal points"
   ]
  },
  {
   "cell_type": "code",
   "execution_count": 43,
   "id": "47ed4bed-3644-4c1b-92ed-065ea3aa0a69",
   "metadata": {},
   "outputs": [
    {
     "data": {
      "text/plain": [
       "4"
      ]
     },
     "execution_count": 43,
     "metadata": {},
     "output_type": "execute_result"
    }
   ],
   "source": [
    "4%5  # % : modulus gives remainder"
   ]
  },
  {
   "cell_type": "code",
   "execution_count": 44,
   "id": "87aea9ac-3e6e-44fd-82fc-cefa73259c20",
   "metadata": {},
   "outputs": [
    {
     "name": "stdin",
     "output_type": "stream",
     "text": [
      "enter a number : 5\n"
     ]
    },
    {
     "name": "stdout",
     "output_type": "stream",
     "text": [
      "the number 5 is odd\n"
     ]
    }
   ],
   "source": [
    "# WAP  ask the user to enter a value from keyboard\n",
    "# Find whether the number is even or odd\n",
    "\n",
    "\n",
    "# hint: number%2==0\n",
    "# = means assigning a value\n",
    "# == means checking the condition\n",
    "\n",
    "num=eval(input(\"enter a number :\"))\n",
    "if num%2==0:\n",
    "    print(f\"the number {num} is even\")\n",
    "else:\n",
    "    print(f\"the number {num} is odd\")"
   ]
  },
  {
   "cell_type": "code",
   "execution_count": 45,
   "id": "bdf7c8bb-4817-4c3e-9bbf-49424caa5c59",
   "metadata": {},
   "outputs": [
    {
     "name": "stdout",
     "output_type": "stream",
     "text": [
      "the number 17 is odd\n"
     ]
    }
   ],
   "source": [
    "# wap implement the above code by taking number randomly between 10 and 100\n",
    "\n",
    "import random\n",
    "num=random.randint(10,100)\n",
    "if num%2==0:\n",
    "    print(f\"the number {num} is even\")\n",
    "else:\n",
    "    print(f\"the number {num} is odd\")"
   ]
  },
  {
   "cell_type": "code",
   "execution_count": 48,
   "id": "e0b9bbd4-d071-4826-9a67-771aaff4f195",
   "metadata": {},
   "outputs": [
    {
     "name": "stdout",
     "output_type": "stream",
     "text": [
      "first number 30\n"
     ]
    },
    {
     "name": "stdin",
     "output_type": "stream",
     "text": [
      "second number : 30\n"
     ]
    },
    {
     "name": "stdout",
     "output_type": "stream",
     "text": [
      "you won\n"
     ]
    }
   ],
   "source": [
    "# Game program\n",
    "# there are two numbers\n",
    "# num1 comes from random\n",
    "# num2 is taking from the keyboard\n",
    "# if both numbers  are equal\n",
    "# then print you won\n",
    "# else\n",
    "# print you loss\n",
    "\n",
    "import random\n",
    "num1=random.randint(10,100)\n",
    "print(f\"first number {num1}\")\n",
    "num2=eval(input(\"second number :\"))\n",
    "if num1==num2:\n",
    "    print(\"you won\")\n",
    "else:\n",
    "    print(\"you loss\")"
   ]
  },
  {
   "cell_type": "code",
   "execution_count": 51,
   "id": "3def69cb-29f0-4538-b4a3-fd0bcc3ea215",
   "metadata": {},
   "outputs": [
    {
     "name": "stdin",
     "output_type": "stream",
     "text": [
      "enter how much distance need to travel 30\n",
      "enter charge per km 2\n"
     ]
    },
    {
     "name": "stdout",
     "output_type": "stream",
     "text": [
      "total charge 60\n"
     ]
    }
   ],
   "source": [
    "# wap ask the user enter how much distance need to travel\n",
    "# ask the user charge per kilometer\n",
    "# if  the distance > 25 km\n",
    "#    then print total charge\n",
    "# otherwise\n",
    "#    print free ride\n",
    "\n",
    "distance=eval(input(\"enter how much distance need to travel\"))\n",
    "if distance>25:\n",
    "    charge=eval(input(\"enter charge per km\"))\n",
    "    total_charge=distance*charge\n",
    "    print(\"total charge\",total_charge)\n",
    "else:\n",
    "    print(\"free ride\")"
   ]
  },
  {
   "cell_type": "markdown",
   "id": "e2ecf917-86d7-4f1b-ae96-99bf508c694b",
   "metadata": {},
   "source": [
    "**case-3: if-elif-else**"
   ]
  },
  {
   "cell_type": "code",
   "execution_count": null,
   "id": "eda1c296-bf1d-4e8c-ae2d-3091a6b67b2e",
   "metadata": {},
   "outputs": [],
   "source": [
    "# we have two conditions\n",
    "# one condition refers to if block\n",
    "# automatically second condition refers to else block\n",
    "\n",
    "# what happens if we have three conditions are there\n",
    "# then we will use elif\n",
    "# always first condition under if block\n",
    "# last condition under else block\n",
    "# remaining all conditions under elif block\n",
    "\n",
    "# if <con1>:\n",
    "    # st1\n",
    "# elif <con2>:\n",
    "    # st2\n",
    "# else:\n",
    "    # st3\n",
    "\n",
    "c1  c2    c3    c4\n",
    "if  elif  elif  else"
   ]
  },
  {
   "cell_type": "code",
   "execution_count": 52,
   "id": "97eb6703-6823-4a28-977d-3513098fe2a1",
   "metadata": {},
   "outputs": [
    {
     "name": "stdin",
     "output_type": "stream",
     "text": [
      "enter a number : 4\n"
     ]
    },
    {
     "name": "stdout",
     "output_type": "stream",
     "text": [
      "4\n"
     ]
    }
   ],
   "source": [
    "# wap ask the user enter a number\n",
    "# if number equal to 1 then print 1: if\n",
    "# if number equal to 2 then print 2: elif\n",
    "# if number equal to 3 then print 3: elif\n",
    "# if number equal to 4 then print 4: elif\n",
    "# otherwise print bye: else\n",
    "\n",
    "number=eval(input(\"enter a number :\"))\n",
    "if number==1:\n",
    "    print(1)\n",
    "elif number==2:\n",
    "    print(2)\n",
    "elif number==3:\n",
    "    print(3)\n",
    "elif number==4:\n",
    "    print(4)\n",
    "else:\n",
    "    print(\"bye\")"
   ]
  },
  {
   "cell_type": "code",
   "execution_count": 3,
   "id": "84051378-2009-4b69-9923-2b28d6fcf29b",
   "metadata": {},
   "outputs": [
    {
     "name": "stdin",
     "output_type": "stream",
     "text": [
      "enter marks percentage : 90\n"
     ]
    },
    {
     "name": "stdout",
     "output_type": "stream",
     "text": [
      "A grade\n"
     ]
    }
   ],
   "source": [
    "# wap ask the user \n",
    "# enter marks percentage\n",
    "# If percentage greater than 90 then print A grade\n",
    "# If percentage between 70 and 90 then print B grade\n",
    "# If percentage between 50 and 70 then print C grade\n",
    "# If percentage between 35 and 50 then print D grade\n",
    "# otherwise print fail\n",
    "\n",
    "marks_per=eval(input(\"enter marks percentage :\"))\n",
    "if marks_per>=90:\n",
    "    print(\"A grade\")\n",
    "elif marks_per>=70 and marks_per<90:\n",
    "    print(\"B grade\")\n",
    "elif marks_per>=50 and marks_per<70:\n",
    "    print(\"C grade\")\n",
    "elif marks_per>=35 and marks_per<50:\n",
    "    print(\"D grade\")\n",
    "else:\n",
    "    print(\"fail\")"
   ]
  },
  {
   "cell_type": "code",
   "execution_count": 10,
   "id": "5c793d1f-1256-4d6a-b78f-72fcf36a55a8",
   "metadata": {},
   "outputs": [
    {
     "name": "stdin",
     "output_type": "stream",
     "text": [
      "enter marks percentage : 85\n"
     ]
    },
    {
     "name": "stdout",
     "output_type": "stream",
     "text": [
      "B grade\n"
     ]
    }
   ],
   "source": [
    "marks_per=eval(input(\"enter marks percentage :\"))\n",
    "if marks_per>=90:\n",
    "    print(\"A grade\")\n",
    "elif marks_per>=70:                #Here no need of and condition\n",
    "    print(\"B grade\")\n",
    "elif marks_per>=50:\n",
    "    print(\"C grade\")\n",
    "elif marks_per>=35:\n",
    "    print(\"D grade\")\n",
    "else:\n",
    "    print(\"fail\")"
   ]
  },
  {
   "cell_type": "code",
   "execution_count": 16,
   "id": "87199b25-c5af-4016-afcd-5002b23afe53",
   "metadata": {},
   "outputs": [
    {
     "name": "stdin",
     "output_type": "stream",
     "text": [
      "enter age : 22\n"
     ]
    },
    {
     "name": "stdout",
     "output_type": "stream",
     "text": [
      "young\n"
     ]
    }
   ],
   "source": [
    "# wap ask the user enter age\n",
    "# If age greater than 90 then print lucky man\n",
    "# If age between 70 and 90 then print old\n",
    "# If age between 50 and 70 then print senior citizen\n",
    "# If age between 35 and 50 then print middle aged\n",
    "# If age between 20 and 35 then print young\n",
    "# If age between 13 and 20 then print teenage\n",
    "# otherwise print kid\n",
    "\n",
    "age=eval(input(\"enter age :\"))\n",
    "if age>=90:\n",
    "    print(\"lucky man\")\n",
    "elif age>=70:                #Here no need of and condition\n",
    "    print(\"old\")\n",
    "elif age>=50:\n",
    "    print(\"senior citizen\")\n",
    "elif age>=35:\n",
    "    print(\"middle aged\")\n",
    "elif age>=20:\n",
    "    print(\"young\")\n",
    "elif age>=13:\n",
    "    print(\"teenage\")\n",
    "else:\n",
    "    print(\"fail\")"
   ]
  },
  {
   "cell_type": "code",
   "execution_count": 21,
   "id": "e69670cd-4f6d-4b11-87bf-0ce8b887e62b",
   "metadata": {},
   "outputs": [
    {
     "name": "stdin",
     "output_type": "stream",
     "text": [
      "enter first number : 2\n",
      "enter second number : 4\n"
     ]
    },
    {
     "name": "stdout",
     "output_type": "stream",
     "text": [
      "enter the operation 1 for addition\n",
      "enter the operation 2 for subtraction\n",
      "enter the operation 3 for multiplication\n",
      "enter the operation 4 for division\n"
     ]
    },
    {
     "name": "stdin",
     "output_type": "stream",
     "text": [
      "enter operation number : 4\n"
     ]
    },
    {
     "name": "stdout",
     "output_type": "stream",
     "text": [
      "division of 2 and 4 is 0.5\n"
     ]
    }
   ],
   "source": [
    "# add\n",
    "# mul\n",
    "# sub\n",
    "# div based on conditions\n",
    "\n",
    "# take two numbers\n",
    "# num1 from keyboard\n",
    "# num2 from keyboard\n",
    "# enter the operation 1 for add\n",
    "# enter the operation 2 for sub\n",
    "# enter the operation 3 for mul\n",
    "# enter the operation 4 for div\n",
    "# operation= ask the user enter operation from keyboard\n",
    "# if operation equal to 1\n",
    "  # perform the addition\n",
    "# if operation equal to 2\n",
    "  # perform the subtraction\n",
    "# if operation equal to 3\n",
    "  # perform the mul\n",
    "# if operation equal to 4\n",
    "  # perform the div\n",
    "\n",
    "num1=eval(input(\"enter first number :\"))\n",
    "num2=eval(input('enter second number :'))\n",
    "print(\"enter the operation 1 for addition\")\n",
    "print(\"enter the operation 2 for subtraction\")\n",
    "print(\"enter the operation 3 for multiplication\")\n",
    "print(\"enter the operation 4 for division\")\n",
    "operation=eval(input(\"enter operation number :\"))\n",
    "if operation==1:\n",
    "    add=num1+num2\n",
    "    print(f\"addition of {num1} and {num2} is {add}\")\n",
    "elif operation==2:\n",
    "    sub=num1-num2\n",
    "    print(f\"subtraction of {num1} and {num2} is {sub}\")\n",
    "elif operation==3:\n",
    "    mul=num1*num2\n",
    "    print(f\"multiplication of {num1} and {num2} is {mul}\")\n",
    "elif operation==4:\n",
    "    div=num1/num2\n",
    "    print(f\"division of {num1} and {num2} is {div}\")"
   ]
  },
  {
   "cell_type": "code",
   "execution_count": 30,
   "id": "d310e3dd-33f2-4890-989c-031635a46e1c",
   "metadata": {},
   "outputs": [
    {
     "name": "stdin",
     "output_type": "stream",
     "text": [
      "enter gender : male\n",
      "enter age : 22\n"
     ]
    },
    {
     "name": "stdout",
     "output_type": "stream",
     "text": [
      "boy\n"
     ]
    }
   ],
   "source": [
    "# wap ask the user enter gender\n",
    "# if gender equal to male\n",
    "  # ask the user enter age\n",
    "  # if the age greater than 30 then print middleaged men\n",
    "  # otherwise print boy\n",
    "# elif gender equal to female\n",
    "  # ask the user enter age\n",
    "  # if age greater than 30 then print middleaged women\n",
    "  # otherwise print girl\n",
    "# otherwise\n",
    "  # print enter valid gender\n",
    "\n",
    "gender=input(\"enter gender :\")\n",
    "if gender==\"male\":\n",
    "    age=eval(input(\"enter age :\"))\n",
    "    if age>30:\n",
    "        print(\"middleaged men\")\n",
    "    else:\n",
    "        print(\"boy\")\n",
    "elif gender==\"female\":\n",
    "    age=eval(input(\"enter age :\"))\n",
    "    if age>30:\n",
    "        print(\"middleaged women\")\n",
    "    else:\n",
    "        print(\"girl\")\n",
    "else:\n",
    "    print(\"enter valid gender\")"
   ]
  },
  {
   "cell_type": "code",
   "execution_count": 31,
   "id": "ff55c9eb-2496-466e-9ac1-fdff59f22c7b",
   "metadata": {},
   "outputs": [
    {
     "name": "stdin",
     "output_type": "stream",
     "text": [
      "enter gender : male\n",
      "enter age : 22\n"
     ]
    },
    {
     "name": "stdout",
     "output_type": "stream",
     "text": [
      "boy\n"
     ]
    }
   ],
   "source": [
    "gender=input(\"enter gender :\")\n",
    "age=eval(input(\"enter age :\"))\n",
    "if gender==\"male\":\n",
    "    if age>30:\n",
    "        print(\"middleaged men\")\n",
    "    else:\n",
    "        print(\"boy\")\n",
    "elif gender==\"female\":\n",
    "    if age>30:\n",
    "        print(\"middleaged women\")\n",
    "    else:\n",
    "        print(\"girl\")\n",
    "else:\n",
    "    print(\"enter valid gender\")"
   ]
  },
  {
   "cell_type": "code",
   "execution_count": 36,
   "id": "27306cdf-f8a5-4e40-9770-e0c3fbe4f376",
   "metadata": {},
   "outputs": [
    {
     "name": "stdin",
     "output_type": "stream",
     "text": [
      "enter gender : female\n",
      "do you have id card or not? no\n",
      "enter how much distance need to travel : 25\n",
      "enter charge per km : 4\n"
     ]
    },
    {
     "name": "stdout",
     "output_type": "stream",
     "text": [
      "total charge is 100\n"
     ]
    }
   ],
   "source": [
    "# wap ask the user enter gender\n",
    "# if gender equal to female \n",
    "  # ask the user id card is there or not\n",
    "  # if id card is there \n",
    "  #    print(\"enjoy the free ride\")\n",
    "  # else :\n",
    "  #    ask the user how much dustance need to travel\n",
    "  #    ask the user enter charge per km\n",
    "  #    print total charge\n",
    "# elif gender equal to male:\n",
    "  #    ask the user how much dustance need to travel\n",
    "  #    ask the user enter charge per km\n",
    "  #    print total charge\n",
    "# else\n",
    "  #    print valid gender\n",
    "\n",
    "gender=input(\"enter gender :\")\n",
    "if gender==\"female\":\n",
    "    id_card=input(\"do you have id card or not?\")\n",
    "    if  id_card==\"yes\":\n",
    "        print(\"enjoy free ride\")\n",
    "    else:\n",
    "        distance=eval(input(\"enter how much distance need to travel :\"))\n",
    "        charge=eval(input(\"enter charge per km :\"))\n",
    "        total_charge=distance*charge\n",
    "        print(f\"total charge is {total_charge}\")\n",
    "elif gender==\"male\":\n",
    "        distance=eval(input(\"enter how much distance need to travel :\"))\n",
    "        charge=eval(input(\"enter charge per km :\"))\n",
    "        total_charge=distance*charge\n",
    "        print(f\"total charge is {total_charge}\")\n",
    "else:\n",
    "    print(\"valid gender\")"
   ]
  },
  {
   "cell_type": "code",
   "execution_count": 58,
   "id": "29e498eb-257d-45d6-9cf4-aacd47a91663",
   "metadata": {},
   "outputs": [
    {
     "name": "stdin",
     "output_type": "stream",
     "text": [
      "enter first number : 2\n",
      "enter second number : 4\n",
      "enter third number : 1\n"
     ]
    },
    {
     "name": "stdout",
     "output_type": "stream",
     "text": [
      "the biggest number is 4\n"
     ]
    }
   ],
   "source": [
    "# wap ask the user enter 3 numbers\n",
    "# find the biggest numbers\n",
    "\n",
    "n1=eval(input(\"enter first number :\"))\n",
    "n2=eval(input(\"enter second number :\"))\n",
    "n3=eval(input(\"enter third number :\"))\n",
    "if n1>n2 and n1>n3:\n",
    "    print(f\"the biggest number is {n1}\")\n",
    "elif n2>n3:\n",
    "    print(f\"the biggest number is {n2}\")\n",
    "else:\n",
    "    print(f\"the biggest number is {n3}\")"
   ]
  },
  {
   "cell_type": "code",
   "execution_count": 54,
   "id": "dc33de08-aad2-4dc6-921b-54705155a09e",
   "metadata": {},
   "outputs": [
    {
     "name": "stdin",
     "output_type": "stream",
     "text": [
      "enter first number : 3\n",
      "enter second number : 4\n",
      "enter third number : 5\n"
     ]
    },
    {
     "name": "stdout",
     "output_type": "stream",
     "text": [
      "the biggest number is 5\n"
     ]
    }
   ],
   "source": [
    "n1=eval(input(\"enter first number :\"))\n",
    "n2=eval(input(\"enter second number :\"))\n",
    "n3=eval(input(\"enter third number :\"))\n",
    "if n1>n2:\n",
    "    if n1>n3:\n",
    "         print(f\"the biggest number is {n1}\")\n",
    "    else:\n",
    "        print(f\"the biggest number is {n3}\")\n",
    "elif n1<n2:\n",
    "    if  n2>n3:\n",
    "        print(f\"the biggest number is {n2}\")\n",
    "    else:\n",
    "        print(f\"the biggest number is {n3}\")\n",
    "else:\n",
    "    print(f\"the biggest number is {n3}\")"
   ]
  },
  {
   "cell_type": "code",
   "execution_count": null,
   "id": "8511c122-81d2-4770-9ce5-d99cab7a7dc8",
   "metadata": {},
   "outputs": [],
   "source": []
  }
 ],
 "metadata": {
  "kernelspec": {
   "display_name": "Python 3 (ipykernel)",
   "language": "python",
   "name": "python3"
  },
  "language_info": {
   "codemirror_mode": {
    "name": "ipython",
    "version": 3
   },
   "file_extension": ".py",
   "mimetype": "text/x-python",
   "name": "python",
   "nbconvert_exporter": "python",
   "pygments_lexer": "ipython3",
   "version": "3.11.7"
  }
 },
 "nbformat": 4,
 "nbformat_minor": 5
}
