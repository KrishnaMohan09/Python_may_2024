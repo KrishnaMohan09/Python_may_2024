{
 "cells": [
  {
   "cell_type": "code",
   "execution_count": 1,
   "id": "f8a52e0b-1da9-4bda-a563-8e17fda59b8c",
   "metadata": {},
   "outputs": [
    {
     "data": {
      "text/plain": [
       "10"
      ]
     },
     "execution_count": 1,
     "metadata": {},
     "output_type": "execute_result"
    }
   ],
   "source": [
    "num=10\n",
    "num"
   ]
  },
  {
   "cell_type": "code",
   "execution_count": 2,
   "id": "244a419e-50fc-4b45-945d-80f0043951ef",
   "metadata": {},
   "outputs": [
    {
     "data": {
      "text/plain": [
       "10"
      ]
     },
     "execution_count": 2,
     "metadata": {},
     "output_type": "execute_result"
    }
   ],
   "source": [
    "num123=10\n",
    "num123"
   ]
  },
  {
   "cell_type": "code",
   "execution_count": 3,
   "id": "5b12608d-9eea-4547-a217-1424f9d4fef0",
   "metadata": {},
   "outputs": [
    {
     "ename": "SyntaxError",
     "evalue": "invalid decimal literal (3093759729.py, line 1)",
     "output_type": "error",
     "traceback": [
      "\u001b[1;36m  Cell \u001b[1;32mIn[3], line 1\u001b[1;36m\u001b[0m\n\u001b[1;33m    123num=10\u001b[0m\n\u001b[1;37m      ^\u001b[0m\n\u001b[1;31mSyntaxError\u001b[0m\u001b[1;31m:\u001b[0m invalid decimal literal\n"
     ]
    }
   ],
   "source": [
    "123num=10\n",
    "123num"
   ]
  },
  {
   "cell_type": "code",
   "execution_count": 4,
   "id": "871aa787-b89c-4849-8f73-41c05d5bc1c9",
   "metadata": {},
   "outputs": [
    {
     "ename": "SyntaxError",
     "evalue": "cannot assign to expression here. Maybe you meant '==' instead of '='? (2289728372.py, line 1)",
     "output_type": "error",
     "traceback": [
      "\u001b[1;36m  Cell \u001b[1;32mIn[4], line 1\u001b[1;36m\u001b[0m\n\u001b[1;33m    num@12=10\u001b[0m\n\u001b[1;37m    ^\u001b[0m\n\u001b[1;31mSyntaxError\u001b[0m\u001b[1;31m:\u001b[0m cannot assign to expression here. Maybe you meant '==' instead of '='?\n"
     ]
    }
   ],
   "source": [
    "num@12=10\n",
    "num@12"
   ]
  },
  {
   "cell_type": "code",
   "execution_count": 5,
   "id": "85fab329-c270-43a6-96de-beaf68a3e22f",
   "metadata": {},
   "outputs": [
    {
     "data": {
      "text/plain": [
       "10"
      ]
     },
     "execution_count": 5,
     "metadata": {},
     "output_type": "execute_result"
    }
   ],
   "source": [
    "num==10\n",
    "num"
   ]
  },
  {
   "cell_type": "code",
   "execution_count": 6,
   "id": "984dc41b-9805-48f2-8e6e-606355664a4f",
   "metadata": {},
   "outputs": [
    {
     "ename": "SyntaxError",
     "evalue": "invalid syntax (726681593.py, line 1)",
     "output_type": "error",
     "traceback": [
      "\u001b[1;36m  Cell \u001b[1;32mIn[6], line 1\u001b[1;36m\u001b[0m\n\u001b[1;33m    -=10\u001b[0m\n\u001b[1;37m    ^\u001b[0m\n\u001b[1;31mSyntaxError\u001b[0m\u001b[1;31m:\u001b[0m invalid syntax\n"
     ]
    }
   ],
   "source": [
    "-=10\n",
    "-"
   ]
  },
  {
   "cell_type": "code",
   "execution_count": 7,
   "id": "e6090375-40b1-4953-a80f-5af7505611b2",
   "metadata": {},
   "outputs": [
    {
     "data": {
      "text/plain": [
       "10"
      ]
     },
     "execution_count": 7,
     "metadata": {},
     "output_type": "execute_result"
    }
   ],
   "source": [
    "_=10\n",
    "_"
   ]
  },
  {
   "cell_type": "code",
   "execution_count": 1,
   "id": "0de5baaf-ba55-48fe-ac83-6fdcea090fd3",
   "metadata": {},
   "outputs": [
    {
     "ename": "NameError",
     "evalue": "name 'num' is not defined",
     "output_type": "error",
     "traceback": [
      "\u001b[1;31m---------------------------------------------------------------------------\u001b[0m",
      "\u001b[1;31mNameError\u001b[0m                                 Traceback (most recent call last)",
      "Cell \u001b[1;32mIn[1], line 1\u001b[0m\n\u001b[1;32m----> 1\u001b[0m num\u001b[38;5;241m==\u001b[39m\u001b[38;5;241m10\u001b[39m\n",
      "\u001b[1;31mNameError\u001b[0m: name 'num' is not defined"
     ]
    }
   ],
   "source": [
    "num==10"
   ]
  },
  {
   "cell_type": "markdown",
   "id": "24b1fd93-8678-49a8-bf30-d0dbb68d3843",
   "metadata": {},
   "source": [
    "- variables are case sensitive\n",
    "\n",
    "- variables can be capital and small letters\n",
    "\n",
    "- variables does not allow spl charcters except underscore\n",
    "\n",
    "- only underscore _  can be a varaible\n",
    "\n",
    "- variables does not contain space between the words\n",
    "\n",
    "- variables can not contain numbers as prefix  ex: 123num\n",
    "\n",
    "- variables can have numbers as suffix ex: num123\n",
    "\n",
    "- variables does not contain any keywords"
   ]
  },
  {
   "cell_type": "code",
   "execution_count": null,
   "id": "6c1e7899-1844-47b5-b62d-36844c27eafb",
   "metadata": {},
   "outputs": [],
   "source": []
  }
 ],
 "metadata": {
  "kernelspec": {
   "display_name": "Python 3 (ipykernel)",
   "language": "python",
   "name": "python3"
  },
  "language_info": {
   "codemirror_mode": {
    "name": "ipython",
    "version": 3
   },
   "file_extension": ".py",
   "mimetype": "text/x-python",
   "name": "python",
   "nbconvert_exporter": "python",
   "pygments_lexer": "ipython3",
   "version": "3.11.7"
  }
 },
 "nbformat": 4,
 "nbformat_minor": 5
}
