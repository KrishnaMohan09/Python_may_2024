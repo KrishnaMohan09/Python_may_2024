{
 "cells": [
  {
   "cell_type": "code",
   "execution_count": null,
   "id": "be8826d8-402d-40d4-a940-d773b26ffe05",
   "metadata": {},
   "outputs": [],
   "source": [
    "- strings\n",
    "- lists\n",
    "- dictionary\n",
    "- tuples\n",
    "- sets\n",
    "- lambda function\n",
    "- file handling"
   ]
  },
  {
   "cell_type": "markdown",
   "id": "ecab2f51-5d61-483f-8043-e371196edf7e",
   "metadata": {},
   "source": [
    "**strings**\n",
    "\n",
    "- strings can initialize in three ways\n",
    "\n",
    "    - single quotes\n",
    "      - very common way to present\n",
    "    - double quotes\n",
    "      - double quotes also very common way to present\n",
    "    - triple quotes\n",
    "      - triple quotes means doc string"
   ]
  },
  {
   "cell_type": "code",
   "execution_count": 1,
   "id": "c37c8dba-3ae9-4d23-aaaf-f85484c7fd25",
   "metadata": {},
   "outputs": [
    {
     "data": {
      "text/plain": [
       "'python'"
      ]
     },
     "execution_count": 1,
     "metadata": {},
     "output_type": "execute_result"
    }
   ],
   "source": [
    "str1='python'\n",
    "str1"
   ]
  },
  {
   "cell_type": "code",
   "execution_count": 2,
   "id": "4d3c13ab-1119-412e-844d-0b812db66447",
   "metadata": {},
   "outputs": [
    {
     "data": {
      "text/plain": [
       "str"
      ]
     },
     "execution_count": 2,
     "metadata": {},
     "output_type": "execute_result"
    }
   ],
   "source": [
    "type(str1)"
   ]
  },
  {
   "cell_type": "code",
   "execution_count": null,
   "id": "fea5bdbb-4af9-4799-9909-467b6ad96a5f",
   "metadata": {},
   "outputs": [],
   "source": [
    "str2='PYTHON'\n",
    "str3='10.5'\n",
    "str4='10'\n",
    "str5='true'\n",
    "str6='&$'"
   ]
  },
  {
   "cell_type": "markdown",
   "id": "e2b05c71-d4c1-4daa-a52d-f6cc378e70fa",
   "metadata": {},
   "source": [
    "**triple quotes**\n",
    "\n",
    "- triple quotes is used to convey the information\n",
    "- it is also called as doc string\n",
    "- it is also called as multiline"
   ]
  },
  {
   "cell_type": "code",
   "execution_count": 6,
   "id": "af74d7b9-ca6e-41c6-90cd-c1bf25bf9de5",
   "metadata": {},
   "outputs": [
    {
     "name": "stdout",
     "output_type": "stream",
     "text": [
      "Hello how are you\n",
      "        Im good\n"
     ]
    }
   ],
   "source": [
    "str7='''Hello how are you\n",
    "        Im good'''\n",
    "print(str7)"
   ]
  },
  {
   "cell_type": "code",
   "execution_count": 8,
   "id": "ae52eaf6-6f2e-4e72-a9a5-c5efcdbf56e9",
   "metadata": {},
   "outputs": [
    {
     "data": {
      "text/plain": [
       "\"I like 'python'\""
      ]
     },
     "execution_count": 8,
     "metadata": {},
     "output_type": "execute_result"
    }
   ],
   "source": [
    "str8=\"I like 'python'\"\n",
    "str8"
   ]
  },
  {
   "cell_type": "code",
   "execution_count": null,
   "id": "de6bdf56-06d6-4dc7-b118-e0a7dedc697e",
   "metadata": {},
   "outputs": [],
   "source": [
    "- type \n",
    "- print\n",
    "- len\n",
    "- max\n",
    "- min\n",
    "- reversed\n",
    "- sorted\n",
    "- in\n",
    "- index\n",
    "- slice"
   ]
  },
  {
   "cell_type": "markdown",
   "id": "803ea7b0-d127-4262-a90e-ff4dfea90228",
   "metadata": {},
   "source": [
    "**type**\n",
    "- type is the keyword it will give the type of value"
   ]
  },
  {
   "cell_type": "code",
   "execution_count": 11,
   "id": "b0923c16-e3da-41bb-833f-c28c1aebfae7",
   "metadata": {},
   "outputs": [
    {
     "data": {
      "text/plain": [
       "str"
      ]
     },
     "execution_count": 11,
     "metadata": {},
     "output_type": "execute_result"
    }
   ],
   "source": [
    "str1='python'\n",
    "type(str1)"
   ]
  },
  {
   "cell_type": "markdown",
   "id": "3fdd24d6-6e2e-4b87-a325-be6bb28e0560",
   "metadata": {},
   "source": [
    "**what is the difference between keywords and packages methods**\n",
    "- keyword is the reserved word\n",
    "- different methods are available on different packages\n",
    "- we have limited keywords are there : 35 keywords are there these are fixed\n",
    "- whenever any keyword : keyword(value)\n",
    "- before keyword there is another statement\n",
    "- there is no dot beore keyword\n",
    "    - eval()\n",
    "    - input()\n",
    "    - type()\n",
    "    - range()\n",
    "    - print()\n",
    "- if you want to use methods from package\n",
    "    - you need to import the package\n",
    "    -  "
   ]
  },
  {
   "cell_type": "code",
   "execution_count": null,
   "id": "30858d7e-e7e3-41c8-9e03-fab8f753020d",
   "metadata": {},
   "outputs": [],
   "source": [
    "str1='python'"
   ]
  },
  {
   "cell_type": "code",
   "execution_count": 12,
   "id": "448cea31-728a-43a9-b10a-24539e15fa19",
   "metadata": {},
   "outputs": [
    {
     "data": {
      "text/plain": [
       "str"
      ]
     },
     "execution_count": 12,
     "metadata": {},
     "output_type": "execute_result"
    }
   ],
   "source": [
    "type(str1)"
   ]
  },
  {
   "cell_type": "code",
   "execution_count": 13,
   "id": "891eaa90-d5cc-4d69-ae4b-44633eed93ca",
   "metadata": {},
   "outputs": [
    {
     "name": "stdout",
     "output_type": "stream",
     "text": [
      "python\n"
     ]
    }
   ],
   "source": [
    "print(str1)"
   ]
  },
  {
   "cell_type": "code",
   "execution_count": 14,
   "id": "08c7b225-1c76-4abb-a445-20c8042f3e1d",
   "metadata": {},
   "outputs": [
    {
     "data": {
      "text/plain": [
       "6"
      ]
     },
     "execution_count": 14,
     "metadata": {},
     "output_type": "execute_result"
    }
   ],
   "source": [
    "len(str1)"
   ]
  },
  {
   "cell_type": "markdown",
   "id": "4d9f0866-b75a-4cce-8a95-093a1ff06091",
   "metadata": {},
   "source": [
    "**max**\n",
    "  - it will retrive the maximum character based on ascii value"
   ]
  },
  {
   "cell_type": "code",
   "execution_count": 22,
   "id": "24a58fca-d470-4da3-8b59-704ad80af89f",
   "metadata": {},
   "outputs": [
    {
     "data": {
      "text/plain": [
       "'y'"
      ]
     },
     "execution_count": 22,
     "metadata": {},
     "output_type": "execute_result"
    }
   ],
   "source": [
    "max(str1)"
   ]
  },
  {
   "cell_type": "markdown",
   "id": "c4b08387-2243-45f6-bf3f-c187e417f908",
   "metadata": {},
   "source": [
    "**min**\n",
    "\n",
    "- it will retrive the minimum character based on ascii value``"
   ]
  },
  {
   "cell_type": "code",
   "execution_count": 17,
   "id": "18cfe175-eae5-40ee-8234-7a99963af5c1",
   "metadata": {},
   "outputs": [
    {
     "data": {
      "text/plain": [
       "'h'"
      ]
     },
     "execution_count": 17,
     "metadata": {},
     "output_type": "execute_result"
    }
   ],
   "source": [
    "min(str1)"
   ]
  },
  {
   "cell_type": "markdown",
   "id": "65e98466-b00f-4210-b1e0-1fec2ec88639",
   "metadata": {},
   "source": [
    "**sum**\n",
    "\n",
    "- it will return the sum of the values"
   ]
  },
  {
   "cell_type": "markdown",
   "id": "365ad5a9-5281-4a77-b11a-dab23103f5be",
   "metadata": {},
   "source": [
    "**Reversed**"
   ]
  },
  {
   "cell_type": "code",
   "execution_count": 20,
   "id": "1bc9c959-e5aa-4919-9eaf-e18e58c975d7",
   "metadata": {},
   "outputs": [
    {
     "data": {
      "text/plain": [
       "<reversed at 0x1dec7434640>"
      ]
     },
     "execution_count": 20,
     "metadata": {},
     "output_type": "execute_result"
    }
   ],
   "source": [
    "reversed(str1)"
   ]
  },
  {
   "cell_type": "markdown",
   "id": "86de0f65-acbc-453d-916d-5315c49bed59",
   "metadata": {},
   "source": [
    "**Note**\n",
    "\n",
    "- whenever you see the output inside greater than less than symbol\n",
    "- means the output is stored inside that\n",
    "- it is nothing but a **iterator**\n",
    "- iterator means the output we can see using loop only"
   ]
  },
  {
   "cell_type": "code",
   "execution_count": 24,
   "id": "27d32327-061e-4264-98a7-95f39c323fba",
   "metadata": {},
   "outputs": [
    {
     "name": "stdout",
     "output_type": "stream",
     "text": [
      "n\n",
      "o\n",
      "h\n",
      "t\n",
      "y\n",
      "p\n"
     ]
    }
   ],
   "source": [
    "str=reversed(str1)\n",
    "for i in str:\n",
    "    print(i)\n"
   ]
  },
  {
   "cell_type": "markdown",
   "id": "bb6b04c4-9809-430e-967e-efd9354ed726",
   "metadata": {},
   "source": [
    "**sorted**\n",
    "\n",
    "- it will give the output in ascending order or descending order based on ascii values\n",
    "- sorted has one argument called reverse\n",
    "- reverse is a default argument with value false\n",
    "- False means it returns in ascending order\n",
    "- now give reverse = True and check the order\n",
    "- It should be in descending order"
   ]
  },
  {
   "cell_type": "code",
   "execution_count": 25,
   "id": "2c990e38-3a5d-4cbd-8317-022489b39bcb",
   "metadata": {},
   "outputs": [
    {
     "data": {
      "text/plain": [
       "['h', 'n', 'o', 'p', 't', 'y']"
      ]
     },
     "execution_count": 25,
     "metadata": {},
     "output_type": "execute_result"
    }
   ],
   "source": [
    "sorted(\"python\")"
   ]
  },
  {
   "cell_type": "code",
   "execution_count": 29,
   "id": "6c938f70-5355-4308-9d9b-c66d6489e77b",
   "metadata": {},
   "outputs": [
    {
     "data": {
      "text/plain": [
       "['y', 't', 'p', 'o', 'n', 'h']"
      ]
     },
     "execution_count": 29,
     "metadata": {},
     "output_type": "execute_result"
    }
   ],
   "source": [
    "sorted(\"python\",reverse=True)"
   ]
  },
  {
   "cell_type": "markdown",
   "id": "542da9b1-d7de-49c5-93d0-1fe8379dc998",
   "metadata": {},
   "source": [
    "**/**\n",
    "- if you see any / then do not assign any argument before the slash"
   ]
  },
  {
   "cell_type": "code",
   "execution_count": 34,
   "id": "eecf3d17-170f-4517-b012-4a491143ccee",
   "metadata": {},
   "outputs": [
    {
     "data": {
      "text/plain": [
       "(2+3j)"
      ]
     },
     "execution_count": 34,
     "metadata": {},
     "output_type": "execute_result"
    }
   ],
   "source": [
    "complex(2,3)"
   ]
  },
  {
   "cell_type": "code",
   "execution_count": 36,
   "id": "1a091ca2-e85c-4c08-9a88-25ec49c1b185",
   "metadata": {},
   "outputs": [
    {
     "ename": "SyntaxError",
     "evalue": "positional argument follows keyword argument (3449458090.py, line 4)",
     "output_type": "error",
     "traceback": [
      "\u001b[1;36m  Cell \u001b[1;32mIn[36], line 4\u001b[1;36m\u001b[0m\n\u001b[1;33m    complex(real=2,3)     #f\u001b[0m\n\u001b[1;37m                    ^\u001b[0m\n\u001b[1;31mSyntaxError\u001b[0m\u001b[1;31m:\u001b[0m positional argument follows keyword argument\n"
     ]
    }
   ],
   "source": [
    "complex()              #w\n",
    "complex(2,3)          #w\n",
    "complex(real=2,imag=3)  #w\n",
    "complex(real=2,3)     #f\n",
    "complex(2,imag=3)     #w"
   ]
  },
  {
   "cell_type": "code",
   "execution_count": 32,
   "id": "33f5a4ff-4eb8-45c4-8c8e-cecfd179d4ce",
   "metadata": {},
   "outputs": [
    {
     "ename": "TypeError",
     "evalue": "Random.randint() missing 2 required positional arguments: 'a' and 'b'",
     "output_type": "error",
     "traceback": [
      "\u001b[1;31m---------------------------------------------------------------------------\u001b[0m",
      "\u001b[1;31mTypeError\u001b[0m                                 Traceback (most recent call last)",
      "Cell \u001b[1;32mIn[32], line 2\u001b[0m\n\u001b[0;32m      1\u001b[0m \u001b[38;5;28;01mimport\u001b[39;00m \u001b[38;5;21;01mrandom\u001b[39;00m\n\u001b[1;32m----> 2\u001b[0m random\u001b[38;5;241m.\u001b[39mrandint()\n",
      "\u001b[1;31mTypeError\u001b[0m: Random.randint() missing 2 required positional arguments: 'a' and 'b'"
     ]
    }
   ],
   "source": [
    "import random\n",
    "random.randint()"
   ]
  },
  {
   "cell_type": "code",
   "execution_count": null,
   "id": "01bac7e4-f452-4eff-8290-fc3f60acc34f",
   "metadata": {},
   "outputs": [],
   "source": [
    "import random()              #w\n",
    "random.randint()             #W\n",
    "random.randomint(10,20)      #w\n",
    "random.randint(a=10,b=20)    #w\n",
    "random.randint(c=10,d=20)     #fails because we should only give a and b but we have given c and d"
   ]
  },
  {
   "cell_type": "markdown",
   "id": "6ac3d749-421a-4f2d-a3d7-1a31678c39c9",
   "metadata": {},
   "source": [
    "**in**"
   ]
  },
  {
   "cell_type": "code",
   "execution_count": 38,
   "id": "875ce57b-828c-4cfc-8c14-321eb9fa197d",
   "metadata": {},
   "outputs": [
    {
     "name": "stdout",
     "output_type": "stream",
     "text": [
      "3\n"
     ]
    }
   ],
   "source": [
    "# WAP ask the user get the number of 'a' in a given string\n",
    "str1='hello how are you,is anand'\n",
    "count=0\n",
    "for i in str1:\n",
    "    if i=='a':\n",
    "        count=count+1\n",
    "print(count)"
   ]
  },
  {
   "cell_type": "markdown",
   "id": "feb5165d-57ea-48d8-b2a4-fd7e497fe035",
   "metadata": {},
   "source": [
    "**index**"
   ]
  },
  {
   "cell_type": "code",
   "execution_count": 1,
   "id": "812fea54-df45-4c66-b073-0acd844b9bcb",
   "metadata": {},
   "outputs": [
    {
     "data": {
      "text/plain": [
       "'h'"
      ]
     },
     "execution_count": 1,
     "metadata": {},
     "output_type": "execute_result"
    }
   ],
   "source": [
    "str1='hello python'\n",
    "# in python index starts with zero\n",
    "str1[0]"
   ]
  },
  {
   "cell_type": "code",
   "execution_count": null,
   "id": "94544222-59d1-4a23-af51-90ba9632c8c3",
   "metadata": {},
   "outputs": [],
   "source": [
    "h  e  l  l  o     p  y  t  h   o   n\n",
    "1  2  3  4  5  6  7  8  9  10  11  12"
   ]
  },
  {
   "cell_type": "code",
   "execution_count": 13,
   "id": "996a0067-391b-47b2-8deb-bb3c9a9c1f3d",
   "metadata": {},
   "outputs": [
    {
     "name": "stdout",
     "output_type": "stream",
     "text": [
      "0 h\n",
      "1 e\n",
      "2 l\n",
      "3 l\n",
      "4 o\n",
      "5  \n",
      "6 p\n",
      "7 y\n",
      "8 t\n",
      "9 h\n",
      "10 o\n",
      "11 n\n"
     ]
    }
   ],
   "source": [
    "str1='hello python'\n",
    "n=len(str1)\n",
    "for i in range (0,n):\n",
    "    print(i,str1[i])"
   ]
  },
  {
   "cell_type": "code",
   "execution_count": 7,
   "id": "5ed5b934-0bad-4901-a03f-5b49a243f1d6",
   "metadata": {},
   "outputs": [
    {
     "name": "stdout",
     "output_type": "stream",
     "text": [
      "-1 n\n",
      "-2 o\n",
      "-3 h\n",
      "-4 t\n",
      "-5 y\n",
      "-6 p\n",
      "-7  \n",
      "-8 o\n",
      "-9 l\n",
      "-10 l\n",
      "-11 e\n",
      "-12 h\n"
     ]
    }
   ],
   "source": [
    "str1='hello python'\n",
    "for i in range (-1,-13,-1):\n",
    "    print(i,str1[i])"
   ]
  },
  {
   "cell_type": "code",
   "execution_count": 10,
   "id": "840a8bf1-2bef-4503-b5f2-4b90c87bb72d",
   "metadata": {},
   "outputs": [
    {
     "name": "stdout",
     "output_type": "stream",
     "text": [
      "-12 h\n",
      "-11 e\n",
      "-10 l\n",
      "-9 l\n",
      "-8 o\n",
      "-7  \n",
      "-6 p\n",
      "-5 y\n",
      "-4 t\n",
      "-3 h\n",
      "-2 o\n",
      "-1 n\n"
     ]
    }
   ],
   "source": [
    "str1='hello python'\n",
    "for i in range (-len(str1),0):\n",
    "    print(i,str1[i])"
   ]
  },
  {
   "cell_type": "code",
   "execution_count": null,
   "id": "d8d69697-69c0-41d7-928b-0c95e8e85e2a",
   "metadata": {},
   "outputs": [],
   "source": [
    "# Q2) write a program to print the each letter index positive way\n",
    "      # the positive index of h is 0\n",
    "\n",
    "# Q3) write a program to print the each letter index negative way\n",
    "     # the negative index of h is -12\n",
    "\n",
    "# Q4) write a program to print the each letter positive and negative way(single for loop)\n",
    "     # the positive index of h is 0 and the negative index of h is -12\n"
   ]
  },
  {
   "cell_type": "code",
   "execution_count": 28,
   "id": "c90d5ce3-74a5-4a86-a5a2-a90e8e6a1885",
   "metadata": {},
   "outputs": [
    {
     "name": "stdout",
     "output_type": "stream",
     "text": [
      "the positive index of h is 0\n",
      "the positive index of e is 1\n",
      "the positive index of l is 2\n",
      "the positive index of l is 3\n",
      "the positive index of o is 4\n",
      "the positive index of   is 5\n",
      "the positive index of p is 6\n",
      "the positive index of y is 7\n",
      "the positive index of t is 8\n",
      "the positive index of h is 9\n",
      "the positive index of o is 10\n",
      "the positive index of n is 11\n"
     ]
    }
   ],
   "source": [
    "#2)\n",
    "str2='hello python'\n",
    "n=len(str2)\n",
    "for i in range(n):\n",
    "    print(f\"the positive index of {str2[i]} is {i}\")"
   ]
  },
  {
   "cell_type": "code",
   "execution_count": 27,
   "id": "f4fe6605-6573-4208-b01f-ef7cbedd00d4",
   "metadata": {},
   "outputs": [
    {
     "name": "stdout",
     "output_type": "stream",
     "text": [
      "the negative index of h is -12\n",
      "the negative index of e is -11\n",
      "the negative index of l is -10\n",
      "the negative index of l is -9\n",
      "the negative index of o is -8\n",
      "the negative index of   is -7\n",
      "the negative index of p is -6\n",
      "the negative index of y is -5\n",
      "the negative index of t is -4\n",
      "the negative index of h is -3\n",
      "the negative index of o is -2\n",
      "the negative index of n is -1\n"
     ]
    }
   ],
   "source": [
    "#3)\n",
    "str2='hello python'\n",
    "n=len(str2)\n",
    "for i in range(-n,0):\n",
    "    print(f\"the negative index of {str2[i]} is {i}\")"
   ]
  },
  {
   "cell_type": "code",
   "execution_count": 26,
   "id": "5dc83a03-a957-49a1-94e6-6e8cb298b54e",
   "metadata": {},
   "outputs": [
    {
     "name": "stdout",
     "output_type": "stream",
     "text": [
      "the positive index of h is 0 and the negative index of h is -12\n",
      "the positive index of e is 1 and the negative index of e is -11\n",
      "the positive index of l is 2 and the negative index of l is -10\n",
      "the positive index of l is 3 and the negative index of l is -9\n",
      "the positive index of o is 4 and the negative index of o is -8\n",
      "the positive index of   is 5 and the negative index of   is -7\n",
      "the positive index of p is 6 and the negative index of p is -6\n",
      "the positive index of y is 7 and the negative index of y is -5\n",
      "the positive index of t is 8 and the negative index of t is -4\n",
      "the positive index of h is 9 and the negative index of h is -3\n",
      "the positive index of o is 10 and the negative index of o is -2\n",
      "the positive index of n is 11 and the negative index of n is -1\n"
     ]
    }
   ],
   "source": [
    "#4)\n",
    "str2='hello python'\n",
    "n=len(str2)\n",
    "for i in range(n):\n",
    "    print(f\"the positive index of {str2[i]} is {i} and the negative index of {str2[i]} is {i-n}\")"
   ]
  },
  {
   "cell_type": "code",
   "execution_count": 36,
   "id": "a41de26d-425a-47d2-996f-7b85b6ae4422",
   "metadata": {},
   "outputs": [
    {
     "name": "stdout",
     "output_type": "stream",
     "text": [
      "the 1 index of a is 0\n",
      "the 2 index of a is 2\n",
      "the 3 index of a is 5\n"
     ]
    }
   ],
   "source": [
    "# Q5) wap ask the user get the indexes of  occurences of 'a' in a given string\n",
    "\n",
    "str2='available'\n",
    "count=1\n",
    "for i in range(len(str2)):\n",
    "    if str2[i]=='a':\n",
    "        print(f\"the {count} index of {str2[i]} is {i}\")\n",
    "        count=count+1"
   ]
  },
  {
   "cell_type": "markdown",
   "id": "a4ec1385-35f0-45bf-b09d-62ff38fb01ab",
   "metadata": {},
   "source": [
    "**when to use in operator and when to use range operator**\n",
    "\n",
    "- in operator is used to get the characters\n",
    "- range operator is used to get the numbers"
   ]
  },
  {
   "cell_type": "code",
   "execution_count": 57,
   "id": "21078667-19ef-4473-b1e1-5aa567de1a8f",
   "metadata": {},
   "outputs": [
    {
     "name": "stdout",
     "output_type": "stream",
     "text": [
      "sum is  7\n",
      "count is  3\n"
     ]
    }
   ],
   "source": [
    "# Q6) Get the sum of all the indexes\n",
    "#     Get the count of all occurences : 3\n",
    "\n",
    "str2='available'\n",
    "count=0\n",
    "summ=0\n",
    "for i in range(len(str2)):\n",
    "    if str2[i]=='a':\n",
    "        count=count+1\n",
    "        summ=summ+i\n",
    "print(\"sum is\",summ)\n",
    "print(\"count is\",count)"
   ]
  },
  {
   "cell_type": "code",
   "execution_count": 66,
   "id": "054adbd3-903a-4abe-9af1-f62ce59110d8",
   "metadata": {},
   "outputs": [
    {
     "name": "stdout",
     "output_type": "stream",
     "text": [
      "a\n",
      "i\n",
      "o\n",
      "a\n",
      "e\n",
      "o\n",
      "u\n",
      "index of a is 1\n",
      "index of i is 2\n",
      "index of o is 5\n",
      "index of a is 8\n",
      "index of e is 10\n",
      "index of o is 13\n",
      "index of u is 14\n",
      "no of vowels 7\n",
      "sum of before index of vowels 46\n"
     ]
    }
   ],
   "source": [
    "#Q8) \n",
    "# A)Find the vowels in a given string\n",
    "  # str1 : hai gow are you\n",
    "str1='hai how are you'\n",
    "for i in range(len(str1)):\n",
    "    if str1[i] in 'aeiou':\n",
    "        print(str1[i])\n",
    "# B)Find the indexes of vowels\n",
    "str1='hai how are you'\n",
    "for i in range(len(str1)):\n",
    "    if str1[i] in 'aeiou':\n",
    "        print(f\"index of {str1[i]} is {i}\")\n",
    "# C)Find the count of the vowels\n",
    "str1='hai how are you'\n",
    "count=0\n",
    "for i in range(len(str1)):\n",
    "    if str1[i] in 'aeiou':\n",
    "        count=count+1\n",
    "print(\"no of vowels\",count)\n",
    "# D)Find the sum of before index of vowels\n",
    "str1='hai how are you'\n",
    "summ=0\n",
    "for i in range(len(str1)):\n",
    "    if str1[i] in 'aeiou':\n",
    "        summ=summ+i-1\n",
    "print(\"sum of before index of vowels\",summ)"
   ]
  },
  {
   "cell_type": "markdown",
   "id": "38750dd9-c1b0-4f8c-9cce-87d4aa6343a7",
   "metadata": {},
   "source": [
    "**mutable-immutable**\n",
    "\n",
    "- values can not change using index operations is called as immutable\n",
    "\n",
    "- strings are immutable"
   ]
  },
  {
   "cell_type": "code",
   "execution_count": 2,
   "id": "29443e81-ea30-49f5-9350-d3e4ca16ee21",
   "metadata": {},
   "outputs": [
    {
     "ename": "TypeError",
     "evalue": "'str' object does not support item assignment",
     "output_type": "error",
     "traceback": [
      "\u001b[1;31m---------------------------------------------------------------------------\u001b[0m",
      "\u001b[1;31mTypeError\u001b[0m                                 Traceback (most recent call last)",
      "Cell \u001b[1;32mIn[2], line 3\u001b[0m\n\u001b[0;32m      1\u001b[0m \u001b[38;5;66;03m#I want to replace 'p' with 'P'\u001b[39;00m\n\u001b[0;32m      2\u001b[0m str1\u001b[38;5;241m=\u001b[39m\u001b[38;5;124m'\u001b[39m\u001b[38;5;124mpython\u001b[39m\u001b[38;5;124m'\u001b[39m\n\u001b[1;32m----> 3\u001b[0m str1[\u001b[38;5;241m0\u001b[39m]\u001b[38;5;241m=\u001b[39m\u001b[38;5;124m'\u001b[39m\u001b[38;5;124mP\u001b[39m\u001b[38;5;124m'\u001b[39m\n",
      "\u001b[1;31mTypeError\u001b[0m: 'str' object does not support item assignment"
     ]
    }
   ],
   "source": [
    "#I want to replace 'p' with 'P'\n",
    "str1='python'\n",
    "str1[0]='P'"
   ]
  },
  {
   "cell_type": "markdown",
   "id": "55d32832-72cb-4174-b282-603c1d86f6f7",
   "metadata": {},
   "source": [
    "## strings are immutable"
   ]
  },
  {
   "cell_type": "markdown",
   "id": "87bebc7b-0f72-42fb-af20-034077b8cc59",
   "metadata": {},
   "source": [
    "**slice**\n",
    "\n",
    "- cut into pieces\n",
    "- which means we can extract some part of string\n",
    "- For that we need to understand the start,stop,step\n",
    "- s[start:stop:step]\n",
    "- range(start,stop,step)"
   ]
  },
  {
   "cell_type": "code",
   "execution_count": 3,
   "id": "21ad0136-0c72-4515-9634-5a18bd1586b2",
   "metadata": {},
   "outputs": [
    {
     "data": {
      "text/plain": [
       "'llo pyth'"
      ]
     },
     "execution_count": 3,
     "metadata": {},
     "output_type": "execute_result"
    }
   ],
   "source": [
    "str='hello python'\n",
    "str[2:10]"
   ]
  },
  {
   "cell_type": "code",
   "execution_count": 4,
   "id": "f431ef1a-c4fa-47b6-8178-0e5955c2e39e",
   "metadata": {},
   "outputs": [
    {
     "data": {
      "text/plain": [
       "'lopt'"
      ]
     },
     "execution_count": 4,
     "metadata": {},
     "output_type": "execute_result"
    }
   ],
   "source": [
    "str='hello python'\n",
    "str[2:10:2]"
   ]
  },
  {
   "cell_type": "code",
   "execution_count": 6,
   "id": "2802c9cd-e0db-46d8-b7e0-f63bbdc62ffc",
   "metadata": {},
   "outputs": [
    {
     "data": {
      "text/plain": [
       "''"
      ]
     },
     "execution_count": 6,
     "metadata": {},
     "output_type": "execute_result"
    }
   ],
   "source": [
    "str='hello python'\n",
    "str[2:10:-2]\n",
    "\n",
    "#start =2\n",
    "#direction is negative\n",
    "#last=stop+1=10+1=11\n",
    "#2====11 (actual positive)\n",
    "#code says negative it is not possible"
   ]
  },
  {
   "cell_type": "code",
   "execution_count": 8,
   "id": "74c132de-7249-47b8-bc7a-0ad5bc01d558",
   "metadata": {},
   "outputs": [
    {
     "data": {
      "text/plain": [
       "'y le'"
      ]
     },
     "execution_count": 8,
     "metadata": {},
     "output_type": "execute_result"
    }
   ],
   "source": [
    "str='hello python'\n",
    "str[7:-12:-2]"
   ]
  },
  {
   "cell_type": "code",
   "execution_count": 9,
   "id": "7e810456-9974-4e49-8fca-57a86847fd92",
   "metadata": {},
   "outputs": [
    {
     "data": {
      "text/plain": [
       "'lopto'"
      ]
     },
     "execution_count": 9,
     "metadata": {},
     "output_type": "execute_result"
    }
   ],
   "source": [
    "str='hello python'\n",
    "str[2:-1:2]"
   ]
  },
  {
   "cell_type": "code",
   "execution_count": 12,
   "id": "eb9fbb2f-6346-4a6d-acff-e46cc968b239",
   "metadata": {},
   "outputs": [
    {
     "data": {
      "text/plain": [
       "'lopto'"
      ]
     },
     "execution_count": 12,
     "metadata": {},
     "output_type": "execute_result"
    }
   ],
   "source": [
    "str[2:12:2]"
   ]
  },
  {
   "cell_type": "code",
   "execution_count": 13,
   "id": "73956459-405e-445e-875a-a82ef5b58a35",
   "metadata": {},
   "outputs": [
    {
     "data": {
      "text/plain": [
       "''"
      ]
     },
     "execution_count": 13,
     "metadata": {},
     "output_type": "execute_result"
    }
   ],
   "source": [
    "str[2:12:-2]"
   ]
  },
  {
   "cell_type": "code",
   "execution_count": 14,
   "id": "78cd2c29-cd8e-4a28-925c-004773cb8745",
   "metadata": {},
   "outputs": [
    {
     "data": {
      "text/plain": [
       "''"
      ]
     },
     "execution_count": 14,
     "metadata": {},
     "output_type": "execute_result"
    }
   ],
   "source": [
    "str[2:-12:2]"
   ]
  },
  {
   "cell_type": "code",
   "execution_count": 15,
   "id": "6056a873-91b1-4fc4-9cfd-b52252de2c97",
   "metadata": {},
   "outputs": [
    {
     "data": {
      "text/plain": [
       "'l'"
      ]
     },
     "execution_count": 15,
     "metadata": {},
     "output_type": "execute_result"
    }
   ],
   "source": [
    "str[2:-12:-2]"
   ]
  },
  {
   "cell_type": "code",
   "execution_count": 16,
   "id": "e490f242-95d7-415b-ad93-c47ac23f61f5",
   "metadata": {},
   "outputs": [
    {
     "data": {
      "text/plain": [
       "'otpol'"
      ]
     },
     "execution_count": 16,
     "metadata": {},
     "output_type": "execute_result"
    }
   ],
   "source": [
    "str[-2:-12:-2]"
   ]
  },
  {
   "cell_type": "code",
   "execution_count": 17,
   "id": "9c57bbb8-dc81-42c9-8622-336a1e450ae1",
   "metadata": {},
   "outputs": [
    {
     "data": {
      "text/plain": [
       "'o'"
      ]
     },
     "execution_count": 17,
     "metadata": {},
     "output_type": "execute_result"
    }
   ],
   "source": [
    "str[-2:12:2]"
   ]
  },
  {
   "cell_type": "code",
   "execution_count": 18,
   "id": "57d8de7d-f044-486c-902d-26f4e5803793",
   "metadata": {},
   "outputs": [
    {
     "data": {
      "text/plain": [
       "''"
      ]
     },
     "execution_count": 18,
     "metadata": {},
     "output_type": "execute_result"
    }
   ],
   "source": [
    "str[-2:-12:2]"
   ]
  },
  {
   "cell_type": "code",
   "execution_count": 19,
   "id": "aa875cc0-a8e5-4855-b74c-190f57360e89",
   "metadata": {},
   "outputs": [
    {
     "data": {
      "text/plain": [
       "'hello python'"
      ]
     },
     "execution_count": 19,
     "metadata": {},
     "output_type": "execute_result"
    }
   ],
   "source": [
    "str[:]"
   ]
  },
  {
   "cell_type": "code",
   "execution_count": 21,
   "id": "eb920b41-afb9-4c31-996f-0ff45f7b1c40",
   "metadata": {},
   "outputs": [
    {
     "data": {
      "text/plain": [
       "'llo python'"
      ]
     },
     "execution_count": 21,
     "metadata": {},
     "output_type": "execute_result"
    }
   ],
   "source": [
    "str[2:]"
   ]
  },
  {
   "cell_type": "code",
   "execution_count": 22,
   "id": "f526af58-0070-49de-a127-6af148be8a13",
   "metadata": {},
   "outputs": [
    {
     "data": {
      "text/plain": [
       "'hello python'"
      ]
     },
     "execution_count": 22,
     "metadata": {},
     "output_type": "execute_result"
    }
   ],
   "source": [
    "str[:12]"
   ]
  },
  {
   "cell_type": "code",
   "execution_count": 23,
   "id": "ffb440ee-2079-4c56-8954-3c85abdff976",
   "metadata": {},
   "outputs": [
    {
     "data": {
      "text/plain": [
       "'hello python'"
      ]
     },
     "execution_count": 23,
     "metadata": {},
     "output_type": "execute_result"
    }
   ],
   "source": [
    "str[::]"
   ]
  },
  {
   "cell_type": "code",
   "execution_count": 25,
   "id": "80cc732e-1adf-40b1-9ddc-e7320e39de11",
   "metadata": {},
   "outputs": [
    {
     "data": {
      "text/plain": [
       "'nohtyp olleh'"
      ]
     },
     "execution_count": 25,
     "metadata": {},
     "output_type": "execute_result"
    }
   ],
   "source": [
    "str[::-1]  #reverse string"
   ]
  },
  {
   "cell_type": "code",
   "execution_count": 27,
   "id": "eaa590b4-ca8c-4de7-a3f2-cef28154ab6d",
   "metadata": {},
   "outputs": [
    {
     "data": {
      "text/plain": [
       "'hello python'"
      ]
     },
     "execution_count": 27,
     "metadata": {},
     "output_type": "execute_result"
    }
   ],
   "source": [
    "str[::]"
   ]
  },
  {
   "cell_type": "markdown",
   "id": "b6a184be-2e6c-424e-90eb-46b7da7f98d6",
   "metadata": {},
   "source": [
    "**concatenation**"
   ]
  },
  {
   "cell_type": "code",
   "execution_count": 30,
   "id": "e55f898e-cd62-4eb9-8c3f-ebd456cd878c",
   "metadata": {},
   "outputs": [
    {
     "data": {
      "text/plain": [
       "'hellopython'"
      ]
     },
     "execution_count": 30,
     "metadata": {},
     "output_type": "execute_result"
    }
   ],
   "source": [
    "str1='hello'\n",
    "str2='python'\n",
    "str1+str2"
   ]
  },
  {
   "cell_type": "code",
   "execution_count": 31,
   "id": "46a175de-ae30-4dbc-b15b-6f0a93b660ca",
   "metadata": {},
   "outputs": [
    {
     "data": {
      "text/plain": [
       "'hello python'"
      ]
     },
     "execution_count": 31,
     "metadata": {},
     "output_type": "execute_result"
    }
   ],
   "source": [
    "str1='hello'\n",
    "str2='python'\n",
    "str1+' '+str2"
   ]
  },
  {
   "cell_type": "code",
   "execution_count": 32,
   "id": "565304e7-e566-481b-9974-bfe2f8c844b8",
   "metadata": {},
   "outputs": [
    {
     "data": {
      "text/plain": [
       "'hello python'"
      ]
     },
     "execution_count": 32,
     "metadata": {},
     "output_type": "execute_result"
    }
   ],
   "source": [
    "str1='hello '\n",
    "str2='python'\n",
    "str1+str2"
   ]
  },
  {
   "cell_type": "code",
   "execution_count": 33,
   "id": "47410344-ccee-42de-8f75-3a3c094898e3",
   "metadata": {},
   "outputs": [
    {
     "data": {
      "text/plain": [
       "'hello python'"
      ]
     },
     "execution_count": 33,
     "metadata": {},
     "output_type": "execute_result"
    }
   ],
   "source": [
    "str1='hello'\n",
    "str2=' python'\n",
    "str1+str2"
   ]
  },
  {
   "cell_type": "code",
   "execution_count": 34,
   "id": "30e8f820-e316-4016-9805-97051acd12a7",
   "metadata": {},
   "outputs": [
    {
     "ename": "TypeError",
     "evalue": "can't multiply sequence by non-int of type 'str'",
     "output_type": "error",
     "traceback": [
      "\u001b[1;31m---------------------------------------------------------------------------\u001b[0m",
      "\u001b[1;31mTypeError\u001b[0m                                 Traceback (most recent call last)",
      "Cell \u001b[1;32mIn[34], line 1\u001b[0m\n\u001b[1;32m----> 1\u001b[0m str1\u001b[38;5;241m*\u001b[39mstr2\n",
      "\u001b[1;31mTypeError\u001b[0m: can't multiply sequence by non-int of type 'str'"
     ]
    }
   ],
   "source": [
    "str1*str2"
   ]
  },
  {
   "cell_type": "code",
   "execution_count": 35,
   "id": "a38cb412-7df9-4457-84b6-c71e5791a4fb",
   "metadata": {},
   "outputs": [
    {
     "ename": "TypeError",
     "evalue": "unsupported operand type(s) for -: 'str' and 'str'",
     "output_type": "error",
     "traceback": [
      "\u001b[1;31m---------------------------------------------------------------------------\u001b[0m",
      "\u001b[1;31mTypeError\u001b[0m                                 Traceback (most recent call last)",
      "Cell \u001b[1;32mIn[35], line 1\u001b[0m\n\u001b[1;32m----> 1\u001b[0m str1\u001b[38;5;241m-\u001b[39mstr2\n",
      "\u001b[1;31mTypeError\u001b[0m: unsupported operand type(s) for -: 'str' and 'str'"
     ]
    }
   ],
   "source": [
    "str1-str2"
   ]
  },
  {
   "cell_type": "code",
   "execution_count": 36,
   "id": "080acf56-d22d-4078-be6f-2bb781bc2939",
   "metadata": {},
   "outputs": [
    {
     "ename": "TypeError",
     "evalue": "unsupported operand type(s) for /: 'str' and 'str'",
     "output_type": "error",
     "traceback": [
      "\u001b[1;31m---------------------------------------------------------------------------\u001b[0m",
      "\u001b[1;31mTypeError\u001b[0m                                 Traceback (most recent call last)",
      "Cell \u001b[1;32mIn[36], line 1\u001b[0m\n\u001b[1;32m----> 1\u001b[0m str1\u001b[38;5;241m/\u001b[39mstr2\n",
      "\u001b[1;31mTypeError\u001b[0m: unsupported operand type(s) for /: 'str' and 'str'"
     ]
    }
   ],
   "source": [
    "str1/str2"
   ]
  },
  {
   "cell_type": "code",
   "execution_count": 37,
   "id": "dd26bd1a-fc4f-413c-9b40-fada7ca7e140",
   "metadata": {},
   "outputs": [
    {
     "data": {
      "text/plain": [
       "'hellohellohello'"
      ]
     },
     "execution_count": 37,
     "metadata": {},
     "output_type": "execute_result"
    }
   ],
   "source": [
    "str1*3"
   ]
  },
  {
   "cell_type": "code",
   "execution_count": 38,
   "id": "3d7bbd73-7c51-4ddf-9b3c-b3afdfcdcab4",
   "metadata": {},
   "outputs": [
    {
     "ename": "TypeError",
     "evalue": "unsupported operand type(s) for -: 'str' and 'int'",
     "output_type": "error",
     "traceback": [
      "\u001b[1;31m---------------------------------------------------------------------------\u001b[0m",
      "\u001b[1;31mTypeError\u001b[0m                                 Traceback (most recent call last)",
      "Cell \u001b[1;32mIn[38], line 1\u001b[0m\n\u001b[1;32m----> 1\u001b[0m str1\u001b[38;5;241m-\u001b[39m\u001b[38;5;241m1\u001b[39m\n",
      "\u001b[1;31mTypeError\u001b[0m: unsupported operand type(s) for -: 'str' and 'int'"
     ]
    }
   ],
   "source": [
    "str1-1"
   ]
  },
  {
   "cell_type": "markdown",
   "id": "5ab79784-a45b-49a8-8c31-186f6683d710",
   "metadata": {},
   "source": [
    "**string part-2**"
   ]
  },
  {
   "cell_type": "markdown",
   "id": "0e4209be-9f0d-4f16-9044-4d5743cd93a4",
   "metadata": {},
   "source": [
    "**string methods**"
   ]
  },
  {
   "cell_type": "markdown",
   "id": "ccd0974f-186c-4078-86a1-1f423906d5d4",
   "metadata": {},
   "source": [
    "- you need to treat strings is a package\n",
    "- so apply dir on any string we will get the methods\n"
   ]
  },
  {
   "cell_type": "code",
   "execution_count": 39,
   "id": "af17ce6e-f132-42e2-8a89-39780b2e005e",
   "metadata": {},
   "outputs": [
    {
     "data": {
      "text/plain": [
       "['__add__',\n",
       " '__class__',\n",
       " '__contains__',\n",
       " '__delattr__',\n",
       " '__dir__',\n",
       " '__doc__',\n",
       " '__eq__',\n",
       " '__format__',\n",
       " '__ge__',\n",
       " '__getattribute__',\n",
       " '__getitem__',\n",
       " '__getnewargs__',\n",
       " '__getstate__',\n",
       " '__gt__',\n",
       " '__hash__',\n",
       " '__init__',\n",
       " '__init_subclass__',\n",
       " '__iter__',\n",
       " '__le__',\n",
       " '__len__',\n",
       " '__lt__',\n",
       " '__mod__',\n",
       " '__mul__',\n",
       " '__ne__',\n",
       " '__new__',\n",
       " '__reduce__',\n",
       " '__reduce_ex__',\n",
       " '__repr__',\n",
       " '__rmod__',\n",
       " '__rmul__',\n",
       " '__setattr__',\n",
       " '__sizeof__',\n",
       " '__str__',\n",
       " '__subclasshook__',\n",
       " 'capitalize',\n",
       " 'casefold',\n",
       " 'center',\n",
       " 'count',\n",
       " 'encode',\n",
       " 'endswith',\n",
       " 'expandtabs',\n",
       " 'find',\n",
       " 'format',\n",
       " 'format_map',\n",
       " 'index',\n",
       " 'isalnum',\n",
       " 'isalpha',\n",
       " 'isascii',\n",
       " 'isdecimal',\n",
       " 'isdigit',\n",
       " 'isidentifier',\n",
       " 'islower',\n",
       " 'isnumeric',\n",
       " 'isprintable',\n",
       " 'isspace',\n",
       " 'istitle',\n",
       " 'isupper',\n",
       " 'join',\n",
       " 'ljust',\n",
       " 'lower',\n",
       " 'lstrip',\n",
       " 'maketrans',\n",
       " 'partition',\n",
       " 'removeprefix',\n",
       " 'removesuffix',\n",
       " 'replace',\n",
       " 'rfind',\n",
       " 'rindex',\n",
       " 'rjust',\n",
       " 'rpartition',\n",
       " 'rsplit',\n",
       " 'rstrip',\n",
       " 'split',\n",
       " 'splitlines',\n",
       " 'startswith',\n",
       " 'strip',\n",
       " 'swapcase',\n",
       " 'title',\n",
       " 'translate',\n",
       " 'upper',\n",
       " 'zfill']"
      ]
     },
     "execution_count": 39,
     "metadata": {},
     "output_type": "execute_result"
    }
   ],
   "source": [
    "s='python'\n",
    "dir(s)"
   ]
  },
  {
   "cell_type": "code",
   "execution_count": 40,
   "id": "bd2bf09d-ee08-4296-86ac-e4fe30576932",
   "metadata": {},
   "outputs": [
    {
     "data": {
      "text/plain": [
       "['__add__',\n",
       " '__class__',\n",
       " '__contains__',\n",
       " '__delattr__',\n",
       " '__dir__',\n",
       " '__doc__',\n",
       " '__eq__',\n",
       " '__format__',\n",
       " '__ge__',\n",
       " '__getattribute__',\n",
       " '__getitem__',\n",
       " '__getnewargs__',\n",
       " '__getstate__',\n",
       " '__gt__',\n",
       " '__hash__',\n",
       " '__init__',\n",
       " '__init_subclass__',\n",
       " '__iter__',\n",
       " '__le__',\n",
       " '__len__',\n",
       " '__lt__',\n",
       " '__mod__',\n",
       " '__mul__',\n",
       " '__ne__',\n",
       " '__new__',\n",
       " '__reduce__',\n",
       " '__reduce_ex__',\n",
       " '__repr__',\n",
       " '__rmod__',\n",
       " '__rmul__',\n",
       " '__setattr__',\n",
       " '__sizeof__',\n",
       " '__str__',\n",
       " '__subclasshook__',\n",
       " 'capitalize',\n",
       " 'casefold',\n",
       " 'center',\n",
       " 'count',\n",
       " 'encode',\n",
       " 'endswith',\n",
       " 'expandtabs',\n",
       " 'find',\n",
       " 'format',\n",
       " 'format_map',\n",
       " 'index',\n",
       " 'isalnum',\n",
       " 'isalpha',\n",
       " 'isascii',\n",
       " 'isdecimal',\n",
       " 'isdigit',\n",
       " 'isidentifier',\n",
       " 'islower',\n",
       " 'isnumeric',\n",
       " 'isprintable',\n",
       " 'isspace',\n",
       " 'istitle',\n",
       " 'isupper',\n",
       " 'join',\n",
       " 'ljust',\n",
       " 'lower',\n",
       " 'lstrip',\n",
       " 'maketrans',\n",
       " 'partition',\n",
       " 'removeprefix',\n",
       " 'removesuffix',\n",
       " 'replace',\n",
       " 'rfind',\n",
       " 'rindex',\n",
       " 'rjust',\n",
       " 'rpartition',\n",
       " 'rsplit',\n",
       " 'rstrip',\n",
       " 'split',\n",
       " 'splitlines',\n",
       " 'startswith',\n",
       " 'strip',\n",
       " 'swapcase',\n",
       " 'title',\n",
       " 'translate',\n",
       " 'upper',\n",
       " 'zfill']"
      ]
     },
     "execution_count": 40,
     "metadata": {},
     "output_type": "execute_result"
    }
   ],
   "source": [
    "dir('')"
   ]
  },
  {
   "cell_type": "code",
   "execution_count": null,
   "id": "d1d37ebb-fb5e-4d40-aa11-06733038f05d",
   "metadata": {},
   "outputs": [],
   "source": [
    "# how to call the keywords\n",
    "# keyword()\n",
    "# methods\n",
    "# packaage.meethod"
   ]
  },
  {
   "cell_type": "markdown",
   "id": "bcd10c9e-5317-450b-8f9e-89ddfc8b0602",
   "metadata": {},
   "source": [
    "# capitalize"
   ]
  },
  {
   "cell_type": "code",
   "execution_count": 41,
   "id": "f9b6e4db-3c0a-41d6-8cfa-0cc9a0634eb4",
   "metadata": {},
   "outputs": [
    {
     "data": {
      "text/plain": [
       "'Python'"
      ]
     },
     "execution_count": 41,
     "metadata": {},
     "output_type": "execute_result"
    }
   ],
   "source": [
    "str='python'\n",
    "str.capitalize()"
   ]
  },
  {
   "cell_type": "code",
   "execution_count": 42,
   "id": "e3864bfc-39d7-4ea9-bbde-40381179052d",
   "metadata": {},
   "outputs": [
    {
     "data": {
      "text/plain": [
       "'PYTHON'"
      ]
     },
     "execution_count": 42,
     "metadata": {},
     "output_type": "execute_result"
    }
   ],
   "source": [
    "str.upper()\n"
   ]
  },
  {
   "cell_type": "code",
   "execution_count": 55,
   "id": "0dc7aefd-444f-47f4-b2cf-23d306b1a5b9",
   "metadata": {},
   "outputs": [
    {
     "data": {
      "text/plain": [
       "'python'"
      ]
     },
     "execution_count": 55,
     "metadata": {},
     "output_type": "execute_result"
    }
   ],
   "source": [
    "str.casefold()\n",
    "# Return a version of the string suitable for caseless comparisons"
   ]
  },
  {
   "cell_type": "code",
   "execution_count": 56,
   "id": "c3c1fe0a-9918-407a-ba46-410d0add09c2",
   "metadata": {},
   "outputs": [
    {
     "data": {
      "text/plain": [
       "'$$$$$python$$$$'"
      ]
     },
     "execution_count": 56,
     "metadata": {},
     "output_type": "execute_result"
    }
   ],
   "source": [
    "str.center(15,'$')"
   ]
  },
  {
   "cell_type": "code",
   "execution_count": 57,
   "id": "639b4dcd-bb54-4c33-b418-45ff6163a98c",
   "metadata": {},
   "outputs": [
    {
     "data": {
      "text/plain": [
       "'$$$$$ $$$$$'"
      ]
     },
     "execution_count": 57,
     "metadata": {},
     "output_type": "execute_result"
    }
   ],
   "source": [
    "' '.center(11,'$')"
   ]
  },
  {
   "cell_type": "code",
   "execution_count": 58,
   "id": "770e7f58-e206-4f9a-8450-c04acca25bad",
   "metadata": {},
   "outputs": [
    {
     "data": {
      "text/plain": [
       "'$$$$$$$$$$$'"
      ]
     },
     "execution_count": 58,
     "metadata": {},
     "output_type": "execute_result"
    }
   ],
   "source": [
    "''.center(11,'$')"
   ]
  },
  {
   "cell_type": "code",
   "execution_count": 59,
   "id": "fbfa6a98-1467-4554-b73c-b7a999b3e902",
   "metadata": {},
   "outputs": [
    {
     "data": {
      "text/plain": [
       "'python'"
      ]
     },
     "execution_count": 59,
     "metadata": {},
     "output_type": "execute_result"
    }
   ],
   "source": [
    "'python'.center(2,'$')"
   ]
  },
  {
   "cell_type": "markdown",
   "id": "4aa18c34-a0c7-4696-92c0-581c605d972f",
   "metadata": {},
   "source": [
    "**unique vowels or items**\n",
    "\n",
    "- always make an empty string \n",
    "\n",
    "- iterate the letters of original string through for loop \n",
    "\n",
    "- whenever vowel condition match keep that letter in empty string\n",
    "\n",
    "- nowonwards do the two checks\n",
    "\n",
    "    - is that vowels\n",
    "\n",
    "    - is that present in that new string"
   ]
  },
  {
   "cell_type": "code",
   "execution_count": 9,
   "id": "ae9897d5-de43-486c-b525-e276e5db510f",
   "metadata": {},
   "outputs": [
    {
     "name": "stdout",
     "output_type": "stream",
     "text": [
      "ae\n"
     ]
    },
    {
     "data": {
      "text/plain": [
       "2"
      ]
     },
     "execution_count": 9,
     "metadata": {},
     "output_type": "execute_result"
    }
   ],
   "source": [
    "str1='aabbccddee'\n",
    "str2=''\n",
    "for i in str1:\n",
    "    if i in 'aeiou' and i not in str2:\n",
    "        str2=str2+i\n",
    "print(str2)\n",
    "len(str2)"
   ]
  },
  {
   "cell_type": "code",
   "execution_count": 4,
   "id": "b0fc9ad7-a51a-4395-8896-518930268928",
   "metadata": {},
   "outputs": [
    {
     "name": "stdout",
     "output_type": "stream",
     "text": [
      "unique vowels are aioeu\n"
     ]
    }
   ],
   "source": [
    "#  wap to find the unique vowels in a given string\n",
    "\n",
    "str1='hai how are you'\n",
    "def unique():\n",
    "    v='aeiou'\n",
    "    uv=''\n",
    "    for i in str1:\n",
    "        if i in v and i not in uv:\n",
    "            uv=uv+i\n",
    "    return uv          \n",
    "x=unique()\n",
    "print('unique vowels are',x)"
   ]
  },
  {
   "cell_type": "code",
   "execution_count": 8,
   "id": "db775066-f3eb-415a-8040-17f7ed7ee935",
   "metadata": {},
   "outputs": [
    {
     "name": "stdout",
     "output_type": "stream",
     "text": [
      "unique vowels are aioeu\n"
     ]
    }
   ],
   "source": [
    "# wap to find the unique vowels in a given string\n",
    "\n",
    "str1='hai how are you'\n",
    "v='aeiou'\n",
    "uv=''\n",
    "for i in str1:\n",
    "    if i in v and i not in uv:\n",
    "        uv=uv+i        \n",
    "print('unique vowels are',uv)"
   ]
  },
  {
   "cell_type": "markdown",
   "id": "bf4c1d5c-9249-4b87-8160-0e4e32142b99",
   "metadata": {},
   "source": [
    "- capitalize\n",
    "\n",
    "- upper\n",
    "\n",
    "- lower\n",
    "\n",
    "- center\n",
    "\n",
    "- casefold\n",
    "\n",
    "- title"
   ]
  },
  {
   "cell_type": "code",
   "execution_count": 11,
   "id": "03228e6f-63cb-4574-ac96-abadf1f2aa12",
   "metadata": {},
   "outputs": [
    {
     "data": {
      "text/plain": [
       "'Python'"
      ]
     },
     "execution_count": 11,
     "metadata": {},
     "output_type": "execute_result"
    }
   ],
   "source": [
    "str='python'\n",
    "str.title()"
   ]
  },
  {
   "cell_type": "code",
   "execution_count": 13,
   "id": "a55c4847-056d-44ac-9ad0-38f827026c2b",
   "metadata": {},
   "outputs": [
    {
     "data": {
      "text/plain": [
       "'Hello How Are You'"
      ]
     },
     "execution_count": 13,
     "metadata": {},
     "output_type": "execute_result"
    }
   ],
   "source": [
    "# Q12) str='hello how are you'\n",
    "    # op : 'Hello How Are You'\n",
    "\n",
    "str='hello how are you'\n",
    "str.title()"
   ]
  },
  {
   "cell_type": "code",
   "execution_count": 14,
   "id": "7b4a4678-a77f-4534-9580-7a4e42bc4318",
   "metadata": {},
   "outputs": [
    {
     "data": {
      "text/plain": [
       "'Hello how are you'"
      ]
     },
     "execution_count": 14,
     "metadata": {},
     "output_type": "execute_result"
    }
   ],
   "source": [
    "str='hello how are you'\n",
    "str.capitalize()"
   ]
  },
  {
   "cell_type": "markdown",
   "id": "cd5b5c9f-5075-49e1-a138-d12d3596fe83",
   "metadata": {},
   "source": [
    "$count$"
   ]
  },
  {
   "cell_type": "code",
   "execution_count": 20,
   "id": "459f6a4e-a1b5-4b54-a2f8-5919291e7612",
   "metadata": {},
   "outputs": [
    {
     "data": {
      "text/plain": [
       "2"
      ]
     },
     "execution_count": 20,
     "metadata": {},
     "output_type": "execute_result"
    }
   ],
   "source": [
    "str1='hai how are you'\n",
    "str1.count('a')"
   ]
  },
  {
   "cell_type": "code",
   "execution_count": 21,
   "id": "e92dbf86-ecad-4d7a-83db-59646d674070",
   "metadata": {},
   "outputs": [
    {
     "data": {
      "text/plain": [
       "2"
      ]
     },
     "execution_count": 21,
     "metadata": {},
     "output_type": "execute_result"
    }
   ],
   "source": [
    "count=0\n",
    "for i in str1:\n",
    "    if i=='a':\n",
    "        count=count+1\n",
    "count"
   ]
  },
  {
   "cell_type": "code",
   "execution_count": 29,
   "id": "bcdcfcc5-3edf-483b-ab9c-472be67b10a8",
   "metadata": {},
   "outputs": [
    {
     "data": {
      "text/plain": [
       "0"
      ]
     },
     "execution_count": 29,
     "metadata": {},
     "output_type": "execute_result"
    }
   ],
   "source": [
    "str='ola ola ola'\n",
    "str.count('z')"
   ]
  },
  {
   "cell_type": "markdown",
   "id": "bf68cd33-9101-4720-9a8e-d57a7373c07e",
   "metadata": {},
   "source": [
    "- Note : there is no error in count"
   ]
  },
  {
   "cell_type": "code",
   "execution_count": 30,
   "id": "551a4a70-5726-498b-93f2-574782040396",
   "metadata": {},
   "outputs": [
    {
     "data": {
      "text/plain": [
       "2"
      ]
     },
     "execution_count": 30,
     "metadata": {},
     "output_type": "execute_result"
    }
   ],
   "source": [
    "# you want to count the number of 'a' after 5th index\n",
    "# you want to count the number of 'a' between 5th and 10th index\n",
    "\n",
    "str='ola ola ola'\n",
    "str.count('a',5)"
   ]
  },
  {
   "cell_type": "code",
   "execution_count": 34,
   "id": "25c2e2a0-e4ee-46d8-99e7-c46048ca558f",
   "metadata": {},
   "outputs": [
    {
     "data": {
      "text/plain": [
       "1"
      ]
     },
     "execution_count": 34,
     "metadata": {},
     "output_type": "execute_result"
    }
   ],
   "source": [
    "str='ola ola ola'\n",
    "str.count('a',5,10)"
   ]
  },
  {
   "cell_type": "code",
   "execution_count": 35,
   "id": "e045bbb4-cb48-41c8-8fbb-dd1b30683ec6",
   "metadata": {},
   "outputs": [
    {
     "data": {
      "text/plain": [
       "2"
      ]
     },
     "execution_count": 35,
     "metadata": {},
     "output_type": "execute_result"
    }
   ],
   "source": [
    "str='ola ola ola'\n",
    "str.count('a',4,11)"
   ]
  },
  {
   "cell_type": "code",
   "execution_count": 36,
   "id": "1d29874f-e51c-40cc-b1a6-3d93661e0284",
   "metadata": {},
   "outputs": [
    {
     "data": {
      "text/plain": [
       "2"
      ]
     },
     "execution_count": 36,
     "metadata": {},
     "output_type": "execute_result"
    }
   ],
   "source": [
    "str='ola ola ola'\n",
    "str.count('a',4,21)"
   ]
  },
  {
   "cell_type": "code",
   "execution_count": 39,
   "id": "f0639061-8fa2-4828-ac7a-c708f482e603",
   "metadata": {},
   "outputs": [
    {
     "data": {
      "text/plain": [
       "1"
      ]
     },
     "execution_count": 39,
     "metadata": {},
     "output_type": "execute_result"
    }
   ],
   "source": [
    "str='ola ola ola'\n",
    "str.count('a',10,21)"
   ]
  },
  {
   "cell_type": "code",
   "execution_count": 93,
   "id": "9d1be6f5-f540-47e1-8154-4a64413ca8d7",
   "metadata": {},
   "outputs": [
    {
     "name": "stdout",
     "output_type": "stream",
     "text": [
      "3\n"
     ]
    }
   ],
   "source": [
    "#Q13) without using the count find  the number of 'ola'\n",
    "\n",
    "str='ola ola ola'\n",
    "count=0\n",
    "n=len(str)\n",
    "for i in range(n):\n",
    "    if str[i]=='o' and str[i+1]=='l' and str[i+2]=='a':\n",
    "        count=count+1\n",
    "print(count)"
   ]
  },
  {
   "cell_type": "code",
   "execution_count": 107,
   "id": "21f3ac9b-b330-4bcb-a0e1-bba9ba3b6f1b",
   "metadata": {},
   "outputs": [
    {
     "name": "stdin",
     "output_type": "stream",
     "text": [
      "enter the string : hai hai hai hai hai\\\n"
     ]
    },
    {
     "name": "stdout",
     "output_type": "stream",
     "text": [
      "5\n"
     ]
    }
   ],
   "source": [
    "str1=input(\"enter the string :\")\n",
    "count=0\n",
    "n=len(str1)\n",
    "for i in range(n):\n",
    "    if str1[i]=='h' and str1[i+1]=='a' and str1[i+2]=='i':\n",
    "        count=count+1\n",
    "print(count)"
   ]
  },
  {
   "cell_type": "code",
   "execution_count": 109,
   "id": "099717a3-008a-4f54-92c7-4d98a1c107fc",
   "metadata": {},
   "outputs": [
    {
     "name": "stdout",
     "output_type": "stream",
     "text": [
      "3\n"
     ]
    }
   ],
   "source": [
    "str='hai how are you hai hai'\n",
    "count=0\n",
    "str1='hai'\n",
    "for i in range(len(str)):\n",
    "    if str[i:i+len(str1)]==str1:\n",
    "        count=count+1\n",
    "print(count)   "
   ]
  },
  {
   "cell_type": "code",
   "execution_count": 113,
   "id": "0466b8a1-52a8-42c3-a32b-de7181804a39",
   "metadata": {},
   "outputs": [
    {
     "name": "stdout",
     "output_type": "stream",
     "text": [
      "3\n"
     ]
    }
   ],
   "source": [
    "str='hai how are you hai hai'\n",
    "count=0\n",
    "n=len(str)\n",
    "for i in range(n):\n",
    "    if str[i:i+3]=='hai':\n",
    "        count=count+1\n",
    "print(count)  "
   ]
  },
  {
   "cell_type": "markdown",
   "id": "3a49202b-7c3d-4c13-8c37-9e923d6dab89",
   "metadata": {},
   "source": [
    "$replace$"
   ]
  },
  {
   "cell_type": "code",
   "execution_count": 59,
   "id": "28f769a0-fb5d-4778-821d-121d818fe3a8",
   "metadata": {},
   "outputs": [
    {
     "data": {
      "text/plain": [
       "'hello'"
      ]
     },
     "execution_count": 59,
     "metadata": {},
     "output_type": "execute_result"
    }
   ],
   "source": [
    "str1='hello'\n",
    "# I want to replace small 'l' with 'L'\n",
    "# This we are not able to do with index operations\n",
    "# That's why we are calling strings are immutable\n",
    "\n",
    "# But this is possible using replace\n",
    "\n",
    "str1.replace('l','L',0)"
   ]
  },
  {
   "cell_type": "markdown",
   "id": "194bf858-32d3-4407-b3ca-9bb2d5631aae",
   "metadata": {},
   "source": [
    "- In replace we have count=-1 as a default value\n",
    "\n",
    "- which means it will replace all the values\n",
    "\n",
    "- so if i want to replace only one letter then is it possible? Yes\n",
    "\n",
    "- / means do not give the argument names, directly we have to give the value"
   ]
  },
  {
   "cell_type": "markdown",
   "id": "5e9f4591-ff50-4964-9c68-230ac7eb0ca4",
   "metadata": {},
   "source": [
    "- Read the doc string carefully\n",
    "\n",
    "- In that it will mention we will get error at particular incident\n",
    "\n",
    "- For count method we will not get any error\n",
    "\n",
    "- There is no substring found then answer will be zero\n",
    "\n",
    "- For replace also we will not get any error\n",
    "\n",
    "- If there is no substring found ,then the answer will be original string\n"
   ]
  },
  {
   "cell_type": "code",
   "execution_count": 73,
   "id": "6c3d6874-c74c-4d49-9918-a52bb2cc38ad",
   "metadata": {},
   "outputs": [
    {
     "data": {
      "text/plain": [
       "'resta$t'"
      ]
     },
     "execution_count": 73,
     "metadata": {},
     "output_type": "execute_result"
    }
   ],
   "source": [
    "# Q14)WAP ask the user replace the string\n",
    "# input str: 'restart'\n",
    "# op : 'resta$t'  \n",
    "\n",
    "str[::-1].replace('r','$',1)[::-1]"
   ]
  },
  {
   "cell_type": "code",
   "execution_count": 76,
   "id": "c22d7321-adc8-4510-b73a-29ad4b204f7c",
   "metadata": {},
   "outputs": [
    {
     "data": {
      "text/plain": [
       "'resta$t'"
      ]
     },
     "execution_count": 76,
     "metadata": {},
     "output_type": "execute_result"
    }
   ],
   "source": [
    "str='restart'\n",
    "str2=str[::-1]\n",
    "str3=str2.replace('r','$',1)\n",
    "str4=str3[::-1]\n",
    "str4"
   ]
  },
  {
   "cell_type": "code",
   "execution_count": 78,
   "id": "d1ac60d0-4981-4c17-aa6e-975a45a60199",
   "metadata": {},
   "outputs": [
    {
     "data": {
      "text/plain": [
       "'resta$t'"
      ]
     },
     "execution_count": 78,
     "metadata": {},
     "output_type": "execute_result"
    }
   ],
   "source": [
    "s1=str[0]\n",
    "s2=str[1:]\n",
    "s3=s2.replace('r','$')\n",
    "s4=s1+s3\n",
    "s4"
   ]
  },
  {
   "cell_type": "markdown",
   "id": "b0838be1-ceeb-4298-a116-335f54c42e11",
   "metadata": {},
   "source": [
    "$index$\n",
    "\n",
    "- Index will give the index of letter in a given string\n",
    "\n",
    "- By default it will provide the first occurence of letter only\n",
    "\n",
    "- If you want next occurence index of same letter you need to give start,stop\n",
    "\n",
    "- Like we given in count method "
   ]
  },
  {
   "cell_type": "code",
   "execution_count": 79,
   "id": "7aa53e9a-f795-48be-b9b4-d1ee4e70fbf2",
   "metadata": {},
   "outputs": [
    {
     "data": {
      "text/plain": [
       "0"
      ]
     },
     "execution_count": 79,
     "metadata": {},
     "output_type": "execute_result"
    }
   ],
   "source": [
    "str1='restart'\n",
    "str1.index('r')"
   ]
  },
  {
   "cell_type": "code",
   "execution_count": 85,
   "id": "43acf87f-2a12-4a41-a2a8-40068356e5f3",
   "metadata": {},
   "outputs": [
    {
     "data": {
      "text/plain": [
       "5"
      ]
     },
     "execution_count": 85,
     "metadata": {},
     "output_type": "execute_result"
    }
   ],
   "source": [
    "# I want second r\n",
    "str1.index('r',1)\n",
    "# it starts searching from first index when we given 1"
   ]
  },
  {
   "cell_type": "code",
   "execution_count": 86,
   "id": "65b9d002-2969-4753-8755-1ad36f7af8a7",
   "metadata": {},
   "outputs": [
    {
     "data": {
      "text/plain": [
       "(1, 5, 9, 13, 17)"
      ]
     },
     "execution_count": 86,
     "metadata": {},
     "output_type": "execute_result"
    }
   ],
   "source": [
    "str1='hai hai hai hai hai'\n",
    "i1=str1.index('a')\n",
    "i2=str1.index('a',i1+1)\n",
    "i3=str1.index('a',i2+1)\n",
    "i4=str1.index('a',i3+1)\n",
    "i5=str1.index('a',i4+1)\n",
    "\n",
    "i1,i2,i3,i4,i5"
   ]
  },
  {
   "cell_type": "markdown",
   "id": "f2ea14da-1513-4f69-b9f9-b208c5707328",
   "metadata": {},
   "source": [
    "$count$-$replace$-$index$"
   ]
  },
  {
   "cell_type": "code",
   "execution_count": 1,
   "id": "29280681-a002-4200-b495-f1eb08eb9ee0",
   "metadata": {},
   "outputs": [
    {
     "data": {
      "text/plain": [
       "1"
      ]
     },
     "execution_count": 1,
     "metadata": {},
     "output_type": "execute_result"
    }
   ],
   "source": [
    "str='python'\n",
    "str.count('t')"
   ]
  },
  {
   "cell_type": "code",
   "execution_count": 2,
   "id": "e4823f1f-af10-439a-9c39-debb0f180674",
   "metadata": {},
   "outputs": [
    {
     "data": {
      "text/plain": [
       "'pyThon'"
      ]
     },
     "execution_count": 2,
     "metadata": {},
     "output_type": "execute_result"
    }
   ],
   "source": [
    "str.replace('t','T')"
   ]
  },
  {
   "cell_type": "code",
   "execution_count": 3,
   "id": "b42b7818-8a66-4c2b-bacb-818eb85e8afc",
   "metadata": {},
   "outputs": [
    {
     "data": {
      "text/plain": [
       "2"
      ]
     },
     "execution_count": 3,
     "metadata": {},
     "output_type": "execute_result"
    }
   ],
   "source": [
    "str.index('t')"
   ]
  },
  {
   "cell_type": "code",
   "execution_count": 5,
   "id": "365b88f2-ed35-41ce-b296-7d02744cfdc9",
   "metadata": {},
   "outputs": [
    {
     "ename": "ValueError",
     "evalue": "substring not found",
     "output_type": "error",
     "traceback": [
      "\u001b[1;31m---------------------------------------------------------------------------\u001b[0m",
      "\u001b[1;31mValueError\u001b[0m                                Traceback (most recent call last)",
      "Cell \u001b[1;32mIn[5], line 1\u001b[0m\n\u001b[1;32m----> 1\u001b[0m \u001b[38;5;28mstr\u001b[39m\u001b[38;5;241m.\u001b[39mindex(\u001b[38;5;124m'\u001b[39m\u001b[38;5;124mx\u001b[39m\u001b[38;5;124m'\u001b[39m)\n",
      "\u001b[1;31mValueError\u001b[0m: substring not found"
     ]
    }
   ],
   "source": [
    "str.index('x')\n",
    "\n",
    "#z=substring\n",
    "#it is not found in python"
   ]
  },
  {
   "cell_type": "code",
   "execution_count": 9,
   "id": "8e72f0d2-c168-4dc6-9664-f3543117163e",
   "metadata": {},
   "outputs": [
    {
     "data": {
      "text/plain": [
       "2"
      ]
     },
     "execution_count": 9,
     "metadata": {},
     "output_type": "execute_result"
    }
   ],
   "source": [
    "str='hai ha hai hai'\n",
    "str.count('a')\n",
    "str.count('a',4)  # we want to count a from index 4\n",
    "str.count('a',4,9)  #we want to count a from index 4 to index 9"
   ]
  },
  {
   "cell_type": "code",
   "execution_count": 11,
   "id": "cf3800fd-2260-4f88-983a-295c4819d1f7",
   "metadata": {},
   "outputs": [
    {
     "data": {
      "text/plain": [
       "1"
      ]
     },
     "execution_count": 11,
     "metadata": {},
     "output_type": "execute_result"
    }
   ],
   "source": [
    "str='hai ha hai hai'\n",
    "str.find('a')\n",
    "\n",
    "# index of a\n",
    "# but so many a's are there\n",
    "# by default it will give first occurences"
   ]
  },
  {
   "cell_type": "code",
   "execution_count": 13,
   "id": "0bbd341a-442c-44ad-bb8b-04ffaa0360bb",
   "metadata": {},
   "outputs": [
    {
     "data": {
      "text/plain": [
       "(1, 5, 9, 13)"
      ]
     },
     "execution_count": 13,
     "metadata": {},
     "output_type": "execute_result"
    }
   ],
   "source": [
    "str='hai hai hai hai'\n",
    "i1=str.find('a')\n",
    "i2=str.find('a',i1+1)\n",
    "i3=str.find('a',i2+1)\n",
    "i4=str.find('a',i3+1)\n",
    "(i1,i2,i3,i4)"
   ]
  },
  {
   "cell_type": "markdown",
   "id": "9bef9a0a-a47c-4f90-a145-7f2bb73b6115",
   "metadata": {},
   "source": [
    "$find$"
   ]
  },
  {
   "cell_type": "code",
   "execution_count": 17,
   "id": "cc203315-5ff7-4d02-b630-d7b544bb2883",
   "metadata": {},
   "outputs": [
    {
     "data": {
      "text/plain": [
       "-1"
      ]
     },
     "execution_count": 17,
     "metadata": {},
     "output_type": "execute_result"
    }
   ],
   "source": [
    "str.find('w')\n",
    "#str.index('a')"
   ]
  },
  {
   "cell_type": "code",
   "execution_count": 18,
   "id": "83ef6089-52af-4b85-b14a-db5e06897dfb",
   "metadata": {},
   "outputs": [
    {
     "data": {
      "text/plain": [
       "(1, 5, 9, 13, -1)"
      ]
     },
     "execution_count": 18,
     "metadata": {},
     "output_type": "execute_result"
    }
   ],
   "source": [
    "str='hai hai hai hai'\n",
    "i1=str.find('a')\n",
    "i2=str.find('a',i1+1)\n",
    "i3=str.find('a',i2+1)\n",
    "i4=str.find('a',i3+1)\n",
    "i5=str.find('a',i4+1)\n",
    "(i1,i2,i3,i4,i5)"
   ]
  },
  {
   "cell_type": "markdown",
   "id": "271a20df-a965-4702-aa43-c136cde93c93",
   "metadata": {},
   "source": [
    "**if substring not found**\n",
    "\n",
    "do the shift + tab understand the docstring\n",
    "\n",
    "if they mentioned any error or not\n",
    "\n",
    "for count and replace they did not metion any error\n",
    "\n",
    "for index error is mentioned\n",
    "\n",
    "for find it is mentioned as -1\n",
    "\n",
    "- count will give zero\n",
    "\n",
    "- replace will give same string\n",
    "\n",
    "- index will give error\n",
    "\n",
    "- find will give -1"
   ]
  },
  {
   "cell_type": "code",
   "execution_count": 35,
   "id": "bd102871-9e40-4ee3-a9fe-6db14939d5d0",
   "metadata": {},
   "outputs": [
    {
     "name": "stdout",
     "output_type": "stream",
     "text": [
      "first name : omkar\n",
      "second name : nallagoni\n",
      "company name : cognizant\n"
     ]
    }
   ],
   "source": [
    "# Q15)\n",
    "\n",
    "name='omkar.nallagoni@cognizant.com'\n",
    "#first name='omkar'\n",
    "#second name='nallagoni'\n",
    "#company name='cognizant'\n",
    "\n",
    "s=name.split('.')\n",
    "print('first name :',s[0])\n",
    "s2=s[1].split('@')\n",
    "print('second name :',s2[0])\n",
    "print('company name :',s2[1])`"
   ]
  },
  {
   "cell_type": "code",
   "execution_count": 49,
   "id": "e35a2ee4-6eef-47ab-b3cf-4e6033d8019f",
   "metadata": {},
   "outputs": [
    {
     "name": "stdout",
     "output_type": "stream",
     "text": [
      "first name : omkar\n",
      "second name : nallagoni\n",
      "company name : cognizant\n"
     ]
    }
   ],
   "source": [
    "name='omkar.nallagoni@cognizant.com'\n",
    "i1=name.find('.')\n",
    "i2=name.find('@')\n",
    "i3=name.find('.',i2)\n",
    "print('first name :',name[0:i1])\n",
    "print('second name :',name[i1+1:i2])\n",
    "print('company name :',name[i2+1:i3])"
   ]
  },
  {
   "cell_type": "code",
   "execution_count": 50,
   "id": "29d385dc-620a-41e3-97a2-73f036ca582b",
   "metadata": {},
   "outputs": [
    {
     "name": "stdout",
     "output_type": "stream",
     "text": [
      "first name : virat\n",
      "second name : kohli\n",
      "company name : rcb\n"
     ]
    }
   ],
   "source": [
    "def name_extraction(name):\n",
    "    i1=name.find('.')\n",
    "    i2=name.find('@')\n",
    "    i3=name.find('.',i2)\n",
    "    print('first name :',name[0:i1])\n",
    "    print('second name :',name[i1+1:i2])\n",
    "    print('company name :',name[i2+1:i3])\n",
    "name_extraction('virat.kohli@rcb.com')"
   ]
  },
  {
   "cell_type": "code",
   "execution_count": 52,
   "id": "109b8886-cb17-45f5-a068-67a8b2e90e78",
   "metadata": {},
   "outputs": [
    {
     "data": {
      "text/plain": [
       "['__add__',\n",
       " '__class__',\n",
       " '__contains__',\n",
       " '__delattr__',\n",
       " '__dir__',\n",
       " '__doc__',\n",
       " '__eq__',\n",
       " '__format__',\n",
       " '__ge__',\n",
       " '__getattribute__',\n",
       " '__getitem__',\n",
       " '__getnewargs__',\n",
       " '__getstate__',\n",
       " '__gt__',\n",
       " '__hash__',\n",
       " '__init__',\n",
       " '__init_subclass__',\n",
       " '__iter__',\n",
       " '__le__',\n",
       " '__len__',\n",
       " '__lt__',\n",
       " '__mod__',\n",
       " '__mul__',\n",
       " '__ne__',\n",
       " '__new__',\n",
       " '__reduce__',\n",
       " '__reduce_ex__',\n",
       " '__repr__',\n",
       " '__rmod__',\n",
       " '__rmul__',\n",
       " '__setattr__',\n",
       " '__sizeof__',\n",
       " '__str__',\n",
       " '__subclasshook__',\n",
       " 'capitalize',\n",
       " 'casefold',\n",
       " 'center',\n",
       " 'count',\n",
       " 'encode',\n",
       " 'endswith',\n",
       " 'expandtabs',\n",
       " 'find',\n",
       " 'format',\n",
       " 'format_map',\n",
       " 'index',\n",
       " 'isalnum',\n",
       " 'isalpha',\n",
       " 'isascii',\n",
       " 'isdecimal',\n",
       " 'isdigit',\n",
       " 'isidentifier',\n",
       " 'islower',\n",
       " 'isnumeric',\n",
       " 'isprintable',\n",
       " 'isspace',\n",
       " 'istitle',\n",
       " 'isupper',\n",
       " 'join',\n",
       " 'ljust',\n",
       " 'lower',\n",
       " 'lstrip',\n",
       " 'maketrans',\n",
       " 'partition',\n",
       " 'removeprefix',\n",
       " 'removesuffix',\n",
       " 'replace',\n",
       " 'rfind',\n",
       " 'rindex',\n",
       " 'rjust',\n",
       " 'rpartition',\n",
       " 'rsplit',\n",
       " 'rstrip',\n",
       " 'split',\n",
       " 'splitlines',\n",
       " 'startswith',\n",
       " 'strip',\n",
       " 'swapcase',\n",
       " 'title',\n",
       " 'translate',\n",
       " 'upper',\n",
       " 'zfill']"
      ]
     },
     "execution_count": 52,
     "metadata": {},
     "output_type": "execute_result"
    }
   ],
   "source": [
    "dir('')"
   ]
  },
  {
   "cell_type": "code",
   "execution_count": 53,
   "id": "c5350329-4380-4ebd-b8e5-c9f65e144a03",
   "metadata": {},
   "outputs": [
    {
     "data": {
      "text/plain": [
       "True"
      ]
     },
     "execution_count": 53,
     "metadata": {},
     "output_type": "execute_result"
    }
   ],
   "source": [
    "'abc123'.isalnum()"
   ]
  },
  {
   "cell_type": "code",
   "execution_count": 54,
   "id": "f69bb96e-fda7-42b7-a800-b4fdba0f6eee",
   "metadata": {},
   "outputs": [
    {
     "data": {
      "text/plain": [
       "True"
      ]
     },
     "execution_count": 54,
     "metadata": {},
     "output_type": "execute_result"
    }
   ],
   "source": [
    "'123abc'.isalnum()"
   ]
  },
  {
   "cell_type": "code",
   "execution_count": 55,
   "id": "978c76db-1f6a-4521-a957-dafeb2003a5b",
   "metadata": {},
   "outputs": [
    {
     "data": {
      "text/plain": [
       "False"
      ]
     },
     "execution_count": 55,
     "metadata": {},
     "output_type": "execute_result"
    }
   ],
   "source": [
    "'abc'.isupper()"
   ]
  },
  {
   "cell_type": "code",
   "execution_count": 56,
   "id": "9e70d674-a5d5-4ed0-9ee0-37941a53cc76",
   "metadata": {},
   "outputs": [
    {
     "data": {
      "text/plain": [
       "True"
      ]
     },
     "execution_count": 56,
     "metadata": {},
     "output_type": "execute_result"
    }
   ],
   "source": [
    "'ABC'.isupper()"
   ]
  },
  {
   "cell_type": "markdown",
   "id": "049764cc-e16b-4e3f-bef2-d6236f92abea",
   "metadata": {},
   "source": [
    "$strip$-$lstrip$-$rstrip$"
   ]
  },
  {
   "cell_type": "code",
   "execution_count": 59,
   "id": "7cad6b10-8f89-477c-b2ca-e4c7c72f58d9",
   "metadata": {},
   "outputs": [
    {
     "data": {
      "text/plain": [
       "('python', 'python ', ' python')"
      ]
     },
     "execution_count": 59,
     "metadata": {},
     "output_type": "execute_result"
    }
   ],
   "source": [
    "name1=' python '\n",
    "name2=' python'\n",
    "name3='python '\n",
    "name1.strip(),name1.lstrip(),name1.rstrip()"
   ]
  },
  {
   "cell_type": "code",
   "execution_count": 64,
   "id": "96f2d7fd-0fce-42ca-8129-1b080586b0ea",
   "metadata": {},
   "outputs": [
    {
     "data": {
      "text/plain": [
       "('python', 'python', ' python')"
      ]
     },
     "execution_count": 64,
     "metadata": {},
     "output_type": "execute_result"
    }
   ],
   "source": [
    "name2.strip(),name2.lstrip(),name2.rstrip()"
   ]
  },
  {
   "cell_type": "code",
   "execution_count": 65,
   "id": "b9edafdd-30b0-43f3-b336-6a8c38e6727d",
   "metadata": {},
   "outputs": [
    {
     "data": {
      "text/plain": [
       "('python', 'python ', 'python')"
      ]
     },
     "execution_count": 65,
     "metadata": {},
     "output_type": "execute_result"
    }
   ],
   "source": [
    "name3.strip(),name3.lstrip(),name3.rstrip()"
   ]
  },
  {
   "cell_type": "code",
   "execution_count": 71,
   "id": "5f0067e5-82ae-4a51-9dc4-b4cbe6c206c4",
   "metadata": {},
   "outputs": [
    {
     "data": {
      "text/plain": [
       "' python'"
      ]
     },
     "execution_count": 71,
     "metadata": {},
     "output_type": "execute_result"
    }
   ],
   "source": [
    "name4=' python$$'\n",
    "name4.strip('$')"
   ]
  },
  {
   "cell_type": "code",
   "execution_count": 72,
   "id": "f4c84ef7-4b3f-4f91-b43a-78d7a03f7a7b",
   "metadata": {},
   "outputs": [
    {
     "data": {
      "text/plain": [
       "'python'"
      ]
     },
     "execution_count": 72,
     "metadata": {},
     "output_type": "execute_result"
    }
   ],
   "source": [
    "name4=' python$$'\n",
    "name4.strip('$').lstrip()"
   ]
  },
  {
   "cell_type": "markdown",
   "id": "bf8b138e-1516-4456-a561-44715566bddc",
   "metadata": {},
   "source": [
    "$split$"
   ]
  },
  {
   "cell_type": "code",
   "execution_count": 74,
   "id": "cad9772a-42ef-4928-980f-6b7fed725b54",
   "metadata": {},
   "outputs": [
    {
     "data": {
      "text/plain": [
       "['omkar', 'nallagoni@cognizant', 'com']"
      ]
     },
     "execution_count": 74,
     "metadata": {},
     "output_type": "execute_result"
    }
   ],
   "source": [
    "name='omkar.nallagoni@cognizant.com'\n",
    "name.split('.')"
   ]
  },
  {
   "cell_type": "code",
   "execution_count": 76,
   "id": "195c09b2-572b-46a3-8120-b41878d8a536",
   "metadata": {},
   "outputs": [
    {
     "data": {
      "text/plain": [
       "['hell', ' h', 'w, are y', 'u']"
      ]
     },
     "execution_count": 76,
     "metadata": {},
     "output_type": "execute_result"
    }
   ],
   "source": [
    "str='hello how, are you'\n",
    "str.split('o')"
   ]
  },
  {
   "cell_type": "markdown",
   "id": "146e4788-96dd-443d-8587-366c3f3703db",
   "metadata": {},
   "source": [
    "$startswith-endswith$"
   ]
  },
  {
   "cell_type": "code",
   "execution_count": 78,
   "id": "93834d40-3cb4-41ad-8cc7-c6a206410ec1",
   "metadata": {},
   "outputs": [
    {
     "data": {
      "text/plain": [
       "True"
      ]
     },
     "execution_count": 78,
     "metadata": {},
     "output_type": "execute_result"
    }
   ],
   "source": [
    "str='hello how are you'\n",
    "str.startswith('hello how are you')"
   ]
  },
  {
   "cell_type": "code",
   "execution_count": 79,
   "id": "58c6abb8-6aec-46fc-b7f4-3e4e6e367639",
   "metadata": {},
   "outputs": [
    {
     "data": {
      "text/plain": [
       "True"
      ]
     },
     "execution_count": 79,
     "metadata": {},
     "output_type": "execute_result"
    }
   ],
   "source": [
    "str='hello how are you'\n",
    "str.endswith('hello how are you')"
   ]
  },
  {
   "cell_type": "code",
   "execution_count": 80,
   "id": "922b68e9-5590-4bcb-a4fe-8c61a1ea4db6",
   "metadata": {},
   "outputs": [
    {
     "data": {
      "text/plain": [
       "False"
      ]
     },
     "execution_count": 80,
     "metadata": {},
     "output_type": "execute_result"
    }
   ],
   "source": [
    "str='hello how are you'\n",
    "str.endswith('hello how are')"
   ]
  },
  {
   "cell_type": "code",
   "execution_count": null,
   "id": "d3b1cd36-b40f-4e9c-aa6a-d2939b0ca333",
   "metadata": {},
   "outputs": [],
   "source": []
  }
 ],
 "metadata": {
  "kernelspec": {
   "display_name": "Python 3 (ipykernel)",
   "language": "python",
   "name": "python3"
  },
  "language_info": {
   "codemirror_mode": {
    "name": "ipython",
    "version": 3
   },
   "file_extension": ".py",
   "mimetype": "text/x-python",
   "name": "python",
   "nbconvert_exporter": "python",
   "pygments_lexer": "ipython3",
   "version": "3.11.7"
  }
 },
 "nbformat": 4,
 "nbformat_minor": 5
}
