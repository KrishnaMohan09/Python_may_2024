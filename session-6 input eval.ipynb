{
 "cells": [
  {
   "cell_type": "markdown",
   "id": "770c79de-dd33-43bb-b3d8-bb73554ff650",
   "metadata": {},
   "source": [
    "**input**\n",
    "- input is a keyword ,we can provide values from keyword\n",
    "- which means user can give the own values\n",
    "- the kernel will be busy ,until you need to proide values inside the box\n",
    "- provide the value and hit enter\n",
    "- make sure that *should gone"
   ]
  },
  {
   "cell_type": "code",
   "execution_count": 5,
   "id": "77cdba86-cecb-4dea-836b-12ba0d8c32a9",
   "metadata": {},
   "outputs": [
    {
     "name": "stdin",
     "output_type": "stream",
     "text": [
      " krishna\n"
     ]
    },
    {
     "data": {
      "text/plain": [
       "'krishna'"
      ]
     },
     "execution_count": 5,
     "metadata": {},
     "output_type": "execute_result"
    }
   ],
   "source": [
    "input()"
   ]
  },
  {
   "cell_type": "code",
   "execution_count": 6,
   "id": "2c22481e-bb57-44e7-a844-9d60900a8146",
   "metadata": {},
   "outputs": [
    {
     "name": "stdin",
     "output_type": "stream",
     "text": [
      " krishna\n"
     ]
    }
   ],
   "source": [
    "a=input()"
   ]
  },
  {
   "cell_type": "code",
   "execution_count": 7,
   "id": "88ec7084-b608-4e2e-9496-fbe2fe3994c8",
   "metadata": {},
   "outputs": [
    {
     "data": {
      "text/plain": [
       "str"
      ]
     },
     "execution_count": 7,
     "metadata": {},
     "output_type": "execute_result"
    }
   ],
   "source": [
    "type(a)"
   ]
  },
  {
   "cell_type": "code",
   "execution_count": 8,
   "id": "1b4ece48-1c08-4c3b-8df5-cc0c1eeac840",
   "metadata": {},
   "outputs": [
    {
     "name": "stdin",
     "output_type": "stream",
     "text": [
      "enter the number : 1\n"
     ]
    }
   ],
   "source": [
    "num=input(\"enter the number :\")"
   ]
  },
  {
   "cell_type": "code",
   "execution_count": 9,
   "id": "a4c561ec-e99b-4f99-aeea-03d5ed35bfc0",
   "metadata": {},
   "outputs": [
    {
     "name": "stdin",
     "output_type": "stream",
     "text": [
      " 1\n",
      " 2\n"
     ]
    }
   ],
   "source": [
    "a=input()\n",
    "b=input()"
   ]
  },
  {
   "cell_type": "code",
   "execution_count": 10,
   "id": "51f59d3f-2549-4c1f-a5ad-44064015c38d",
   "metadata": {},
   "outputs": [
    {
     "name": "stdin",
     "output_type": "stream",
     "text": [
      " 100\n",
      " 200\n"
     ]
    },
    {
     "data": {
      "text/plain": [
       "300"
      ]
     },
     "execution_count": 10,
     "metadata": {},
     "output_type": "execute_result"
    }
   ],
   "source": [
    "a=int(input())   #int('100')=100\n",
    "b=int(input())   #int('200')=200\n",
    "a+b"
   ]
  },
  {
   "cell_type": "code",
   "execution_count": 11,
   "id": "6b337094-371a-4ff7-9c51-4af2384c2c54",
   "metadata": {},
   "outputs": [
    {
     "name": "stdin",
     "output_type": "stream",
     "text": [
      " 100\n",
      " 200\n"
     ]
    },
    {
     "data": {
      "text/plain": [
       "'100200'"
      ]
     },
     "execution_count": 11,
     "metadata": {},
     "output_type": "execute_result"
    }
   ],
   "source": [
    "a=input()\n",
    "b=input()\n",
    "a+b"
   ]
  },
  {
   "cell_type": "code",
   "execution_count": 12,
   "id": "72805bc4-939d-4f2d-9577-df8b1be36887",
   "metadata": {},
   "outputs": [
    {
     "name": "stdin",
     "output_type": "stream",
     "text": [
      "enter the num1 100\n",
      "enter the num2 200\n"
     ]
    },
    {
     "name": "stdout",
     "output_type": "stream",
     "text": [
      "the addition of 100 and 200 is 300\n"
     ]
    }
   ],
   "source": [
    "a=int(input(\"enter the num1\"))\n",
    "b=int(input(\"enter the num2\"))\n",
    "c=a+b\n",
    "print(f\"the addition of {a} and {b} is {c}\")"
   ]
  },
  {
   "cell_type": "code",
   "execution_count": 13,
   "id": "a7ae7545-4977-4b36-9645-70d5196d1047",
   "metadata": {},
   "outputs": [
    {
     "name": "stdin",
     "output_type": "stream",
     "text": [
      " 2\n"
     ]
    }
   ],
   "source": [
    "inp=input()"
   ]
  },
  {
   "cell_type": "code",
   "execution_count": 14,
   "id": "a1c205d9-8536-48a3-baa6-b849653d6a88",
   "metadata": {},
   "outputs": [
    {
     "name": "stdout",
     "output_type": "stream",
     "text": [
      "2\n"
     ]
    }
   ],
   "source": [
    "print(inp)"
   ]
  },
  {
   "cell_type": "code",
   "execution_count": 15,
   "id": "a73ecaa7-fbd0-4299-8d00-98630dee0506",
   "metadata": {},
   "outputs": [
    {
     "name": "stdin",
     "output_type": "stream",
     "text": [
      "what is your name?\n",
      " krishna\n"
     ]
    }
   ],
   "source": [
    "name=input('what is your name?\\n')"
   ]
  },
  {
   "cell_type": "code",
   "execution_count": 16,
   "id": "c4754191-bc0f-4af7-80fc-91c15691b317",
   "metadata": {},
   "outputs": [
    {
     "name": "stdout",
     "output_type": "stream",
     "text": [
      "krishna\n"
     ]
    }
   ],
   "source": [
    "print(name)"
   ]
  },
  {
   "cell_type": "code",
   "execution_count": 1,
   "id": "d87b06d3-dc94-4d9c-953e-95a61ad1bb72",
   "metadata": {},
   "outputs": [
    {
     "name": "stdin",
     "output_type": "stream",
     "text": [
      "What...is the airspeed velocity of an unladen swallow?\n",
      " 2\n"
     ]
    }
   ],
   "source": [
    "prompt = 'What...is the airspeed velocity of an unladen swallow?\\n'\n",
    "speed=input(prompt)"
   ]
  },
  {
   "cell_type": "code",
   "execution_count": 2,
   "id": "68d04400-aae3-4b8e-b3fc-d358deda4f46",
   "metadata": {},
   "outputs": [
    {
     "data": {
      "text/plain": [
       "2"
      ]
     },
     "execution_count": 2,
     "metadata": {},
     "output_type": "execute_result"
    }
   ],
   "source": [
    "int(speed)"
   ]
  },
  {
   "cell_type": "code",
   "execution_count": 19,
   "id": "b24b4e78-9f66-4faf-91e7-4094a4472d5b",
   "metadata": {},
   "outputs": [
    {
     "data": {
      "text/plain": [
       "7"
      ]
     },
     "execution_count": 19,
     "metadata": {},
     "output_type": "execute_result"
    }
   ],
   "source": [
    "int(speed)+5"
   ]
  },
  {
   "cell_type": "code",
   "execution_count": 20,
   "id": "18749838-ec49-43ab-8bc6-615ec49b518f",
   "metadata": {},
   "outputs": [
    {
     "data": {
      "text/plain": [
       "10"
      ]
     },
     "execution_count": 20,
     "metadata": {},
     "output_type": "execute_result"
    }
   ],
   "source": [
    "int(speed)*5"
   ]
  },
  {
   "cell_type": "code",
   "execution_count": 2,
   "id": "6aa686ee-f5a1-4e85-8f75-60cf78a0c681",
   "metadata": {},
   "outputs": [
    {
     "name": "stdin",
     "output_type": "stream",
     "text": [
      "enter your name: krishna\n"
     ]
    }
   ],
   "source": [
    "inp=input(\"enter your name:\")"
   ]
  },
  {
   "cell_type": "code",
   "execution_count": 3,
   "id": "ec3ebf17-71ee-4a57-aed3-97f7977edfc6",
   "metadata": {},
   "outputs": [
    {
     "name": "stdout",
     "output_type": "stream",
     "text": [
      "hello krishna\n"
     ]
    }
   ],
   "source": [
    "print(\"hello\",inp)"
   ]
  },
  {
   "cell_type": "code",
   "execution_count": 4,
   "id": "7ccf6c97-4e3a-4a71-918f-c74fab21627f",
   "metadata": {},
   "outputs": [
    {
     "name": "stdout",
     "output_type": "stream",
     "text": [
      "96.25\n"
     ]
    }
   ],
   "source": [
    "hours=35\n",
    "rate=2.75\n",
    "grosspay=hours*rate\n",
    "print(grosspay)"
   ]
  },
  {
   "cell_type": "code",
   "execution_count": 2,
   "id": "650a480b-3e6d-4beb-9366-422ad089e8c1",
   "metadata": {},
   "outputs": [
    {
     "name": "stdin",
     "output_type": "stream",
     "text": [
      "enter the hours : 35\n",
      "enter rate per hour : 2.75\n"
     ]
    },
    {
     "name": "stdout",
     "output_type": "stream",
     "text": [
      "96.25\n"
     ]
    }
   ],
   "source": [
    "hours=int(input(\"enter the hours :\"))\n",
    "rate=float(input(\"enter rate per hour :\"))\n",
    "grosspay=hours*rate\n",
    "print(grosspay)"
   ]
  },
  {
   "cell_type": "code",
   "execution_count": 10,
   "id": "0937bcb8-e12d-4ad1-9e74-93ff1468b8ee",
   "metadata": {},
   "outputs": [
    {
     "name": "stdout",
     "output_type": "stream",
     "text": [
      "8\n"
     ]
    },
    {
     "data": {
      "text/plain": [
       "int"
      ]
     },
     "execution_count": 10,
     "metadata": {},
     "output_type": "execute_result"
    }
   ],
   "source": [
    "width=17\n",
    "height=12.0\n",
    "n1=width//2\n",
    "print(n1)\n",
    "type(n1)"
   ]
  },
  {
   "cell_type": "code",
   "execution_count": 12,
   "id": "575ffee0-7ac6-4d65-a68c-12dbf5a5bccc",
   "metadata": {},
   "outputs": [
    {
     "name": "stdout",
     "output_type": "stream",
     "text": [
      "86.0\n"
     ]
    }
   ],
   "source": [
    "c=30\n",
    "f=((9/5)*c)+32\n",
    "print(f)"
   ]
  },
  {
   "cell_type": "code",
   "execution_count": 24,
   "id": "7ae00747-b953-4b04-b4b5-ed8b293ae592",
   "metadata": {},
   "outputs": [
    {
     "name": "stdin",
     "output_type": "stream",
     "text": [
      " hi\n",
      "enter the name : krishna\n",
      "enter the number1 : 470\n"
     ]
    },
    {
     "data": {
      "text/plain": [
       "'470'"
      ]
     },
     "execution_count": 24,
     "metadata": {},
     "output_type": "execute_result"
    }
   ],
   "source": [
    "input()\n",
    "input(\"enter the name :\")\n",
    "input(\"enter the number1 :\")"
   ]
  },
  {
   "cell_type": "code",
   "execution_count": 25,
   "id": "6e865431-e22a-46ee-9ae9-bf7d2290bb7f",
   "metadata": {},
   "outputs": [
    {
     "name": "stdin",
     "output_type": "stream",
     "text": [
      " krishna\n"
     ]
    },
    {
     "data": {
      "text/plain": [
       "'krishna'"
      ]
     },
     "execution_count": 25,
     "metadata": {},
     "output_type": "execute_result"
    }
   ],
   "source": [
    "input()"
   ]
  },
  {
   "cell_type": "code",
   "execution_count": 26,
   "id": "fe8df1f0-8566-444c-bc8d-919a388fb32f",
   "metadata": {},
   "outputs": [
    {
     "name": "stdin",
     "output_type": "stream",
     "text": [
      "enter the name : krishna\n"
     ]
    },
    {
     "data": {
      "text/plain": [
       "'krishna'"
      ]
     },
     "execution_count": 26,
     "metadata": {},
     "output_type": "execute_result"
    }
   ],
   "source": [
    "input(\"enter the name :\")"
   ]
  },
  {
   "cell_type": "code",
   "execution_count": 30,
   "id": "45754913-ccc8-40b5-bdd0-605f9fe6caf9",
   "metadata": {},
   "outputs": [
    {
     "name": "stdin",
     "output_type": "stream",
     "text": [
      " hi\n",
      "enter the name : krishna\n",
      "enter the number1 : 470\n"
     ]
    },
    {
     "name": "stdout",
     "output_type": "stream",
     "text": [
      "hi\n",
      "krishna\n",
      "470\n"
     ]
    }
   ],
   "source": [
    "name1=input()\n",
    "name2=input(\"enter the name :\")\n",
    "num=input(\"enter the number1 :\")\n",
    "print(name1)\n",
    "print(name2)\n",
    "print(num)"
   ]
  },
  {
   "cell_type": "code",
   "execution_count": 31,
   "id": "b538f2fc-f3bc-4f4c-87fb-04b249747ed4",
   "metadata": {},
   "outputs": [
    {
     "name": "stdin",
     "output_type": "stream",
     "text": [
      " hi\n",
      "enter the name : krishna\n",
      "enter the number1 : 470\n"
     ]
    },
    {
     "name": "stdout",
     "output_type": "stream",
     "text": [
      "hi krishna 470\n"
     ]
    }
   ],
   "source": [
    "name1=input()\n",
    "name2=input(\"enter the name :\")\n",
    "num=input(\"enter the number1 :\")\n",
    "print(name1,end=' ')\n",
    "print(name2,end=' ')\n",
    "print(num)"
   ]
  },
  {
   "cell_type": "code",
   "execution_count": 32,
   "id": "be57fd24-a313-45a4-b8df-e62e66dad84d",
   "metadata": {},
   "outputs": [
    {
     "name": "stdin",
     "output_type": "stream",
     "text": [
      "enter the num1: 100\n",
      "enter the num2: 200\n"
     ]
    },
    {
     "name": "stdout",
     "output_type": "stream",
     "text": [
      "100200\n"
     ]
    }
   ],
   "source": [
    "n1=input(\"enter the num1:\")  #takes string\n",
    "n2=input(\"enter the num2:\")\n",
    "add=n1+n2\n",
    "print(add)"
   ]
  },
  {
   "cell_type": "code",
   "execution_count": 33,
   "id": "4516f34d-6eed-4e23-9c2f-53afe11f5169",
   "metadata": {},
   "outputs": [
    {
     "name": "stdin",
     "output_type": "stream",
     "text": [
      "enter the num1: 100\n",
      "enter the num2: 200\n"
     ]
    },
    {
     "name": "stdout",
     "output_type": "stream",
     "text": [
      "300\n"
     ]
    }
   ],
   "source": [
    "n1=int(input(\"enter the num1:\"))   #int('100')=100\n",
    "n2=int(input(\"enter the num2:\"))   #int('200')=200\n",
    "add=n1+n2                          #add=100+200\n",
    "print(add)                         #300"
   ]
  },
  {
   "cell_type": "code",
   "execution_count": 34,
   "id": "86b06a79-ba06-4900-8133-1f885f9b2cb2",
   "metadata": {},
   "outputs": [
    {
     "name": "stdin",
     "output_type": "stream",
     "text": [
      "enter the num1: 100\n",
      "enter the num2: 200\n"
     ]
    },
    {
     "name": "stdout",
     "output_type": "stream",
     "text": [
      "300\n"
     ]
    }
   ],
   "source": [
    "n1=input(\"enter the num1:\")    #n1='100'\n",
    "n2=input(\"enter the num2:\")    #n2='200'\n",
    "add=int(n1)+int(n2)           #add=int('100')+int('200')=100+200=300\n",
    "print(add)"
   ]
  },
  {
   "cell_type": "code",
   "execution_count": 4,
   "id": "4d2d8bfc-a9bd-43c4-a31c-0ddc804511e2",
   "metadata": {},
   "outputs": [
    {
     "name": "stdin",
     "output_type": "stream",
     "text": [
      "enter the num1: 100.25\n",
      "enter the num2: 200\n"
     ]
    },
    {
     "name": "stdout",
     "output_type": "stream",
     "text": [
      "300.25\n"
     ]
    }
   ],
   "source": [
    "n1=float(input(\"enter the num1:\"))\n",
    "n2=int(input(\"enter the num2:\"))\n",
    "add=n1+n2\n",
    "print(add)\n",
    "\n",
    "#whenever int is there don't give the  float values\n",
    "#if you want to give float values then apply float conversion\n",
    "#if you want to give int values then apply int conversion"
   ]
  },
  {
   "cell_type": "markdown",
   "id": "d451b49a-110c-47f2-9fd0-a8c40ed74327",
   "metadata": {},
   "source": [
    "**eval**\n",
    "\n",
    "- eval meaning **evaluate**\n",
    "- evaluate will use for numbers only , not for english\n",
    "- evaluate will convert integer  numbers into integer\n",
    "- evaluate will convert  float numbers into float                                             "
   ]
  },
  {
   "cell_type": "code",
   "execution_count": 38,
   "id": "e214fe1f-5bb3-4b00-a9a8-aeddcc1bc7f4",
   "metadata": {},
   "outputs": [
    {
     "name": "stdin",
     "output_type": "stream",
     "text": [
      "enter the num1: 100\n",
      "enter the num2: 200\n"
     ]
    },
    {
     "name": "stdout",
     "output_type": "stream",
     "text": [
      "300\n"
     ]
    }
   ],
   "source": [
    "n1=eval(input(\"enter the num1:\"))    \n",
    "n2=eval(input(\"enter the num2:\"))   \n",
    "add=n1+n2           \n",
    "print(add)"
   ]
  },
  {
   "cell_type": "code",
   "execution_count": null,
   "id": "f922898e-1169-42f8-b217-9ccdd883c228",
   "metadata": {},
   "outputs": [],
   "source": []
  }
 ],
 "metadata": {
  "kernelspec": {
   "display_name": "Python 3 (ipykernel)",
   "language": "python",
   "name": "python3"
  },
  "language_info": {
   "codemirror_mode": {
    "name": "ipython",
    "version": 3
   },
   "file_extension": ".py",
   "mimetype": "text/x-python",
   "name": "python",
   "nbconvert_exporter": "python",
   "pygments_lexer": "ipython3",
   "version": "3.11.7"
  }
 },
 "nbformat": 4,
 "nbformat_minor": 5
}
